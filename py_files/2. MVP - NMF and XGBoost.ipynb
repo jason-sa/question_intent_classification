{
 "cells": [
  {
   "cell_type": "markdown",
   "metadata": {},
   "source": [
    "# MVP Model\n",
    "\n",
    "A simple MVP model to test out the pipeline and get a baseline score. The MVP model pipeline will be,\n",
    "\n",
    "1. Transform the question pairs into a list of documents\n",
    "2. Default tf-idf document term matrix\n",
    "3. NMF topic model with 5 topics\n",
    "4. Transform the list of documents back to question pairs.\n",
    "5. Use XGBoostClassifier to fit the model for predicting whether or not the pair of questions are duplicates."
   ]
  },
  {
   "cell_type": "code",
   "execution_count": 1,
   "metadata": {
    "ExecuteTime": {
     "end_time": "2018-11-25T23:34:02.214811Z",
     "start_time": "2018-11-25T23:33:49.470233Z"
    }
   },
   "outputs": [],
   "source": [
    "# data manipulation\n",
    "import utils\n",
    "import numpy as np\n",
    "import pandas as pd\n",
    "\n",
    "# text manipulation\n",
    "import spacy\n",
    "\n",
    "nlp = spacy.load('en_core_web_lg')\n",
    "spacy_stopwords = spacy.lang.en.stop_words.STOP_WORDS\n",
    "\n",
    "import string\n",
    "punctuations = string.punctuation\n",
    "\n",
    "# modeling\n",
    "from sklearn.pipeline import Pipeline\n",
    "from sklearn.preprocessing import FunctionTransformer\n",
    "from sklearn.feature_extraction.text import TfidfVectorizer\n",
    "from sklearn.decomposition import NMF\n",
    "from sklearn import metrics\n",
    "\n",
    "from xgboost import XGBClassifier"
   ]
  },
  {
   "cell_type": "code",
   "execution_count": 2,
   "metadata": {
    "ExecuteTime": {
     "end_time": "2018-11-25T23:34:02.708000Z",
     "start_time": "2018-11-25T23:34:02.218830Z"
    }
   },
   "outputs": [],
   "source": [
    "train_df = utils.load('train')"
   ]
  },
  {
   "cell_type": "code",
   "execution_count": 3,
   "metadata": {
    "ExecuteTime": {
     "end_time": "2018-11-25T23:35:48.268738Z",
     "start_time": "2018-11-25T23:34:02.709909Z"
    }
   },
   "outputs": [
    {
     "data": {
      "text/plain": [
       "Pipeline(memory=None,\n",
       "     steps=[('stack', FunctionTransformer(accept_sparse=False, check_inverse=True,\n",
       "          func=<function stack_questions at 0x1a17b13598>,\n",
       "          inv_kw_args=None, inverse_func=None, kw_args=None,\n",
       "          pass_y='deprecated', validate=False)), ('tf', TfidfVectorizer(analyzer='word', binary=False,...ate=42, reg_alpha=0, reg_lambda=1, scale_pos_weight=1,\n",
       "       seed=None, silent=True, subsample=1))])"
      ]
     },
     "execution_count": 3,
     "metadata": {},
     "output_type": "execute_result"
    }
   ],
   "source": [
    "pipeline = Pipeline(\n",
    "    [\n",
    "        ('stack', FunctionTransformer(utils.stack_questions, validate=False)),\n",
    "        ('tf', TfidfVectorizer(stop_words=spacy_stopwords)),\n",
    "        ('nmf', NMF(n_components=5)),\n",
    "        ('unstack', FunctionTransformer(utils.unstack_questions, validate=False)),\n",
    "        ('xgb', XGBClassifier(n_estimators=500, n_jobs=-1, random_state=42))\n",
    "    ]\n",
    ")\n",
    "\n",
    "y = train_df.loc[:,'is_duplicate'].values\n",
    "pipeline.fit(train_df, y)"
   ]
  },
  {
   "cell_type": "code",
   "execution_count": 4,
   "metadata": {
    "ExecuteTime": {
     "end_time": "2018-11-25T23:35:48.290899Z",
     "start_time": "2018-11-25T23:35:48.274663Z"
    }
   },
   "outputs": [
    {
     "data": {
      "text/plain": [
       "0.3692197711407835"
      ]
     },
     "execution_count": 4,
     "metadata": {},
     "output_type": "execute_result"
    }
   ],
   "source": [
    "# Accuracy if predict everything as not a duplicate\n",
    "len(y[y == 1]) / len(y)"
   ]
  },
  {
   "cell_type": "code",
   "execution_count": 5,
   "metadata": {
    "ExecuteTime": {
     "end_time": "2018-11-25T23:36:01.359525Z",
     "start_time": "2018-11-25T23:35:48.295664Z"
    }
   },
   "outputs": [
    {
     "data": {
      "text/html": [
       "<div>\n",
       "<style scoped>\n",
       "    .dataframe tbody tr th:only-of-type {\n",
       "        vertical-align: middle;\n",
       "    }\n",
       "\n",
       "    .dataframe tbody tr th {\n",
       "        vertical-align: top;\n",
       "    }\n",
       "\n",
       "    .dataframe thead th {\n",
       "        text-align: right;\n",
       "    }\n",
       "</style>\n",
       "<table border=\"1\" class=\"dataframe\">\n",
       "  <thead>\n",
       "    <tr style=\"text-align: right;\">\n",
       "      <th></th>\n",
       "      <th>accuracy</th>\n",
       "      <th>precision</th>\n",
       "      <th>recall</th>\n",
       "      <th>f1</th>\n",
       "      <th>auc</th>\n",
       "      <th>log_loss</th>\n",
       "    </tr>\n",
       "  </thead>\n",
       "  <tbody>\n",
       "    <tr>\n",
       "      <th>mvp (tf-idf, nmf(5), xgboost)</th>\n",
       "      <td>0.704833</td>\n",
       "      <td>0.670638</td>\n",
       "      <td>0.39413</td>\n",
       "      <td>0.496481</td>\n",
       "      <td>0.74804</td>\n",
       "      <td>0.563257</td>\n",
       "    </tr>\n",
       "  </tbody>\n",
       "</table>\n",
       "</div>"
      ],
      "text/plain": [
       "                               accuracy  precision   recall        f1  \\\n",
       "mvp (tf-idf, nmf(5), xgboost)  0.704833   0.670638  0.39413  0.496481   \n",
       "\n",
       "                                   auc  log_loss  \n",
       "mvp (tf-idf, nmf(5), xgboost)  0.74804  0.563257  "
      ]
     },
     "execution_count": 5,
     "metadata": {},
     "output_type": "execute_result"
    }
   ],
   "source": [
    "results_df = utils.log_scores(pipeline, train_df, y, 'mvp (tf-idf, nmf(5), xgboost)')\n",
    "results_df"
   ]
  },
  {
   "cell_type": "code",
   "execution_count": 6,
   "metadata": {
    "ExecuteTime": {
     "end_time": "2018-11-25T23:36:03.792166Z",
     "start_time": "2018-11-25T23:36:01.362720Z"
    }
   },
   "outputs": [],
   "source": [
    "utils.save(pipeline, 'mvp_model')\n",
    "utils.save(results_df, 'results')"
   ]
  },
  {
   "cell_type": "code",
   "execution_count": 7,
   "metadata": {
    "ExecuteTime": {
     "end_time": "2018-11-25T23:37:47.913392Z",
     "start_time": "2018-11-25T23:36:03.794383Z"
    }
   },
   "outputs": [
    {
     "name": "stderr",
     "output_type": "stream",
     "text": [
      "/anaconda3/envs/project5/lib/python3.7/site-packages/IPython/core/interactiveshell.py:3191: DtypeWarning: Columns (0) have mixed types. Specify dtype option on import or set low_memory=False.\n",
      "  if (yield from self.run_code(code, result)):\n"
     ]
    }
   ],
   "source": [
    "utils.generate_submissions(pipeline, 'mvp_model')"
   ]
  },
  {
   "cell_type": "markdown",
   "metadata": {},
   "source": [
    "MVP model score on Kaggle was 0.47989 ranked 2417 out of 3307. The train log loss was 0.562, so it does not seem to have overfitted. However, the train data may be more challenging compared to the test data."
   ]
  },
  {
   "cell_type": "markdown",
   "metadata": {},
   "source": [
    "## Improvements\n",
    "\n",
    "1. Add lemmatizer and fully incorporate a tokenizer with spacy.\n",
    "2. Analyze and determine if any further data cleaning is needed.\n",
    "  * Look at questions not ending in a ? mark.\n",
    "3. Build a pipeline using the GloVe vectors."
   ]
  }
 ],
 "metadata": {
  "kernelspec": {
   "display_name": "Python [conda env:project5]",
   "language": "python",
   "name": "conda-env-project5-py"
  },
  "language_info": {
   "codemirror_mode": {
    "name": "ipython",
    "version": 3
   },
   "file_extension": ".py",
   "mimetype": "text/x-python",
   "name": "python",
   "nbconvert_exporter": "python",
   "pygments_lexer": "ipython3",
   "version": "3.7.1"
  }
 },
 "nbformat": 4,
 "nbformat_minor": 2
}
