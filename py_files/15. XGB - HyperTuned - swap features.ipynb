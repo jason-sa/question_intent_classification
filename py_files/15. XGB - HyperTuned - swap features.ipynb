{
 "cells": [
  {
   "cell_type": "markdown",
   "metadata": {},
   "source": [
    "## Enhanced featrue engineer model\n",
    "\n",
    "This model will add engineered features for the original question, in addition to the lemmatized question.\n",
    "\n",
    "Engineered two different types of features,\n",
    "\n",
    "1. n_gram similarity between each pair of questions\n",
    "2. min/max/avg distance between words in a single question. Currently using the following metrics,\n",
    "  * euclidean\n",
    "  * cosine\n",
    "  * city block or manhattan\n",
    "  \n",
    "**Pipeline**\n",
    "1. Stack questions\n",
    "2. Clean questions - now lower cases all words to better lemmatize proper nouns\n",
    "3. UNION\n",
    "    1. n_gram similarity\n",
    "    2. min/max/avg distance\n",
    "4. Lemmatize questions\n",
    "5. UNION\n",
    "    1. n_gram similarity\n",
    "    2. min/max/avg distances\n",
    "6. UNION together both sets of features\n",
    "7. XGBClassifier"
   ]
  },
  {
   "cell_type": "code",
   "execution_count": 1,
   "metadata": {
    "ExecuteTime": {
     "end_time": "2018-11-28T04:57:04.646711Z",
     "start_time": "2018-11-28T04:56:47.834474Z"
    }
   },
   "outputs": [],
   "source": [
    "# data manipulation\n",
    "import utils\n",
    "import pandas as pd\n",
    "import numpy as np\n",
    "\n",
    "# modeling\n",
    "from sklearn.pipeline import Pipeline, FeatureUnion\n",
    "from sklearn.feature_extraction.text import TfidfVectorizer\n",
    "from sklearn.decomposition import NMF\n",
    "from sklearn.preprocessing import FunctionTransformer\n",
    "from sklearn.model_selection import cross_validate, StratifiedKFold\n",
    "\n",
    "from xgboost import XGBClassifier"
   ]
  },
  {
   "cell_type": "code",
   "execution_count": 2,
   "metadata": {
    "ExecuteTime": {
     "end_time": "2018-11-28T04:57:05.108061Z",
     "start_time": "2018-11-28T04:57:04.649533Z"
    }
   },
   "outputs": [],
   "source": [
    "X_train = utils.load('X_train')\n",
    "y_train = utils.load('y_train')\n",
    "model_name = 'xgb_hypertuned_dup_features'"
   ]
  },
  {
   "cell_type": "code",
   "execution_count": 3,
   "metadata": {
    "ExecuteTime": {
     "end_time": "2018-11-28T04:57:05.128186Z",
     "start_time": "2018-11-28T04:57:05.110672Z"
    }
   },
   "outputs": [],
   "source": [
    "# text transformation pipes\n",
    "clean_text = Pipeline(\n",
    "    [\n",
    "        ('stack', FunctionTransformer(utils.stack_questions, validate=False)),\n",
    "        ('clean', FunctionTransformer(utils.clean_questions, validate=False))\n",
    "\n",
    "    ]\n",
    ")\n",
    "\n",
    "lemma_text = Pipeline(\n",
    "    [\n",
    "        ('lemma', FunctionTransformer(utils.apply_lemma, validate=False))\n",
    "    ]\n",
    ")\n",
    "\n",
    "# feature engineering pipes\n",
    "single_question_pipe = Pipeline(\n",
    "    [\n",
    "        ('dist', FunctionTransformer(utils.add_min_max_avg_distance_features, validate=False)),\n",
    "        ('unstack', FunctionTransformer(utils.unstack_questions, validate=False))\n",
    "    ]\n",
    ")\n",
    "\n",
    "pair_question_pipe = Pipeline(\n",
    "    [\n",
    "        ('ngram_sim', FunctionTransformer(utils.calc_ngram_similarity, kw_args={'n_grams':[1, 2, 3]}, validate=False))\n",
    "    ]\n",
    ")\n",
    "\n",
    "# build features on the cleaned text only\n",
    "clean_text_features = Pipeline(\n",
    "    [\n",
    "        ('clean', clean_text),\n",
    "        ('feats', FeatureUnion(\n",
    "            [\n",
    "                ('pair', pair_question_pipe),\n",
    "                ('single', single_question_pipe)\n",
    "            ]\n",
    "        ))\n",
    "    ]\n",
    ")\n",
    "\n",
    "# build features on the cleanned and lemmatized text features\n",
    "lemma_text_features = Pipeline(\n",
    "    [\n",
    "        ('clean', clean_text),\n",
    "        ('lemma', lemma_text),\n",
    "        ('feats', FeatureUnion(\n",
    "            [\n",
    "                ('pair', pair_question_pipe),\n",
    "                ('single', single_question_pipe)\n",
    "            ]\n",
    "        ))\n",
    "    ]\n",
    ")\n",
    "\n",
    "# pre-process pipe\n",
    "feature_transformation = Pipeline(\n",
    "    [\n",
    "        ('feats', FeatureUnion(\n",
    "            [\n",
    "                ('clean_text_features', clean_text_features),\n",
    "                ('lemma_text_features', lemma_text_features)\n",
    "            ]\n",
    "        ))\n",
    "    ]\n",
    ")\n"
   ]
  },
  {
   "cell_type": "code",
   "execution_count": 4,
   "metadata": {
    "ExecuteTime": {
     "end_time": "2018-11-28T04:57:09.161680Z",
     "start_time": "2018-11-28T04:57:05.134427Z"
    }
   },
   "outputs": [
    {
     "name": "stdout",
     "output_type": "stream",
     "text": [
      "CPU times: user 32 ms, sys: 64 ms, total: 96 ms\n",
      "Wall time: 873 ms\n"
     ]
    }
   ],
   "source": [
    "%%time\n",
    "try:\n",
    "    X_train_transform = utils.load('X_train_transform')\n",
    "except:\n",
    "    X_train_transform = feature_transformation.transform(X_train) ## this takes a really long time\n",
    "    utils.save(X_train_transform, 'X_train_transform')"
   ]
  },
  {
   "cell_type": "code",
   "execution_count": 5,
   "metadata": {},
   "outputs": [
    {
     "data": {
      "text/plain": [
       "(303199, 42)"
      ]
     },
     "execution_count": 5,
     "metadata": {},
     "output_type": "execute_result"
    }
   ],
   "source": [
    "X_train_transform.shape"
   ]
  },
  {
   "cell_type": "code",
   "execution_count": 7,
   "metadata": {},
   "outputs": [
    {
     "data": {
      "text/plain": [
       "(303199, 21)"
      ]
     },
     "execution_count": 7,
     "metadata": {},
     "output_type": "execute_result"
    }
   ],
   "source": [
    "first_question_dist_features = X_train_transform[:, :21]\n",
    "first_question_dist_features.shape"
   ]
  },
  {
   "cell_type": "code",
   "execution_count": 8,
   "metadata": {},
   "outputs": [
    {
     "data": {
      "text/plain": [
       "(303199, 21)"
      ]
     },
     "execution_count": 8,
     "metadata": {},
     "output_type": "execute_result"
    }
   ],
   "source": [
    "second_question_dist_features = X_train_transform[:, 21:]\n",
    "second_question_dist_features.shape"
   ]
  },
  {
   "cell_type": "code",
   "execution_count": 12,
   "metadata": {},
   "outputs": [],
   "source": [
    "X_train_transform = np.vstack([X_train_transform, \n",
    "                               np.hstack([second_question_dist_features, first_question_dist_features])])"
   ]
  },
  {
   "cell_type": "code",
   "execution_count": 13,
   "metadata": {},
   "outputs": [
    {
     "data": {
      "text/plain": [
       "(606398, 42)"
      ]
     },
     "execution_count": 13,
     "metadata": {},
     "output_type": "execute_result"
    }
   ],
   "source": [
    "X_train_transform.shape"
   ]
  },
  {
   "cell_type": "code",
   "execution_count": 21,
   "metadata": {},
   "outputs": [],
   "source": [
    "y_train = np.hstack([y_train, y_train])"
   ]
  },
  {
   "cell_type": "code",
   "execution_count": 22,
   "metadata": {},
   "outputs": [],
   "source": [
    "search_cv = utils.load('tuned_models/xgb_hypertune_0.884651')"
   ]
  },
  {
   "cell_type": "code",
   "execution_count": 23,
   "metadata": {},
   "outputs": [
    {
     "data": {
      "text/plain": [
       "{'gamma': 0.1497064614824524,\n",
       " 'learning_rate': 0.22505353861797678,\n",
       " 'max_depth': 7,\n",
       " 'n_estimators': 734,\n",
       " 'reg_lambda': 0.7046261327596275}"
      ]
     },
     "execution_count": 23,
     "metadata": {},
     "output_type": "execute_result"
    }
   ],
   "source": [
    "search_cv.best_params_"
   ]
  },
  {
   "cell_type": "code",
   "execution_count": 24,
   "metadata": {},
   "outputs": [
    {
     "data": {
      "text/plain": [
       "{'gamma': 0.1497064614824524,\n",
       " 'learning_rate': 0.22505353861797678,\n",
       " 'max_depth': 7,\n",
       " 'n_estimators': 734,\n",
       " 'reg_lambda': 0.7046261327596275,\n",
       " 'n_jobs': 4,\n",
       " 'random_state': 42}"
      ]
     },
     "execution_count": 24,
     "metadata": {},
     "output_type": "execute_result"
    }
   ],
   "source": [
    "xgb_params = search_cv.best_params_\n",
    "xgb_params['n_jobs'] = 4\n",
    "xgb_params['random_state'] = 42\n",
    "xgb_params"
   ]
  },
  {
   "cell_type": "code",
   "execution_count": 25,
   "metadata": {
    "ExecuteTime": {
     "end_time": "2018-11-28T04:57:05.128186Z",
     "start_time": "2018-11-28T04:57:05.110672Z"
    }
   },
   "outputs": [],
   "source": [
    "xgb = XGBClassifier(**xgb_params)"
   ]
  },
  {
   "cell_type": "code",
   "execution_count": 26,
   "metadata": {
    "ExecuteTime": {
     "end_time": "2018-11-28T04:57:09.161680Z",
     "start_time": "2018-11-28T04:57:05.134427Z"
    }
   },
   "outputs": [
    {
     "name": "stdout",
     "output_type": "stream",
     "text": [
      "CPU times: user 236 ms, sys: 160 ms, total: 396 ms\n",
      "Wall time: 26min 20s\n"
     ]
    }
   ],
   "source": [
    "%%time\n",
    "skf = StratifiedKFold(n_splits=3, random_state=42)\n",
    "cv = cross_validate(xgb, \n",
    "               X_train_transform, \n",
    "               y_train, \n",
    "               cv=skf, \n",
    "               n_jobs=3, \n",
    "               scoring=('accuracy', 'precision', 'recall', 'f1', 'roc_auc', 'neg_log_loss'))"
   ]
  },
  {
   "cell_type": "code",
   "execution_count": 27,
   "metadata": {},
   "outputs": [
    {
     "data": {
      "text/html": [
       "<div>\n",
       "<style scoped>\n",
       "    .dataframe tbody tr th:only-of-type {\n",
       "        vertical-align: middle;\n",
       "    }\n",
       "\n",
       "    .dataframe tbody tr th {\n",
       "        vertical-align: top;\n",
       "    }\n",
       "\n",
       "    .dataframe thead th {\n",
       "        text-align: right;\n",
       "    }\n",
       "</style>\n",
       "<table border=\"1\" class=\"dataframe\">\n",
       "  <thead>\n",
       "    <tr style=\"text-align: right;\">\n",
       "      <th></th>\n",
       "      <th>avg_accuracy</th>\n",
       "      <th>std_accuracy</th>\n",
       "      <th>avg_precision</th>\n",
       "      <th>std_precision</th>\n",
       "      <th>avg_recall</th>\n",
       "      <th>std_recall</th>\n",
       "      <th>avg_f1</th>\n",
       "      <th>std_f1</th>\n",
       "      <th>avg_auc</th>\n",
       "      <th>std_auc</th>\n",
       "      <th>avg_log_loss</th>\n",
       "      <th>std_log_loss</th>\n",
       "    </tr>\n",
       "  </thead>\n",
       "  <tbody>\n",
       "    <tr>\n",
       "      <th>xgb_hypertuned</th>\n",
       "      <td>0.800791</td>\n",
       "      <td>0.001007</td>\n",
       "      <td>0.732020</td>\n",
       "      <td>0.001803</td>\n",
       "      <td>0.726379</td>\n",
       "      <td>0.001644</td>\n",
       "      <td>0.729187</td>\n",
       "      <td>0.001261</td>\n",
       "      <td>0.884651</td>\n",
       "      <td>0.000787</td>\n",
       "      <td>0.406161</td>\n",
       "      <td>0.001380</td>\n",
       "    </tr>\n",
       "    <tr>\n",
       "      <th>xgb_hypertuned_dup_features</th>\n",
       "      <td>0.788520</td>\n",
       "      <td>0.007471</td>\n",
       "      <td>0.714135</td>\n",
       "      <td>0.010980</td>\n",
       "      <td>0.712489</td>\n",
       "      <td>0.008232</td>\n",
       "      <td>0.713308</td>\n",
       "      <td>0.009598</td>\n",
       "      <td>0.873554</td>\n",
       "      <td>0.006916</td>\n",
       "      <td>0.420222</td>\n",
       "      <td>0.010238</td>\n",
       "    </tr>\n",
       "    <tr>\n",
       "      <th>rf_feat_eng_model_lemma_clean</th>\n",
       "      <td>0.783667</td>\n",
       "      <td>0.002260</td>\n",
       "      <td>0.708853</td>\n",
       "      <td>0.003681</td>\n",
       "      <td>0.702725</td>\n",
       "      <td>0.001666</td>\n",
       "      <td>0.705774</td>\n",
       "      <td>0.002658</td>\n",
       "      <td>0.868202</td>\n",
       "      <td>0.001148</td>\n",
       "      <td>0.436197</td>\n",
       "      <td>0.000640</td>\n",
       "    </tr>\n",
       "    <tr>\n",
       "      <th>ensemble_rf_xgb</th>\n",
       "      <td>0.779000</td>\n",
       "      <td>0.002740</td>\n",
       "      <td>0.697794</td>\n",
       "      <td>0.004357</td>\n",
       "      <td>0.708157</td>\n",
       "      <td>0.001912</td>\n",
       "      <td>0.702935</td>\n",
       "      <td>0.003148</td>\n",
       "      <td>0.863334</td>\n",
       "      <td>0.001438</td>\n",
       "      <td>0.441784</td>\n",
       "      <td>0.001107</td>\n",
       "    </tr>\n",
       "    <tr>\n",
       "      <th>xgb_feat_eng_incl_nums</th>\n",
       "      <td>0.767110</td>\n",
       "      <td>0.001576</td>\n",
       "      <td>0.682213</td>\n",
       "      <td>0.002621</td>\n",
       "      <td>0.701238</td>\n",
       "      <td>0.002695</td>\n",
       "      <td>0.691590</td>\n",
       "      <td>0.001899</td>\n",
       "      <td>0.851957</td>\n",
       "      <td>0.001192</td>\n",
       "      <td>0.450099</td>\n",
       "      <td>0.001675</td>\n",
       "    </tr>\n",
       "    <tr>\n",
       "      <th>feat_eng_model_lemma_clean</th>\n",
       "      <td>0.763927</td>\n",
       "      <td>0.002404</td>\n",
       "      <td>0.676166</td>\n",
       "      <td>0.003904</td>\n",
       "      <td>0.692113</td>\n",
       "      <td>0.001128</td>\n",
       "      <td>0.684044</td>\n",
       "      <td>0.002549</td>\n",
       "      <td>0.846923</td>\n",
       "      <td>0.001643</td>\n",
       "      <td>0.456929</td>\n",
       "      <td>0.001410</td>\n",
       "    </tr>\n",
       "    <tr>\n",
       "      <th>feat_eng_model_lemma_fix</th>\n",
       "      <td>0.744356</td>\n",
       "      <td>0.002107</td>\n",
       "      <td>0.664513</td>\n",
       "      <td>0.004333</td>\n",
       "      <td>0.621357</td>\n",
       "      <td>0.000901</td>\n",
       "      <td>0.642201</td>\n",
       "      <td>0.001609</td>\n",
       "      <td>0.822197</td>\n",
       "      <td>0.001710</td>\n",
       "      <td>0.488131</td>\n",
       "      <td>0.001342</td>\n",
       "    </tr>\n",
       "    <tr>\n",
       "      <th>feat_eng_model</th>\n",
       "      <td>0.743614</td>\n",
       "      <td>0.002021</td>\n",
       "      <td>0.664102</td>\n",
       "      <td>0.003502</td>\n",
       "      <td>0.618400</td>\n",
       "      <td>0.001553</td>\n",
       "      <td>0.640434</td>\n",
       "      <td>0.002281</td>\n",
       "      <td>0.821070</td>\n",
       "      <td>0.001428</td>\n",
       "      <td>0.489465</td>\n",
       "      <td>0.001141</td>\n",
       "    </tr>\n",
       "    <tr>\n",
       "      <th>ensemble_rf_xgb_cos_sim</th>\n",
       "      <td>0.738700</td>\n",
       "      <td>0.007359</td>\n",
       "      <td>0.661290</td>\n",
       "      <td>0.010948</td>\n",
       "      <td>0.612827</td>\n",
       "      <td>0.009669</td>\n",
       "      <td>0.636128</td>\n",
       "      <td>0.009994</td>\n",
       "      <td>0.819987</td>\n",
       "      <td>0.005193</td>\n",
       "      <td>0.493703</td>\n",
       "      <td>0.003901</td>\n",
       "    </tr>\n",
       "    <tr>\n",
       "      <th>lstm_Bidrectional</th>\n",
       "      <td>0.752968</td>\n",
       "      <td>0.000000</td>\n",
       "      <td>0.702084</td>\n",
       "      <td>0.000000</td>\n",
       "      <td>0.574900</td>\n",
       "      <td>0.000000</td>\n",
       "      <td>0.632158</td>\n",
       "      <td>0.000000</td>\n",
       "      <td>0.803540</td>\n",
       "      <td>0.000000</td>\n",
       "      <td>8.532243</td>\n",
       "      <td>0.000000</td>\n",
       "    </tr>\n",
       "    <tr>\n",
       "      <th>lstm_dropout_50</th>\n",
       "      <td>0.751849</td>\n",
       "      <td>0.000000</td>\n",
       "      <td>0.690400</td>\n",
       "      <td>0.000000</td>\n",
       "      <td>0.594510</td>\n",
       "      <td>0.000000</td>\n",
       "      <td>0.638877</td>\n",
       "      <td>0.000000</td>\n",
       "      <td>0.802315</td>\n",
       "      <td>0.000000</td>\n",
       "      <td>8.570912</td>\n",
       "      <td>0.000000</td>\n",
       "    </tr>\n",
       "    <tr>\n",
       "      <th>lstm_LEMMA_dropout_20_lstm_layer_DO_20</th>\n",
       "      <td>0.752119</td>\n",
       "      <td>0.000000</td>\n",
       "      <td>0.708745</td>\n",
       "      <td>0.000000</td>\n",
       "      <td>0.557914</td>\n",
       "      <td>0.000000</td>\n",
       "      <td>0.624349</td>\n",
       "      <td>0.000000</td>\n",
       "      <td>0.801938</td>\n",
       "      <td>0.000000</td>\n",
       "      <td>8.561581</td>\n",
       "      <td>0.000000</td>\n",
       "    </tr>\n",
       "    <tr>\n",
       "      <th>lstm_mvp</th>\n",
       "      <td>0.749760</td>\n",
       "      <td>0.000000</td>\n",
       "      <td>0.685627</td>\n",
       "      <td>0.000000</td>\n",
       "      <td>0.595133</td>\n",
       "      <td>0.000000</td>\n",
       "      <td>0.637183</td>\n",
       "      <td>0.000000</td>\n",
       "      <td>0.801019</td>\n",
       "      <td>0.000000</td>\n",
       "      <td>8.643059</td>\n",
       "      <td>0.000000</td>\n",
       "    </tr>\n",
       "    <tr>\n",
       "      <th>cos_sim_tfidf_model</th>\n",
       "      <td>0.729511</td>\n",
       "      <td>0.001216</td>\n",
       "      <td>0.661680</td>\n",
       "      <td>0.002219</td>\n",
       "      <td>0.547188</td>\n",
       "      <td>0.001744</td>\n",
       "      <td>0.599010</td>\n",
       "      <td>0.001703</td>\n",
       "      <td>0.800271</td>\n",
       "      <td>0.001291</td>\n",
       "      <td>0.512085</td>\n",
       "      <td>0.001299</td>\n",
       "    </tr>\n",
       "    <tr>\n",
       "      <th>lstm_LEMMA_SW_dropout_20_lstm_layer_DO_20</th>\n",
       "      <td>0.747411</td>\n",
       "      <td>0.000000</td>\n",
       "      <td>0.694125</td>\n",
       "      <td>0.000000</td>\n",
       "      <td>0.564762</td>\n",
       "      <td>0.000000</td>\n",
       "      <td>0.622797</td>\n",
       "      <td>0.000000</td>\n",
       "      <td>0.794318</td>\n",
       "      <td>0.000000</td>\n",
       "      <td>8.724173</td>\n",
       "      <td>0.000000</td>\n",
       "    </tr>\n",
       "    <tr>\n",
       "      <th>lstm_dropout_50_lstm_layer_DO_50</th>\n",
       "      <td>0.736538</td>\n",
       "      <td>0.000000</td>\n",
       "      <td>0.664675</td>\n",
       "      <td>0.000000</td>\n",
       "      <td>0.578080</td>\n",
       "      <td>0.000000</td>\n",
       "      <td>0.618360</td>\n",
       "      <td>0.000000</td>\n",
       "      <td>0.785850</td>\n",
       "      <td>0.000000</td>\n",
       "      <td>9.099757</td>\n",
       "      <td>0.000000</td>\n",
       "    </tr>\n",
       "    <tr>\n",
       "      <th>lstm_CNN</th>\n",
       "      <td>0.729541</td>\n",
       "      <td>0.000000</td>\n",
       "      <td>0.654503</td>\n",
       "      <td>0.000000</td>\n",
       "      <td>0.566576</td>\n",
       "      <td>0.000000</td>\n",
       "      <td>0.607373</td>\n",
       "      <td>0.000000</td>\n",
       "      <td>0.776909</td>\n",
       "      <td>0.000000</td>\n",
       "      <td>9.341395</td>\n",
       "      <td>0.000000</td>\n",
       "    </tr>\n",
       "    <tr>\n",
       "      <th>lstm_dropout50_dense50_BatchNorm</th>\n",
       "      <td>0.728612</td>\n",
       "      <td>0.000000</td>\n",
       "      <td>0.682992</td>\n",
       "      <td>0.000000</td>\n",
       "      <td>0.494492</td>\n",
       "      <td>0.000000</td>\n",
       "      <td>0.573654</td>\n",
       "      <td>0.000000</td>\n",
       "      <td>0.772344</td>\n",
       "      <td>0.000000</td>\n",
       "      <td>9.373478</td>\n",
       "      <td>0.000000</td>\n",
       "    </tr>\n",
       "    <tr>\n",
       "      <th>cos_sim_model</th>\n",
       "      <td>0.710200</td>\n",
       "      <td>0.000830</td>\n",
       "      <td>0.658748</td>\n",
       "      <td>0.002578</td>\n",
       "      <td>0.446336</td>\n",
       "      <td>0.002215</td>\n",
       "      <td>0.532120</td>\n",
       "      <td>0.001306</td>\n",
       "      <td>0.746769</td>\n",
       "      <td>0.001279</td>\n",
       "      <td>0.565250</td>\n",
       "      <td>0.000963</td>\n",
       "    </tr>\n",
       "    <tr>\n",
       "      <th>mvp (tf-idf, nmf(5), xgboost)</th>\n",
       "      <td>0.700345</td>\n",
       "      <td>0.000466</td>\n",
       "      <td>0.661571</td>\n",
       "      <td>0.000461</td>\n",
       "      <td>0.385736</td>\n",
       "      <td>0.002493</td>\n",
       "      <td>0.487325</td>\n",
       "      <td>0.001983</td>\n",
       "      <td>0.740593</td>\n",
       "      <td>0.001647</td>\n",
       "      <td>0.568958</td>\n",
       "      <td>0.001288</td>\n",
       "    </tr>\n",
       "    <tr>\n",
       "      <th>mvp (+ lemma)</th>\n",
       "      <td>0.696787</td>\n",
       "      <td>0.001055</td>\n",
       "      <td>0.649977</td>\n",
       "      <td>0.003057</td>\n",
       "      <td>0.387424</td>\n",
       "      <td>0.003230</td>\n",
       "      <td>0.485464</td>\n",
       "      <td>0.002485</td>\n",
       "      <td>0.738037</td>\n",
       "      <td>0.001362</td>\n",
       "      <td>0.572483</td>\n",
       "      <td>0.000815</td>\n",
       "    </tr>\n",
       "  </tbody>\n",
       "</table>\n",
       "</div>"
      ],
      "text/plain": [
       "                                           avg_accuracy  std_accuracy  \\\n",
       "xgb_hypertuned                                 0.800791      0.001007   \n",
       "xgb_hypertuned_dup_features                    0.788520      0.007471   \n",
       "rf_feat_eng_model_lemma_clean                  0.783667      0.002260   \n",
       "ensemble_rf_xgb                                0.779000      0.002740   \n",
       "xgb_feat_eng_incl_nums                         0.767110      0.001576   \n",
       "feat_eng_model_lemma_clean                     0.763927      0.002404   \n",
       "feat_eng_model_lemma_fix                       0.744356      0.002107   \n",
       "feat_eng_model                                 0.743614      0.002021   \n",
       "ensemble_rf_xgb_cos_sim                        0.738700      0.007359   \n",
       "lstm_Bidrectional                              0.752968      0.000000   \n",
       "lstm_dropout_50                                0.751849      0.000000   \n",
       "lstm_LEMMA_dropout_20_lstm_layer_DO_20         0.752119      0.000000   \n",
       "lstm_mvp                                       0.749760      0.000000   \n",
       "cos_sim_tfidf_model                            0.729511      0.001216   \n",
       "lstm_LEMMA_SW_dropout_20_lstm_layer_DO_20      0.747411      0.000000   \n",
       "lstm_dropout_50_lstm_layer_DO_50               0.736538      0.000000   \n",
       "lstm_CNN                                       0.729541      0.000000   \n",
       "lstm_dropout50_dense50_BatchNorm               0.728612      0.000000   \n",
       "cos_sim_model                                  0.710200      0.000830   \n",
       "mvp (tf-idf, nmf(5), xgboost)                  0.700345      0.000466   \n",
       "mvp (+ lemma)                                  0.696787      0.001055   \n",
       "\n",
       "                                           avg_precision  std_precision  \\\n",
       "xgb_hypertuned                                  0.732020       0.001803   \n",
       "xgb_hypertuned_dup_features                     0.714135       0.010980   \n",
       "rf_feat_eng_model_lemma_clean                   0.708853       0.003681   \n",
       "ensemble_rf_xgb                                 0.697794       0.004357   \n",
       "xgb_feat_eng_incl_nums                          0.682213       0.002621   \n",
       "feat_eng_model_lemma_clean                      0.676166       0.003904   \n",
       "feat_eng_model_lemma_fix                        0.664513       0.004333   \n",
       "feat_eng_model                                  0.664102       0.003502   \n",
       "ensemble_rf_xgb_cos_sim                         0.661290       0.010948   \n",
       "lstm_Bidrectional                               0.702084       0.000000   \n",
       "lstm_dropout_50                                 0.690400       0.000000   \n",
       "lstm_LEMMA_dropout_20_lstm_layer_DO_20          0.708745       0.000000   \n",
       "lstm_mvp                                        0.685627       0.000000   \n",
       "cos_sim_tfidf_model                             0.661680       0.002219   \n",
       "lstm_LEMMA_SW_dropout_20_lstm_layer_DO_20       0.694125       0.000000   \n",
       "lstm_dropout_50_lstm_layer_DO_50                0.664675       0.000000   \n",
       "lstm_CNN                                        0.654503       0.000000   \n",
       "lstm_dropout50_dense50_BatchNorm                0.682992       0.000000   \n",
       "cos_sim_model                                   0.658748       0.002578   \n",
       "mvp (tf-idf, nmf(5), xgboost)                   0.661571       0.000461   \n",
       "mvp (+ lemma)                                   0.649977       0.003057   \n",
       "\n",
       "                                           avg_recall  std_recall    avg_f1  \\\n",
       "xgb_hypertuned                               0.726379    0.001644  0.729187   \n",
       "xgb_hypertuned_dup_features                  0.712489    0.008232  0.713308   \n",
       "rf_feat_eng_model_lemma_clean                0.702725    0.001666  0.705774   \n",
       "ensemble_rf_xgb                              0.708157    0.001912  0.702935   \n",
       "xgb_feat_eng_incl_nums                       0.701238    0.002695  0.691590   \n",
       "feat_eng_model_lemma_clean                   0.692113    0.001128  0.684044   \n",
       "feat_eng_model_lemma_fix                     0.621357    0.000901  0.642201   \n",
       "feat_eng_model                               0.618400    0.001553  0.640434   \n",
       "ensemble_rf_xgb_cos_sim                      0.612827    0.009669  0.636128   \n",
       "lstm_Bidrectional                            0.574900    0.000000  0.632158   \n",
       "lstm_dropout_50                              0.594510    0.000000  0.638877   \n",
       "lstm_LEMMA_dropout_20_lstm_layer_DO_20       0.557914    0.000000  0.624349   \n",
       "lstm_mvp                                     0.595133    0.000000  0.637183   \n",
       "cos_sim_tfidf_model                          0.547188    0.001744  0.599010   \n",
       "lstm_LEMMA_SW_dropout_20_lstm_layer_DO_20    0.564762    0.000000  0.622797   \n",
       "lstm_dropout_50_lstm_layer_DO_50             0.578080    0.000000  0.618360   \n",
       "lstm_CNN                                     0.566576    0.000000  0.607373   \n",
       "lstm_dropout50_dense50_BatchNorm             0.494492    0.000000  0.573654   \n",
       "cos_sim_model                                0.446336    0.002215  0.532120   \n",
       "mvp (tf-idf, nmf(5), xgboost)                0.385736    0.002493  0.487325   \n",
       "mvp (+ lemma)                                0.387424    0.003230  0.485464   \n",
       "\n",
       "                                             std_f1   avg_auc   std_auc  \\\n",
       "xgb_hypertuned                             0.001261  0.884651  0.000787   \n",
       "xgb_hypertuned_dup_features                0.009598  0.873554  0.006916   \n",
       "rf_feat_eng_model_lemma_clean              0.002658  0.868202  0.001148   \n",
       "ensemble_rf_xgb                            0.003148  0.863334  0.001438   \n",
       "xgb_feat_eng_incl_nums                     0.001899  0.851957  0.001192   \n",
       "feat_eng_model_lemma_clean                 0.002549  0.846923  0.001643   \n",
       "feat_eng_model_lemma_fix                   0.001609  0.822197  0.001710   \n",
       "feat_eng_model                             0.002281  0.821070  0.001428   \n",
       "ensemble_rf_xgb_cos_sim                    0.009994  0.819987  0.005193   \n",
       "lstm_Bidrectional                          0.000000  0.803540  0.000000   \n",
       "lstm_dropout_50                            0.000000  0.802315  0.000000   \n",
       "lstm_LEMMA_dropout_20_lstm_layer_DO_20     0.000000  0.801938  0.000000   \n",
       "lstm_mvp                                   0.000000  0.801019  0.000000   \n",
       "cos_sim_tfidf_model                        0.001703  0.800271  0.001291   \n",
       "lstm_LEMMA_SW_dropout_20_lstm_layer_DO_20  0.000000  0.794318  0.000000   \n",
       "lstm_dropout_50_lstm_layer_DO_50           0.000000  0.785850  0.000000   \n",
       "lstm_CNN                                   0.000000  0.776909  0.000000   \n",
       "lstm_dropout50_dense50_BatchNorm           0.000000  0.772344  0.000000   \n",
       "cos_sim_model                              0.001306  0.746769  0.001279   \n",
       "mvp (tf-idf, nmf(5), xgboost)              0.001983  0.740593  0.001647   \n",
       "mvp (+ lemma)                              0.002485  0.738037  0.001362   \n",
       "\n",
       "                                           avg_log_loss  std_log_loss  \n",
       "xgb_hypertuned                                 0.406161      0.001380  \n",
       "xgb_hypertuned_dup_features                    0.420222      0.010238  \n",
       "rf_feat_eng_model_lemma_clean                  0.436197      0.000640  \n",
       "ensemble_rf_xgb                                0.441784      0.001107  \n",
       "xgb_feat_eng_incl_nums                         0.450099      0.001675  \n",
       "feat_eng_model_lemma_clean                     0.456929      0.001410  \n",
       "feat_eng_model_lemma_fix                       0.488131      0.001342  \n",
       "feat_eng_model                                 0.489465      0.001141  \n",
       "ensemble_rf_xgb_cos_sim                        0.493703      0.003901  \n",
       "lstm_Bidrectional                              8.532243      0.000000  \n",
       "lstm_dropout_50                                8.570912      0.000000  \n",
       "lstm_LEMMA_dropout_20_lstm_layer_DO_20         8.561581      0.000000  \n",
       "lstm_mvp                                       8.643059      0.000000  \n",
       "cos_sim_tfidf_model                            0.512085      0.001299  \n",
       "lstm_LEMMA_SW_dropout_20_lstm_layer_DO_20      8.724173      0.000000  \n",
       "lstm_dropout_50_lstm_layer_DO_50               9.099757      0.000000  \n",
       "lstm_CNN                                       9.341395      0.000000  \n",
       "lstm_dropout50_dense50_BatchNorm               9.373478      0.000000  \n",
       "cos_sim_model                                  0.565250      0.000963  \n",
       "mvp (tf-idf, nmf(5), xgboost)                  0.568958      0.001288  \n",
       "mvp (+ lemma)                                  0.572483      0.000815  "
      ]
     },
     "execution_count": 27,
     "metadata": {},
     "output_type": "execute_result"
    }
   ],
   "source": [
    "results_df = utils.load('results')\n",
    "\n",
    "results_df = results_df.drop(index=model_name, errors='ignore')\n",
    "results_df = results_df.append(utils.log_scores(cv, model_name))\n",
    "results_df.sort_values('avg_auc', ascending=False)"
   ]
  },
  {
   "cell_type": "code",
   "execution_count": 28,
   "metadata": {},
   "outputs": [],
   "source": [
    "utils.save(results_df, 'results')"
   ]
  },
  {
   "cell_type": "markdown",
   "metadata": {},
   "source": [
    "## Fit entire training data\n",
    "\n",
    "Validation AUC is 0.88. We will now fit on the entire train data to then score against the test data."
   ]
  },
  {
   "cell_type": "code",
   "execution_count": 17,
   "metadata": {},
   "outputs": [
    {
     "name": "stdout",
     "output_type": "stream",
     "text": [
      "CPU times: user 38min 9s, sys: 200 ms, total: 38min 9s\n",
      "Wall time: 9min 32s\n"
     ]
    }
   ],
   "source": [
    "%%time\n",
    "xgb.fit(X_train_transform, y_train)\n",
    "utils.save(xgb, 'xgb_ht_best_model_feature_expansion')"
   ]
  },
  {
   "cell_type": "markdown",
   "metadata": {},
   "source": [
    "## Score the test data set"
   ]
  },
  {
   "cell_type": "code",
   "execution_count": 19,
   "metadata": {},
   "outputs": [],
   "source": [
    "X_test = utils.load('X_test')\n",
    "y_test = utils.load('y_test')"
   ]
  },
  {
   "cell_type": "code",
   "execution_count": 21,
   "metadata": {},
   "outputs": [
    {
     "name": "stdout",
     "output_type": "stream",
     "text": [
      "CPU times: user 22min 21s, sys: 2min 15s, total: 24min 36s\n",
      "Wall time: 7min 40s\n"
     ]
    }
   ],
   "source": [
    "%%time\n",
    "X_test_transform = feature_transformation.transform(X_test)"
   ]
  },
  {
   "cell_type": "code",
   "execution_count": 24,
   "metadata": {},
   "outputs": [],
   "source": [
    "test_probs = xgb.predict_proba(X_test_transform)[:, 1]"
   ]
  },
  {
   "cell_type": "code",
   "execution_count": 25,
   "metadata": {},
   "outputs": [],
   "source": [
    "from sklearn import metrics"
   ]
  },
  {
   "cell_type": "code",
   "execution_count": 26,
   "metadata": {},
   "outputs": [
    {
     "data": {
      "text/plain": [
       "0.8904411591506582"
      ]
     },
     "execution_count": 26,
     "metadata": {},
     "output_type": "execute_result"
    }
   ],
   "source": [
    "metrics.roc_auc_score(y_test, test_probs)"
   ]
  },
  {
   "cell_type": "code",
   "execution_count": 27,
   "metadata": {},
   "outputs": [
    {
     "data": {
      "text/plain": [
       "0.39466975303115776"
      ]
     },
     "execution_count": 27,
     "metadata": {},
     "output_type": "execute_result"
    }
   ],
   "source": [
    "metrics.log_loss(y_test, test_probs)"
   ]
  },
  {
   "cell_type": "markdown",
   "metadata": {},
   "source": [
    "## Summary\n",
    "\n",
    "The test score is very similar to the validation score, and thus the model should genearlize well. Next, the full data set will be trained for the Slack bot app."
   ]
  },
  {
   "cell_type": "code",
   "execution_count": 32,
   "metadata": {},
   "outputs": [],
   "source": [
    "X_full_transform = np.vstack([X_train_transform, X_test_transform])\n",
    "y_full_transform = np.vstack([y_train.reshape(-1, 1), y_test.reshape(-1, 1)])"
   ]
  },
  {
   "cell_type": "code",
   "execution_count": 35,
   "metadata": {},
   "outputs": [
    {
     "name": "stdout",
     "output_type": "stream",
     "text": [
      "CPU times: user 36min 35s, sys: 9.26 s, total: 36min 44s\n",
      "Wall time: 9min 11s\n"
     ]
    },
    {
     "data": {
      "text/plain": [
       "XGBClassifier(base_score=0.5, booster='gbtree', colsample_bylevel=1,\n",
       "       colsample_bytree=1, gamma=0.1497064614824524,\n",
       "       learning_rate=0.22505353861797678, max_delta_step=0, max_depth=7,\n",
       "       min_child_weight=1, missing=None, n_estimators=734, n_jobs=4,\n",
       "       nthread=None, objective='binary:logistic', random_state=42,\n",
       "       reg_alpha=0, reg_lambda=0.7046261327596275, scale_pos_weight=1,\n",
       "       seed=None, silent=True, subsample=1)"
      ]
     },
     "execution_count": 35,
     "metadata": {},
     "output_type": "execute_result"
    }
   ],
   "source": [
    "%%time\n",
    "xgb.fit(X_full_transform, y_full_transform.reshape(-1,))"
   ]
  },
  {
   "cell_type": "code",
   "execution_count": 37,
   "metadata": {},
   "outputs": [],
   "source": [
    "utils.save(xgb, 'xgb_FINAL_model')\n",
    "utils.save(feature_transformation, 'feature_pipe')\n",
    "utils.save(X_full_transform, 'X_full_transform')\n",
    "utils.save(y_full_transform, 'y_full_transform')\n",
    "utils.save(X_test_transform, 'X_test_transform')"
   ]
  }
 ],
 "metadata": {
  "kernelspec": {
   "display_name": "Python 3",
   "language": "python",
   "name": "python3"
  },
  "language_info": {
   "codemirror_mode": {
    "name": "ipython",
    "version": 3
   },
   "file_extension": ".py",
   "mimetype": "text/x-python",
   "name": "python",
   "nbconvert_exporter": "python",
   "pygments_lexer": "ipython3",
   "version": "3.6.5"
  }
 },
 "nbformat": 4,
 "nbformat_minor": 2
}
