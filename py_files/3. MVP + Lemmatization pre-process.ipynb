{
 "cells": [
  {
   "cell_type": "markdown",
   "metadata": {},
   "source": [
    "## Spacy Lemma + MVP\n",
    "\n",
    "This model will incorporate a lemmatization of the questions, by spaCy, to see if this improves upon on the MVP model. Regardless, the results will be scrutinized to determine if any patterns can be established of the pairs which are signficantly mis-classified.\n",
    "\n",
    "**Pipeline**:\n",
    "1. Stack questions\n",
    "2. Lemmatize questions\n",
    "3. TF-IDF\n",
    "4. NMF (5 topics)\n",
    "5. Unstack questions\n",
    "6. XGBoost classifier"
   ]
  },
  {
   "cell_type": "code",
   "execution_count": 1,
   "metadata": {
    "ExecuteTime": {
     "end_time": "2018-11-26T22:42:37.913961Z",
     "start_time": "2018-11-26T22:42:24.643133Z"
    }
   },
   "outputs": [],
   "source": [
    "# data manipulation\n",
    "import utils\n",
    "import pandas as pd\n",
    "import numpy as np\n",
    "\n",
    "# modeling\n",
    "from sklearn.preprocessing import FunctionTransformer\n",
    "from sklearn.feature_extraction.text import TfidfVectorizer\n",
    "from sklearn.decomposition import NMF\n",
    "from sklearn.pipeline import Pipeline\n",
    "\n",
    "from xgboost import XGBClassifier"
   ]
  },
  {
   "cell_type": "code",
   "execution_count": 2,
   "metadata": {
    "ExecuteTime": {
     "end_time": "2018-11-26T22:44:43.687767Z",
     "start_time": "2018-11-26T22:44:43.380556Z"
    }
   },
   "outputs": [],
   "source": [
    "X_train = utils.load('X_train')\n",
    "y_train = utils.load('y_train')"
   ]
  },
  {
   "cell_type": "code",
   "execution_count": 3,
   "metadata": {
    "ExecuteTime": {
     "end_time": "2018-11-26T22:55:03.908250Z",
     "start_time": "2018-11-26T22:44:56.163887Z"
    }
   },
   "outputs": [],
   "source": [
    "try:\n",
    "    X_train_lemma = utils.load('X_train_lemma')\n",
    "except:\n",
    "    pipe = Pipeline(\n",
    "        [\n",
    "            ('stack', FunctionTransformer(utils.stack_questions, validate=False)),\n",
    "            ('lemma', FunctionTransformer(utils.cleanup_text, validate=False))\n",
    "        ]\n",
    "    )\n",
    "\n",
    "    X_train_lemma = pipe.transform(X_train)\n",
    "    utils.save(X_train_lemma, 'X_train_lemma') # takes about 10 mins to lemmatize the documents."
   ]
  },
  {
   "cell_type": "code",
   "execution_count": 4,
   "metadata": {
    "ExecuteTime": {
     "end_time": "2018-11-26T22:58:16.372130Z",
     "start_time": "2018-11-26T22:55:53.480434Z"
    }
   },
   "outputs": [
    {
     "data": {
      "text/plain": [
       "Pipeline(memory=None,\n",
       "     steps=[('tfidf', TfidfVectorizer(analyzer='word', binary=False, decode_error='strict',\n",
       "        dtype=<class 'numpy.float64'>, encoding='utf-8', input='content',\n",
       "        lowercase=True, max_df=1.0, max_features=None, min_df=1,\n",
       "        ngram_range=(1, 1), norm='l2', preprocessor=None, smooth_idf=True,...ate=42, reg_alpha=0, reg_lambda=1, scale_pos_weight=1,\n",
       "       seed=None, silent=True, subsample=1))])"
      ]
     },
     "execution_count": 4,
     "metadata": {},
     "output_type": "execute_result"
    }
   ],
   "source": [
    "pipe = Pipeline(\n",
    "    [\n",
    "        ('tfidf', TfidfVectorizer()),\n",
    "        ('nmf', NMF(n_components = 5)),\n",
    "        ('unstack', FunctionTransformer(utils.unstack_questions, validate=False)),\n",
    "        ('xgb', XGBClassifier(n_estimators=500, random_state=42))\n",
    "    ]\n",
    ")\n",
    "\n",
    "pipe.fit(X_train_lemma, y_train)"
   ]
  },
  {
   "cell_type": "code",
   "execution_count": 5,
   "metadata": {
    "ExecuteTime": {
     "end_time": "2018-11-26T22:58:16.410940Z",
     "start_time": "2018-11-26T22:58:16.376426Z"
    }
   },
   "outputs": [
    {
     "data": {
      "text/html": [
       "<div>\n",
       "<style scoped>\n",
       "    .dataframe tbody tr th:only-of-type {\n",
       "        vertical-align: middle;\n",
       "    }\n",
       "\n",
       "    .dataframe tbody tr th {\n",
       "        vertical-align: top;\n",
       "    }\n",
       "\n",
       "    .dataframe thead th {\n",
       "        text-align: right;\n",
       "    }\n",
       "</style>\n",
       "<table border=\"1\" class=\"dataframe\">\n",
       "  <thead>\n",
       "    <tr style=\"text-align: right;\">\n",
       "      <th></th>\n",
       "      <th>accuracy</th>\n",
       "      <th>precision</th>\n",
       "      <th>recall</th>\n",
       "      <th>f1</th>\n",
       "      <th>auc</th>\n",
       "      <th>log_loss</th>\n",
       "    </tr>\n",
       "  </thead>\n",
       "  <tbody>\n",
       "    <tr>\n",
       "      <th>mvp (tf-idf, nmf(5), xgboost)</th>\n",
       "      <td>0.631325</td>\n",
       "      <td>0.823529</td>\n",
       "      <td>0.001876</td>\n",
       "      <td>0.003743</td>\n",
       "      <td>0.571099</td>\n",
       "      <td>0.654121</td>\n",
       "    </tr>\n",
       "  </tbody>\n",
       "</table>\n",
       "</div>"
      ],
      "text/plain": [
       "                               accuracy  precision    recall        f1  \\\n",
       "mvp (tf-idf, nmf(5), xgboost)  0.631325   0.823529  0.001876  0.003743   \n",
       "\n",
       "                                    auc  log_loss  \n",
       "mvp (tf-idf, nmf(5), xgboost)  0.571099  0.654121  "
      ]
     },
     "execution_count": 5,
     "metadata": {},
     "output_type": "execute_result"
    }
   ],
   "source": [
    "results_df = utils.load('results')\n",
    "results_df"
   ]
  },
  {
   "cell_type": "code",
   "execution_count": 6,
   "metadata": {
    "ExecuteTime": {
     "end_time": "2018-11-26T22:59:28.228994Z",
     "start_time": "2018-11-26T22:59:17.916928Z"
    }
   },
   "outputs": [
    {
     "data": {
      "text/html": [
       "<div>\n",
       "<style scoped>\n",
       "    .dataframe tbody tr th:only-of-type {\n",
       "        vertical-align: middle;\n",
       "    }\n",
       "\n",
       "    .dataframe tbody tr th {\n",
       "        vertical-align: top;\n",
       "    }\n",
       "\n",
       "    .dataframe thead th {\n",
       "        text-align: right;\n",
       "    }\n",
       "</style>\n",
       "<table border=\"1\" class=\"dataframe\">\n",
       "  <thead>\n",
       "    <tr style=\"text-align: right;\">\n",
       "      <th></th>\n",
       "      <th>accuracy</th>\n",
       "      <th>precision</th>\n",
       "      <th>recall</th>\n",
       "      <th>f1</th>\n",
       "      <th>auc</th>\n",
       "      <th>log_loss</th>\n",
       "    </tr>\n",
       "  </thead>\n",
       "  <tbody>\n",
       "    <tr>\n",
       "      <th>mvp (tf-idf, nmf(5), xgboost)</th>\n",
       "      <td>0.631325</td>\n",
       "      <td>0.823529</td>\n",
       "      <td>0.001876</td>\n",
       "      <td>0.003743</td>\n",
       "      <td>0.571099</td>\n",
       "      <td>0.654121</td>\n",
       "    </tr>\n",
       "    <tr>\n",
       "      <th>mvp (+ lemma)</th>\n",
       "      <td>0.631466</td>\n",
       "      <td>0.819018</td>\n",
       "      <td>0.002385</td>\n",
       "      <td>0.004756</td>\n",
       "      <td>0.571259</td>\n",
       "      <td>0.654228</td>\n",
       "    </tr>\n",
       "  </tbody>\n",
       "</table>\n",
       "</div>"
      ],
      "text/plain": [
       "                               accuracy  precision    recall        f1  \\\n",
       "mvp (tf-idf, nmf(5), xgboost)  0.631325   0.823529  0.001876  0.003743   \n",
       "mvp (+ lemma)                  0.631466   0.819018  0.002385  0.004756   \n",
       "\n",
       "                                    auc  log_loss  \n",
       "mvp (tf-idf, nmf(5), xgboost)  0.571099  0.654121  \n",
       "mvp (+ lemma)                  0.571259  0.654228  "
      ]
     },
     "execution_count": 6,
     "metadata": {},
     "output_type": "execute_result"
    }
   ],
   "source": [
    "# this takes a long time, related to the lemmatization process\n",
    "results_df = results_df.drop(index='mvp (+ lemma)', errors='ignore')\n",
    "results_df = results_df.append(utils.log_scores(pipe, X_train_lemma, y_train, 'mvp (+ lemma)'))\n",
    "results_df"
   ]
  },
  {
   "cell_type": "markdown",
   "metadata": {},
   "source": [
    "Very similar results compared to the MVP. Need to analyze the pairs which are difficult to classify and determine the next steps."
   ]
  },
  {
   "cell_type": "code",
   "execution_count": 7,
   "metadata": {
    "ExecuteTime": {
     "end_time": "2018-11-26T23:01:22.743305Z",
     "start_time": "2018-11-26T23:01:20.631405Z"
    }
   },
   "outputs": [],
   "source": [
    "utils.save(results_df, 'results')\n",
    "utils.save(pipe, 'mvp_lemma_model')"
   ]
  }
 ],
 "metadata": {
  "kernelspec": {
   "display_name": "Python [conda env:project5]",
   "language": "python",
   "name": "conda-env-project5-py"
  },
  "language_info": {
   "codemirror_mode": {
    "name": "ipython",
    "version": 3
   },
   "file_extension": ".py",
   "mimetype": "text/x-python",
   "name": "python",
   "nbconvert_exporter": "python",
   "pygments_lexer": "ipython3",
   "version": "3.7.1"
  }
 },
 "nbformat": 4,
 "nbformat_minor": 2
}
