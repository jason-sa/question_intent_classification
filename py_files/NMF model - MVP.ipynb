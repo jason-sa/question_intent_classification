{
 "cells": [
  {
   "cell_type": "code",
   "execution_count": 95,
   "metadata": {
    "ExecuteTime": {
     "end_time": "2018-11-22T05:14:37.797011Z",
     "start_time": "2018-11-22T05:14:37.342963Z"
    }
   },
   "outputs": [],
   "source": [
    "from utils import save, load\n",
    "import pandas as pd\n",
    "\n",
    "from sklearn.feature_extraction.text import TfidfVectorizer\n",
    "from sklearn.decomposition import NMF\n",
    "from sklearn.pipeline import Pipeline\n",
    "from sklearn.model_selection import train_test_split\n",
    "\n",
    "from sklearn.metrics.pairwise import cosine_similarity\n",
    "\n",
    "import matplotlib.pyplot as plt\n",
    "\n",
    "%matplotlib inline"
   ]
  },
  {
   "cell_type": "code",
   "execution_count": 17,
   "metadata": {
    "ExecuteTime": {
     "end_time": "2018-11-21T22:42:53.987894Z",
     "start_time": "2018-11-21T22:42:53.654366Z"
    }
   },
   "outputs": [
    {
     "data": {
      "text/html": [
       "<div>\n",
       "<style scoped>\n",
       "    .dataframe tbody tr th:only-of-type {\n",
       "        vertical-align: middle;\n",
       "    }\n",
       "\n",
       "    .dataframe tbody tr th {\n",
       "        vertical-align: top;\n",
       "    }\n",
       "\n",
       "    .dataframe thead th {\n",
       "        text-align: right;\n",
       "    }\n",
       "</style>\n",
       "<table border=\"1\" class=\"dataframe\">\n",
       "  <thead>\n",
       "    <tr style=\"text-align: right;\">\n",
       "      <th></th>\n",
       "      <th>id</th>\n",
       "      <th>qid1</th>\n",
       "      <th>qid2</th>\n",
       "      <th>question1</th>\n",
       "      <th>question2</th>\n",
       "      <th>is_duplicate</th>\n",
       "      <th>q1_len</th>\n",
       "      <th>q2_len</th>\n",
       "    </tr>\n",
       "  </thead>\n",
       "  <tbody>\n",
       "    <tr>\n",
       "      <th>0</th>\n",
       "      <td>0</td>\n",
       "      <td>1</td>\n",
       "      <td>2</td>\n",
       "      <td>What is the step by step guide to invest in sh...</td>\n",
       "      <td>What is the step by step guide to invest in sh...</td>\n",
       "      <td>0</td>\n",
       "      <td>66.0</td>\n",
       "      <td>57.0</td>\n",
       "    </tr>\n",
       "    <tr>\n",
       "      <th>1</th>\n",
       "      <td>1</td>\n",
       "      <td>3</td>\n",
       "      <td>4</td>\n",
       "      <td>What is the story of Kohinoor (Koh-i-Noor) Dia...</td>\n",
       "      <td>What would happen if the Indian government sto...</td>\n",
       "      <td>0</td>\n",
       "      <td>51.0</td>\n",
       "      <td>88.0</td>\n",
       "    </tr>\n",
       "    <tr>\n",
       "      <th>2</th>\n",
       "      <td>2</td>\n",
       "      <td>5</td>\n",
       "      <td>6</td>\n",
       "      <td>How can I increase the speed of my internet co...</td>\n",
       "      <td>How can Internet speed be increased by hacking...</td>\n",
       "      <td>0</td>\n",
       "      <td>73.0</td>\n",
       "      <td>59.0</td>\n",
       "    </tr>\n",
       "    <tr>\n",
       "      <th>3</th>\n",
       "      <td>3</td>\n",
       "      <td>7</td>\n",
       "      <td>8</td>\n",
       "      <td>Why am I mentally very lonely? How can I solve...</td>\n",
       "      <td>Find the remainder when [math]23^{24}[/math] i...</td>\n",
       "      <td>0</td>\n",
       "      <td>50.0</td>\n",
       "      <td>65.0</td>\n",
       "    </tr>\n",
       "    <tr>\n",
       "      <th>4</th>\n",
       "      <td>4</td>\n",
       "      <td>9</td>\n",
       "      <td>10</td>\n",
       "      <td>Which one dissolve in water quikly sugar, salt...</td>\n",
       "      <td>Which fish would survive in salt water?</td>\n",
       "      <td>0</td>\n",
       "      <td>76.0</td>\n",
       "      <td>39.0</td>\n",
       "    </tr>\n",
       "  </tbody>\n",
       "</table>\n",
       "</div>"
      ],
      "text/plain": [
       "   id  qid1  qid2                                          question1  \\\n",
       "0   0     1     2  What is the step by step guide to invest in sh...   \n",
       "1   1     3     4  What is the story of Kohinoor (Koh-i-Noor) Dia...   \n",
       "2   2     5     6  How can I increase the speed of my internet co...   \n",
       "3   3     7     8  Why am I mentally very lonely? How can I solve...   \n",
       "4   4     9    10  Which one dissolve in water quikly sugar, salt...   \n",
       "\n",
       "                                           question2  is_duplicate  q1_len  \\\n",
       "0  What is the step by step guide to invest in sh...             0    66.0   \n",
       "1  What would happen if the Indian government sto...             0    51.0   \n",
       "2  How can Internet speed be increased by hacking...             0    73.0   \n",
       "3  Find the remainder when [math]23^{24}[/math] i...             0    50.0   \n",
       "4            Which fish would survive in salt water?             0    76.0   \n",
       "\n",
       "   q2_len  \n",
       "0    57.0  \n",
       "1    88.0  \n",
       "2    59.0  \n",
       "3    65.0  \n",
       "4    39.0  "
      ]
     },
     "execution_count": 17,
     "metadata": {},
     "output_type": "execute_result"
    }
   ],
   "source": [
    "train_df = load('train')\n",
    "train_df.head()"
   ]
  },
  {
   "cell_type": "markdown",
   "metadata": {},
   "source": [
    "Let's make a stack of questions maintaining the `id` of the question pair."
   ]
  },
  {
   "cell_type": "code",
   "execution_count": 60,
   "metadata": {
    "ExecuteTime": {
     "end_time": "2018-11-22T04:43:47.594367Z",
     "start_time": "2018-11-22T04:43:46.857697Z"
    }
   },
   "outputs": [
    {
     "data": {
      "text/html": [
       "<div>\n",
       "<style scoped>\n",
       "    .dataframe tbody tr th:only-of-type {\n",
       "        vertical-align: middle;\n",
       "    }\n",
       "\n",
       "    .dataframe tbody tr th {\n",
       "        vertical-align: top;\n",
       "    }\n",
       "\n",
       "    .dataframe thead th {\n",
       "        text-align: right;\n",
       "    }\n",
       "</style>\n",
       "<table border=\"1\" class=\"dataframe\">\n",
       "  <thead>\n",
       "    <tr style=\"text-align: right;\">\n",
       "      <th></th>\n",
       "      <th>id</th>\n",
       "      <th>question1</th>\n",
       "    </tr>\n",
       "  </thead>\n",
       "  <tbody>\n",
       "    <tr>\n",
       "      <th>0</th>\n",
       "      <td>0</td>\n",
       "      <td>What is the step by step guide to invest in sh...</td>\n",
       "    </tr>\n",
       "    <tr>\n",
       "      <th>0</th>\n",
       "      <td>0</td>\n",
       "      <td>What is the step by step guide to invest in sh...</td>\n",
       "    </tr>\n",
       "    <tr>\n",
       "      <th>1</th>\n",
       "      <td>1</td>\n",
       "      <td>What is the story of Kohinoor (Koh-i-Noor) Dia...</td>\n",
       "    </tr>\n",
       "    <tr>\n",
       "      <th>1</th>\n",
       "      <td>1</td>\n",
       "      <td>What would happen if the Indian government sto...</td>\n",
       "    </tr>\n",
       "    <tr>\n",
       "      <th>2</th>\n",
       "      <td>2</td>\n",
       "      <td>How can I increase the speed of my internet co...</td>\n",
       "    </tr>\n",
       "    <tr>\n",
       "      <th>2</th>\n",
       "      <td>2</td>\n",
       "      <td>How can Internet speed be increased by hacking...</td>\n",
       "    </tr>\n",
       "  </tbody>\n",
       "</table>\n",
       "</div>"
      ],
      "text/plain": [
       "   id                                          question1\n",
       "0   0  What is the step by step guide to invest in sh...\n",
       "0   0  What is the step by step guide to invest in sh...\n",
       "1   1  What is the story of Kohinoor (Koh-i-Noor) Dia...\n",
       "1   1  What would happen if the Indian government sto...\n",
       "2   2  How can I increase the speed of my internet co...\n",
       "2   2  How can Internet speed be increased by hacking..."
      ]
     },
     "execution_count": 60,
     "metadata": {},
     "output_type": "execute_result"
    }
   ],
   "source": [
    "question_df = train_df.loc[:, ['id', 'question1']]\n",
    "question_df = question_df.append(train_df.loc[:,['id', 'question2']], sort=False)\n",
    "question_df.loc[question_df['question1'].isna(), 'question1'] = question_df.loc[question_df['question1'].isna(), 'question2']\n",
    "question_df = question_df.drop(columns='question2')\n",
    "question_df = question_df.dropna()\n",
    "question_df = question_df.sort_values('id')\n",
    "question_df.head(6)"
   ]
  },
  {
   "cell_type": "markdown",
   "metadata": {
    "ExecuteTime": {
     "end_time": "2018-11-21T22:46:03.048259Z",
     "start_time": "2018-11-21T22:46:02.818590Z"
    }
   },
   "source": [
    "Let's now calcualte the tf-idf term matrix."
   ]
  },
  {
   "cell_type": "code",
   "execution_count": 61,
   "metadata": {
    "ExecuteTime": {
     "end_time": "2018-11-22T04:44:01.672788Z",
     "start_time": "2018-11-22T04:43:50.882432Z"
    }
   },
   "outputs": [],
   "source": [
    "tf = TfidfVectorizer()\n",
    "\n",
    "question_tf = tf.fit_transform(question_df['question1'])"
   ]
  },
  {
   "cell_type": "code",
   "execution_count": 62,
   "metadata": {
    "ExecuteTime": {
     "end_time": "2018-11-22T04:44:01.807876Z",
     "start_time": "2018-11-22T04:44:01.675560Z"
    }
   },
   "outputs": [
    {
     "data": {
      "text/plain": [
       "['00',\n",
       " '000',\n",
       " '0000',\n",
       " '000000',\n",
       " '00000000',\n",
       " '0000000000',\n",
       " '0000001',\n",
       " '00000074',\n",
       " '0000021210',\n",
       " '00001']"
      ]
     },
     "execution_count": 62,
     "metadata": {},
     "output_type": "execute_result"
    }
   ],
   "source": [
    "# first 10 terms\n",
    "tf.get_feature_names()[:10]"
   ]
  },
  {
   "cell_type": "code",
   "execution_count": 63,
   "metadata": {
    "ExecuteTime": {
     "end_time": "2018-11-22T04:44:02.005772Z",
     "start_time": "2018-11-22T04:44:01.810242Z"
    }
   },
   "outputs": [
    {
     "data": {
      "text/plain": [
       "['분위기', '불타오르네', '슬마', '심하잖아', '이정현', '친구해도', '쾌지나칭칭나네', '하지만', '한글', 'ﬁnd']"
      ]
     },
     "execution_count": 63,
     "metadata": {},
     "output_type": "execute_result"
    }
   ],
   "source": [
    "# last 10 terms\n",
    "tf.get_feature_names()[-10:]"
   ]
  },
  {
   "cell_type": "code",
   "execution_count": 64,
   "metadata": {
    "ExecuteTime": {
     "end_time": "2018-11-22T04:44:02.224053Z",
     "start_time": "2018-11-22T04:44:02.008824Z"
    }
   },
   "outputs": [
    {
     "data": {
      "text/plain": [
       "86150"
      ]
     },
     "execution_count": 64,
     "metadata": {},
     "output_type": "execute_result"
    }
   ],
   "source": [
    "# total terms\n",
    "len(tf.get_feature_names())"
   ]
  },
  {
   "cell_type": "markdown",
   "metadata": {},
   "source": [
    "Lots of words, but some cleanup will probably needed given the numbers, and what appears to be Korean characters.\n",
    "\n",
    "Let's now transform the 86,150 into a 100 dimension matrix with NMF"
   ]
  },
  {
   "cell_type": "code",
   "execution_count": 65,
   "metadata": {
    "ExecuteTime": {
     "end_time": "2018-11-22T04:45:22.318891Z",
     "start_time": "2018-11-22T04:44:07.254984Z"
    }
   },
   "outputs": [
    {
     "name": "stdout",
     "output_type": "stream",
     "text": [
      "violation: 1.0\n",
      "violation: 0.42240262588085903\n",
      "violation: 0.2942718246718631\n",
      "violation: 0.18655910085084124\n",
      "violation: 0.121261883550437\n",
      "violation: 0.08672423561452133\n",
      "violation: 0.06656799204998462\n",
      "violation: 0.05224402001840111\n",
      "violation: 0.04329858747112655\n",
      "violation: 0.038354657038831036\n",
      "violation: 0.03459003451153603\n",
      "violation: 0.03093199367926663\n",
      "violation: 0.027424938643366523\n",
      "violation: 0.02393247256721756\n",
      "violation: 0.020735893458415356\n",
      "violation: 0.017867243888563512\n",
      "violation: 0.015303153865422267\n",
      "violation: 0.013048250047164077\n",
      "violation: 0.01114851742822003\n",
      "violation: 0.009531273696985133\n",
      "violation: 0.008148825471230513\n",
      "violation: 0.006864251207376008\n",
      "violation: 0.005807410586736534\n",
      "violation: 0.004930069573083649\n",
      "violation: 0.004114396356012972\n",
      "violation: 0.0034272332686147468\n",
      "violation: 0.0028983928271391762\n",
      "violation: 0.002468711188727635\n",
      "violation: 0.0021079392028253963\n",
      "violation: 0.0018044447823109626\n",
      "violation: 0.0015482621364678554\n",
      "violation: 0.00133086320705158\n",
      "violation: 0.0011456516031320306\n",
      "violation: 0.0009863683095154975\n",
      "violation: 0.0008516010874594381\n",
      "violation: 0.0007362774990313508\n",
      "violation: 0.0006375226668211237\n",
      "violation: 0.0005528737717785659\n",
      "violation: 0.0004802036784515048\n",
      "violation: 0.0004177165408918162\n",
      "violation: 0.0003639142752732975\n",
      "violation: 0.00031661237525504765\n",
      "violation: 0.00027588995787865414\n",
      "violation: 0.00024092652268133236\n",
      "violation: 0.00021077921149450184\n",
      "violation: 0.0001847238086750267\n",
      "violation: 0.00016216480184658857\n",
      "violation: 0.00014259897429257795\n",
      "violation: 0.00012560156182098517\n",
      "violation: 0.00011081967060477512\n",
      "violation: 9.793889549805471e-05\n",
      "Converged at iteration 51\n"
     ]
    }
   ],
   "source": [
    "nmf = NMF(n_components=20, verbose=True)\n",
    "\n",
    "question_nmf = nmf.fit_transform(question_tf)"
   ]
  },
  {
   "cell_type": "code",
   "execution_count": 66,
   "metadata": {
    "ExecuteTime": {
     "end_time": "2018-11-22T04:45:22.331796Z",
     "start_time": "2018-11-22T04:45:22.323127Z"
    }
   },
   "outputs": [],
   "source": [
    "def print_top_words(model, feature_names, n_top_words):\n",
    "    for topic_idx, topic in enumerate(model.components_):\n",
    "        message = f\"Topic #{topic_idx}: \"\n",
    "        message += \" \".join([feature_names[i]\n",
    "                             for i in topic.argsort()[:-n_top_words - 1:-1]])\n",
    "        print(message)\n",
    "    print()"
   ]
  },
  {
   "cell_type": "code",
   "execution_count": 67,
   "metadata": {
    "ExecuteTime": {
     "end_time": "2018-11-22T04:45:22.602210Z",
     "start_time": "2018-11-22T04:45:22.336951Z"
    }
   },
   "outputs": [
    {
     "name": "stdout",
     "output_type": "stream",
     "text": [
      "Topic #0: of the what meaning most world all was life rid\n",
      "Topic #1: do how get people become with think start from find\n",
      "Topic #2: are some what ways good examples that about things books\n",
      "Topic #3: you have if ever would think when thing that know\n",
      "Topic #4: to way learn want ways get need from lose weight\n",
      "Topic #5: it like be possible feel an at to with that\n",
      "Topic #6: why people so not we do did don many and\n",
      "Topic #7: in india the world there engineering where life job which\n",
      "Topic #8: can how get where we find one learn be become\n",
      "Topic #9: is what the way thing there or most better an\n",
      "Topic #10: and between difference the 500 notes 1000 what differences rupee\n",
      "Topic #11: my improve english account skills me password if gmail increase\n",
      "Topic #12: for prepare good year 2017 exam an free book engineering\n",
      "Topic #13: on quora questions question ask answer answers google asked delete\n",
      "Topic #14: does mean how work what have feel much one long\n",
      "Topic #15: money make online earn from ways how 1000 notes 500\n",
      "Topic #16: your life favorite what was review year 2017 new favourite\n",
      "Topic #17: best the which way under book movies ever laptop are\n",
      "Topic #18: trump will be donald who clinton president would win if\n",
      "Topic #19: should know first at day things new one what or\n",
      "\n"
     ]
    }
   ],
   "source": [
    "print_top_words(nmf, tf.get_feature_names(), 10)"
   ]
  },
  {
   "cell_type": "markdown",
   "metadata": {},
   "source": [
    "We now have mapped the term matrix into a 20 topic space. Let's now calculate the `cosine_similarity` between each pair of questions. The goal is to determine if `cosine_similarity` will indicate whether or not the pair of questions have the same intent."
   ]
  },
  {
   "cell_type": "code",
   "execution_count": 74,
   "metadata": {
    "ExecuteTime": {
     "end_time": "2018-11-22T04:55:41.217560Z",
     "start_time": "2018-11-22T04:55:41.034951Z"
    }
   },
   "outputs": [
    {
     "data": {
      "text/plain": [
       "404267"
      ]
     },
     "execution_count": 74,
     "metadata": {},
     "output_type": "execute_result"
    }
   ],
   "source": [
    "odd_idx = [i for i in range(question_nmf.shape[0]) if i % 2 == 1]\n",
    "even_idx = [i for i in range(question_nmf.shape[0]) if i % 2 == 0]\n",
    "len(odd_idx)"
   ]
  },
  {
   "cell_type": "code",
   "execution_count": 85,
   "metadata": {
    "ExecuteTime": {
     "end_time": "2018-11-22T05:00:49.915562Z",
     "start_time": "2018-11-22T04:59:36.387069Z"
    }
   },
   "outputs": [
    {
     "data": {
      "text/plain": [
       "[0.90378566222836,\n",
       " 0.3807641162406918,\n",
       " 0.5020035439261036,\n",
       " 0.17318937545084193,\n",
       " 0.6538234746746348,\n",
       " 0.9131094031253592,\n",
       " 0.016503444580548966,\n",
       " 0.15402678346824233,\n",
       " 0.8575985480199524,\n",
       " 0.03296844155586009]"
      ]
     },
     "execution_count": 85,
     "metadata": {},
     "output_type": "execute_result"
    }
   ],
   "source": [
    "# takes a long time...probably a better way to do this calculation\n",
    "sim_list = []\n",
    "for i in range(len(odd_idx)):\n",
    "    q1 = question_nmf[odd_idx[i]].reshape(1,-1)\n",
    "    q2 = question_nmf[even_idx[i]].reshape(1,-1)\n",
    "    sim = cosine_similarity(q1, q2)\n",
    "    sim_list.append(sim[0, 0])\n",
    "sim_list[:10]"
   ]
  },
  {
   "cell_type": "code",
   "execution_count": 87,
   "metadata": {
    "ExecuteTime": {
     "end_time": "2018-11-22T05:04:21.962702Z",
     "start_time": "2018-11-22T05:04:21.592023Z"
    }
   },
   "outputs": [
    {
     "data": {
      "text/html": [
       "<div>\n",
       "<style scoped>\n",
       "    .dataframe tbody tr th:only-of-type {\n",
       "        vertical-align: middle;\n",
       "    }\n",
       "\n",
       "    .dataframe tbody tr th {\n",
       "        vertical-align: top;\n",
       "    }\n",
       "\n",
       "    .dataframe thead th {\n",
       "        text-align: right;\n",
       "    }\n",
       "</style>\n",
       "<table border=\"1\" class=\"dataframe\">\n",
       "  <thead>\n",
       "    <tr style=\"text-align: right;\">\n",
       "      <th></th>\n",
       "      <th>id</th>\n",
       "      <th>qid1</th>\n",
       "      <th>qid2</th>\n",
       "      <th>question1</th>\n",
       "      <th>question2</th>\n",
       "      <th>is_duplicate</th>\n",
       "      <th>q1_len</th>\n",
       "      <th>q2_len</th>\n",
       "      <th>cosine_similarity</th>\n",
       "    </tr>\n",
       "  </thead>\n",
       "  <tbody>\n",
       "    <tr>\n",
       "      <th>0</th>\n",
       "      <td>0.0</td>\n",
       "      <td>1.0</td>\n",
       "      <td>2.0</td>\n",
       "      <td>What is the step by step guide to invest in sh...</td>\n",
       "      <td>What is the step by step guide to invest in sh...</td>\n",
       "      <td>0.0</td>\n",
       "      <td>66.0</td>\n",
       "      <td>57.0</td>\n",
       "      <td>0.903786</td>\n",
       "    </tr>\n",
       "    <tr>\n",
       "      <th>1</th>\n",
       "      <td>1.0</td>\n",
       "      <td>3.0</td>\n",
       "      <td>4.0</td>\n",
       "      <td>What is the story of Kohinoor (Koh-i-Noor) Dia...</td>\n",
       "      <td>What would happen if the Indian government sto...</td>\n",
       "      <td>0.0</td>\n",
       "      <td>51.0</td>\n",
       "      <td>88.0</td>\n",
       "      <td>0.380764</td>\n",
       "    </tr>\n",
       "    <tr>\n",
       "      <th>2</th>\n",
       "      <td>2.0</td>\n",
       "      <td>5.0</td>\n",
       "      <td>6.0</td>\n",
       "      <td>How can I increase the speed of my internet co...</td>\n",
       "      <td>How can Internet speed be increased by hacking...</td>\n",
       "      <td>0.0</td>\n",
       "      <td>73.0</td>\n",
       "      <td>59.0</td>\n",
       "      <td>0.502004</td>\n",
       "    </tr>\n",
       "    <tr>\n",
       "      <th>3</th>\n",
       "      <td>3.0</td>\n",
       "      <td>7.0</td>\n",
       "      <td>8.0</td>\n",
       "      <td>Why am I mentally very lonely? How can I solve...</td>\n",
       "      <td>Find the remainder when [math]23^{24}[/math] i...</td>\n",
       "      <td>0.0</td>\n",
       "      <td>50.0</td>\n",
       "      <td>65.0</td>\n",
       "      <td>0.173189</td>\n",
       "    </tr>\n",
       "    <tr>\n",
       "      <th>4</th>\n",
       "      <td>4.0</td>\n",
       "      <td>9.0</td>\n",
       "      <td>10.0</td>\n",
       "      <td>Which one dissolve in water quikly sugar, salt...</td>\n",
       "      <td>Which fish would survive in salt water?</td>\n",
       "      <td>0.0</td>\n",
       "      <td>76.0</td>\n",
       "      <td>39.0</td>\n",
       "      <td>0.653823</td>\n",
       "    </tr>\n",
       "  </tbody>\n",
       "</table>\n",
       "</div>"
      ],
      "text/plain": [
       "    id  qid1  qid2                                          question1  \\\n",
       "0  0.0   1.0   2.0  What is the step by step guide to invest in sh...   \n",
       "1  1.0   3.0   4.0  What is the story of Kohinoor (Koh-i-Noor) Dia...   \n",
       "2  2.0   5.0   6.0  How can I increase the speed of my internet co...   \n",
       "3  3.0   7.0   8.0  Why am I mentally very lonely? How can I solve...   \n",
       "4  4.0   9.0  10.0  Which one dissolve in water quikly sugar, salt...   \n",
       "\n",
       "                                           question2  is_duplicate  q1_len  \\\n",
       "0  What is the step by step guide to invest in sh...           0.0    66.0   \n",
       "1  What would happen if the Indian government sto...           0.0    51.0   \n",
       "2  How can Internet speed be increased by hacking...           0.0    73.0   \n",
       "3  Find the remainder when [math]23^{24}[/math] i...           0.0    50.0   \n",
       "4            Which fish would survive in salt water?           0.0    76.0   \n",
       "\n",
       "   q2_len  cosine_similarity  \n",
       "0    57.0           0.903786  \n",
       "1    88.0           0.380764  \n",
       "2    59.0           0.502004  \n",
       "3    65.0           0.173189  \n",
       "4    39.0           0.653823  "
      ]
     },
     "execution_count": 87,
     "metadata": {},
     "output_type": "execute_result"
    }
   ],
   "source": [
    "train_df_cosine = pd.concat([train_df, pd.Series(sim_list)], axis=1)\n",
    "train_df_cosine = train_df_cosine.rename(columns={0:'cosine_similarity'})\n",
    "train_df_cosine.head()"
   ]
  },
  {
   "cell_type": "markdown",
   "metadata": {},
   "source": [
    "Let's look at the first pair. The cosine similarity is very high, but has identified as not the same intent."
   ]
  },
  {
   "cell_type": "code",
   "execution_count": 94,
   "metadata": {
    "ExecuteTime": {
     "end_time": "2018-11-22T05:08:27.045186Z",
     "start_time": "2018-11-22T05:08:27.039867Z"
    }
   },
   "outputs": [
    {
     "name": "stdout",
     "output_type": "stream",
     "text": [
      "['What is the step by step guide to invest in share market in india?']\n",
      "['What is the step by step guide to invest in share market?']\n"
     ]
    }
   ],
   "source": [
    "print(train_df_cosine.loc[:, 'question1'].head(1).values)\n",
    "print(train_df_cosine.loc[:, 'question2'].head(1).values)"
   ]
  },
  {
   "cell_type": "markdown",
   "metadata": {},
   "source": [
    "Ah! These two questions are exactly the same except for the last two words. Maybe this is an outlier. Let's plot the similarity distribution for each class."
   ]
  },
  {
   "cell_type": "code",
   "execution_count": 101,
   "metadata": {
    "ExecuteTime": {
     "end_time": "2018-11-22T05:16:03.713075Z",
     "start_time": "2018-11-22T05:16:03.698236Z"
    }
   },
   "outputs": [
    {
     "data": {
      "text/html": [
       "<div>\n",
       "<style scoped>\n",
       "    .dataframe tbody tr th:only-of-type {\n",
       "        vertical-align: middle;\n",
       "    }\n",
       "\n",
       "    .dataframe tbody tr th {\n",
       "        vertical-align: top;\n",
       "    }\n",
       "\n",
       "    .dataframe thead th {\n",
       "        text-align: right;\n",
       "    }\n",
       "</style>\n",
       "<table border=\"1\" class=\"dataframe\">\n",
       "  <thead>\n",
       "    <tr style=\"text-align: right;\">\n",
       "      <th></th>\n",
       "      <th>id</th>\n",
       "      <th>qid1</th>\n",
       "      <th>qid2</th>\n",
       "      <th>question1</th>\n",
       "      <th>question2</th>\n",
       "      <th>is_duplicate</th>\n",
       "      <th>q1_len</th>\n",
       "      <th>q2_len</th>\n",
       "      <th>cosine_similarity</th>\n",
       "    </tr>\n",
       "  </thead>\n",
       "  <tbody>\n",
       "    <tr>\n",
       "      <th>404285</th>\n",
       "      <td>404285.0</td>\n",
       "      <td>433578.0</td>\n",
       "      <td>379845.0</td>\n",
       "      <td>How many keywords are there in the Racket prog...</td>\n",
       "      <td>How many keywords are there in PERL Programmin...</td>\n",
       "      <td>0.0</td>\n",
       "      <td>85.0</td>\n",
       "      <td>79.0</td>\n",
       "      <td>NaN</td>\n",
       "    </tr>\n",
       "    <tr>\n",
       "      <th>404286</th>\n",
       "      <td>404286.0</td>\n",
       "      <td>18840.0</td>\n",
       "      <td>155606.0</td>\n",
       "      <td>Do you believe there is life after death?</td>\n",
       "      <td>Is it true that there is life after death?</td>\n",
       "      <td>1.0</td>\n",
       "      <td>41.0</td>\n",
       "      <td>42.0</td>\n",
       "      <td>NaN</td>\n",
       "    </tr>\n",
       "    <tr>\n",
       "      <th>404287</th>\n",
       "      <td>404287.0</td>\n",
       "      <td>537928.0</td>\n",
       "      <td>537929.0</td>\n",
       "      <td>What is one coin?</td>\n",
       "      <td>What's this coin?</td>\n",
       "      <td>0.0</td>\n",
       "      <td>17.0</td>\n",
       "      <td>17.0</td>\n",
       "      <td>NaN</td>\n",
       "    </tr>\n",
       "    <tr>\n",
       "      <th>404288</th>\n",
       "      <td>404288.0</td>\n",
       "      <td>537930.0</td>\n",
       "      <td>537931.0</td>\n",
       "      <td>What is the approx annual cost of living while...</td>\n",
       "      <td>I am having little hairfall problem but I want...</td>\n",
       "      <td>0.0</td>\n",
       "      <td>94.0</td>\n",
       "      <td>127.0</td>\n",
       "      <td>NaN</td>\n",
       "    </tr>\n",
       "    <tr>\n",
       "      <th>404289</th>\n",
       "      <td>404289.0</td>\n",
       "      <td>537932.0</td>\n",
       "      <td>537933.0</td>\n",
       "      <td>What is like to have sex with cousin?</td>\n",
       "      <td>What is it like to have sex with your cousin?</td>\n",
       "      <td>0.0</td>\n",
       "      <td>37.0</td>\n",
       "      <td>45.0</td>\n",
       "      <td>NaN</td>\n",
       "    </tr>\n",
       "  </tbody>\n",
       "</table>\n",
       "</div>"
      ],
      "text/plain": [
       "              id      qid1      qid2  \\\n",
       "404285  404285.0  433578.0  379845.0   \n",
       "404286  404286.0   18840.0  155606.0   \n",
       "404287  404287.0  537928.0  537929.0   \n",
       "404288  404288.0  537930.0  537931.0   \n",
       "404289  404289.0  537932.0  537933.0   \n",
       "\n",
       "                                                question1  \\\n",
       "404285  How many keywords are there in the Racket prog...   \n",
       "404286          Do you believe there is life after death?   \n",
       "404287                                  What is one coin?   \n",
       "404288  What is the approx annual cost of living while...   \n",
       "404289              What is like to have sex with cousin?   \n",
       "\n",
       "                                                question2  is_duplicate  \\\n",
       "404285  How many keywords are there in PERL Programmin...           0.0   \n",
       "404286         Is it true that there is life after death?           1.0   \n",
       "404287                                  What's this coin?           0.0   \n",
       "404288  I am having little hairfall problem but I want...           0.0   \n",
       "404289      What is it like to have sex with your cousin?           0.0   \n",
       "\n",
       "        q1_len  q2_len  cosine_similarity  \n",
       "404285    85.0    79.0                NaN  \n",
       "404286    41.0    42.0                NaN  \n",
       "404287    17.0    17.0                NaN  \n",
       "404288    94.0   127.0                NaN  \n",
       "404289    37.0    45.0                NaN  "
      ]
     },
     "execution_count": 101,
     "metadata": {},
     "output_type": "execute_result"
    }
   ],
   "source": [
    "train_df_cosine.tail() # I messed something up"
   ]
  },
  {
   "cell_type": "code",
   "execution_count": null,
   "metadata": {},
   "outputs": [],
   "source": []
  }
 ],
 "metadata": {
  "kernelspec": {
   "display_name": "Python 3",
   "language": "python",
   "name": "python3"
  },
  "language_info": {
   "codemirror_mode": {
    "name": "ipython",
    "version": 3
   },
   "file_extension": ".py",
   "mimetype": "text/x-python",
   "name": "python",
   "nbconvert_exporter": "python",
   "pygments_lexer": "ipython3",
   "version": "3.6.5"
  }
 },
 "nbformat": 4,
 "nbformat_minor": 2
}
