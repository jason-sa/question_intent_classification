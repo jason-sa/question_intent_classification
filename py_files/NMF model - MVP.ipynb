{
 "cells": [
  {
   "cell_type": "code",
   "execution_count": 3,
   "metadata": {
    "ExecuteTime": {
     "end_time": "2018-11-22T14:34:23.838611Z",
     "start_time": "2018-11-22T14:34:23.744144Z"
    }
   },
   "outputs": [],
   "source": [
    "# data manipulation\n",
    "from utils import save, load\n",
    "import pandas as pd\n",
    "\n",
    "# modeling\n",
    "from sklearn.feature_extraction.text import TfidfVectorizer\n",
    "from sklearn.decomposition import NMF\n",
    "from sklearn.pipeline import Pipeline\n",
    "from sklearn.model_selection import train_test_split\n",
    "\n",
    "from sklearn.metrics.pairwise import cosine_similarity\n",
    "\n",
    "# visualization\n",
    "import matplotlib.pyplot as plt\n",
    "import seaborn as sns\n",
    "\n",
    "%matplotlib inline"
   ]
  },
  {
   "cell_type": "code",
   "execution_count": 22,
   "metadata": {
    "ExecuteTime": {
     "end_time": "2018-11-22T14:08:36.341670Z",
     "start_time": "2018-11-22T14:08:35.986586Z"
    }
   },
   "outputs": [
    {
     "data": {
      "text/html": [
       "<div>\n",
       "<style scoped>\n",
       "    .dataframe tbody tr th:only-of-type {\n",
       "        vertical-align: middle;\n",
       "    }\n",
       "\n",
       "    .dataframe tbody tr th {\n",
       "        vertical-align: top;\n",
       "    }\n",
       "\n",
       "    .dataframe thead th {\n",
       "        text-align: right;\n",
       "    }\n",
       "</style>\n",
       "<table border=\"1\" class=\"dataframe\">\n",
       "  <thead>\n",
       "    <tr style=\"text-align: right;\">\n",
       "      <th></th>\n",
       "      <th>id</th>\n",
       "      <th>qid1</th>\n",
       "      <th>qid2</th>\n",
       "      <th>question1</th>\n",
       "      <th>question2</th>\n",
       "      <th>is_duplicate</th>\n",
       "      <th>q1_len</th>\n",
       "      <th>q2_len</th>\n",
       "    </tr>\n",
       "  </thead>\n",
       "  <tbody>\n",
       "    <tr>\n",
       "      <th>0</th>\n",
       "      <td>0</td>\n",
       "      <td>1</td>\n",
       "      <td>2</td>\n",
       "      <td>What is the step by step guide to invest in sh...</td>\n",
       "      <td>What is the step by step guide to invest in sh...</td>\n",
       "      <td>0</td>\n",
       "      <td>66.0</td>\n",
       "      <td>57.0</td>\n",
       "    </tr>\n",
       "    <tr>\n",
       "      <th>1</th>\n",
       "      <td>1</td>\n",
       "      <td>3</td>\n",
       "      <td>4</td>\n",
       "      <td>What is the story of Kohinoor (Koh-i-Noor) Dia...</td>\n",
       "      <td>What would happen if the Indian government sto...</td>\n",
       "      <td>0</td>\n",
       "      <td>51.0</td>\n",
       "      <td>88.0</td>\n",
       "    </tr>\n",
       "    <tr>\n",
       "      <th>2</th>\n",
       "      <td>2</td>\n",
       "      <td>5</td>\n",
       "      <td>6</td>\n",
       "      <td>How can I increase the speed of my internet co...</td>\n",
       "      <td>How can Internet speed be increased by hacking...</td>\n",
       "      <td>0</td>\n",
       "      <td>73.0</td>\n",
       "      <td>59.0</td>\n",
       "    </tr>\n",
       "    <tr>\n",
       "      <th>3</th>\n",
       "      <td>3</td>\n",
       "      <td>7</td>\n",
       "      <td>8</td>\n",
       "      <td>Why am I mentally very lonely? How can I solve...</td>\n",
       "      <td>Find the remainder when [math]23^{24}[/math] i...</td>\n",
       "      <td>0</td>\n",
       "      <td>50.0</td>\n",
       "      <td>65.0</td>\n",
       "    </tr>\n",
       "    <tr>\n",
       "      <th>4</th>\n",
       "      <td>4</td>\n",
       "      <td>9</td>\n",
       "      <td>10</td>\n",
       "      <td>Which one dissolve in water quikly sugar, salt...</td>\n",
       "      <td>Which fish would survive in salt water?</td>\n",
       "      <td>0</td>\n",
       "      <td>76.0</td>\n",
       "      <td>39.0</td>\n",
       "    </tr>\n",
       "  </tbody>\n",
       "</table>\n",
       "</div>"
      ],
      "text/plain": [
       "   id  qid1  qid2                                          question1  \\\n",
       "0   0     1     2  What is the step by step guide to invest in sh...   \n",
       "1   1     3     4  What is the story of Kohinoor (Koh-i-Noor) Dia...   \n",
       "2   2     5     6  How can I increase the speed of my internet co...   \n",
       "3   3     7     8  Why am I mentally very lonely? How can I solve...   \n",
       "4   4     9    10  Which one dissolve in water quikly sugar, salt...   \n",
       "\n",
       "                                           question2  is_duplicate  q1_len  \\\n",
       "0  What is the step by step guide to invest in sh...             0    66.0   \n",
       "1  What would happen if the Indian government sto...             0    51.0   \n",
       "2  How can Internet speed be increased by hacking...             0    73.0   \n",
       "3  Find the remainder when [math]23^{24}[/math] i...             0    50.0   \n",
       "4            Which fish would survive in salt water?             0    76.0   \n",
       "\n",
       "   q2_len  \n",
       "0    57.0  \n",
       "1    88.0  \n",
       "2    59.0  \n",
       "3    65.0  \n",
       "4    39.0  "
      ]
     },
     "execution_count": 22,
     "metadata": {},
     "output_type": "execute_result"
    }
   ],
   "source": [
    "train_df = load('train')\n",
    "train_df.head()"
   ]
  },
  {
   "cell_type": "markdown",
   "metadata": {},
   "source": [
    "Let's make a stack of questions maintaining the `id` of the question pair."
   ]
  },
  {
   "cell_type": "code",
   "execution_count": 23,
   "metadata": {
    "ExecuteTime": {
     "end_time": "2018-11-22T14:08:36.989706Z",
     "start_time": "2018-11-22T14:08:36.344666Z"
    }
   },
   "outputs": [
    {
     "data": {
      "text/html": [
       "<div>\n",
       "<style scoped>\n",
       "    .dataframe tbody tr th:only-of-type {\n",
       "        vertical-align: middle;\n",
       "    }\n",
       "\n",
       "    .dataframe tbody tr th {\n",
       "        vertical-align: top;\n",
       "    }\n",
       "\n",
       "    .dataframe thead th {\n",
       "        text-align: right;\n",
       "    }\n",
       "</style>\n",
       "<table border=\"1\" class=\"dataframe\">\n",
       "  <thead>\n",
       "    <tr style=\"text-align: right;\">\n",
       "      <th></th>\n",
       "      <th>id</th>\n",
       "      <th>question1</th>\n",
       "    </tr>\n",
       "  </thead>\n",
       "  <tbody>\n",
       "    <tr>\n",
       "      <th>0</th>\n",
       "      <td>0</td>\n",
       "      <td>What is the step by step guide to invest in sh...</td>\n",
       "    </tr>\n",
       "    <tr>\n",
       "      <th>0</th>\n",
       "      <td>0</td>\n",
       "      <td>What is the step by step guide to invest in sh...</td>\n",
       "    </tr>\n",
       "    <tr>\n",
       "      <th>1</th>\n",
       "      <td>1</td>\n",
       "      <td>What is the story of Kohinoor (Koh-i-Noor) Dia...</td>\n",
       "    </tr>\n",
       "    <tr>\n",
       "      <th>1</th>\n",
       "      <td>1</td>\n",
       "      <td>What would happen if the Indian government sto...</td>\n",
       "    </tr>\n",
       "    <tr>\n",
       "      <th>2</th>\n",
       "      <td>2</td>\n",
       "      <td>How can I increase the speed of my internet co...</td>\n",
       "    </tr>\n",
       "    <tr>\n",
       "      <th>2</th>\n",
       "      <td>2</td>\n",
       "      <td>How can Internet speed be increased by hacking...</td>\n",
       "    </tr>\n",
       "  </tbody>\n",
       "</table>\n",
       "</div>"
      ],
      "text/plain": [
       "   id                                          question1\n",
       "0   0  What is the step by step guide to invest in sh...\n",
       "0   0  What is the step by step guide to invest in sh...\n",
       "1   1  What is the story of Kohinoor (Koh-i-Noor) Dia...\n",
       "1   1  What would happen if the Indian government sto...\n",
       "2   2  How can I increase the speed of my internet co...\n",
       "2   2  How can Internet speed be increased by hacking..."
      ]
     },
     "execution_count": 23,
     "metadata": {},
     "output_type": "execute_result"
    }
   ],
   "source": [
    "question_df = train_df.loc[:, ['id', 'question1']]\n",
    "question_df = question_df.append(train_df.loc[:,['id', 'question2']], sort=False)\n",
    "question_df.loc[question_df['question1'].isna(), 'question1'] = question_df.loc[question_df['question1'].isna(), 'question2']\n",
    "question_df = question_df.drop(columns='question2')\n",
    "question_df = question_df.sort_values('id')\n",
    "question_df.head(6)"
   ]
  },
  {
   "cell_type": "markdown",
   "metadata": {
    "ExecuteTime": {
     "end_time": "2018-11-21T22:46:03.048259Z",
     "start_time": "2018-11-21T22:46:02.818590Z"
    }
   },
   "source": [
    "Let's now calcualte the tf-idf term matrix."
   ]
  },
  {
   "cell_type": "code",
   "execution_count": 24,
   "metadata": {
    "ExecuteTime": {
     "end_time": "2018-11-22T14:08:47.731215Z",
     "start_time": "2018-11-22T14:08:36.993327Z"
    }
   },
   "outputs": [],
   "source": [
    "tf = TfidfVectorizer()\n",
    "\n",
    "question_tf = tf.fit_transform(question_df['question1'])"
   ]
  },
  {
   "cell_type": "code",
   "execution_count": 25,
   "metadata": {
    "ExecuteTime": {
     "end_time": "2018-11-22T14:08:47.850140Z",
     "start_time": "2018-11-22T14:08:47.733690Z"
    }
   },
   "outputs": [
    {
     "data": {
      "text/plain": [
       "['00',\n",
       " '000',\n",
       " '0000',\n",
       " '000000',\n",
       " '00000000',\n",
       " '0000000000',\n",
       " '0000001',\n",
       " '00000074',\n",
       " '0000021210',\n",
       " '00001']"
      ]
     },
     "execution_count": 25,
     "metadata": {},
     "output_type": "execute_result"
    }
   ],
   "source": [
    "# first 10 terms\n",
    "tf.get_feature_names()[:10]"
   ]
  },
  {
   "cell_type": "code",
   "execution_count": 26,
   "metadata": {
    "ExecuteTime": {
     "end_time": "2018-11-22T14:08:48.017324Z",
     "start_time": "2018-11-22T14:08:47.853017Z"
    }
   },
   "outputs": [
    {
     "data": {
      "text/plain": [
       "['분위기', '불타오르네', '슬마', '심하잖아', '이정현', '친구해도', '쾌지나칭칭나네', '하지만', '한글', 'ﬁnd']"
      ]
     },
     "execution_count": 26,
     "metadata": {},
     "output_type": "execute_result"
    }
   ],
   "source": [
    "# last 10 terms\n",
    "tf.get_feature_names()[-10:]"
   ]
  },
  {
   "cell_type": "code",
   "execution_count": 27,
   "metadata": {
    "ExecuteTime": {
     "end_time": "2018-11-22T14:08:48.160658Z",
     "start_time": "2018-11-22T14:08:48.020209Z"
    }
   },
   "outputs": [
    {
     "data": {
      "text/plain": [
       "86149"
      ]
     },
     "execution_count": 27,
     "metadata": {},
     "output_type": "execute_result"
    }
   ],
   "source": [
    "# total terms\n",
    "len(tf.get_feature_names())"
   ]
  },
  {
   "cell_type": "markdown",
   "metadata": {},
   "source": [
    "Lots of words, but some cleanup will probably needed given the numbers, and what appears to be Korean characters.\n",
    "\n",
    "Let's now transform the 86,150 into a 20 dimension matrix with NMF"
   ]
  },
  {
   "cell_type": "code",
   "execution_count": 28,
   "metadata": {
    "ExecuteTime": {
     "end_time": "2018-11-22T14:10:02.686961Z",
     "start_time": "2018-11-22T14:08:48.163587Z"
    }
   },
   "outputs": [
    {
     "name": "stdout",
     "output_type": "stream",
     "text": [
      "violation: 1.0\n",
      "violation: 0.4213158605991586\n",
      "violation: 0.29187991782341444\n",
      "violation: 0.18437161742598412\n",
      "violation: 0.12153598450972321\n",
      "violation: 0.08681377102562512\n",
      "violation: 0.06668972604755542\n",
      "violation: 0.053451499860472644\n",
      "violation: 0.04398779185577094\n",
      "violation: 0.038931549261641975\n",
      "violation: 0.035334317111314566\n",
      "violation: 0.032121764953340556\n",
      "violation: 0.028902531739557435\n",
      "violation: 0.025834566952954503\n",
      "violation: 0.022650833995668914\n",
      "violation: 0.0196285679828172\n",
      "violation: 0.016978513287214173\n",
      "violation: 0.01451804319766856\n",
      "violation: 0.012401068684050958\n",
      "violation: 0.010608802452499828\n",
      "violation: 0.009078826640417917\n",
      "violation: 0.007772998484810781\n",
      "violation: 0.006571665772578259\n",
      "violation: 0.005550378603215933\n",
      "violation: 0.004703428179198454\n",
      "violation: 0.00394538191612607\n",
      "violation: 0.003261630908269394\n",
      "violation: 0.0027444399684635285\n",
      "violation: 0.0023311012071323216\n",
      "violation: 0.00198467512555031\n",
      "violation: 0.0016947339722843627\n",
      "violation: 0.0014502783643220354\n",
      "violation: 0.0012426067697068964\n",
      "violation: 0.001066832027297923\n",
      "violation: 0.0009174857141161613\n",
      "violation: 0.000790194251262448\n",
      "violation: 0.0006814816288642799\n",
      "violation: 0.0005885185187012724\n",
      "violation: 0.00050896410327392\n",
      "violation: 0.0004407824638166953\n",
      "violation: 0.0003822854692108178\n",
      "violation: 0.0003320471264757372\n",
      "violation: 0.00028804670221498085\n",
      "violation: 0.00025010653167313336\n",
      "violation: 0.00021762918753718663\n",
      "violation: 0.00018972582969544415\n",
      "violation: 0.0001656750494596071\n",
      "violation: 0.00014490734167944757\n",
      "violation: 0.00012695496408028655\n",
      "violation: 0.0001114117139749851\n",
      "violation: 9.793525184716563e-05\n",
      "Converged at iteration 51\n"
     ]
    }
   ],
   "source": [
    "nmf = NMF(n_components=20)\n",
    "\n",
    "question_nmf = nmf.fit_transform(question_tf)"
   ]
  },
  {
   "cell_type": "code",
   "execution_count": 29,
   "metadata": {
    "ExecuteTime": {
     "end_time": "2018-11-22T14:10:02.694706Z",
     "start_time": "2018-11-22T14:10:02.689247Z"
    }
   },
   "outputs": [],
   "source": [
    "def print_top_words(model, feature_names, n_top_words):\n",
    "    for topic_idx, topic in enumerate(model.components_):\n",
    "        message = f\"Topic #{topic_idx}: \"\n",
    "        message += \" \".join([feature_names[i]\n",
    "                             for i in topic.argsort()[:-n_top_words - 1:-1]])\n",
    "        print(message)\n",
    "    print()"
   ]
  },
  {
   "cell_type": "code",
   "execution_count": 30,
   "metadata": {
    "ExecuteTime": {
     "end_time": "2018-11-22T14:10:03.019018Z",
     "start_time": "2018-11-22T14:10:02.699613Z"
    }
   },
   "outputs": [
    {
     "name": "stdout",
     "output_type": "stream",
     "text": [
      "Topic #0: of the what meaning most world all was life rid\n",
      "Topic #1: do how get people become with think start from find\n",
      "Topic #2: are some what ways good examples that about things books\n",
      "Topic #3: you have if ever would think when thing that know\n",
      "Topic #4: to way learn want ways get need from lose weight\n",
      "Topic #5: it like be possible feel an at to with that\n",
      "Topic #6: why people so not we do did don many and\n",
      "Topic #7: in india the world there engineering where life job which\n",
      "Topic #8: can how get where we find one learn be become\n",
      "Topic #9: is what the way thing there or most better an\n",
      "Topic #10: and between difference the 500 notes 1000 what differences rupee\n",
      "Topic #11: my improve english account skills me password if gmail increase\n",
      "Topic #12: for prepare good year 2017 exam an free book engineering\n",
      "Topic #13: on quora questions question ask answer answers google asked delete\n",
      "Topic #14: does mean how work what have feel much one long\n",
      "Topic #15: money make online earn from ways how 1000 notes 500\n",
      "Topic #16: your life favorite what was review year 2017 new favourite\n",
      "Topic #17: best the which way under book movies ever laptop are\n",
      "Topic #18: trump will be donald who clinton president would win if\n",
      "Topic #19: should know first at day things new one what or\n",
      "\n"
     ]
    }
   ],
   "source": [
    "print_top_words(nmf, tf.get_feature_names(), 10)"
   ]
  },
  {
   "cell_type": "markdown",
   "metadata": {},
   "source": [
    "We now have mapped the term matrix into a 20 topic space. Let's now calculate the `cosine_similarity` between each pair of questions. The goal is to determine if `cosine_similarity` will indicate whether or not the pair of questions have the same intent."
   ]
  },
  {
   "cell_type": "code",
   "execution_count": 31,
   "metadata": {
    "ExecuteTime": {
     "end_time": "2018-11-22T14:10:15.036132Z",
     "start_time": "2018-11-22T14:10:14.815111Z"
    }
   },
   "outputs": [
    {
     "name": "stdout",
     "output_type": "stream",
     "text": [
      "404266\n"
     ]
    },
    {
     "data": {
      "text/plain": [
       "404266"
      ]
     },
     "execution_count": 31,
     "metadata": {},
     "output_type": "execute_result"
    }
   ],
   "source": [
    "odd_idx = [i for i in range(question_nmf.shape[0]) if i % 2 == 1]\n",
    "even_idx = [i for i in range(question_nmf.shape[0]) if i % 2 == 0]\n",
    "print(len(odd_idx))\n",
    "train_df.shape[0]"
   ]
  },
  {
   "cell_type": "code",
   "execution_count": 32,
   "metadata": {
    "ExecuteTime": {
     "end_time": "2018-11-22T14:11:39.606736Z",
     "start_time": "2018-11-22T14:10:26.663504Z"
    }
   },
   "outputs": [
    {
     "data": {
      "text/plain": [
       "[0.9037655894877913,\n",
       " 0.38026524310537846,\n",
       " 0.5006674398859425,\n",
       " 0.1727773329121059,\n",
       " 0.6554157198803182,\n",
       " 0.9121353416728268,\n",
       " 0.016771693455148704,\n",
       " 0.15127617625729436,\n",
       " 0.8572982588710251,\n",
       " 0.03275446081526195]"
      ]
     },
     "execution_count": 32,
     "metadata": {},
     "output_type": "execute_result"
    }
   ],
   "source": [
    "# takes a long time...probably a better way to do this calculation\n",
    "sim_list = []\n",
    "for i in range(len(odd_idx)):\n",
    "    q1 = question_nmf[odd_idx[i]].reshape(1,-1)\n",
    "    q2 = question_nmf[even_idx[i]].reshape(1,-1)\n",
    "    sim = cosine_similarity(q1, q2)\n",
    "    sim_list.append(sim[0, 0])\n",
    "sim_list[:10]"
   ]
  },
  {
   "cell_type": "code",
   "execution_count": 44,
   "metadata": {
    "ExecuteTime": {
     "end_time": "2018-11-22T14:15:01.159781Z",
     "start_time": "2018-11-22T14:15:00.858029Z"
    }
   },
   "outputs": [
    {
     "data": {
      "text/html": [
       "<div>\n",
       "<style scoped>\n",
       "    .dataframe tbody tr th:only-of-type {\n",
       "        vertical-align: middle;\n",
       "    }\n",
       "\n",
       "    .dataframe tbody tr th {\n",
       "        vertical-align: top;\n",
       "    }\n",
       "\n",
       "    .dataframe thead th {\n",
       "        text-align: right;\n",
       "    }\n",
       "</style>\n",
       "<table border=\"1\" class=\"dataframe\">\n",
       "  <thead>\n",
       "    <tr style=\"text-align: right;\">\n",
       "      <th></th>\n",
       "      <th>index</th>\n",
       "      <th>id</th>\n",
       "      <th>qid1</th>\n",
       "      <th>qid2</th>\n",
       "      <th>question1</th>\n",
       "      <th>question2</th>\n",
       "      <th>is_duplicate</th>\n",
       "      <th>q1_len</th>\n",
       "      <th>q2_len</th>\n",
       "      <th>cosine_similarity</th>\n",
       "    </tr>\n",
       "  </thead>\n",
       "  <tbody>\n",
       "    <tr>\n",
       "      <th>0</th>\n",
       "      <td>0</td>\n",
       "      <td>0</td>\n",
       "      <td>1</td>\n",
       "      <td>2</td>\n",
       "      <td>What is the step by step guide to invest in sh...</td>\n",
       "      <td>What is the step by step guide to invest in sh...</td>\n",
       "      <td>0</td>\n",
       "      <td>66.0</td>\n",
       "      <td>57.0</td>\n",
       "      <td>0.903766</td>\n",
       "    </tr>\n",
       "    <tr>\n",
       "      <th>1</th>\n",
       "      <td>1</td>\n",
       "      <td>1</td>\n",
       "      <td>3</td>\n",
       "      <td>4</td>\n",
       "      <td>What is the story of Kohinoor (Koh-i-Noor) Dia...</td>\n",
       "      <td>What would happen if the Indian government sto...</td>\n",
       "      <td>0</td>\n",
       "      <td>51.0</td>\n",
       "      <td>88.0</td>\n",
       "      <td>0.380265</td>\n",
       "    </tr>\n",
       "    <tr>\n",
       "      <th>2</th>\n",
       "      <td>2</td>\n",
       "      <td>2</td>\n",
       "      <td>5</td>\n",
       "      <td>6</td>\n",
       "      <td>How can I increase the speed of my internet co...</td>\n",
       "      <td>How can Internet speed be increased by hacking...</td>\n",
       "      <td>0</td>\n",
       "      <td>73.0</td>\n",
       "      <td>59.0</td>\n",
       "      <td>0.500667</td>\n",
       "    </tr>\n",
       "    <tr>\n",
       "      <th>3</th>\n",
       "      <td>3</td>\n",
       "      <td>3</td>\n",
       "      <td>7</td>\n",
       "      <td>8</td>\n",
       "      <td>Why am I mentally very lonely? How can I solve...</td>\n",
       "      <td>Find the remainder when [math]23^{24}[/math] i...</td>\n",
       "      <td>0</td>\n",
       "      <td>50.0</td>\n",
       "      <td>65.0</td>\n",
       "      <td>0.172777</td>\n",
       "    </tr>\n",
       "    <tr>\n",
       "      <th>4</th>\n",
       "      <td>4</td>\n",
       "      <td>4</td>\n",
       "      <td>9</td>\n",
       "      <td>10</td>\n",
       "      <td>Which one dissolve in water quikly sugar, salt...</td>\n",
       "      <td>Which fish would survive in salt water?</td>\n",
       "      <td>0</td>\n",
       "      <td>76.0</td>\n",
       "      <td>39.0</td>\n",
       "      <td>0.655416</td>\n",
       "    </tr>\n",
       "  </tbody>\n",
       "</table>\n",
       "</div>"
      ],
      "text/plain": [
       "   index  id  qid1  qid2                                          question1  \\\n",
       "0      0   0     1     2  What is the step by step guide to invest in sh...   \n",
       "1      1   1     3     4  What is the story of Kohinoor (Koh-i-Noor) Dia...   \n",
       "2      2   2     5     6  How can I increase the speed of my internet co...   \n",
       "3      3   3     7     8  Why am I mentally very lonely? How can I solve...   \n",
       "4      4   4     9    10  Which one dissolve in water quikly sugar, salt...   \n",
       "\n",
       "                                           question2  is_duplicate  q1_len  \\\n",
       "0  What is the step by step guide to invest in sh...             0    66.0   \n",
       "1  What would happen if the Indian government sto...             0    51.0   \n",
       "2  How can Internet speed be increased by hacking...             0    73.0   \n",
       "3  Find the remainder when [math]23^{24}[/math] i...             0    50.0   \n",
       "4            Which fish would survive in salt water?             0    76.0   \n",
       "\n",
       "   q2_len  cosine_similarity  \n",
       "0    57.0           0.903766  \n",
       "1    88.0           0.380265  \n",
       "2    59.0           0.500667  \n",
       "3    65.0           0.172777  \n",
       "4    39.0           0.655416  "
      ]
     },
     "execution_count": 44,
     "metadata": {},
     "output_type": "execute_result"
    }
   ],
   "source": [
    "train_df_cosine = pd.concat([train_df.sort_values('id').reset_index(), pd.Series(sim_list)], axis=1)\n",
    "train_df_cosine = train_df_cosine.rename(columns={0:'cosine_similarity'})\n",
    "train_df_cosine.head()"
   ]
  },
  {
   "cell_type": "markdown",
   "metadata": {},
   "source": [
    "Let's look at the first pair. The cosine similarity is very high, but has identified as not the same intent."
   ]
  },
  {
   "cell_type": "code",
   "execution_count": 45,
   "metadata": {
    "ExecuteTime": {
     "end_time": "2018-11-22T14:15:08.847676Z",
     "start_time": "2018-11-22T14:15:08.841630Z"
    }
   },
   "outputs": [
    {
     "name": "stdout",
     "output_type": "stream",
     "text": [
      "['What is the step by step guide to invest in share market in india?']\n",
      "['What is the step by step guide to invest in share market?']\n"
     ]
    }
   ],
   "source": [
    "print(train_df_cosine.loc[:, 'question1'].head(1).values)\n",
    "print(train_df_cosine.loc[:, 'question2'].head(1).values)"
   ]
  },
  {
   "cell_type": "markdown",
   "metadata": {},
   "source": [
    "Ah! These two questions are exactly the same except for the last two words. Maybe this is an outlier. Let's plot the similarity distribution for each class."
   ]
  },
  {
   "cell_type": "code",
   "execution_count": 50,
   "metadata": {
    "ExecuteTime": {
     "end_time": "2018-11-22T14:17:12.051382Z",
     "start_time": "2018-11-22T14:17:11.826302Z"
    }
   },
   "outputs": [
    {
     "data": {
      "text/plain": [
       "''"
      ]
     },
     "execution_count": 50,
     "metadata": {},
     "output_type": "execute_result"
    },
    {
     "data": {
      "image/png": "[encoded data removed]",
      "text/plain": [
       "<Figure size 432x288 with 1 Axes>"
      ]
     },
     "metadata": {},
     "output_type": "display_data"
    }
   ],
   "source": [
    "plt.hist(train_df_cosine.loc[train_df_cosine['is_duplicate'] == 0, 'cosine_similarity'])\n",
    "plt.hist(train_df_cosine.loc[train_df_cosine['is_duplicate'] == 1, 'cosine_similarity'])\n",
    ";"
   ]
  },
  {
   "cell_type": "code",
   "execution_count": null,
   "metadata": {},
   "outputs": [],
   "source": []
  }
 ],
 "metadata": {
  "kernelspec": {
   "display_name": "Python [conda env:project5]",
   "language": "python",
   "name": "conda-env-project5-py"
  },
  "language_info": {
   "codemirror_mode": {
    "name": "ipython",
    "version": 3
   },
   "file_extension": ".py",
   "mimetype": "text/x-python",
   "name": "python",
   "nbconvert_exporter": "python",
   "pygments_lexer": "ipython3",
   "version": "3.7.1"
  }
 },
 "nbformat": 4,
 "nbformat_minor": 2
}
