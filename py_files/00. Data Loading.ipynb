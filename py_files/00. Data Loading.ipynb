{
 "cells": [
  {
   "cell_type": "code",
   "execution_count": 5,
   "metadata": {
    "ExecuteTime": {
     "end_time": "2018-11-27T00:02:13.442879Z",
     "start_time": "2018-11-27T00:01:58.033743Z"
    }
   },
   "outputs": [],
   "source": [
    "import pandas as pd\n",
    "import numpy as np\n",
    "from utils import save\n",
    "\n",
    "from sklearn.model_selection import train_test_split"
   ]
  },
  {
   "cell_type": "code",
   "execution_count": 6,
   "metadata": {
    "ExecuteTime": {
     "end_time": "2018-11-27T00:02:13.634525Z",
     "start_time": "2018-11-27T00:02:13.452523Z"
    }
   },
   "outputs": [
    {
     "name": "stdout",
     "output_type": "stream",
     "text": [
      "total 61920\r\n",
      "drwxrwxr-x 3 ubuntu ubuntu     4096 Dec  7 23:12 pkl\r\n",
      "-rw-r--r-- 1 ubuntu ubuntu 63399110 Dec  7 23:40 train.csv\r\n"
     ]
    }
   ],
   "source": [
    "! ls -l ../data/"
   ]
  },
  {
   "cell_type": "code",
   "execution_count": 7,
   "metadata": {
    "ExecuteTime": {
     "end_time": "2018-11-27T00:02:13.642421Z",
     "start_time": "2018-11-27T00:02:13.637813Z"
    }
   },
   "outputs": [],
   "source": [
    "TRAIN_PATH = '../data/train.csv'"
   ]
  },
  {
   "cell_type": "code",
   "execution_count": 8,
   "metadata": {
    "ExecuteTime": {
     "end_time": "2018-11-27T00:02:15.156259Z",
     "start_time": "2018-11-27T00:02:13.647125Z"
    }
   },
   "outputs": [],
   "source": [
    "train_df = pd.read_csv(TRAIN_PATH)"
   ]
  },
  {
   "cell_type": "code",
   "execution_count": 9,
   "metadata": {
    "ExecuteTime": {
     "end_time": "2018-11-27T00:02:15.190250Z",
     "start_time": "2018-11-27T00:02:15.160553Z"
    }
   },
   "outputs": [
    {
     "data": {
      "text/html": [
       "<div>\n",
       "<style scoped>\n",
       "    .dataframe tbody tr th:only-of-type {\n",
       "        vertical-align: middle;\n",
       "    }\n",
       "\n",
       "    .dataframe tbody tr th {\n",
       "        vertical-align: top;\n",
       "    }\n",
       "\n",
       "    .dataframe thead th {\n",
       "        text-align: right;\n",
       "    }\n",
       "</style>\n",
       "<table border=\"1\" class=\"dataframe\">\n",
       "  <thead>\n",
       "    <tr style=\"text-align: right;\">\n",
       "      <th></th>\n",
       "      <th>id</th>\n",
       "      <th>qid1</th>\n",
       "      <th>qid2</th>\n",
       "      <th>question1</th>\n",
       "      <th>question2</th>\n",
       "      <th>is_duplicate</th>\n",
       "    </tr>\n",
       "  </thead>\n",
       "  <tbody>\n",
       "    <tr>\n",
       "      <th>0</th>\n",
       "      <td>0</td>\n",
       "      <td>1</td>\n",
       "      <td>2</td>\n",
       "      <td>What is the step by step guide to invest in sh...</td>\n",
       "      <td>What is the step by step guide to invest in sh...</td>\n",
       "      <td>0</td>\n",
       "    </tr>\n",
       "    <tr>\n",
       "      <th>1</th>\n",
       "      <td>1</td>\n",
       "      <td>3</td>\n",
       "      <td>4</td>\n",
       "      <td>What is the story of Kohinoor (Koh-i-Noor) Dia...</td>\n",
       "      <td>What would happen if the Indian government sto...</td>\n",
       "      <td>0</td>\n",
       "    </tr>\n",
       "    <tr>\n",
       "      <th>2</th>\n",
       "      <td>2</td>\n",
       "      <td>5</td>\n",
       "      <td>6</td>\n",
       "      <td>How can I increase the speed of my internet co...</td>\n",
       "      <td>How can Internet speed be increased by hacking...</td>\n",
       "      <td>0</td>\n",
       "    </tr>\n",
       "    <tr>\n",
       "      <th>3</th>\n",
       "      <td>3</td>\n",
       "      <td>7</td>\n",
       "      <td>8</td>\n",
       "      <td>Why am I mentally very lonely? How can I solve...</td>\n",
       "      <td>Find the remainder when [math]23^{24}[/math] i...</td>\n",
       "      <td>0</td>\n",
       "    </tr>\n",
       "    <tr>\n",
       "      <th>4</th>\n",
       "      <td>4</td>\n",
       "      <td>9</td>\n",
       "      <td>10</td>\n",
       "      <td>Which one dissolve in water quikly sugar, salt...</td>\n",
       "      <td>Which fish would survive in salt water?</td>\n",
       "      <td>0</td>\n",
       "    </tr>\n",
       "  </tbody>\n",
       "</table>\n",
       "</div>"
      ],
      "text/plain": [
       "   id  qid1  qid2                                          question1  \\\n",
       "0   0     1     2  What is the step by step guide to invest in sh...   \n",
       "1   1     3     4  What is the story of Kohinoor (Koh-i-Noor) Dia...   \n",
       "2   2     5     6  How can I increase the speed of my internet co...   \n",
       "3   3     7     8  Why am I mentally very lonely? How can I solve...   \n",
       "4   4     9    10  Which one dissolve in water quikly sugar, salt...   \n",
       "\n",
       "                                           question2  is_duplicate  \n",
       "0  What is the step by step guide to invest in sh...             0  \n",
       "1  What would happen if the Indian government sto...             0  \n",
       "2  How can Internet speed be increased by hacking...             0  \n",
       "3  Find the remainder when [math]23^{24}[/math] i...             0  \n",
       "4            Which fish would survive in salt water?             0  "
      ]
     },
     "execution_count": 9,
     "metadata": {},
     "output_type": "execute_result"
    }
   ],
   "source": [
    "train_df.head()"
   ]
  },
  {
   "cell_type": "markdown",
   "metadata": {},
   "source": [
    "Let's see how long these questions are."
   ]
  },
  {
   "cell_type": "code",
   "execution_count": 10,
   "metadata": {
    "ExecuteTime": {
     "end_time": "2018-11-27T00:02:15.681180Z",
     "start_time": "2018-11-27T00:02:15.193813Z"
    }
   },
   "outputs": [
    {
     "data": {
      "text/html": [
       "<div>\n",
       "<style scoped>\n",
       "    .dataframe tbody tr th:only-of-type {\n",
       "        vertical-align: middle;\n",
       "    }\n",
       "\n",
       "    .dataframe tbody tr th {\n",
       "        vertical-align: top;\n",
       "    }\n",
       "\n",
       "    .dataframe thead th {\n",
       "        text-align: right;\n",
       "    }\n",
       "</style>\n",
       "<table border=\"1\" class=\"dataframe\">\n",
       "  <thead>\n",
       "    <tr style=\"text-align: right;\">\n",
       "      <th></th>\n",
       "      <th>q1_len</th>\n",
       "      <th>q2_len</th>\n",
       "    </tr>\n",
       "  </thead>\n",
       "  <tbody>\n",
       "    <tr>\n",
       "      <th>count</th>\n",
       "      <td>404289.000000</td>\n",
       "      <td>404288.000000</td>\n",
       "    </tr>\n",
       "    <tr>\n",
       "      <th>mean</th>\n",
       "      <td>59.536856</td>\n",
       "      <td>60.108663</td>\n",
       "    </tr>\n",
       "    <tr>\n",
       "      <th>std</th>\n",
       "      <td>29.940546</td>\n",
       "      <td>33.863690</td>\n",
       "    </tr>\n",
       "    <tr>\n",
       "      <th>min</th>\n",
       "      <td>1.000000</td>\n",
       "      <td>1.000000</td>\n",
       "    </tr>\n",
       "    <tr>\n",
       "      <th>25%</th>\n",
       "      <td>39.000000</td>\n",
       "      <td>39.000000</td>\n",
       "    </tr>\n",
       "    <tr>\n",
       "      <th>50%</th>\n",
       "      <td>52.000000</td>\n",
       "      <td>51.000000</td>\n",
       "    </tr>\n",
       "    <tr>\n",
       "      <th>75%</th>\n",
       "      <td>72.000000</td>\n",
       "      <td>72.000000</td>\n",
       "    </tr>\n",
       "    <tr>\n",
       "      <th>max</th>\n",
       "      <td>623.000000</td>\n",
       "      <td>1169.000000</td>\n",
       "    </tr>\n",
       "  </tbody>\n",
       "</table>\n",
       "</div>"
      ],
      "text/plain": [
       "              q1_len         q2_len\n",
       "count  404289.000000  404288.000000\n",
       "mean       59.536856      60.108663\n",
       "std        29.940546      33.863690\n",
       "min         1.000000       1.000000\n",
       "25%        39.000000      39.000000\n",
       "50%        52.000000      51.000000\n",
       "75%        72.000000      72.000000\n",
       "max       623.000000    1169.000000"
      ]
     },
     "execution_count": 10,
     "metadata": {},
     "output_type": "execute_result"
    }
   ],
   "source": [
    "train_df['q1_len'] = train_df['question1'].str.len()\n",
    "train_df['q2_len'] = train_df['question2'].str.len()\n",
    "\n",
    "train_df.loc[:, ['q1_len', 'q2_len']].describe()"
   ]
  },
  {
   "cell_type": "markdown",
   "metadata": {},
   "source": [
    "There seems to be some really small questions. Let's take a look at these questions."
   ]
  },
  {
   "cell_type": "code",
   "execution_count": 11,
   "metadata": {
    "ExecuteTime": {
     "end_time": "2018-11-27T00:02:15.704001Z",
     "start_time": "2018-11-27T00:02:15.683429Z"
    }
   },
   "outputs": [
    {
     "data": {
      "text/html": [
       "<div>\n",
       "<style scoped>\n",
       "    .dataframe tbody tr th:only-of-type {\n",
       "        vertical-align: middle;\n",
       "    }\n",
       "\n",
       "    .dataframe tbody tr th {\n",
       "        vertical-align: top;\n",
       "    }\n",
       "\n",
       "    .dataframe thead th {\n",
       "        text-align: right;\n",
       "    }\n",
       "</style>\n",
       "<table border=\"1\" class=\"dataframe\">\n",
       "  <thead>\n",
       "    <tr style=\"text-align: right;\">\n",
       "      <th></th>\n",
       "      <th>id</th>\n",
       "      <th>qid1</th>\n",
       "      <th>qid2</th>\n",
       "      <th>question1</th>\n",
       "      <th>question2</th>\n",
       "      <th>is_duplicate</th>\n",
       "      <th>q1_len</th>\n",
       "      <th>q2_len</th>\n",
       "    </tr>\n",
       "  </thead>\n",
       "  <tbody>\n",
       "    <tr>\n",
       "      <th>3306</th>\n",
       "      <td>3306</td>\n",
       "      <td>6553</td>\n",
       "      <td>6554</td>\n",
       "      <td>.</td>\n",
       "      <td>Why is Cornell's endowment the lowest in the I...</td>\n",
       "      <td>0</td>\n",
       "      <td>1.0</td>\n",
       "      <td>56.0</td>\n",
       "    </tr>\n",
       "    <tr>\n",
       "      <th>13016</th>\n",
       "      <td>13016</td>\n",
       "      <td>25026</td>\n",
       "      <td>25027</td>\n",
       "      <td>?</td>\n",
       "      <td>Why should one not work at Google?</td>\n",
       "      <td>0</td>\n",
       "      <td>1.0</td>\n",
       "      <td>34.0</td>\n",
       "    </tr>\n",
       "    <tr>\n",
       "      <th>20794</th>\n",
       "      <td>20794</td>\n",
       "      <td>39204</td>\n",
       "      <td>39205</td>\n",
       "      <td>?</td>\n",
       "      <td>What is the Gmail tech support help phone number?</td>\n",
       "      <td>0</td>\n",
       "      <td>1.0</td>\n",
       "      <td>49.0</td>\n",
       "    </tr>\n",
       "    <tr>\n",
       "      <th>96725</th>\n",
       "      <td>96725</td>\n",
       "      <td>161071</td>\n",
       "      <td>161072</td>\n",
       "      <td>?</td>\n",
       "      <td>Who are Moses, Noah and Exodus?</td>\n",
       "      <td>0</td>\n",
       "      <td>1.0</td>\n",
       "      <td>31.0</td>\n",
       "    </tr>\n",
       "    <tr>\n",
       "      <th>104101</th>\n",
       "      <td>104101</td>\n",
       "      <td>171925</td>\n",
       "      <td>171926</td>\n",
       "      <td>?</td>\n",
       "      <td>Problem of solving a problem is not a problem,...</td>\n",
       "      <td>0</td>\n",
       "      <td>1.0</td>\n",
       "      <td>149.0</td>\n",
       "    </tr>\n",
       "    <tr>\n",
       "      <th>108978</th>\n",
       "      <td>108978</td>\n",
       "      <td>178936</td>\n",
       "      <td>178937</td>\n",
       "      <td>i</td>\n",
       "      <td>What questions to ask any drdummer?</td>\n",
       "      <td>0</td>\n",
       "      <td>1.0</td>\n",
       "      <td>35.0</td>\n",
       "    </tr>\n",
       "    <tr>\n",
       "      <th>115347</th>\n",
       "      <td>115347</td>\n",
       "      <td>188110</td>\n",
       "      <td>52215</td>\n",
       "      <td>o</td>\n",
       "      <td>Where can I watch free streaming movies online?</td>\n",
       "      <td>0</td>\n",
       "      <td>1.0</td>\n",
       "      <td>47.0</td>\n",
       "    </tr>\n",
       "    <tr>\n",
       "      <th>134403</th>\n",
       "      <td>134403</td>\n",
       "      <td>214814</td>\n",
       "      <td>214815</td>\n",
       "      <td>?</td>\n",
       "      <td>What is your take on the undercover report tha...</td>\n",
       "      <td>0</td>\n",
       "      <td>1.0</td>\n",
       "      <td>144.0</td>\n",
       "    </tr>\n",
       "    <tr>\n",
       "      <th>151922</th>\n",
       "      <td>151922</td>\n",
       "      <td>188110</td>\n",
       "      <td>238787</td>\n",
       "      <td>o</td>\n",
       "      <td>What is this - “This website/URL has been bloc...</td>\n",
       "      <td>0</td>\n",
       "      <td>1.0</td>\n",
       "      <td>132.0</td>\n",
       "    </tr>\n",
       "    <tr>\n",
       "      <th>158778</th>\n",
       "      <td>158778</td>\n",
       "      <td>247989</td>\n",
       "      <td>48850</td>\n",
       "      <td>A</td>\n",
       "      <td>Do men forgive their wives when they cheat on ...</td>\n",
       "      <td>0</td>\n",
       "      <td>1.0</td>\n",
       "      <td>51.0</td>\n",
       "    </tr>\n",
       "    <tr>\n",
       "      <th>189659</th>\n",
       "      <td>189659</td>\n",
       "      <td>161071</td>\n",
       "      <td>288480</td>\n",
       "      <td>?</td>\n",
       "      <td>Who is Noah?</td>\n",
       "      <td>0</td>\n",
       "      <td>1.0</td>\n",
       "      <td>12.0</td>\n",
       "    </tr>\n",
       "    <tr>\n",
       "      <th>190570</th>\n",
       "      <td>190570</td>\n",
       "      <td>289688</td>\n",
       "      <td>289689</td>\n",
       "      <td>‘</td>\n",
       "      <td>Time is money.Can some one explain, how it works?</td>\n",
       "      <td>0</td>\n",
       "      <td>1.0</td>\n",
       "      <td>49.0</td>\n",
       "    </tr>\n",
       "    <tr>\n",
       "      <th>199110</th>\n",
       "      <td>199110</td>\n",
       "      <td>300509</td>\n",
       "      <td>300510</td>\n",
       "      <td>I</td>\n",
       "      <td>What is the connection between Donald trump an...</td>\n",
       "      <td>0</td>\n",
       "      <td>1.0</td>\n",
       "      <td>69.0</td>\n",
       "    </tr>\n",
       "    <tr>\n",
       "      <th>208485</th>\n",
       "      <td>208485</td>\n",
       "      <td>312495</td>\n",
       "      <td>312496</td>\n",
       "      <td>?</td>\n",
       "      <td>Given that PACER makes money from usage, why d...</td>\n",
       "      <td>0</td>\n",
       "      <td>1.0</td>\n",
       "      <td>101.0</td>\n",
       "    </tr>\n",
       "    <tr>\n",
       "      <th>213220</th>\n",
       "      <td>213220</td>\n",
       "      <td>25026</td>\n",
       "      <td>64784</td>\n",
       "      <td>?</td>\n",
       "      <td>What is it like to work at Google?</td>\n",
       "      <td>0</td>\n",
       "      <td>1.0</td>\n",
       "      <td>34.0</td>\n",
       "    </tr>\n",
       "    <tr>\n",
       "      <th>254161</th>\n",
       "      <td>254161</td>\n",
       "      <td>214814</td>\n",
       "      <td>368834</td>\n",
       "      <td>?</td>\n",
       "      <td>How do I convince my non-Indian friends that n...</td>\n",
       "      <td>0</td>\n",
       "      <td>1.0</td>\n",
       "      <td>140.0</td>\n",
       "    </tr>\n",
       "    <tr>\n",
       "      <th>273065</th>\n",
       "      <td>273065</td>\n",
       "      <td>391451</td>\n",
       "      <td>380455</td>\n",
       "      <td>?</td>\n",
       "      <td>How can I describe Quora, in all its glory, to...</td>\n",
       "      <td>0</td>\n",
       "      <td>1.0</td>\n",
       "      <td>55.0</td>\n",
       "    </tr>\n",
       "    <tr>\n",
       "      <th>357127</th>\n",
       "      <td>357127</td>\n",
       "      <td>486520</td>\n",
       "      <td>146954</td>\n",
       "      <td>H</td>\n",
       "      <td>Should I forgive the cheater?</td>\n",
       "      <td>0</td>\n",
       "      <td>1.0</td>\n",
       "      <td>29.0</td>\n",
       "    </tr>\n",
       "    <tr>\n",
       "      <th>402423</th>\n",
       "      <td>402423</td>\n",
       "      <td>535899</td>\n",
       "      <td>119568</td>\n",
       "      <td>?</td>\n",
       "      <td>What is cisco router technical support phone n...</td>\n",
       "      <td>0</td>\n",
       "      <td>1.0</td>\n",
       "      <td>52.0</td>\n",
       "    </tr>\n",
       "  </tbody>\n",
       "</table>\n",
       "</div>"
      ],
      "text/plain": [
       "            id    qid1    qid2 question1  \\\n",
       "3306      3306    6553    6554         .   \n",
       "13016    13016   25026   25027         ?   \n",
       "20794    20794   39204   39205         ?   \n",
       "96725    96725  161071  161072         ?   \n",
       "104101  104101  171925  171926         ?   \n",
       "108978  108978  178936  178937         i   \n",
       "115347  115347  188110   52215         o   \n",
       "134403  134403  214814  214815         ?   \n",
       "151922  151922  188110  238787         o   \n",
       "158778  158778  247989   48850         A   \n",
       "189659  189659  161071  288480         ?   \n",
       "190570  190570  289688  289689         ‘   \n",
       "199110  199110  300509  300510         I   \n",
       "208485  208485  312495  312496         ?   \n",
       "213220  213220   25026   64784         ?   \n",
       "254161  254161  214814  368834         ?   \n",
       "273065  273065  391451  380455         ?   \n",
       "357127  357127  486520  146954         H   \n",
       "402423  402423  535899  119568         ?   \n",
       "\n",
       "                                                question2  is_duplicate  \\\n",
       "3306    Why is Cornell's endowment the lowest in the I...             0   \n",
       "13016                  Why should one not work at Google?             0   \n",
       "20794   What is the Gmail tech support help phone number?             0   \n",
       "96725                     Who are Moses, Noah and Exodus?             0   \n",
       "104101  Problem of solving a problem is not a problem,...             0   \n",
       "108978                What questions to ask any drdummer?             0   \n",
       "115347    Where can I watch free streaming movies online?             0   \n",
       "134403  What is your take on the undercover report tha...             0   \n",
       "151922  What is this - “This website/URL has been bloc...             0   \n",
       "158778  Do men forgive their wives when they cheat on ...             0   \n",
       "189659                                       Who is Noah?             0   \n",
       "190570  Time is money.Can some one explain, how it works?             0   \n",
       "199110  What is the connection between Donald trump an...             0   \n",
       "208485  Given that PACER makes money from usage, why d...             0   \n",
       "213220                 What is it like to work at Google?             0   \n",
       "254161  How do I convince my non-Indian friends that n...             0   \n",
       "273065  How can I describe Quora, in all its glory, to...             0   \n",
       "357127                      Should I forgive the cheater?             0   \n",
       "402423  What is cisco router technical support phone n...             0   \n",
       "\n",
       "        q1_len  q2_len  \n",
       "3306       1.0    56.0  \n",
       "13016      1.0    34.0  \n",
       "20794      1.0    49.0  \n",
       "96725      1.0    31.0  \n",
       "104101     1.0   149.0  \n",
       "108978     1.0    35.0  \n",
       "115347     1.0    47.0  \n",
       "134403     1.0   144.0  \n",
       "151922     1.0   132.0  \n",
       "158778     1.0    51.0  \n",
       "189659     1.0    12.0  \n",
       "190570     1.0    49.0  \n",
       "199110     1.0    69.0  \n",
       "208485     1.0   101.0  \n",
       "213220     1.0    34.0  \n",
       "254161     1.0   140.0  \n",
       "273065     1.0    55.0  \n",
       "357127     1.0    29.0  \n",
       "402423     1.0    52.0  "
      ]
     },
     "execution_count": 11,
     "metadata": {},
     "output_type": "execute_result"
    }
   ],
   "source": [
    "train_df[train_df['q1_len'] == 1]"
   ]
  },
  {
   "cell_type": "code",
   "execution_count": 12,
   "metadata": {
    "ExecuteTime": {
     "end_time": "2018-11-27T00:02:15.724942Z",
     "start_time": "2018-11-27T00:02:15.706655Z"
    }
   },
   "outputs": [
    {
     "data": {
      "text/html": [
       "<div>\n",
       "<style scoped>\n",
       "    .dataframe tbody tr th:only-of-type {\n",
       "        vertical-align: middle;\n",
       "    }\n",
       "\n",
       "    .dataframe tbody tr th {\n",
       "        vertical-align: top;\n",
       "    }\n",
       "\n",
       "    .dataframe thead th {\n",
       "        text-align: right;\n",
       "    }\n",
       "</style>\n",
       "<table border=\"1\" class=\"dataframe\">\n",
       "  <thead>\n",
       "    <tr style=\"text-align: right;\">\n",
       "      <th></th>\n",
       "      <th>id</th>\n",
       "      <th>qid1</th>\n",
       "      <th>qid2</th>\n",
       "      <th>question1</th>\n",
       "      <th>question2</th>\n",
       "      <th>is_duplicate</th>\n",
       "      <th>q1_len</th>\n",
       "      <th>q2_len</th>\n",
       "    </tr>\n",
       "  </thead>\n",
       "  <tbody>\n",
       "    <tr>\n",
       "      <th>47056</th>\n",
       "      <td>47056</td>\n",
       "      <td>84067</td>\n",
       "      <td>84068</td>\n",
       "      <td>Is there anywhere in the world offering pain m...</td>\n",
       "      <td>?</td>\n",
       "      <td>0</td>\n",
       "      <td>117.0</td>\n",
       "      <td>1.0</td>\n",
       "    </tr>\n",
       "    <tr>\n",
       "      <th>198913</th>\n",
       "      <td>198913</td>\n",
       "      <td>300250</td>\n",
       "      <td>188110</td>\n",
       "      <td>What is this?</td>\n",
       "      <td>o</td>\n",
       "      <td>0</td>\n",
       "      <td>13.0</td>\n",
       "      <td>1.0</td>\n",
       "    </tr>\n",
       "  </tbody>\n",
       "</table>\n",
       "</div>"
      ],
      "text/plain": [
       "            id    qid1    qid2  \\\n",
       "47056    47056   84067   84068   \n",
       "198913  198913  300250  188110   \n",
       "\n",
       "                                                question1 question2  \\\n",
       "47056   Is there anywhere in the world offering pain m...         ?   \n",
       "198913                                      What is this?         o   \n",
       "\n",
       "        is_duplicate  q1_len  q2_len  \n",
       "47056              0   117.0     1.0  \n",
       "198913             0    13.0     1.0  "
      ]
     },
     "execution_count": 12,
     "metadata": {},
     "output_type": "execute_result"
    }
   ],
   "source": [
    "train_df[train_df['q2_len'] == 1]"
   ]
  },
  {
   "cell_type": "markdown",
   "metadata": {},
   "source": [
    "Let's confirm did not make a mistake reading the csv file."
   ]
  },
  {
   "cell_type": "code",
   "execution_count": 13,
   "metadata": {
    "ExecuteTime": {
     "end_time": "2018-11-27T00:02:16.255757Z",
     "start_time": "2018-11-27T00:02:15.727808Z"
    }
   },
   "outputs": [
    {
     "name": "stdout",
     "output_type": "stream",
     "text": [
      "\"47056\",\"84067\",\"84068\",\"Is there anywhere in the world offering pain management for peripheral neuropathy as opioids haved been banned in US?\",\"?\",\"0\"\r",
      "\r\n",
      "cat: write error: Broken pipe\r\n"
     ]
    }
   ],
   "source": [
    "! cat {TRAIN_PATH} | head -n 47060 | tail -n 1"
   ]
  },
  {
   "cell_type": "markdown",
   "metadata": {},
   "source": [
    "The number of questions do not seem to be matching the lines in `train.csv`. Let's confirm this."
   ]
  },
  {
   "cell_type": "code",
   "execution_count": 14,
   "metadata": {
    "ExecuteTime": {
     "end_time": "2018-11-27T00:02:16.467185Z",
     "start_time": "2018-11-27T00:02:16.259896Z"
    }
   },
   "outputs": [
    {
     "name": "stdout",
     "output_type": "stream",
     "text": [
      "Rows: 404290\n",
      "404302 ../data/train.csv\r\n"
     ]
    }
   ],
   "source": [
    "print('Rows:',train_df.shape[0])\n",
    "! wc -l {TRAIN_PATH}"
   ]
  },
  {
   "cell_type": "markdown",
   "metadata": {},
   "source": [
    "Let's confirm the last row id is present in both."
   ]
  },
  {
   "cell_type": "code",
   "execution_count": 15,
   "metadata": {
    "ExecuteTime": {
     "end_time": "2018-11-27T00:02:19.995055Z",
     "start_time": "2018-11-27T00:02:16.470537Z"
    }
   },
   "outputs": [
    {
     "name": "stdout",
     "output_type": "stream",
     "text": [
      "404289    404289\n",
      "Name: id, dtype: int64\n",
      "\"404289\",\"537932\",\"537933\",\"What is like to have sex with cousin?\",\"What is it like to have sex with your cousin?\",\"0\"\r",
      "\r\n"
     ]
    }
   ],
   "source": [
    "print(train_df['id'].tail(1))\n",
    "! cat {TRAIN_PATH} | tail -n 1"
   ]
  },
  {
   "cell_type": "code",
   "execution_count": 16,
   "metadata": {
    "ExecuteTime": {
     "end_time": "2018-11-27T00:02:20.009876Z",
     "start_time": "2018-11-27T00:02:19.998655Z"
    }
   },
   "outputs": [
    {
     "data": {
      "text/plain": [
       "0"
      ]
     },
     "execution_count": 16,
     "metadata": {},
     "output_type": "execute_result"
    }
   ],
   "source": [
    "train_df['id'].min()"
   ]
  },
  {
   "cell_type": "markdown",
   "metadata": {},
   "source": [
    "This seems accurate. The `id` in the train.csv is auto-incrementing and starts at 0, and the maximum value of the `id` column matches the last row in the flat file.\n",
    "\n",
    "I am going to remove all single character questions as this will be added noise in my classifier."
   ]
  },
  {
   "cell_type": "code",
   "execution_count": 17,
   "metadata": {
    "ExecuteTime": {
     "end_time": "2018-11-27T00:02:20.361708Z",
     "start_time": "2018-11-27T00:02:20.012560Z"
    }
   },
   "outputs": [
    {
     "data": {
      "text/html": [
       "<div>\n",
       "<style scoped>\n",
       "    .dataframe tbody tr th:only-of-type {\n",
       "        vertical-align: middle;\n",
       "    }\n",
       "\n",
       "    .dataframe tbody tr th {\n",
       "        vertical-align: top;\n",
       "    }\n",
       "\n",
       "    .dataframe thead th {\n",
       "        text-align: right;\n",
       "    }\n",
       "</style>\n",
       "<table border=\"1\" class=\"dataframe\">\n",
       "  <thead>\n",
       "    <tr style=\"text-align: right;\">\n",
       "      <th></th>\n",
       "      <th>id</th>\n",
       "      <th>qid1</th>\n",
       "      <th>qid2</th>\n",
       "      <th>is_duplicate</th>\n",
       "      <th>q1_len</th>\n",
       "      <th>q2_len</th>\n",
       "    </tr>\n",
       "  </thead>\n",
       "  <tbody>\n",
       "    <tr>\n",
       "      <th>count</th>\n",
       "      <td>404269.000000</td>\n",
       "      <td>404269.000000</td>\n",
       "      <td>404269.000000</td>\n",
       "      <td>404269.000000</td>\n",
       "      <td>404268.000000</td>\n",
       "      <td>404267.000000</td>\n",
       "    </tr>\n",
       "    <tr>\n",
       "      <th>mean</th>\n",
       "      <td>202146.488467</td>\n",
       "      <td>217244.037886</td>\n",
       "      <td>220958.026858</td>\n",
       "      <td>0.369217</td>\n",
       "      <td>59.539580</td>\n",
       "      <td>60.108641</td>\n",
       "    </tr>\n",
       "    <tr>\n",
       "      <th>std</th>\n",
       "      <td>116708.990923</td>\n",
       "      <td>157752.561226</td>\n",
       "      <td>159904.900421</td>\n",
       "      <td>0.482593</td>\n",
       "      <td>29.938408</td>\n",
       "      <td>33.863037</td>\n",
       "    </tr>\n",
       "    <tr>\n",
       "      <th>min</th>\n",
       "      <td>0.000000</td>\n",
       "      <td>1.000000</td>\n",
       "      <td>2.000000</td>\n",
       "      <td>0.000000</td>\n",
       "      <td>2.000000</td>\n",
       "      <td>2.000000</td>\n",
       "    </tr>\n",
       "    <tr>\n",
       "      <th>25%</th>\n",
       "      <td>101072.000000</td>\n",
       "      <td>74436.000000</td>\n",
       "      <td>74727.000000</td>\n",
       "      <td>0.000000</td>\n",
       "      <td>39.000000</td>\n",
       "      <td>39.000000</td>\n",
       "    </tr>\n",
       "    <tr>\n",
       "      <th>50%</th>\n",
       "      <td>202149.000000</td>\n",
       "      <td>192183.000000</td>\n",
       "      <td>197055.000000</td>\n",
       "      <td>0.000000</td>\n",
       "      <td>52.000000</td>\n",
       "      <td>51.000000</td>\n",
       "    </tr>\n",
       "    <tr>\n",
       "      <th>75%</th>\n",
       "      <td>303220.000000</td>\n",
       "      <td>346574.000000</td>\n",
       "      <td>354697.000000</td>\n",
       "      <td>1.000000</td>\n",
       "      <td>72.000000</td>\n",
       "      <td>72.000000</td>\n",
       "    </tr>\n",
       "    <tr>\n",
       "      <th>max</th>\n",
       "      <td>404289.000000</td>\n",
       "      <td>537932.000000</td>\n",
       "      <td>537933.000000</td>\n",
       "      <td>1.000000</td>\n",
       "      <td>623.000000</td>\n",
       "      <td>1169.000000</td>\n",
       "    </tr>\n",
       "  </tbody>\n",
       "</table>\n",
       "</div>"
      ],
      "text/plain": [
       "                  id           qid1           qid2   is_duplicate  \\\n",
       "count  404269.000000  404269.000000  404269.000000  404269.000000   \n",
       "mean   202146.488467  217244.037886  220958.026858       0.369217   \n",
       "std    116708.990923  157752.561226  159904.900421       0.482593   \n",
       "min         0.000000       1.000000       2.000000       0.000000   \n",
       "25%    101072.000000   74436.000000   74727.000000       0.000000   \n",
       "50%    202149.000000  192183.000000  197055.000000       0.000000   \n",
       "75%    303220.000000  346574.000000  354697.000000       1.000000   \n",
       "max    404289.000000  537932.000000  537933.000000       1.000000   \n",
       "\n",
       "              q1_len         q2_len  \n",
       "count  404268.000000  404267.000000  \n",
       "mean       59.539580      60.108641  \n",
       "std        29.938408      33.863037  \n",
       "min         2.000000       2.000000  \n",
       "25%        39.000000      39.000000  \n",
       "50%        52.000000      51.000000  \n",
       "75%        72.000000      72.000000  \n",
       "max       623.000000    1169.000000  "
      ]
     },
     "execution_count": 17,
     "metadata": {},
     "output_type": "execute_result"
    }
   ],
   "source": [
    "train_df = train_df[train_df['q1_len'] != 1]\n",
    "train_df = train_df[train_df['q2_len'] != 1]\n",
    "\n",
    "train_df.describe()"
   ]
  },
  {
   "cell_type": "code",
   "execution_count": 18,
   "metadata": {
    "ExecuteTime": {
     "end_time": "2018-11-27T00:02:20.502213Z",
     "start_time": "2018-11-27T00:02:20.365069Z"
    }
   },
   "outputs": [
    {
     "name": "stdout",
     "output_type": "stream",
     "text": [
      "<class 'pandas.core.frame.DataFrame'>\n",
      "Int64Index: 404269 entries, 0 to 404289\n",
      "Data columns (total 8 columns):\n",
      "id              404269 non-null int64\n",
      "qid1            404269 non-null int64\n",
      "qid2            404269 non-null int64\n",
      "question1       404268 non-null object\n",
      "question2       404267 non-null object\n",
      "is_duplicate    404269 non-null int64\n",
      "q1_len          404268 non-null float64\n",
      "q2_len          404267 non-null float64\n",
      "dtypes: float64(2), int64(4), object(2)\n",
      "memory usage: 27.8+ MB\n"
     ]
    }
   ],
   "source": [
    "train_df.info()"
   ]
  },
  {
   "cell_type": "markdown",
   "metadata": {},
   "source": [
    "There appears to be some null values for questions. Let's take a look at this data and confirm if we can drop the data."
   ]
  },
  {
   "cell_type": "code",
   "execution_count": 19,
   "metadata": {
    "ExecuteTime": {
     "end_time": "2018-11-27T00:02:20.549381Z",
     "start_time": "2018-11-27T00:02:20.505308Z"
    }
   },
   "outputs": [
    {
     "data": {
      "text/html": [
       "<div>\n",
       "<style scoped>\n",
       "    .dataframe tbody tr th:only-of-type {\n",
       "        vertical-align: middle;\n",
       "    }\n",
       "\n",
       "    .dataframe tbody tr th {\n",
       "        vertical-align: top;\n",
       "    }\n",
       "\n",
       "    .dataframe thead th {\n",
       "        text-align: right;\n",
       "    }\n",
       "</style>\n",
       "<table border=\"1\" class=\"dataframe\">\n",
       "  <thead>\n",
       "    <tr style=\"text-align: right;\">\n",
       "      <th></th>\n",
       "      <th>id</th>\n",
       "      <th>qid1</th>\n",
       "      <th>qid2</th>\n",
       "      <th>question1</th>\n",
       "      <th>question2</th>\n",
       "      <th>is_duplicate</th>\n",
       "      <th>q1_len</th>\n",
       "      <th>q2_len</th>\n",
       "    </tr>\n",
       "  </thead>\n",
       "  <tbody>\n",
       "    <tr>\n",
       "      <th>363362</th>\n",
       "      <td>363362</td>\n",
       "      <td>493340</td>\n",
       "      <td>493341</td>\n",
       "      <td>NaN</td>\n",
       "      <td>My Chinese name is Haichao Yu. What English na...</td>\n",
       "      <td>0</td>\n",
       "      <td>NaN</td>\n",
       "      <td>123.0</td>\n",
       "    </tr>\n",
       "  </tbody>\n",
       "</table>\n",
       "</div>"
      ],
      "text/plain": [
       "            id    qid1    qid2 question1  \\\n",
       "363362  363362  493340  493341       NaN   \n",
       "\n",
       "                                                question2  is_duplicate  \\\n",
       "363362  My Chinese name is Haichao Yu. What English na...             0   \n",
       "\n",
       "        q1_len  q2_len  \n",
       "363362     NaN   123.0  "
      ]
     },
     "execution_count": 19,
     "metadata": {},
     "output_type": "execute_result"
    }
   ],
   "source": [
    "train_df[train_df['question1'].isna()]"
   ]
  },
  {
   "cell_type": "code",
   "execution_count": 20,
   "metadata": {
    "ExecuteTime": {
     "end_time": "2018-11-27T00:02:20.597400Z",
     "start_time": "2018-11-27T00:02:20.552160Z"
    }
   },
   "outputs": [
    {
     "data": {
      "text/html": [
       "<div>\n",
       "<style scoped>\n",
       "    .dataframe tbody tr th:only-of-type {\n",
       "        vertical-align: middle;\n",
       "    }\n",
       "\n",
       "    .dataframe tbody tr th {\n",
       "        vertical-align: top;\n",
       "    }\n",
       "\n",
       "    .dataframe thead th {\n",
       "        text-align: right;\n",
       "    }\n",
       "</style>\n",
       "<table border=\"1\" class=\"dataframe\">\n",
       "  <thead>\n",
       "    <tr style=\"text-align: right;\">\n",
       "      <th></th>\n",
       "      <th>id</th>\n",
       "      <th>qid1</th>\n",
       "      <th>qid2</th>\n",
       "      <th>question1</th>\n",
       "      <th>question2</th>\n",
       "      <th>is_duplicate</th>\n",
       "      <th>q1_len</th>\n",
       "      <th>q2_len</th>\n",
       "    </tr>\n",
       "  </thead>\n",
       "  <tbody>\n",
       "    <tr>\n",
       "      <th>105780</th>\n",
       "      <td>105780</td>\n",
       "      <td>174363</td>\n",
       "      <td>174364</td>\n",
       "      <td>How can I develop android app?</td>\n",
       "      <td>NaN</td>\n",
       "      <td>0</td>\n",
       "      <td>30.0</td>\n",
       "      <td>NaN</td>\n",
       "    </tr>\n",
       "    <tr>\n",
       "      <th>201841</th>\n",
       "      <td>201841</td>\n",
       "      <td>303951</td>\n",
       "      <td>174364</td>\n",
       "      <td>How can I create an Android app?</td>\n",
       "      <td>NaN</td>\n",
       "      <td>0</td>\n",
       "      <td>32.0</td>\n",
       "      <td>NaN</td>\n",
       "    </tr>\n",
       "  </tbody>\n",
       "</table>\n",
       "</div>"
      ],
      "text/plain": [
       "            id    qid1    qid2                         question1 question2  \\\n",
       "105780  105780  174363  174364    How can I develop android app?       NaN   \n",
       "201841  201841  303951  174364  How can I create an Android app?       NaN   \n",
       "\n",
       "        is_duplicate  q1_len  q2_len  \n",
       "105780             0    30.0     NaN  \n",
       "201841             0    32.0     NaN  "
      ]
     },
     "execution_count": 20,
     "metadata": {},
     "output_type": "execute_result"
    }
   ],
   "source": [
    "train_df[train_df['question2'].isna()]"
   ]
  },
  {
   "cell_type": "code",
   "execution_count": 21,
   "metadata": {
    "ExecuteTime": {
     "end_time": "2018-11-27T00:02:21.581914Z",
     "start_time": "2018-11-27T00:02:20.601338Z"
    }
   },
   "outputs": [
    {
     "name": "stdout",
     "output_type": "stream",
     "text": [
      "\"105780\",\"174363\",\"174364\",\"How can I develop android app?\",\"\",\"0\"\r",
      "\r\n",
      "cat: write error: Broken pipe\r\n"
     ]
    }
   ],
   "source": [
    "!cat {TRAIN_PATH} | head -n 105785 | tail -n 1"
   ]
  },
  {
   "cell_type": "markdown",
   "metadata": {},
   "source": [
    "Appears there are indeed some blank questions. Any row with a blank question for either pair will be dropped."
   ]
  },
  {
   "cell_type": "code",
   "execution_count": 22,
   "metadata": {
    "ExecuteTime": {
     "end_time": "2018-11-27T00:02:21.979989Z",
     "start_time": "2018-11-27T00:02:21.589692Z"
    }
   },
   "outputs": [
    {
     "name": "stdout",
     "output_type": "stream",
     "text": [
      "<class 'pandas.core.frame.DataFrame'>\n",
      "Int64Index: 404266 entries, 0 to 404289\n",
      "Data columns (total 8 columns):\n",
      "id              404266 non-null int64\n",
      "qid1            404266 non-null int64\n",
      "qid2            404266 non-null int64\n",
      "question1       404266 non-null object\n",
      "question2       404266 non-null object\n",
      "is_duplicate    404266 non-null int64\n",
      "q1_len          404266 non-null float64\n",
      "q2_len          404266 non-null float64\n",
      "dtypes: float64(2), int64(4), object(2)\n",
      "memory usage: 27.8+ MB\n"
     ]
    }
   ],
   "source": [
    "train_df = train_df.dropna()\n",
    "train_df.info()"
   ]
  },
  {
   "cell_type": "markdown",
   "metadata": {},
   "source": [
    "How many pairs of questions were flagged as duplicates in the dataset?"
   ]
  },
  {
   "cell_type": "code",
   "execution_count": 23,
   "metadata": {
    "ExecuteTime": {
     "end_time": "2018-11-27T00:02:22.023431Z",
     "start_time": "2018-11-27T00:02:21.983457Z"
    }
   },
   "outputs": [
    {
     "data": {
      "text/plain": [
       "0.3692197711407835"
      ]
     },
     "execution_count": 23,
     "metadata": {},
     "output_type": "execute_result"
    }
   ],
   "source": [
    "train_df[train_df['is_duplicate'] == 1].shape[0] / train_df.shape[0]"
   ]
  },
  {
   "cell_type": "markdown",
   "metadata": {},
   "source": [
    "About 37% of the question pairs are identified as duplicates. The training data is not that imbalanced.\n",
    "\n",
    "Let's now sort by id, perform train / test split and save the altered data frame."
   ]
  },
  {
   "cell_type": "code",
   "execution_count": 24,
   "metadata": {
    "ExecuteTime": {
     "end_time": "2018-11-27T00:02:22.617875Z",
     "start_time": "2018-11-27T00:02:22.026045Z"
    }
   },
   "outputs": [],
   "source": [
    "train_df = train_df.sort_values('id')\n",
    "X, y = (train_df.loc[:,['id', 'question1', 'question2']], train_df.is_duplicate.values)\n",
    "\n",
    "X_train, X_test, y_train, y_test = train_test_split(X, y, stratify=y, random_state = 42)\n",
    "\n",
    "# need to sort by id to keep consistent with the stacking and unstacking of questions\n",
    "temp_y = pd.DataFrame(np.concatenate([X_train.id.values.reshape(-1, 1), y_train.reshape(-1, 1)], axis=1))\n",
    "temp_y = temp_y.sort_values(0)\n",
    "y_train = temp_y.loc[:, 1].values\n",
    "X_train = X_train.sort_values('id')\n",
    "\n",
    "temp_y = pd.DataFrame(np.concatenate([X_test.id.values.reshape(-1, 1), y_test.reshape(-1, 1)], axis=1))\n",
    "temp_y = temp_y.sort_values(0)\n",
    "y_test = temp_y.loc[:, 1].values\n",
    "X_test = X_test.sort_values('id')"
   ]
  },
  {
   "cell_type": "code",
   "execution_count": 25,
   "metadata": {
    "ExecuteTime": {
     "end_time": "2018-11-27T00:02:30.203167Z",
     "start_time": "2018-11-27T00:02:22.620241Z"
    }
   },
   "outputs": [],
   "source": [
    "save(train_df, 'train')\n",
    "save(X_train, 'X_train')\n",
    "save(X_test, 'X_test')\n",
    "save(y_train, 'y_train')\n",
    "save(y_test, 'y_test')"
   ]
  }
 ],
 "metadata": {
  "kernelspec": {
   "display_name": "Python 3",
   "language": "python",
   "name": "python3"
  },
  "language_info": {
   "codemirror_mode": {
    "name": "ipython",
    "version": 3
   },
   "file_extension": ".py",
   "mimetype": "text/x-python",
   "name": "python",
   "nbconvert_exporter": "python",
   "pygments_lexer": "ipython3",
   "version": "3.6.5"
  }
 },
 "nbformat": 4,
 "nbformat_minor": 2
}
