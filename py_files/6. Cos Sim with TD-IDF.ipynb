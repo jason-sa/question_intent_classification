{
 "cells": [
  {
   "cell_type": "markdown",
   "metadata": {},
   "source": [
    "## Cos sim with TF-IDF\n",
    "\n",
    "The cosine simialrity between the NMF 5-topic vectors was not realting the two sentences as much as I would like. I first going to add a cleaning step to strip out what appars to be LaTeX or math jax in some of the Quora questions. I will then calculate the cosine similarity utilzing the TF-IDF vectors, and combine this with the NMF vectors.\n",
    "\n",
    "**Pipeline**\n",
    "1. Stack questions\n",
    "2. Clean questions\n",
    "3. Lemmatize\n",
    "4. TF-IDF\n",
    "5. UNION\n",
    "    1. TF-IDF -> NMF(5 topic) -> Unstack\n",
    "    2. TF-IDF -> Unstack -> cos sim\n",
    "7. XGBClassifier"
   ]
  },
  {
   "cell_type": "code",
   "execution_count": 1,
   "metadata": {
    "ExecuteTime": {
     "end_time": "2018-11-27T19:53:55.249726Z",
     "start_time": "2018-11-27T19:53:41.670226Z"
    }
   },
   "outputs": [],
   "source": [
    "# data manipulation\n",
    "import utils\n",
    "import pandas as pd\n",
    "import numpy as np\n",
    "\n",
    "# modeling\n",
    "from sklearn.pipeline import Pipeline, FeatureUnion\n",
    "from sklearn.feature_extraction.text import TfidfVectorizer\n",
    "from sklearn.decomposition import NMF\n",
    "from sklearn.preprocessing import FunctionTransformer\n",
    "from sklearn.model_selection import cross_validate, StratifiedKFold\n",
    "\n",
    "from xgboost import XGBClassifier"
   ]
  },
  {
   "cell_type": "code",
   "execution_count": 2,
   "metadata": {
    "ExecuteTime": {
     "end_time": "2018-11-27T19:53:55.550918Z",
     "start_time": "2018-11-27T19:53:55.253044Z"
    }
   },
   "outputs": [],
   "source": [
    "X_train = utils.load('X_train')\n",
    "y_train = utils.load('y_train')"
   ]
  },
  {
   "cell_type": "code",
   "execution_count": 10,
   "metadata": {
    "ExecuteTime": {
     "end_time": "2018-11-27T19:53:55.562022Z",
     "start_time": "2018-11-27T19:53:55.554122Z"
    }
   },
   "outputs": [],
   "source": [
    "nmf_pipe = Pipeline(\n",
    "    [\n",
    "        ('nmf', NMF(n_components=5)),\n",
    "        ('unstack', FunctionTransformer(utils.unstack_questions, validate=True))\n",
    "    ]\n",
    ")\n",
    "\n",
    "cos_pipe = Pipeline(\n",
    "    [\n",
    "        ('unstack', FunctionTransformer(utils.unstack_questions, validate=False)),\n",
    "        ('cos', FunctionTransformer(utils.calc_cos_sim, validate=True))\n",
    "    ]\n",
    ")\n",
    "\n",
    "pipe = Pipeline(\n",
    "    [\n",
    "        ('stack', FunctionTransformer(utils.stack_questions, validate=False)),\n",
    "        ('clean', FunctionTransformer(utils.clean_questions, validate=False)),\n",
    "        ('lemma', FunctionTransformer(utils.apply_lemma, validate=False))#,\n",
    "#         ('tf', TfidfVectorizer()),\n",
    "#         ('feats', FeatureUnion(\n",
    "#             [\n",
    "#                 ('nmf_pipe', nmf_pipe),\n",
    "#                 ('cos_pipe', cos_pipe)\n",
    "#             ]\n",
    "#         )),\n",
    "#         ('xgb', XGBClassifier(n_estimators=500, n_jobs=-1, random_state=42))\n",
    "    ]\n",
    ")"
   ]
  },
  {
   "cell_type": "code",
   "execution_count": null,
   "metadata": {
    "ExecuteTime": {
     "end_time": "2018-11-27T19:54:29.274562Z",
     "start_time": "2018-11-27T19:53:55.566590Z"
    }
   },
   "outputs": [],
   "source": [
    "skf = StratifiedKFold(n_splits=3, random_state=42)\n",
    "cv = cross_validate(pipe, \n",
    "               X_train, \n",
    "               y_train, \n",
    "               cv=skf, \n",
    "               n_jobs=-1, \n",
    "               scoring=('accuracy', 'precision', 'recall', 'f1', 'roc_auc', 'neg_log_loss'))"
   ]
  },
  {
   "cell_type": "code",
   "execution_count": 11,
   "metadata": {
    "ExecuteTime": {
     "end_time": "2018-11-27T19:54:29.274562Z",
     "start_time": "2018-11-27T19:53:55.566590Z"
    }
   },
   "outputs": [],
   "source": [
    "X_new = pipe.transform(X_train)"
   ]
  },
  {
   "cell_type": "code",
   "execution_count": 12,
   "metadata": {},
   "outputs": [],
   "source": [
    "utils.save(X_new, 'X_train_lemma_clean')"
   ]
  },
  {
   "cell_type": "code",
   "execution_count": null,
   "metadata": {
    "ExecuteTime": {
     "end_time": "2018-11-27T19:54:29.404908Z",
     "start_time": "2018-11-27T19:54:29.297054Z"
    }
   },
   "outputs": [],
   "source": [
    "results_df = utils.load('results')\n",
    "\n",
    "results_df = results_df.drop(index='cos_sim_tfidf_model', errors='ignore')\n",
    "results_df = results_df.append(utils.log_scores(cv, 'cos_sim_tfidf_model'))\n",
    "results_df"
   ]
  },
  {
   "cell_type": "code",
   "execution_count": null,
   "metadata": {
    "ExecuteTime": {
     "end_time": "2018-11-27T19:54:29.419130Z",
     "start_time": "2018-11-27T19:54:29.408485Z"
    }
   },
   "outputs": [],
   "source": [
    "utils.save(results_df, 'results')"
   ]
  }
 ],
 "metadata": {
  "kernelspec": {
   "display_name": "Python 3",
   "language": "python",
   "name": "python3"
  },
  "language_info": {
   "codemirror_mode": {
    "name": "ipython",
    "version": 3
   },
   "file_extension": ".py",
   "mimetype": "text/x-python",
   "name": "python",
   "nbconvert_exporter": "python",
   "pygments_lexer": "ipython3",
   "version": "3.6.5"
  }
 },
 "nbformat": 4,
 "nbformat_minor": 2
}
