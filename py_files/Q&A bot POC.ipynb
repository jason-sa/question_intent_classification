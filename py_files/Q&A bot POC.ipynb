{
 "cells": [
  {
   "cell_type": "code",
   "execution_count": 1,
   "metadata": {
    "ExecuteTime": {
     "end_time": "2018-12-08T14:20:29.669426Z",
     "start_time": "2018-12-08T14:20:11.458661Z"
    }
   },
   "outputs": [],
   "source": [
    "import utils\n",
    "import pandas as pd\n",
    "import numpy as np\n",
    "from nltk import ngrams"
   ]
  },
  {
   "cell_type": "code",
   "execution_count": 2,
   "metadata": {
    "ExecuteTime": {
     "end_time": "2018-12-08T14:20:29.703061Z",
     "start_time": "2018-12-08T14:20:29.672667Z"
    }
   },
   "outputs": [
    {
     "data": {
      "text/plain": [
       "'bot_app/data/'"
      ]
     },
     "execution_count": 2,
     "metadata": {},
     "output_type": "execute_result"
    }
   ],
   "source": [
    "utils.PATH = 'bot_app/data/'\n",
    "utils.PATH"
   ]
  },
  {
   "cell_type": "code",
   "execution_count": 2,
   "metadata": {
    "ExecuteTime": {
     "end_time": "2018-12-05T04:52:48.474640Z",
     "start_time": "2018-12-05T04:52:14.389056Z"
    }
   },
   "outputs": [
    {
     "name": "stdout",
     "output_type": "stream",
     "text": [
      "CPU times: user 3min 40s, sys: 9.88 s, total: 3min 50s\n",
      "Wall time: 3min 48s\n"
     ]
    }
   ],
   "source": [
    "%%time\n",
    "qa_df = pd.read_json('../data/ms_marco_large.json')\n",
    "\n",
    "# expand the answer list\n",
    "answers_expanded = qa_df.answers.apply(pd.Series)\n",
    "\n",
    "# rename each variable as answer\n",
    "answers_expanded = answers_expanded.rename(columns = lambda x : 'answer_' + str(x))\n",
    "answers_expanded.head()\n",
    "\n",
    "qa_df = pd.concat([qa_df, answers_expanded], axis=1)\n",
    "\n",
    "# remove questions without answers\n",
    "qa_df = qa_df[qa_df.answer_0 != 'No Answer Present.']\n",
    "\n",
    "# set the answer to the first element of each list\n",
    "qa_df.answers = qa_df.answer_0\n",
    "\n",
    "qa_df = qa_df.loc[:, ['answers', 'query']]\n",
    "\n",
    "utils.save(qa_df, 'qa_df')"
   ]
  },
  {
   "cell_type": "code",
   "execution_count": 3,
   "metadata": {
    "ExecuteTime": {
     "end_time": "2018-12-08T14:20:37.428701Z",
     "start_time": "2018-12-08T14:20:36.827499Z"
    }
   },
   "outputs": [
    {
     "data": {
      "text/html": [
       "<div>\n",
       "<style scoped>\n",
       "    .dataframe tbody tr th:only-of-type {\n",
       "        vertical-align: middle;\n",
       "    }\n",
       "\n",
       "    .dataframe tbody tr th {\n",
       "        vertical-align: top;\n",
       "    }\n",
       "\n",
       "    .dataframe thead th {\n",
       "        text-align: right;\n",
       "    }\n",
       "</style>\n",
       "<table border=\"1\" class=\"dataframe\">\n",
       "  <thead>\n",
       "    <tr style=\"text-align: right;\">\n",
       "      <th></th>\n",
       "      <th>answers</th>\n",
       "      <th>query</th>\n",
       "    </tr>\n",
       "  </thead>\n",
       "  <tbody>\n",
       "    <tr>\n",
       "      <th>599762</th>\n",
       "      <td>It is a member of the family Hominidae.</td>\n",
       "      <td>what is the definition of hominid</td>\n",
       "    </tr>\n",
       "    <tr>\n",
       "      <th>797372</th>\n",
       "      <td>Mahoning</td>\n",
       "      <td>what county is struthers ohio in?</td>\n",
       "    </tr>\n",
       "    <tr>\n",
       "      <th>371261</th>\n",
       "      <td>Yes</td>\n",
       "      <td>is ribavirin generic</td>\n",
       "    </tr>\n",
       "    <tr>\n",
       "      <th>382696</th>\n",
       "      <td>Urinary Tract Infection Test (UTI)</td>\n",
       "      <td>what kind of tests i need for urinary infection</td>\n",
       "    </tr>\n",
       "    <tr>\n",
       "      <th>40023</th>\n",
       "      <td>Aldi and Lidl are hypermarkets in Germany.</td>\n",
       "      <td>which hypermarkets operate in germany</td>\n",
       "    </tr>\n",
       "  </tbody>\n",
       "</table>\n",
       "</div>"
      ],
      "text/plain": [
       "                                           answers  \\\n",
       "599762     It is a member of the family Hominidae.   \n",
       "797372                                    Mahoning   \n",
       "371261                                         Yes   \n",
       "382696          Urinary Tract Infection Test (UTI)   \n",
       "40023   Aldi and Lidl are hypermarkets in Germany.   \n",
       "\n",
       "                                                  query  \n",
       "599762                what is the definition of hominid  \n",
       "797372                what county is struthers ohio in?  \n",
       "371261                             is ribavirin generic  \n",
       "382696  what kind of tests i need for urinary infection  \n",
       "40023             which hypermarkets operate in germany  "
      ]
     },
     "execution_count": 3,
     "metadata": {},
     "output_type": "execute_result"
    }
   ],
   "source": [
    "qa_df = utils.load('qa_df')\n",
    "qa_df.sample(5)"
   ]
  },
  {
   "cell_type": "code",
   "execution_count": 4,
   "metadata": {
    "ExecuteTime": {
     "end_time": "2018-12-08T14:20:38.755381Z",
     "start_time": "2018-12-08T14:20:38.744933Z"
    }
   },
   "outputs": [
    {
     "data": {
      "text/plain": [
       "(503370, 2)"
      ]
     },
     "execution_count": 4,
     "metadata": {},
     "output_type": "execute_result"
    }
   ],
   "source": [
    "qa_df.shape"
   ]
  },
  {
   "cell_type": "markdown",
   "metadata": {
    "ExecuteTime": {
     "end_time": "2018-11-30T19:43:54.248117Z",
     "start_time": "2018-11-30T19:37:00.969224Z"
    }
   },
   "source": [
    "## Transform the questions into half of the feature space"
   ]
  },
  {
   "cell_type": "code",
   "execution_count": 5,
   "metadata": {
    "ExecuteTime": {
     "end_time": "2018-12-08T14:20:44.374480Z",
     "start_time": "2018-12-08T14:20:44.361060Z"
    }
   },
   "outputs": [],
   "source": [
    "questions = qa_df.loc[:, 'query']"
   ]
  },
  {
   "cell_type": "code",
   "execution_count": 6,
   "metadata": {
    "ExecuteTime": {
     "end_time": "2018-12-08T14:20:44.972396Z",
     "start_time": "2018-12-08T14:20:44.961144Z"
    }
   },
   "outputs": [
    {
     "data": {
      "text/plain": [
       "0         )what was the immediate impact of the success ...\n",
       "1         _________ justice is designed to repair the ha...\n",
       "10            why did stalin want control of eastern europe\n",
       "100                                  why do nails get rusty\n",
       "1000                                              depona ab\n",
       "100000                                     nyu tuition cost\n",
       "100001           at what age do kids start to hold memories\n",
       "100002                          average teeth brushing time\n",
       "100003                                    is funner a word?\n",
       "100005                                 what is ce certified\n",
       "Name: query, dtype: object"
      ]
     },
     "execution_count": 6,
     "metadata": {},
     "output_type": "execute_result"
    }
   ],
   "source": [
    "questions[:10]"
   ]
  },
  {
   "cell_type": "code",
   "execution_count": 7,
   "metadata": {
    "ExecuteTime": {
     "end_time": "2018-12-08T14:20:46.088754Z",
     "start_time": "2018-12-08T14:20:46.080507Z"
    }
   },
   "outputs": [],
   "source": [
    "from sklearn.pipeline import Pipeline, FeatureUnion\n",
    "from sklearn.preprocessing import FunctionTransformer\n"
   ]
  },
  {
   "cell_type": "code",
   "execution_count": 8,
   "metadata": {
    "ExecuteTime": {
     "end_time": "2018-12-08T14:21:10.311076Z",
     "start_time": "2018-12-08T14:21:10.285190Z"
    }
   },
   "outputs": [],
   "source": [
    "# text transformation pipes\n",
    "clean_text = Pipeline(\n",
    "    [\n",
    "        ('stack', FunctionTransformer(utils.stack_questions, validate=False)),\n",
    "        ('clean', FunctionTransformer(utils.clean_questions, validate=False))\n",
    "\n",
    "    ]\n",
    ")\n",
    "\n",
    "lemma_text = Pipeline(\n",
    "    [\n",
    "        ('lemma', FunctionTransformer(utils.apply_lemma, validate=False))\n",
    "    ]\n",
    ")\n",
    "\n",
    "# feature engineering pipes\n",
    "single_question_pipe = Pipeline(\n",
    "    [\n",
    "        ('dist', FunctionTransformer(utils.add_min_max_avg_distance_features, validate=False)),\n",
    "        ('unstack', FunctionTransformer(utils.unstack_questions, validate=False))\n",
    "    ]\n",
    ")\n",
    "\n",
    "pair_question_pipe = Pipeline(\n",
    "    [\n",
    "        ('ngram_sim', FunctionTransformer(utils.calc_ngram_similarity, kw_args={'n_grams':[1, 2, 3]}, validate=False))\n",
    "    ]\n",
    ")\n",
    "\n",
    "# build features on the cleaned text only\n",
    "clean_text_features = Pipeline(\n",
    "    [\n",
    "        ('clean', clean_text),\n",
    "        ('feats', FeatureUnion(\n",
    "            [\n",
    "                ('pair', pair_question_pipe),\n",
    "                ('single', single_question_pipe)\n",
    "            ],\n",
    "            n_jobs = -1\n",
    "        ))\n",
    "    ]\n",
    ")\n",
    "\n",
    "# build features on the cleanned and lemmatized text features\n",
    "lemma_text_features = Pipeline(\n",
    "    [\n",
    "        ('clean', clean_text),\n",
    "        ('lemma', lemma_text),\n",
    "        ('feats', FeatureUnion(\n",
    "            [\n",
    "                ('pair', pair_question_pipe),\n",
    "                ('single', single_question_pipe)\n",
    "            ],\n",
    "            n_jobs = -1\n",
    "        ))\n",
    "    ]\n",
    ")\n",
    "\n",
    "# pre-process pipe\n",
    "feature_transformation = Pipeline(\n",
    "    [\n",
    "        ('feats', FeatureUnion(\n",
    "            [\n",
    "                ('clean_text_features', clean_text_features),\n",
    "                ('lemma_text_features', lemma_text_features)\n",
    "            ],\n",
    "            n_jobs = -1\n",
    "        ))\n",
    "    ]\n",
    ")\n"
   ]
  },
  {
   "cell_type": "code",
   "execution_count": 7,
   "metadata": {
    "ExecuteTime": {
     "end_time": "2018-12-07T16:11:53.071309Z",
     "start_time": "2018-12-07T16:11:52.754527Z"
    }
   },
   "outputs": [
    {
     "data": {
      "text/html": [
       "<div>\n",
       "<style scoped>\n",
       "    .dataframe tbody tr th:only-of-type {\n",
       "        vertical-align: middle;\n",
       "    }\n",
       "\n",
       "    .dataframe tbody tr th {\n",
       "        vertical-align: top;\n",
       "    }\n",
       "\n",
       "    .dataframe thead th {\n",
       "        text-align: right;\n",
       "    }\n",
       "</style>\n",
       "<table border=\"1\" class=\"dataframe\">\n",
       "  <thead>\n",
       "    <tr style=\"text-align: right;\">\n",
       "      <th></th>\n",
       "      <th>question1</th>\n",
       "      <th>id</th>\n",
       "      <th>question2</th>\n",
       "    </tr>\n",
       "  </thead>\n",
       "  <tbody>\n",
       "    <tr>\n",
       "      <th>0</th>\n",
       "      <td>)what was the immediate impact of the success ...</td>\n",
       "      <td>0</td>\n",
       "      <td>define mentally</td>\n",
       "    </tr>\n",
       "    <tr>\n",
       "      <th>1</th>\n",
       "      <td>_________ justice is designed to repair the ha...</td>\n",
       "      <td>1</td>\n",
       "      <td>define mentally</td>\n",
       "    </tr>\n",
       "    <tr>\n",
       "      <th>2</th>\n",
       "      <td>amex india customer care number</td>\n",
       "      <td>2</td>\n",
       "      <td>define mentally</td>\n",
       "    </tr>\n",
       "    <tr>\n",
       "      <th>3</th>\n",
       "      <td>definition of ramen</td>\n",
       "      <td>3</td>\n",
       "      <td>define mentally</td>\n",
       "    </tr>\n",
       "    <tr>\n",
       "      <th>4</th>\n",
       "      <td>why did rachel carson die</td>\n",
       "      <td>4</td>\n",
       "      <td>define mentally</td>\n",
       "    </tr>\n",
       "  </tbody>\n",
       "</table>\n",
       "</div>"
      ],
      "text/plain": [
       "                                           question1  id        question2\n",
       "0  )what was the immediate impact of the success ...   0  define mentally\n",
       "1  _________ justice is designed to repair the ha...   1  define mentally\n",
       "2                    amex india customer care number   2  define mentally\n",
       "3                                definition of ramen   3  define mentally\n",
       "4                          why did rachel carson die   4  define mentally"
      ]
     },
     "execution_count": 7,
     "metadata": {},
     "output_type": "execute_result"
    }
   ],
   "source": [
    "X = qa_df.rename(columns={'query':'question1'})\n",
    "X['id'] = X.index\n",
    "X['question2'] = 'define mentally'\n",
    "X = X.drop(columns='answers')\n",
    "X = X.sort_values('id').reset_index(drop=True)\n",
    "X.head()"
   ]
  },
  {
   "cell_type": "code",
   "execution_count": 9,
   "metadata": {
    "ExecuteTime": {
     "end_time": "2018-12-07T16:16:04.700238Z",
     "start_time": "2018-12-07T16:12:02.446756Z"
    }
   },
   "outputs": [
    {
     "name": "stdout",
     "output_type": "stream",
     "text": [
      "CPU times: user 636 ms, sys: 896 ms, total: 1.53 s\n",
      "Wall time: 13min 23s\n"
     ]
    }
   ],
   "source": [
    "%%time\n",
    "X_transform = feature_transformation.transform(X)"
   ]
  },
  {
   "cell_type": "code",
   "execution_count": 10,
   "metadata": {
    "ExecuteTime": {
     "end_time": "2018-12-07T16:19:00.550375Z",
     "start_time": "2018-12-07T16:19:00.410275Z"
    }
   },
   "outputs": [
    {
     "data": {
      "text/plain": [
       "(503370, 42)"
      ]
     },
     "execution_count": 10,
     "metadata": {},
     "output_type": "execute_result"
    }
   ],
   "source": [
    "X_transform.shape"
   ]
  },
  {
   "cell_type": "code",
   "execution_count": 11,
   "metadata": {
    "ExecuteTime": {
     "end_time": "2018-12-07T16:19:02.316158Z",
     "start_time": "2018-12-07T16:19:02.247880Z"
    }
   },
   "outputs": [
    {
     "data": {
      "text/plain": [
       "array([  0.        ,   0.        ,   0.        ,   7.2979822 ,\n",
       "         7.2979822 ,   7.2979822 ,   0.70618225,   0.70618225,\n",
       "         0.70618225,  99.20149679,  99.20149679,  99.20149679,\n",
       "         0.        ,   8.83996477,   5.64993269,   0.        ,\n",
       "         0.98788862,   0.57734565,   0.        , 118.15849771,\n",
       "        76.01619598,   0.        ,   0.        ,   0.        ,\n",
       "         7.2979822 ,   7.2979822 ,   7.2979822 ,   0.70618225,\n",
       "         0.70618225,   0.70618225,  99.20149679,  99.20149679,\n",
       "        99.20149679,   5.7286128 ,   8.83996477,   7.18728101,\n",
       "         0.50237131,   0.98788862,   0.73185084,  77.53224362,\n",
       "       118.15849771,  96.81606282])"
      ]
     },
     "execution_count": 11,
     "metadata": {},
     "output_type": "execute_result"
    }
   ],
   "source": [
    "X_transform[0]"
   ]
  },
  {
   "cell_type": "code",
   "execution_count": 12,
   "metadata": {
    "ExecuteTime": {
     "end_time": "2018-12-07T16:19:04.972760Z",
     "start_time": "2018-12-07T16:19:04.781411Z"
    }
   },
   "outputs": [
    {
     "data": {
      "text/html": [
       "<div>\n",
       "<style scoped>\n",
       "    .dataframe tbody tr th:only-of-type {\n",
       "        vertical-align: middle;\n",
       "    }\n",
       "\n",
       "    .dataframe tbody tr th {\n",
       "        vertical-align: top;\n",
       "    }\n",
       "\n",
       "    .dataframe thead th {\n",
       "        text-align: right;\n",
       "    }\n",
       "</style>\n",
       "<table border=\"1\" class=\"dataframe\">\n",
       "  <thead>\n",
       "    <tr style=\"text-align: right;\">\n",
       "      <th></th>\n",
       "      <th>question1</th>\n",
       "      <th>id</th>\n",
       "      <th>question2</th>\n",
       "    </tr>\n",
       "  </thead>\n",
       "  <tbody>\n",
       "  </tbody>\n",
       "</table>\n",
       "</div>"
      ],
      "text/plain": [
       "Empty DataFrame\n",
       "Columns: [question1, id, question2]\n",
       "Index: []"
      ]
     },
     "execution_count": 12,
     "metadata": {},
     "output_type": "execute_result"
    }
   ],
   "source": [
    "X[X.question1 == 'define mentally']"
   ]
  },
  {
   "cell_type": "code",
   "execution_count": 104,
   "metadata": {
    "ExecuteTime": {
     "end_time": "2018-12-07T16:19:07.272528Z",
     "start_time": "2018-12-07T16:19:07.225286Z"
    }
   },
   "outputs": [
    {
     "data": {
      "text/plain": [
       "21959"
      ]
     },
     "execution_count": 104,
     "metadata": {},
     "output_type": "execute_result"
    }
   ],
   "source": [
    "X.index.get_loc(21959)"
   ]
  },
  {
   "cell_type": "code",
   "execution_count": 105,
   "metadata": {
    "ExecuteTime": {
     "end_time": "2018-12-07T16:19:08.672384Z",
     "start_time": "2018-12-07T16:19:08.641699Z"
    }
   },
   "outputs": [
    {
     "data": {
      "text/plain": [
       "question1    define mentally\n",
       "id                     33865\n",
       "question2    define mentally\n",
       "Name: 21959, dtype: object"
      ]
     },
     "execution_count": 105,
     "metadata": {},
     "output_type": "execute_result"
    }
   ],
   "source": [
    "X.iloc[X.index.get_loc(21959)]"
   ]
  },
  {
   "cell_type": "code",
   "execution_count": 112,
   "metadata": {
    "ExecuteTime": {
     "end_time": "2018-12-07T16:21:44.050728Z",
     "start_time": "2018-12-07T16:21:44.033946Z"
    }
   },
   "outputs": [
    {
     "name": "stdout",
     "output_type": "stream",
     "text": [
      "(42,)\n"
     ]
    },
    {
     "data": {
      "text/plain": [
       "array([ 1.        ,  1.        ,  1.        ,  7.2979822 ,  7.2979822 ,\n",
       "        7.2979822 ,  0.70618225,  0.70618225,  0.70618225, 99.20149679,\n",
       "       99.20149679, 99.20149679,  7.2979822 ,  7.2979822 ,  7.2979822 ,\n",
       "        0.70618225,  0.70618225,  0.70618225, 99.20149679, 99.20149679,\n",
       "       99.20149679,  1.        ,  1.        ,  1.        ,  7.2979822 ,\n",
       "        7.2979822 ,  7.2979822 ,  0.70618225,  0.70618225,  0.70618225,\n",
       "       99.20149679, 99.20149679, 99.20149679,  7.2979822 ,  7.2979822 ,\n",
       "        7.2979822 ,  0.70618225,  0.70618225,  0.70618225, 99.20149679,\n",
       "       99.20149679, 99.20149679])"
      ]
     },
     "execution_count": 112,
     "metadata": {},
     "output_type": "execute_result"
    }
   ],
   "source": [
    "print(X_transform[21959].shape)\n",
    "X_transform[21959]"
   ]
  },
  {
   "cell_type": "code",
   "execution_count": 113,
   "metadata": {
    "ExecuteTime": {
     "end_time": "2018-12-07T16:21:53.289270Z",
     "start_time": "2018-12-07T16:21:53.153123Z"
    }
   },
   "outputs": [
    {
     "data": {
      "text/plain": [
       "array([0.4627599], dtype=float32)"
      ]
     },
     "execution_count": 113,
     "metadata": {},
     "output_type": "execute_result"
    }
   ],
   "source": [
    "xgb.predict_proba(X_transform[21959].reshape(1, -1))[:, 1]"
   ]
  },
  {
   "cell_type": "code",
   "execution_count": null,
   "metadata": {},
   "outputs": [],
   "source": []
  },
  {
   "cell_type": "code",
   "execution_count": 14,
   "metadata": {
    "ExecuteTime": {
     "end_time": "2018-12-07T14:35:31.934166Z",
     "start_time": "2018-12-07T14:35:29.934083Z"
    }
   },
   "outputs": [
    {
     "name": "stderr",
     "output_type": "stream",
     "text": [
      "/home/ubuntu/anaconda3/envs/python3/lib/python3.6/site-packages/sklearn/base.py:251: UserWarning: Trying to unpickle estimator LabelEncoder from version 0.20.1 when using version 0.20.0. This might lead to breaking code or invalid results. Use at your own risk.\n",
      "  UserWarning)\n"
     ]
    }
   ],
   "source": [
    "xgb = utils.load('xgb_FINAL_model_question_swapped')\n",
    "y_probs = xgb.predict_proba(X_transform)[:,1]"
   ]
  },
  {
   "cell_type": "code",
   "execution_count": 15,
   "metadata": {
    "ExecuteTime": {
     "end_time": "2018-12-07T14:51:22.582348Z",
     "start_time": "2018-12-07T14:51:22.366225Z"
    }
   },
   "outputs": [
    {
     "data": {
      "text/html": [
       "<div>\n",
       "<style scoped>\n",
       "    .dataframe tbody tr th:only-of-type {\n",
       "        vertical-align: middle;\n",
       "    }\n",
       "\n",
       "    .dataframe tbody tr th {\n",
       "        vertical-align: top;\n",
       "    }\n",
       "\n",
       "    .dataframe thead th {\n",
       "        text-align: right;\n",
       "    }\n",
       "</style>\n",
       "<table border=\"1\" class=\"dataframe\">\n",
       "  <thead>\n",
       "    <tr style=\"text-align: right;\">\n",
       "      <th></th>\n",
       "      <th>0</th>\n",
       "      <th>question1</th>\n",
       "      <th>2</th>\n",
       "      <th>question2</th>\n",
       "      <th>prob</th>\n",
       "    </tr>\n",
       "  </thead>\n",
       "  <tbody>\n",
       "    <tr>\n",
       "      <th>398244</th>\n",
       "      <td>398244</td>\n",
       "      <td>define messrs</td>\n",
       "      <td>650445</td>\n",
       "      <td>define mentally</td>\n",
       "      <td>9.640142e-01</td>\n",
       "    </tr>\n",
       "    <tr>\n",
       "      <th>70926</th>\n",
       "      <td>70926</td>\n",
       "      <td>define pissant</td>\n",
       "      <td>112178</td>\n",
       "      <td>define mentally</td>\n",
       "      <td>9.627835e-01</td>\n",
       "    </tr>\n",
       "    <tr>\n",
       "      <th>483662</th>\n",
       "      <td>483662</td>\n",
       "      <td>define corny</td>\n",
       "      <td>774740</td>\n",
       "      <td>define mentally</td>\n",
       "      <td>9.529935e-01</td>\n",
       "    </tr>\n",
       "    <tr>\n",
       "      <th>340311</th>\n",
       "      <td>340311</td>\n",
       "      <td>define scathe</td>\n",
       "      <td>555735</td>\n",
       "      <td>define mentally</td>\n",
       "      <td>9.495116e-01</td>\n",
       "    </tr>\n",
       "    <tr>\n",
       "      <th>485911</th>\n",
       "      <td>485911</td>\n",
       "      <td>define mote</td>\n",
       "      <td>778867</td>\n",
       "      <td>define mentally</td>\n",
       "      <td>9.494941e-01</td>\n",
       "    </tr>\n",
       "    <tr>\n",
       "      <th>429167</th>\n",
       "      <td>429167</td>\n",
       "      <td>define coss</td>\n",
       "      <td>705392</td>\n",
       "      <td>define mentally</td>\n",
       "      <td>9.468670e-01</td>\n",
       "    </tr>\n",
       "    <tr>\n",
       "      <th>39983</th>\n",
       "      <td>39983</td>\n",
       "      <td>define logorrhea</td>\n",
       "      <td>60879</td>\n",
       "      <td>define mentally</td>\n",
       "      <td>9.454870e-01</td>\n",
       "    </tr>\n",
       "    <tr>\n",
       "      <th>374262</th>\n",
       "      <td>374262</td>\n",
       "      <td>define callow</td>\n",
       "      <td>611096</td>\n",
       "      <td>define mentally</td>\n",
       "      <td>9.439466e-01</td>\n",
       "    </tr>\n",
       "    <tr>\n",
       "      <th>415147</th>\n",
       "      <td>415147</td>\n",
       "      <td>define ff</td>\n",
       "      <td>679502</td>\n",
       "      <td>define mentally</td>\n",
       "      <td>9.431165e-01</td>\n",
       "    </tr>\n",
       "    <tr>\n",
       "      <th>29553</th>\n",
       "      <td>29553</td>\n",
       "      <td>define jibes</td>\n",
       "      <td>43686</td>\n",
       "      <td>define mentally</td>\n",
       "      <td>9.403343e-01</td>\n",
       "    </tr>\n",
       "    <tr>\n",
       "      <th>283388</th>\n",
       "      <td>283388</td>\n",
       "      <td>define tendentious</td>\n",
       "      <td>463005</td>\n",
       "      <td>define mentally</td>\n",
       "      <td>9.362892e-01</td>\n",
       "    </tr>\n",
       "    <tr>\n",
       "      <th>161755</th>\n",
       "      <td>161755</td>\n",
       "      <td>define fop</td>\n",
       "      <td>262611</td>\n",
       "      <td>define mentally</td>\n",
       "      <td>9.330655e-01</td>\n",
       "    </tr>\n",
       "    <tr>\n",
       "      <th>110649</th>\n",
       "      <td>110649</td>\n",
       "      <td>define blackmailing</td>\n",
       "      <td>177969</td>\n",
       "      <td>define mentally</td>\n",
       "      <td>9.315797e-01</td>\n",
       "    </tr>\n",
       "    <tr>\n",
       "      <th>489449</th>\n",
       "      <td>489449</td>\n",
       "      <td>define defection</td>\n",
       "      <td>785403</td>\n",
       "      <td>define mentally</td>\n",
       "      <td>9.304295e-01</td>\n",
       "    </tr>\n",
       "    <tr>\n",
       "      <th>421090</th>\n",
       "      <td>421090</td>\n",
       "      <td>define reverberating</td>\n",
       "      <td>690522</td>\n",
       "      <td>define mentally</td>\n",
       "      <td>9.292377e-01</td>\n",
       "    </tr>\n",
       "    <tr>\n",
       "      <th>343856</th>\n",
       "      <td>343856</td>\n",
       "      <td>define moratorium</td>\n",
       "      <td>561635</td>\n",
       "      <td>define mentally</td>\n",
       "      <td>9.273492e-01</td>\n",
       "    </tr>\n",
       "    <tr>\n",
       "      <th>423425</th>\n",
       "      <td>423425</td>\n",
       "      <td>define dove;;;;;;;;;;;;;;;;;;;;;;;;;;;;;;</td>\n",
       "      <td>694797</td>\n",
       "      <td>define mentally</td>\n",
       "      <td>9.253891e-01</td>\n",
       "    </tr>\n",
       "    <tr>\n",
       "      <th>303497</th>\n",
       "      <td>303497</td>\n",
       "      <td>define dove''</td>\n",
       "      <td>495762</td>\n",
       "      <td>define mentally</td>\n",
       "      <td>9.253891e-01</td>\n",
       "    </tr>\n",
       "    <tr>\n",
       "      <th>118894</th>\n",
       "      <td>118894</td>\n",
       "      <td>define: teetotaler</td>\n",
       "      <td>191712</td>\n",
       "      <td>define mentally</td>\n",
       "      <td>9.250439e-01</td>\n",
       "    </tr>\n",
       "    <tr>\n",
       "      <th>284307</th>\n",
       "      <td>284307</td>\n",
       "      <td>define heptagon</td>\n",
       "      <td>464497</td>\n",
       "      <td>define mentally</td>\n",
       "      <td>9.240517e-01</td>\n",
       "    </tr>\n",
       "    <tr>\n",
       "      <th>124323</th>\n",
       "      <td>124323</td>\n",
       "      <td>define cartoon</td>\n",
       "      <td>200674</td>\n",
       "      <td>define mentally</td>\n",
       "      <td>9.229994e-01</td>\n",
       "    </tr>\n",
       "    <tr>\n",
       "      <th>10326</th>\n",
       "      <td>10326</td>\n",
       "      <td>undulating define</td>\n",
       "      <td>15424</td>\n",
       "      <td>define mentally</td>\n",
       "      <td>9.218497e-01</td>\n",
       "    </tr>\n",
       "    <tr>\n",
       "      <th>61107</th>\n",
       "      <td>61107</td>\n",
       "      <td>define present-day</td>\n",
       "      <td>95784</td>\n",
       "      <td>define mentally</td>\n",
       "      <td>9.216861e-01</td>\n",
       "    </tr>\n",
       "    <tr>\n",
       "      <th>163581</th>\n",
       "      <td>163581</td>\n",
       "      <td>define espionage</td>\n",
       "      <td>265667</td>\n",
       "      <td>define mentally</td>\n",
       "      <td>9.208345e-01</td>\n",
       "    </tr>\n",
       "    <tr>\n",
       "      <th>314965</th>\n",
       "      <td>314965</td>\n",
       "      <td>define tyrannical</td>\n",
       "      <td>514404</td>\n",
       "      <td>define mentally</td>\n",
       "      <td>9.197819e-01</td>\n",
       "    </tr>\n",
       "    <tr>\n",
       "      <th>259888</th>\n",
       "      <td>259888</td>\n",
       "      <td>define stutter</td>\n",
       "      <td>424215</td>\n",
       "      <td>define mentally</td>\n",
       "      <td>9.194291e-01</td>\n",
       "    </tr>\n",
       "    <tr>\n",
       "      <th>120364</th>\n",
       "      <td>120364</td>\n",
       "      <td>define platitude</td>\n",
       "      <td>194117</td>\n",
       "      <td>define mentally</td>\n",
       "      <td>9.176989e-01</td>\n",
       "    </tr>\n",
       "    <tr>\n",
       "      <th>458393</th>\n",
       "      <td>458393</td>\n",
       "      <td>define feckless</td>\n",
       "      <td>737812</td>\n",
       "      <td>define mentally</td>\n",
       "      <td>9.175865e-01</td>\n",
       "    </tr>\n",
       "    <tr>\n",
       "      <th>68173</th>\n",
       "      <td>68173</td>\n",
       "      <td>define evidential</td>\n",
       "      <td>107615</td>\n",
       "      <td>define mentally</td>\n",
       "      <td>9.152346e-01</td>\n",
       "    </tr>\n",
       "    <tr>\n",
       "      <th>264679</th>\n",
       "      <td>264679</td>\n",
       "      <td>define temptress</td>\n",
       "      <td>432142</td>\n",
       "      <td>define mentally</td>\n",
       "      <td>9.146000e-01</td>\n",
       "    </tr>\n",
       "    <tr>\n",
       "      <th>...</th>\n",
       "      <td>...</td>\n",
       "      <td>...</td>\n",
       "      <td>...</td>\n",
       "      <td>...</td>\n",
       "      <td>...</td>\n",
       "    </tr>\n",
       "    <tr>\n",
       "      <th>242870</th>\n",
       "      <td>242870</td>\n",
       "      <td>how long is mercury's rotation to the sun</td>\n",
       "      <td>396289</td>\n",
       "      <td>define mentally</td>\n",
       "      <td>2.270487e-06</td>\n",
       "    </tr>\n",
       "    <tr>\n",
       "      <th>423639</th>\n",
       "      <td>423639</td>\n",
       "      <td>are docm documents accessible</td>\n",
       "      <td>695196</td>\n",
       "      <td>define mentally</td>\n",
       "      <td>2.232619e-06</td>\n",
       "    </tr>\n",
       "    <tr>\n",
       "      <th>239600</th>\n",
       "      <td>239600</td>\n",
       "      <td>what percentage does odsp charge for overpayment</td>\n",
       "      <td>390942</td>\n",
       "      <td>define mentally</td>\n",
       "      <td>2.214263e-06</td>\n",
       "    </tr>\n",
       "    <tr>\n",
       "      <th>182393</th>\n",
       "      <td>182393</td>\n",
       "      <td>population of calistoga ca</td>\n",
       "      <td>296760</td>\n",
       "      <td>define mentally</td>\n",
       "      <td>2.169111e-06</td>\n",
       "    </tr>\n",
       "    <tr>\n",
       "      <th>343619</th>\n",
       "      <td>343619</td>\n",
       "      <td>what language is qlikview</td>\n",
       "      <td>561243</td>\n",
       "      <td>define mentally</td>\n",
       "      <td>2.160479e-06</td>\n",
       "    </tr>\n",
       "    <tr>\n",
       "      <th>195179</th>\n",
       "      <td>195179</td>\n",
       "      <td>how much does victoza pens cost</td>\n",
       "      <td>317890</td>\n",
       "      <td>define mentally</td>\n",
       "      <td>1.993039e-06</td>\n",
       "    </tr>\n",
       "    <tr>\n",
       "      <th>458487</th>\n",
       "      <td>458487</td>\n",
       "      <td>average temperature weihai</td>\n",
       "      <td>737919</td>\n",
       "      <td>define mentally</td>\n",
       "      <td>1.962660e-06</td>\n",
       "    </tr>\n",
       "    <tr>\n",
       "      <th>373193</th>\n",
       "      <td>373193</td>\n",
       "      <td>when to take rmd age</td>\n",
       "      <td>609354</td>\n",
       "      <td>define mentally</td>\n",
       "      <td>1.896015e-06</td>\n",
       "    </tr>\n",
       "    <tr>\n",
       "      <th>27132</th>\n",
       "      <td>27132</td>\n",
       "      <td>which of newton's laws reworked galileo's conc...</td>\n",
       "      <td>40182</td>\n",
       "      <td>define mentally</td>\n",
       "      <td>1.893432e-06</td>\n",
       "    </tr>\n",
       "    <tr>\n",
       "      <th>208771</th>\n",
       "      <td>208771</td>\n",
       "      <td>what is generic name for comfortis?</td>\n",
       "      <td>340273</td>\n",
       "      <td>define mentally</td>\n",
       "      <td>1.730678e-06</td>\n",
       "    </tr>\n",
       "    <tr>\n",
       "      <th>251206</th>\n",
       "      <td>251206</td>\n",
       "      <td>how many times a day should victoza be taken</td>\n",
       "      <td>409942</td>\n",
       "      <td>define mentally</td>\n",
       "      <td>1.509081e-06</td>\n",
       "    </tr>\n",
       "    <tr>\n",
       "      <th>164854</th>\n",
       "      <td>164854</td>\n",
       "      <td>is taleo a product</td>\n",
       "      <td>267792</td>\n",
       "      <td>define mentally</td>\n",
       "      <td>1.495749e-06</td>\n",
       "    </tr>\n",
       "    <tr>\n",
       "      <th>15647</th>\n",
       "      <td>15647</td>\n",
       "      <td>what does xarelto treat</td>\n",
       "      <td>23374</td>\n",
       "      <td>define mentally</td>\n",
       "      <td>1.306552e-06</td>\n",
       "    </tr>\n",
       "    <tr>\n",
       "      <th>321247</th>\n",
       "      <td>321247</td>\n",
       "      <td>what otc can be taken for pain if i take xarelto</td>\n",
       "      <td>524642</td>\n",
       "      <td>define mentally</td>\n",
       "      <td>1.198817e-06</td>\n",
       "    </tr>\n",
       "    <tr>\n",
       "      <th>1353</th>\n",
       "      <td>1353</td>\n",
       "      <td>exede wildblue customer service phone number</td>\n",
       "      <td>2072</td>\n",
       "      <td>define mentally</td>\n",
       "      <td>1.198104e-06</td>\n",
       "    </tr>\n",
       "    <tr>\n",
       "      <th>127092</th>\n",
       "      <td>127092</td>\n",
       "      <td>what has to go on fbar form</td>\n",
       "      <td>205219</td>\n",
       "      <td>define mentally</td>\n",
       "      <td>1.146030e-06</td>\n",
       "    </tr>\n",
       "    <tr>\n",
       "      <th>138135</th>\n",
       "      <td>138135</td>\n",
       "      <td>fbar filing requirements</td>\n",
       "      <td>223456</td>\n",
       "      <td>define mentally</td>\n",
       "      <td>1.060350e-06</td>\n",
       "    </tr>\n",
       "    <tr>\n",
       "      <th>278976</th>\n",
       "      <td>278976</td>\n",
       "      <td>what is the required minimum distribution rmd</td>\n",
       "      <td>455753</td>\n",
       "      <td>define mentally</td>\n",
       "      <td>9.948566e-07</td>\n",
       "    </tr>\n",
       "    <tr>\n",
       "      <th>209542</th>\n",
       "      <td>209542</td>\n",
       "      <td>does victoza increase cholesterol levels</td>\n",
       "      <td>341567</td>\n",
       "      <td>define mentally</td>\n",
       "      <td>9.884908e-07</td>\n",
       "    </tr>\n",
       "    <tr>\n",
       "      <th>418928</th>\n",
       "      <td>418928</td>\n",
       "      <td>average fee to set up smsf</td>\n",
       "      <td>686551</td>\n",
       "      <td>define mentally</td>\n",
       "      <td>9.698091e-07</td>\n",
       "    </tr>\n",
       "    <tr>\n",
       "      <th>20991</th>\n",
       "      <td>20991</td>\n",
       "      <td>what is the length of mercury's day</td>\n",
       "      <td>31144</td>\n",
       "      <td>define mentally</td>\n",
       "      <td>8.995918e-07</td>\n",
       "    </tr>\n",
       "    <tr>\n",
       "      <th>171431</th>\n",
       "      <td>171431</td>\n",
       "      <td>what did betty friedan write</td>\n",
       "      <td>278560</td>\n",
       "      <td>define mentally</td>\n",
       "      <td>8.508803e-07</td>\n",
       "    </tr>\n",
       "    <tr>\n",
       "      <th>360479</th>\n",
       "      <td>360479</td>\n",
       "      <td>what is the difference between xarelto and lov...</td>\n",
       "      <td>588591</td>\n",
       "      <td>define mentally</td>\n",
       "      <td>6.676141e-07</td>\n",
       "    </tr>\n",
       "    <tr>\n",
       "      <th>80773</th>\n",
       "      <td>80773</td>\n",
       "      <td>what is cgrp monoclonal antibodies</td>\n",
       "      <td>128501</td>\n",
       "      <td>define mentally</td>\n",
       "      <td>6.450589e-07</td>\n",
       "    </tr>\n",
       "    <tr>\n",
       "      <th>115919</th>\n",
       "      <td>115919</td>\n",
       "      <td>how to configure nodejs as a server on windows</td>\n",
       "      <td>186720</td>\n",
       "      <td>define mentally</td>\n",
       "      <td>6.363339e-07</td>\n",
       "    </tr>\n",
       "    <tr>\n",
       "      <th>204216</th>\n",
       "      <td>204216</td>\n",
       "      <td>what is gatsby's true background</td>\n",
       "      <td>332741</td>\n",
       "      <td>define mentally</td>\n",
       "      <td>5.793555e-07</td>\n",
       "    </tr>\n",
       "    <tr>\n",
       "      <th>491961</th>\n",
       "      <td>491961</td>\n",
       "      <td>what are xarelto tablets used for</td>\n",
       "      <td>789837</td>\n",
       "      <td>define mentally</td>\n",
       "      <td>5.747871e-07</td>\n",
       "    </tr>\n",
       "    <tr>\n",
       "      <th>361469</th>\n",
       "      <td>361469</td>\n",
       "      <td>what kind mountain did mount mazama produce?</td>\n",
       "      <td>590209</td>\n",
       "      <td>define mentally</td>\n",
       "      <td>4.977576e-07</td>\n",
       "    </tr>\n",
       "    <tr>\n",
       "      <th>381973</th>\n",
       "      <td>381973</td>\n",
       "      <td>what kind of organ did ray manzarek play</td>\n",
       "      <td>623746</td>\n",
       "      <td>define mentally</td>\n",
       "      <td>2.748824e-07</td>\n",
       "    </tr>\n",
       "    <tr>\n",
       "      <th>183666</th>\n",
       "      <td>183666</td>\n",
       "      <td>what did galileo's father teach him</td>\n",
       "      <td>298875</td>\n",
       "      <td>define mentally</td>\n",
       "      <td>2.391278e-07</td>\n",
       "    </tr>\n",
       "  </tbody>\n",
       "</table>\n",
       "<p>503370 rows × 5 columns</p>\n",
       "</div>"
      ],
      "text/plain": [
       "             0                                          question1       2  \\\n",
       "398244  398244                                      define messrs  650445   \n",
       "70926    70926                                     define pissant  112178   \n",
       "483662  483662                                       define corny  774740   \n",
       "340311  340311                                      define scathe  555735   \n",
       "485911  485911                                        define mote  778867   \n",
       "429167  429167                                        define coss  705392   \n",
       "39983    39983                                   define logorrhea   60879   \n",
       "374262  374262                                      define callow  611096   \n",
       "415147  415147                                          define ff  679502   \n",
       "29553    29553                                       define jibes   43686   \n",
       "283388  283388                                 define tendentious  463005   \n",
       "161755  161755                                         define fop  262611   \n",
       "110649  110649                                define blackmailing  177969   \n",
       "489449  489449                                   define defection  785403   \n",
       "421090  421090                               define reverberating  690522   \n",
       "343856  343856                                  define moratorium  561635   \n",
       "423425  423425          define dove;;;;;;;;;;;;;;;;;;;;;;;;;;;;;;  694797   \n",
       "303497  303497                                      define dove''  495762   \n",
       "118894  118894                                 define: teetotaler  191712   \n",
       "284307  284307                                    define heptagon  464497   \n",
       "124323  124323                                     define cartoon  200674   \n",
       "10326    10326                                  undulating define   15424   \n",
       "61107    61107                                 define present-day   95784   \n",
       "163581  163581                                   define espionage  265667   \n",
       "314965  314965                                  define tyrannical  514404   \n",
       "259888  259888                                     define stutter  424215   \n",
       "120364  120364                                   define platitude  194117   \n",
       "458393  458393                                    define feckless  737812   \n",
       "68173    68173                                  define evidential  107615   \n",
       "264679  264679                                   define temptress  432142   \n",
       "...        ...                                                ...     ...   \n",
       "242870  242870          how long is mercury's rotation to the sun  396289   \n",
       "423639  423639                      are docm documents accessible  695196   \n",
       "239600  239600   what percentage does odsp charge for overpayment  390942   \n",
       "182393  182393                         population of calistoga ca  296760   \n",
       "343619  343619                          what language is qlikview  561243   \n",
       "195179  195179                    how much does victoza pens cost  317890   \n",
       "458487  458487                         average temperature weihai  737919   \n",
       "373193  373193                               when to take rmd age  609354   \n",
       "27132    27132  which of newton's laws reworked galileo's conc...   40182   \n",
       "208771  208771                what is generic name for comfortis?  340273   \n",
       "251206  251206       how many times a day should victoza be taken  409942   \n",
       "164854  164854                                 is taleo a product  267792   \n",
       "15647    15647                            what does xarelto treat   23374   \n",
       "321247  321247   what otc can be taken for pain if i take xarelto  524642   \n",
       "1353      1353       exede wildblue customer service phone number    2072   \n",
       "127092  127092                        what has to go on fbar form  205219   \n",
       "138135  138135                           fbar filing requirements  223456   \n",
       "278976  278976      what is the required minimum distribution rmd  455753   \n",
       "209542  209542           does victoza increase cholesterol levels  341567   \n",
       "418928  418928                         average fee to set up smsf  686551   \n",
       "20991    20991                what is the length of mercury's day   31144   \n",
       "171431  171431                       what did betty friedan write  278560   \n",
       "360479  360479  what is the difference between xarelto and lov...  588591   \n",
       "80773    80773                 what is cgrp monoclonal antibodies  128501   \n",
       "115919  115919     how to configure nodejs as a server on windows  186720   \n",
       "204216  204216                   what is gatsby's true background  332741   \n",
       "491961  491961                  what are xarelto tablets used for  789837   \n",
       "361469  361469       what kind mountain did mount mazama produce?  590209   \n",
       "381973  381973           what kind of organ did ray manzarek play  623746   \n",
       "183666  183666                what did galileo's father teach him  298875   \n",
       "\n",
       "              question2          prob  \n",
       "398244  define mentally  9.640142e-01  \n",
       "70926   define mentally  9.627835e-01  \n",
       "483662  define mentally  9.529935e-01  \n",
       "340311  define mentally  9.495116e-01  \n",
       "485911  define mentally  9.494941e-01  \n",
       "429167  define mentally  9.468670e-01  \n",
       "39983   define mentally  9.454870e-01  \n",
       "374262  define mentally  9.439466e-01  \n",
       "415147  define mentally  9.431165e-01  \n",
       "29553   define mentally  9.403343e-01  \n",
       "283388  define mentally  9.362892e-01  \n",
       "161755  define mentally  9.330655e-01  \n",
       "110649  define mentally  9.315797e-01  \n",
       "489449  define mentally  9.304295e-01  \n",
       "421090  define mentally  9.292377e-01  \n",
       "343856  define mentally  9.273492e-01  \n",
       "423425  define mentally  9.253891e-01  \n",
       "303497  define mentally  9.253891e-01  \n",
       "118894  define mentally  9.250439e-01  \n",
       "284307  define mentally  9.240517e-01  \n",
       "124323  define mentally  9.229994e-01  \n",
       "10326   define mentally  9.218497e-01  \n",
       "61107   define mentally  9.216861e-01  \n",
       "163581  define mentally  9.208345e-01  \n",
       "314965  define mentally  9.197819e-01  \n",
       "259888  define mentally  9.194291e-01  \n",
       "120364  define mentally  9.176989e-01  \n",
       "458393  define mentally  9.175865e-01  \n",
       "68173   define mentally  9.152346e-01  \n",
       "264679  define mentally  9.146000e-01  \n",
       "...                 ...           ...  \n",
       "242870  define mentally  2.270487e-06  \n",
       "423639  define mentally  2.232619e-06  \n",
       "239600  define mentally  2.214263e-06  \n",
       "182393  define mentally  2.169111e-06  \n",
       "343619  define mentally  2.160479e-06  \n",
       "195179  define mentally  1.993039e-06  \n",
       "458487  define mentally  1.962660e-06  \n",
       "373193  define mentally  1.896015e-06  \n",
       "27132   define mentally  1.893432e-06  \n",
       "208771  define mentally  1.730678e-06  \n",
       "251206  define mentally  1.509081e-06  \n",
       "164854  define mentally  1.495749e-06  \n",
       "15647   define mentally  1.306552e-06  \n",
       "321247  define mentally  1.198817e-06  \n",
       "1353    define mentally  1.198104e-06  \n",
       "127092  define mentally  1.146030e-06  \n",
       "138135  define mentally  1.060350e-06  \n",
       "278976  define mentally  9.948566e-07  \n",
       "209542  define mentally  9.884908e-07  \n",
       "418928  define mentally  9.698091e-07  \n",
       "20991   define mentally  8.995918e-07  \n",
       "171431  define mentally  8.508803e-07  \n",
       "360479  define mentally  6.676141e-07  \n",
       "80773   define mentally  6.450589e-07  \n",
       "115919  define mentally  6.363339e-07  \n",
       "204216  define mentally  5.793555e-07  \n",
       "491961  define mentally  5.747871e-07  \n",
       "361469  define mentally  4.977576e-07  \n",
       "381973  define mentally  2.748824e-07  \n",
       "183666  define mentally  2.391278e-07  \n",
       "\n",
       "[503370 rows x 5 columns]"
      ]
     },
     "execution_count": 15,
     "metadata": {},
     "output_type": "execute_result"
    }
   ],
   "source": [
    "X_ind = X.reset_index()\n",
    "merge_questions = pd.concat([X_ind, pd.Series(y_probs)], axis=1, sort=False, ignore_index=True)\n",
    "merge_questions = merge_questions.rename(columns={1:'question1', 3:'question2', 4:'prob'})\n",
    "merge_questions.sort_values('prob', ascending=False)"
   ]
  },
  {
   "cell_type": "markdown",
   "metadata": {},
   "source": [
    "## App data\n",
    "\n",
    "All data below needs to be pre-calculated"
   ]
  },
  {
   "cell_type": "code",
   "execution_count": 7,
   "metadata": {
    "ExecuteTime": {
     "end_time": "2018-12-08T04:23:11.195609Z",
     "start_time": "2018-12-08T04:19:31.473014Z"
    }
   },
   "outputs": [
    {
     "name": "stdout",
     "output_type": "stream",
     "text": [
      "CPU times: user 3min 55s, sys: 1min 5s, total: 5min\n",
      "Wall time: 3min 39s\n"
     ]
    }
   ],
   "source": [
    "%%time\n",
    "cleaned_questions = utils.clean_questions(questions)\n",
    "lemma_questions = utils.apply_lemma(cleaned_questions)\n",
    "\n",
    "utils.save(cleaned_questions, 'cleaned_questions')\n",
    "utils.save(lemma_questions, 'lemma_questions')"
   ]
  },
  {
   "cell_type": "code",
   "execution_count": 8,
   "metadata": {
    "ExecuteTime": {
     "end_time": "2018-12-08T04:23:11.203365Z",
     "start_time": "2018-12-08T04:23:11.198225Z"
    }
   },
   "outputs": [],
   "source": [
    "def tokenize_questions(X):\n",
    "    texts = []\n",
    "    for doc in utils.nlp.pipe(X, disable=['parser', 'ner'], batch_size=10000):\n",
    "        texts.append(doc.to_array([utils.spacy.attrs.LOWER]))\n",
    "    return texts"
   ]
  },
  {
   "cell_type": "code",
   "execution_count": 9,
   "metadata": {
    "ExecuteTime": {
     "end_time": "2018-12-08T04:29:57.916974Z",
     "start_time": "2018-12-08T04:23:11.207949Z"
    }
   },
   "outputs": [
    {
     "name": "stdout",
     "output_type": "stream",
     "text": [
      "CPU times: user 7min 20s, sys: 1min 49s, total: 9min 10s\n",
      "Wall time: 6min 46s\n"
     ]
    }
   ],
   "source": [
    "%%time\n",
    "clean_tokens = tokenize_questions(cleaned_questions)\n",
    "lemma_tokens = tokenize_questions(lemma_questions)\n",
    "\n",
    "utils.save(clean_tokens, 'clean_tokens')\n",
    "utils.save(lemma_tokens, 'lemma_tokens')"
   ]
  },
  {
   "cell_type": "code",
   "execution_count": 15,
   "metadata": {
    "ExecuteTime": {
     "end_time": "2018-12-08T14:24:21.698076Z",
     "start_time": "2018-12-08T14:24:21.690838Z"
    }
   },
   "outputs": [],
   "source": [
    "# build features on the cleaned text only\n",
    "clean_text_features = Pipeline(\n",
    "    [\n",
    "        ('clean', FunctionTransformer(utils.clean_questions, validate=False)),\n",
    "        ('dist', FunctionTransformer(utils.add_min_max_avg_distance_features, validate=False))\n",
    "    ]\n",
    ")\n",
    "\n",
    "# build features on the cleanned and lemmatized text features\n",
    "lemma_text_features = Pipeline(\n",
    "    [\n",
    "        ('clean', FunctionTransformer(utils.clean_questions, validate=False)),\n",
    "        ('lemma', lemma_text),\n",
    "        ('dist', FunctionTransformer(utils.add_min_max_avg_distance_features, validate=False))\n",
    "    ]\n",
    ")\n"
   ]
  },
  {
   "cell_type": "code",
   "execution_count": 19,
   "metadata": {
    "ExecuteTime": {
     "end_time": "2018-12-08T14:55:19.603135Z",
     "start_time": "2018-12-08T14:41:03.258227Z"
    }
   },
   "outputs": [
    {
     "name": "stdout",
     "output_type": "stream",
     "text": [
      "CPU times: user 17min 31s, sys: 3min 15s, total: 20min 46s\n",
      "Wall time: 14min 16s\n"
     ]
    }
   ],
   "source": [
    "%%time\n",
    "clean_question_features = clean_text_features.transform(questions)\n",
    "lemma_question_features = lemma_text_features.transform(questions)\n",
    "\n",
    "utils.save(clean_question_features, 'clean_question_features')\n",
    "utils.save(lemma_question_features, 'lemma_question_features')"
   ]
  },
  {
   "cell_type": "code",
   "execution_count": 68,
   "metadata": {
    "ExecuteTime": {
     "end_time": "2018-12-04T04:30:01.860742Z",
     "start_time": "2018-12-04T04:30:01.722166Z"
    }
   },
   "outputs": [],
   "source": [
    "xgb = utils.load('xgb_FINAL_model')"
   ]
  },
  {
   "cell_type": "code",
   "execution_count": 45,
   "metadata": {
    "ExecuteTime": {
     "end_time": "2018-12-04T04:14:19.338571Z",
     "start_time": "2018-12-04T04:14:19.329468Z"
    }
   },
   "outputs": [],
   "source": [
    "def ngram_similarity(q_token, token_db,  n_grams=[1, 2, 3]):\n",
    "    ''' Calculates the ngram similarity between a pair of questions. Similarity is defined as,\n",
    "            2 · ( |S1| / |S1 ∩ S2| + |S2| / |S1 ∩ S2|)^−1\n",
    "        where S_i is the ngrams for question i\n",
    "        \n",
    "        n_grams: list\n",
    "        List of n-grams to calculate, i.e. [1, 2, 3]\n",
    "        \n",
    "        return: array-like (n_pairs, len(n_grams))\n",
    "        N-dimensional array of n_gram similarity calculated for the different n_grams.\n",
    "        \n",
    "    '''\n",
    "    ngram_sim = []\n",
    "    ngram_q2 = [set(ngrams(q_token, i, pad_right=True)) for i in n_grams]\n",
    "    for t in token_db:\n",
    "        ngram_q1 = [set(ngrams(t, i, pad_right=True)) for i in n_grams]\n",
    "\n",
    "        doc_ngram_sim = []\n",
    "        for i in range(len(ngram_q1)):\n",
    "            try:\n",
    "                s1 = len(ngram_q1[i]) / len(ngram_q1[i].intersection(ngram_q2[i]))\n",
    "            except:\n",
    "                s1 = 0\n",
    "\n",
    "            try:\n",
    "                s2 = len(ngram_q2[i]) / len(ngram_q1[i].intersection(ngram_q2[i]))\n",
    "            except:\n",
    "                s2 = 0\n",
    "\n",
    "            if s1 == 0 and s2 == 0:\n",
    "                doc_ngram_sim.append(0)\n",
    "            else:\n",
    "                doc_ngram_sim.append(2 * (s1 + s2)**-1)\n",
    "        ngram_sim.append(doc_ngram_sim)\n",
    "        \n",
    "    return np.array(ngram_sim)\n"
   ]
  },
  {
   "cell_type": "code",
   "execution_count": 83,
   "metadata": {
    "ExecuteTime": {
     "end_time": "2018-12-04T04:38:28.702793Z",
     "start_time": "2018-12-04T04:38:28.690052Z"
    }
   },
   "outputs": [],
   "source": [
    "def ask_question(question):\n",
    "    \n",
    "    question_clean = utils.clean_questions([question]) ## returns an array\n",
    "    ## if question is a duplicate after cleaning, then return the answer\n",
    "    if question_clean[0] in cleaned_questions:\n",
    "        return question_clean\n",
    "    \n",
    "    ## else run the model\n",
    "    else:    \n",
    "        ## Feature Set 1 -- clean text similarity\n",
    "        ## create the tokens for the question\n",
    "        doc = utils.nlp(question_clean[0])\n",
    "        question_tokens = doc.to_array([utils.spacy.attrs.LOWER])\n",
    "        clean_n_gram = ngram_similarity(question_tokens, clean_tokens)\n",
    "\n",
    "        ## Feature Set 2 -- Clean distance features\n",
    "        # union single question features\n",
    "        question_features = clean_text_features.transform([question]) \n",
    "        clean_single_features = np.hstack([clean_question_features, \n",
    "                                           np.repeat(question_features, clean_question_features.shape[0], axis=0)])\n",
    "        \n",
    "\n",
    "        ## Feature Set 3 -- Lemma text similarity\n",
    "        # calculate n_gram similarity for the cleaned and lemmatized question\n",
    "        question_lemma = utils.apply_lemma(question_clean)\n",
    "        doc = utils.nlp(question_lemma[0])\n",
    "        question_tokens = doc.to_array([utils.spacy.attrs.LOWER])\n",
    "        lemma_n_gram = ngram_similarity(question_tokens, lemma_tokens)\n",
    "\n",
    "\n",
    "        ## Feature Set 4 -- Lemma distance features\n",
    "        # union single question features\n",
    "        question_features = lemma_text_features.transform([question]) \n",
    "        lemma_single_features = np.hstack([lemma_question_features, \n",
    "                                           np.repeat(question_features, lemma_question_features.shape[0], axis=0)])\n",
    "\n",
    "    ### Transform through the whole pipeline\n",
    "#     df_cleaned_questions['question2'] = question\n",
    "    \n",
    "#     feature_space = feature_pipe.transform(df_cleaned_questions[:5000])\n",
    "\n",
    "        # make the prediction\n",
    "        feature_space = np.hstack([clean_n_gram, clean_single_features, lemma_n_gram, lemma_single_features])\n",
    "        probs = xgb.predict_proba(feature_space)[:, 1]\n",
    "\n",
    "        top = probs.argsort()[-3:]\n",
    "        top_question = np.array(qa_df.iloc[top]).reshape(len(top), -1)\n",
    "        top_probs = probs[top].reshape(-1, 1)\n",
    "\n",
    "#     return None\n",
    "#     return pd.DataFrame(np.hstack([top_question, top_probs]))\n",
    "        return feature_space, pd.DataFrame(np.hstack([top_question, top_probs]))"
   ]
  },
  {
   "cell_type": "code",
   "execution_count": 74,
   "metadata": {
    "ExecuteTime": {
     "end_time": "2018-12-04T04:32:01.794703Z",
     "start_time": "2018-12-04T04:32:01.788882Z"
    }
   },
   "outputs": [
    {
     "data": {
      "text/plain": [
       "['do owls eat in the day']"
      ]
     },
     "execution_count": 74,
     "metadata": {},
     "output_type": "execute_result"
    }
   ],
   "source": [
    "ask_question('do owls eat in the day')"
   ]
  },
  {
   "cell_type": "code",
   "execution_count": 64,
   "metadata": {
    "ExecuteTime": {
     "end_time": "2018-12-04T04:27:27.376424Z",
     "start_time": "2018-12-04T04:27:22.357628Z"
    }
   },
   "outputs": [
    {
     "data": {
      "text/plain": [
       "(101093, 42)"
      ]
     },
     "execution_count": 64,
     "metadata": {},
     "output_type": "execute_result"
    }
   ],
   "source": [
    "ask_question('do owls eat at night')"
   ]
  },
  {
   "cell_type": "code",
   "execution_count": 84,
   "metadata": {
    "ExecuteTime": {
     "end_time": "2018-12-04T04:38:40.988266Z",
     "start_time": "2018-12-04T04:38:33.843680Z"
    }
   },
   "outputs": [],
   "source": [
    "features, top_results = ask_question('what causes earthquakes')"
   ]
  },
  {
   "cell_type": "code",
   "execution_count": 19,
   "metadata": {
    "ExecuteTime": {
     "end_time": "2018-12-04T03:53:14.980903Z",
     "start_time": "2018-12-04T03:53:14.975373Z"
    }
   },
   "outputs": [
    {
     "data": {
      "text/plain": [
       "True"
      ]
     },
     "execution_count": 19,
     "metadata": {},
     "output_type": "execute_result"
    }
   ],
   "source": [
    "'do owls eat in the day' in cleaned_questions"
   ]
  },
  {
   "cell_type": "code",
   "execution_count": 250,
   "metadata": {
    "ExecuteTime": {
     "end_time": "2018-12-04T00:31:16.220318Z",
     "start_time": "2018-12-04T00:31:16.198741Z"
    }
   },
   "outputs": [
    {
     "data": {
      "text/html": [
       "<div>\n",
       "<style scoped>\n",
       "    .dataframe tbody tr th:only-of-type {\n",
       "        vertical-align: middle;\n",
       "    }\n",
       "\n",
       "    .dataframe tbody tr th {\n",
       "        vertical-align: top;\n",
       "    }\n",
       "\n",
       "    .dataframe thead th {\n",
       "        text-align: right;\n",
       "    }\n",
       "</style>\n",
       "<table border=\"1\" class=\"dataframe\">\n",
       "  <thead>\n",
       "    <tr style=\"text-align: right;\">\n",
       "      <th></th>\n",
       "      <th>question1</th>\n",
       "      <th>id</th>\n",
       "      <th>question2</th>\n",
       "    </tr>\n",
       "  </thead>\n",
       "  <tbody>\n",
       "    <tr>\n",
       "      <th>4</th>\n",
       "      <td>do owls eat in the day</td>\n",
       "      <td>4</td>\n",
       "      <td>do owls eat in the day</td>\n",
       "    </tr>\n",
       "  </tbody>\n",
       "</table>\n",
       "</div>"
      ],
      "text/plain": [
       "                question1  id               question2\n",
       "4  do owls eat in the day   4  do owls eat in the day"
      ]
     },
     "execution_count": 250,
     "metadata": {},
     "output_type": "execute_result"
    }
   ],
   "source": [
    "df[df.question1 == 'do owls eat in the day']"
   ]
  },
  {
   "cell_type": "code",
   "execution_count": 85,
   "metadata": {
    "ExecuteTime": {
     "end_time": "2018-12-04T04:38:45.130976Z",
     "start_time": "2018-12-04T04:38:45.106027Z"
    }
   },
   "outputs": [
    {
     "data": {
      "text/html": [
       "<div>\n",
       "<style scoped>\n",
       "    .dataframe tbody tr th:only-of-type {\n",
       "        vertical-align: middle;\n",
       "    }\n",
       "\n",
       "    .dataframe tbody tr th {\n",
       "        vertical-align: top;\n",
       "    }\n",
       "\n",
       "    .dataframe thead th {\n",
       "        text-align: right;\n",
       "    }\n",
       "</style>\n",
       "<table border=\"1\" class=\"dataframe\">\n",
       "  <thead>\n",
       "    <tr style=\"text-align: right;\">\n",
       "      <th></th>\n",
       "      <th>0</th>\n",
       "      <th>1</th>\n",
       "      <th>2</th>\n",
       "      <th>3</th>\n",
       "      <th>4</th>\n",
       "      <th>5</th>\n",
       "      <th>6</th>\n",
       "    </tr>\n",
       "  </thead>\n",
       "  <tbody>\n",
       "    <tr>\n",
       "      <th>0</th>\n",
       "      <td>[No Answer Present.]</td>\n",
       "      <td>[{'is_selected': 0, 'passage_text': 'What is a...</td>\n",
       "      <td>what causes boil water notice</td>\n",
       "      <td>586008</td>\n",
       "      <td>DESCRIPTION</td>\n",
       "      <td>[]</td>\n",
       "      <td>0.861625</td>\n",
       "    </tr>\n",
       "    <tr>\n",
       "      <th>1</th>\n",
       "      <td>[Humans can cause earthquakes by triggering se...</td>\n",
       "      <td>[{'is_selected': 0, 'passage_text': 'An uptick...</td>\n",
       "      <td>how can humans cause earthquakes</td>\n",
       "      <td>210161</td>\n",
       "      <td>DESCRIPTION</td>\n",
       "      <td>[]</td>\n",
       "      <td>0.863643</td>\n",
       "    </tr>\n",
       "    <tr>\n",
       "      <th>2</th>\n",
       "      <td>[Stasis dermatitis cause extremely sensitive a...</td>\n",
       "      <td>[{'is_selected': 0, 'passage_text': 'Poor circ...</td>\n",
       "      <td>stasis dermatitis causes</td>\n",
       "      <td>1090422</td>\n",
       "      <td>DESCRIPTION</td>\n",
       "      <td>[]</td>\n",
       "      <td>0.895012</td>\n",
       "    </tr>\n",
       "  </tbody>\n",
       "</table>\n",
       "</div>"
      ],
      "text/plain": [
       "                                                   0  \\\n",
       "0                               [No Answer Present.]   \n",
       "1  [Humans can cause earthquakes by triggering se...   \n",
       "2  [Stasis dermatitis cause extremely sensitive a...   \n",
       "\n",
       "                                                   1  \\\n",
       "0  [{'is_selected': 0, 'passage_text': 'What is a...   \n",
       "1  [{'is_selected': 0, 'passage_text': 'An uptick...   \n",
       "2  [{'is_selected': 0, 'passage_text': 'Poor circ...   \n",
       "\n",
       "                                  2        3            4   5         6  \n",
       "0     what causes boil water notice   586008  DESCRIPTION  []  0.861625  \n",
       "1  how can humans cause earthquakes   210161  DESCRIPTION  []  0.863643  \n",
       "2          stasis dermatitis causes  1090422  DESCRIPTION  []  0.895012  "
      ]
     },
     "execution_count": 85,
     "metadata": {},
     "output_type": "execute_result"
    }
   ],
   "source": [
    "top_results # full pipeline"
   ]
  },
  {
   "cell_type": "code",
   "execution_count": 72,
   "metadata": {
    "ExecuteTime": {
     "end_time": "2018-12-04T04:30:52.782047Z",
     "start_time": "2018-12-04T04:30:52.762947Z"
    }
   },
   "outputs": [
    {
     "data": {
      "text/html": [
       "<div>\n",
       "<style scoped>\n",
       "    .dataframe tbody tr th:only-of-type {\n",
       "        vertical-align: middle;\n",
       "    }\n",
       "\n",
       "    .dataframe tbody tr th {\n",
       "        vertical-align: top;\n",
       "    }\n",
       "\n",
       "    .dataframe thead th {\n",
       "        text-align: right;\n",
       "    }\n",
       "</style>\n",
       "<table border=\"1\" class=\"dataframe\">\n",
       "  <thead>\n",
       "    <tr style=\"text-align: right;\">\n",
       "      <th></th>\n",
       "      <th>0</th>\n",
       "      <th>1</th>\n",
       "    </tr>\n",
       "  </thead>\n",
       "  <tbody>\n",
       "    <tr>\n",
       "      <th>0</th>\n",
       "      <td>what causes fingers to swell at night</td>\n",
       "      <td>0.2007</td>\n",
       "    </tr>\n",
       "    <tr>\n",
       "      <th>1</th>\n",
       "      <td>what causes swelling in hands at night</td>\n",
       "      <td>0.30395</td>\n",
       "    </tr>\n",
       "    <tr>\n",
       "      <th>2</th>\n",
       "      <td>do owls eat in the day</td>\n",
       "      <td>0.408373</td>\n",
       "    </tr>\n",
       "  </tbody>\n",
       "</table>\n",
       "</div>"
      ],
      "text/plain": [
       "                                        0         1\n",
       "0   what causes fingers to swell at night    0.2007\n",
       "1  what causes swelling in hands at night   0.30395\n",
       "2                  do owls eat in the day  0.408373"
      ]
     },
     "execution_count": 72,
     "metadata": {},
     "output_type": "execute_result"
    }
   ],
   "source": [
    "top_results # opt pipeline"
   ]
  },
  {
   "cell_type": "code",
   "execution_count": 251,
   "metadata": {
    "ExecuteTime": {
     "end_time": "2018-12-04T00:31:19.812406Z",
     "start_time": "2018-12-04T00:31:19.805782Z"
    }
   },
   "outputs": [
    {
     "data": {
      "text/plain": [
       "array([  1.        ,   1.        ,   1.        ,   4.63359628,\n",
       "         8.4752183 ,   6.82304781,   0.44451424,   0.94712703,\n",
       "         0.66871357,  62.24226321, 115.15204134,  92.26256858,\n",
       "         4.63359628,   8.4752183 ,   6.82304781,   0.44451424,\n",
       "         0.94712703,   0.66871357,  62.24226321, 115.15204134,\n",
       "        92.26256858,   1.        ,   1.        ,   1.        ,\n",
       "         6.72955502,   8.34001638,   7.60125726,   0.55986509,\n",
       "         0.79268708,   0.69988742,  92.72933482, 111.52220958,\n",
       "       102.69947146,   6.72955502,   8.34001638,   7.60125726,\n",
       "         0.55986509,   0.79268708,   0.69988742,  92.72933482,\n",
       "       111.52220958, 102.69947146])"
      ]
     },
     "execution_count": 251,
     "metadata": {},
     "output_type": "execute_result"
    }
   ],
   "source": [
    "features[4]"
   ]
  },
  {
   "cell_type": "code",
   "execution_count": 214,
   "metadata": {
    "ExecuteTime": {
     "end_time": "2018-12-03T23:49:32.003905Z",
     "start_time": "2018-12-03T23:49:31.373839Z"
    }
   },
   "outputs": [],
   "source": [
    "probs = xgb.predict_proba(features)[:, 1]"
   ]
  },
  {
   "cell_type": "code",
   "execution_count": 218,
   "metadata": {
    "ExecuteTime": {
     "end_time": "2018-12-03T23:52:10.725666Z",
     "start_time": "2018-12-03T23:52:10.710249Z"
    }
   },
   "outputs": [
    {
     "data": {
      "text/plain": [
       "array([0.1619365], dtype=float32)"
      ]
     },
     "execution_count": 218,
     "metadata": {},
     "output_type": "execute_result"
    }
   ],
   "source": [
    "xgb.predict_proba(features[20546].reshape(1, -1))[:, 1]"
   ]
  },
  {
   "cell_type": "code",
   "execution_count": 216,
   "metadata": {
    "ExecuteTime": {
     "end_time": "2018-12-03T23:49:46.126962Z",
     "start_time": "2018-12-03T23:49:46.120556Z"
    }
   },
   "outputs": [
    {
     "data": {
      "text/plain": [
       "0.1619365"
      ]
     },
     "execution_count": 216,
     "metadata": {},
     "output_type": "execute_result"
    }
   ],
   "source": [
    "probs[20546]"
   ]
  },
  {
   "cell_type": "code",
   "execution_count": 220,
   "metadata": {
    "ExecuteTime": {
     "end_time": "2018-12-03T23:54:01.994430Z",
     "start_time": "2018-12-03T23:54:01.329860Z"
    }
   },
   "outputs": [
    {
     "name": "stdout",
     "output_type": "stream",
     "text": [
      "[0.02938479 0.02320101 0.01954768 0.01709631 0.0290843  0.02475091\n",
      " 0.02119247 0.03724498 0.03382888 0.01341136 0.02718646 0.02229954\n",
      " 0.01790289 0.02774    0.02487743 0.0211134  0.03670726 0.03213665\n",
      " 0.0142812  0.02740788 0.02233117 0.02340661 0.01603669 0.01205124\n",
      " 0.02133481 0.02304286 0.02117666 0.02979598 0.03019137 0.02762929\n",
      " 0.01991143 0.02397596 0.02027519 0.0207022  0.02217302 0.0199747\n",
      " 0.02709157 0.03117191 0.02400759 0.01902578 0.02492488 0.01937371]\n"
     ]
    }
   ],
   "source": [
    "import matplotlib.pyplot as plt\n",
    "print(xgb.feature_importances_)"
   ]
  },
  {
   "cell_type": "code",
   "execution_count": 221,
   "metadata": {
    "ExecuteTime": {
     "end_time": "2018-12-03T23:54:25.300115Z",
     "start_time": "2018-12-03T23:54:24.515844Z"
    }
   },
   "outputs": [
    {
     "data": {
      "image/png": "[encoded data removed]",
      "text/plain": [
       "<Figure size 432x288 with 1 Axes>"
      ]
     },
     "metadata": {
      "needs_background": "light"
     },
     "output_type": "display_data"
    }
   ],
   "source": [
    "plt.bar(range(len(xgb.feature_importances_)), xgb.feature_importances_)\n",
    "plt.show()"
   ]
  },
  {
   "cell_type": "code",
   "execution_count": 240,
   "metadata": {
    "ExecuteTime": {
     "end_time": "2018-12-04T00:20:58.111285Z",
     "start_time": "2018-12-04T00:20:57.499153Z"
    }
   },
   "outputs": [
    {
     "data": {
      "image/png": "[encoded data removed]",
      "text/plain": [
       "<Figure size 432x288 with 1 Axes>"
      ]
     },
     "metadata": {
      "needs_background": "light"
     },
     "output_type": "display_data"
    }
   ],
   "source": [
    "from xgboost import plot_importance\n",
    "plot_importance(xgb, max_num_features=10)\n",
    "plt.show()"
   ]
  },
  {
   "cell_type": "code",
   "execution_count": 236,
   "metadata": {
    "ExecuteTime": {
     "end_time": "2018-12-04T00:10:16.738589Z",
     "start_time": "2018-12-04T00:10:16.731657Z"
    }
   },
   "outputs": [
    {
     "name": "stdout",
     "output_type": "stream",
     "text": [
      "42\n"
     ]
    }
   ],
   "source": [
    "feature_names = [\n",
    "    'clean_1_gram_sim',\n",
    "    'clean_2_gram_sim',\n",
    "    'clean_3_gram_sim',\n",
    "    'clean_euc_min_q1',\n",
    "    'clean_euc_max_q1',\n",
    "    'clean_euc_avg_q1',\n",
    "    'clean_cos_min_q1',\n",
    "    'clean_cos_max_q1',\n",
    "    'clean_cos_avg_q1',\n",
    "    'clean_man_min_q1',\n",
    "    'clean_man_max_q1',\n",
    "    'clean_man_avg_q1',\n",
    "    'clean_euc_min_q2',\n",
    "    'clean_euc_max_q2',\n",
    "    'clean_euc_avg_q2',\n",
    "    'clean_cos_min_q2',\n",
    "    'clean_cos_max_q2',\n",
    "    'clean_cos_avg_q2',\n",
    "    'clean_man_min_q2',\n",
    "    'clean_man_max_q2',\n",
    "    'clean_man_avg_q2',\n",
    "    'lemma_1_gram_sim',\n",
    "    'lemma_2_gram_sim',\n",
    "    'lemma_3_gram_sim',\n",
    "    'lemma_euc_min_q1',\n",
    "    'lemma_euc_max_q1',\n",
    "    'lemma_euc_avg_q1',\n",
    "    'lemma_cos_min_q1',\n",
    "    'lemma_cos_max_q1',\n",
    "    'lemma_cos_avg_q1',\n",
    "    'lemma_man_min_q1',\n",
    "    'lemma_man_max_q1',\n",
    "    'lemma_man_avg_q1',\n",
    "    'lemma_euc_min_q2',\n",
    "    'lemma_euc_max_q2',\n",
    "    'lemma_euc_avg_q2',\n",
    "    'lemma_cos_min_q2',\n",
    "    'lemma_cos_max_q2',\n",
    "    'lemma_cos_avg_q2',\n",
    "    'lemma_man_min_q2',\n",
    "    'lemma_man_max_q2',\n",
    "    'lemma_man_avg_q1'\n",
    "    \n",
    "]\n",
    "print(len(feature_names))"
   ]
  },
  {
   "cell_type": "code",
   "execution_count": 253,
   "metadata": {
    "ExecuteTime": {
     "end_time": "2018-12-04T00:32:47.442417Z",
     "start_time": "2018-12-04T00:32:47.436600Z"
    }
   },
   "outputs": [
    {
     "name": "stdout",
     "output_type": "stream",
     "text": [
      "clean_cos_max_q1\n",
      "clean_cos_max_q2\n",
      "clean_cos_avg_q1\n",
      "clean_cos_avg_q2\n",
      "lemma_cos_max_q2\n",
      "lemma_cos_max_q1\n",
      "lemma_cos_min_q1\n",
      "clean_1_gram_sim\n",
      "clean_euc_max_q1\n",
      "clean_euc_max_q2\n"
     ]
    }
   ],
   "source": [
    "def print_features(l=[7, 16, 8, 17, 37, 28, 27, 0, 4, 13]):\n",
    "    for n in l:\n",
    "#         print(n)\n",
    "        print(feature_names[n])\n",
    "print_features()"
   ]
  },
  {
   "cell_type": "code",
   "execution_count": 238,
   "metadata": {
    "ExecuteTime": {
     "end_time": "2018-12-04T00:10:47.723638Z",
     "start_time": "2018-12-04T00:10:47.717112Z"
    }
   },
   "outputs": [
    {
     "data": {
      "text/plain": [
       "array([0.96252071, 1.08482914, 0.72458074, 0.68943047, 1.06595845])"
      ]
     },
     "execution_count": 238,
     "metadata": {},
     "output_type": "execute_result"
    }
   ],
   "source": [
    "features[20456, [7, 16, 8, 17, 37]]"
   ]
  },
  {
   "cell_type": "code",
   "execution_count": 239,
   "metadata": {
    "ExecuteTime": {
     "end_time": "2018-12-04T00:17:54.734779Z",
     "start_time": "2018-12-04T00:17:54.477510Z"
    }
   },
   "outputs": [
    {
     "data": {
      "text/plain": [
       "{'f1': 1467,\n",
       " 'f21': 1480,\n",
       " 'f0': 1858,\n",
       " 'f28': 1909,\n",
       " 'f7': 2355,\n",
       " 'f29': 1747,\n",
       " 'f6': 1340,\n",
       " 'f8': 2139,\n",
       " 'f12': 1132,\n",
       " 'f4': 1839,\n",
       " 'f16': 2321,\n",
       " 'f2': 1236,\n",
       " 'f27': 1884,\n",
       " 'f17': 2032,\n",
       " 'f39': 1203,\n",
       " 'f22': 1014,\n",
       " 'f13': 1754,\n",
       " 'f18': 903,\n",
       " 'f10': 1719,\n",
       " 'f37': 1971,\n",
       " 'f19': 1733,\n",
       " 'f23': 762,\n",
       " 'f38': 1518,\n",
       " 'f34': 1402,\n",
       " 'f5': 1565,\n",
       " 'f24': 1349,\n",
       " 'f3': 1081,\n",
       " 'f25': 1457,\n",
       " 'f32': 1282,\n",
       " 'f41': 1225,\n",
       " 'f15': 1335,\n",
       " 'f35': 1263,\n",
       " 'f20': 1412,\n",
       " 'f26': 1339,\n",
       " 'f31': 1516,\n",
       " 'f33': 1309,\n",
       " 'f9': 848,\n",
       " 'f36': 1713,\n",
       " 'f30': 1259,\n",
       " 'f40': 1576,\n",
       " 'f11': 1410,\n",
       " 'f14': 1573}"
      ]
     },
     "execution_count": 239,
     "metadata": {},
     "output_type": "execute_result"
    }
   ],
   "source": [
    "xgb.get_booster().get_fscore()"
   ]
  },
  {
   "cell_type": "code",
   "execution_count": null,
   "metadata": {
    "ExecuteTime": {
     "end_time": "2018-12-03T23:20:18.259810Z",
     "start_time": "2018-12-03T22:57:47.802917Z"
    }
   },
   "outputs": [],
   "source": [
    "#### ask_question('What is the capital of Washington?')\n",
    "# ask_question('noncontagious definition')\n",
    "ask_question('where is the stamen located in a flower')"
   ]
  },
  {
   "cell_type": "code",
   "execution_count": 188,
   "metadata": {
    "ExecuteTime": {
     "end_time": "2018-12-03T22:52:14.744702Z",
     "start_time": "2018-12-03T22:52:14.716704Z"
    }
   },
   "outputs": [
    {
     "data": {
      "text/plain": [
       "27505    where is the stamen located in a flower\n",
       "Name: query, dtype: object"
      ]
     },
     "execution_count": 188,
     "metadata": {},
     "output_type": "execute_result"
    }
   ],
   "source": [
    "qa_df.loc[:, 'query'].sample()"
   ]
  },
  {
   "cell_type": "code",
   "execution_count": 167,
   "metadata": {
    "ExecuteTime": {
     "end_time": "2018-12-03T22:42:18.602685Z",
     "start_time": "2018-12-03T22:42:18.569767Z"
    }
   },
   "outputs": [
    {
     "data": {
      "text/plain": [
       "array([21032, 80760, 14203])"
      ]
     },
     "execution_count": 167,
     "metadata": {},
     "output_type": "execute_result"
    }
   ],
   "source": [
    "p.argsort()[-3:]"
   ]
  },
  {
   "cell_type": "code",
   "execution_count": 166,
   "metadata": {
    "ExecuteTime": {
     "end_time": "2018-12-03T22:41:52.857938Z",
     "start_time": "2018-12-03T22:41:52.817080Z"
    }
   },
   "outputs": [
    {
     "data": {
      "text/plain": [
       "27943     which is the original delmonico's\n",
       "81699               what state is borths in\n",
       "21797    what is the meaning of the bowery?\n",
       "Name: query, dtype: object"
      ]
     },
     "execution_count": 166,
     "metadata": {},
     "output_type": "execute_result"
    }
   ],
   "source": [
    "questions.iloc[p.argsort()[-3:]]\n",
    "# questions.iloc[1]"
   ]
  },
  {
   "cell_type": "code",
   "execution_count": 168,
   "metadata": {
    "ExecuteTime": {
     "end_time": "2018-12-03T22:42:57.920212Z",
     "start_time": "2018-12-03T22:42:57.851718Z"
    }
   },
   "outputs": [],
   "source": [
    "q_array = np.array(questions)"
   ]
  },
  {
   "cell_type": "code",
   "execution_count": 169,
   "metadata": {
    "ExecuteTime": {
     "end_time": "2018-12-03T22:43:12.448485Z",
     "start_time": "2018-12-03T22:43:12.441078Z"
    }
   },
   "outputs": [
    {
     "data": {
      "text/plain": [
       "'what is the meaning of the bowery?'"
      ]
     },
     "execution_count": 169,
     "metadata": {},
     "output_type": "execute_result"
    }
   ],
   "source": [
    "q_array[14203]"
   ]
  },
  {
   "cell_type": "code",
   "execution_count": 170,
   "metadata": {
    "ExecuteTime": {
     "end_time": "2018-12-03T22:43:30.215686Z",
     "start_time": "2018-12-03T22:43:30.207884Z"
    }
   },
   "outputs": [
    {
     "data": {
      "text/plain": [
       "'what state is borths in'"
      ]
     },
     "execution_count": 170,
     "metadata": {},
     "output_type": "execute_result"
    }
   ],
   "source": [
    "q_array[80760]"
   ]
  },
  {
   "cell_type": "code",
   "execution_count": null,
   "metadata": {},
   "outputs": [],
   "source": []
  },
  {
   "cell_type": "code",
   "execution_count": 72,
   "metadata": {
    "ExecuteTime": {
     "end_time": "2018-12-03T21:14:20.142131Z",
     "start_time": "2018-12-03T21:14:20.139127Z"
    }
   },
   "outputs": [],
   "source": [
    "q = ['What is the capital of Washington?']"
   ]
  },
  {
   "cell_type": "code",
   "execution_count": 76,
   "metadata": {
    "ExecuteTime": {
     "end_time": "2018-12-03T21:14:40.695255Z",
     "start_time": "2018-12-03T21:14:40.688795Z"
    }
   },
   "outputs": [
    {
     "data": {
      "text/plain": [
       "(2,)"
      ]
     },
     "execution_count": 76,
     "metadata": {},
     "output_type": "execute_result"
    }
   ],
   "source": [
    "np.repeat(q, 2, axis=0).shape"
   ]
  },
  {
   "cell_type": "code",
   "execution_count": 108,
   "metadata": {
    "ExecuteTime": {
     "end_time": "2018-12-03T21:48:42.964111Z",
     "start_time": "2018-12-03T21:48:31.913803Z"
    }
   },
   "outputs": [],
   "source": [
    "utils.save(token_text, 'questions_tokenized')\n"
   ]
  },
  {
   "cell_type": "code",
   "execution_count": 104,
   "metadata": {
    "ExecuteTime": {
     "end_time": "2018-12-03T21:47:44.281776Z",
     "start_time": "2018-12-03T21:47:44.277089Z"
    }
   },
   "outputs": [
    {
     "name": "stdout",
     "output_type": "stream",
     "text": [
      "<class 'numpy.ndarray'>\n"
     ]
    }
   ],
   "source": [
    "for t in token_text:\n",
    "    print(type(t))\n",
    "    break"
   ]
  },
  {
   "cell_type": "code",
   "execution_count": 97,
   "metadata": {
    "ExecuteTime": {
     "end_time": "2018-12-03T21:41:30.558965Z",
     "start_time": "2018-12-03T21:41:30.556004Z"
    }
   },
   "outputs": [],
   "source": [
    "from nltk import ngrams"
   ]
  },
  {
   "cell_type": "code",
   "execution_count": 107,
   "metadata": {
    "ExecuteTime": {
     "end_time": "2018-12-03T21:48:06.396701Z",
     "start_time": "2018-12-03T21:48:06.388831Z"
    }
   },
   "outputs": [
    {
     "name": "stdout",
     "output_type": "stream",
     "text": [
      "(8532415787641010193, 5865838185239622912, 3411606890003347522)\n",
      "(5865838185239622912, 3411606890003347522, 11901859001352538922)\n",
      "(3411606890003347522, 11901859001352538922, 14070511896034874754)\n",
      "(11901859001352538922, 14070511896034874754, None)\n",
      "(14070511896034874754, None, None)\n"
     ]
    }
   ],
   "source": [
    "for n in ngrams(np.array(token_text[0]), 3, pad_right=True):\n",
    "    print(n)"
   ]
  },
  {
   "cell_type": "code",
   "execution_count": 111,
   "metadata": {
    "ExecuteTime": {
     "end_time": "2018-12-03T21:50:51.607141Z",
     "start_time": "2018-12-03T21:50:51.555815Z"
    }
   },
   "outputs": [],
   "source": [
    "doc = utils.nlp('What is the capital of Washington?')\n",
    "q_tokens = doc.to_array([utils.spacy.attrs.LOWER])"
   ]
  },
  {
   "cell_type": "code",
   "execution_count": 116,
   "metadata": {
    "ExecuteTime": {
     "end_time": "2018-12-03T21:52:48.923895Z",
     "start_time": "2018-12-03T21:52:48.860107Z"
    }
   },
   "outputs": [
    {
     "ename": "ValueError",
     "evalue": "all the input array dimensions except for the concatenation axis must match exactly",
     "output_type": "error",
     "traceback": [
      "\u001b[0;31m---------------------------------------------------------------------------\u001b[0m",
      "\u001b[0;31mValueError\u001b[0m                                Traceback (most recent call last)",
      "\u001b[0;32m<ipython-input-116-de1a6a15089f>\u001b[0m in \u001b[0;36m<module>\u001b[0;34m\u001b[0m\n\u001b[0;32m----> 1\u001b[0;31m \u001b[0mnp\u001b[0m\u001b[0;34m.\u001b[0m\u001b[0mhstack\u001b[0m\u001b[0;34m(\u001b[0m\u001b[0;34m[\u001b[0m\u001b[0mnp\u001b[0m\u001b[0;34m.\u001b[0m\u001b[0marray\u001b[0m\u001b[0;34m(\u001b[0m\u001b[0mtoken_text\u001b[0m\u001b[0;34m)\u001b[0m\u001b[0;34m.\u001b[0m\u001b[0mreshape\u001b[0m\u001b[0;34m(\u001b[0m\u001b[0;34m-\u001b[0m\u001b[0;36m1\u001b[0m\u001b[0;34m,\u001b[0m \u001b[0;36m1\u001b[0m\u001b[0;34m)\u001b[0m\u001b[0;34m,\u001b[0m \u001b[0mnp\u001b[0m\u001b[0;34m.\u001b[0m\u001b[0mrepeat\u001b[0m\u001b[0;34m(\u001b[0m\u001b[0mq_tokens\u001b[0m\u001b[0;34m,\u001b[0m \u001b[0mlen\u001b[0m\u001b[0;34m(\u001b[0m\u001b[0mtoken_text\u001b[0m\u001b[0;34m)\u001b[0m\u001b[0;34m,\u001b[0m \u001b[0maxis\u001b[0m\u001b[0;34m=\u001b[0m\u001b[0;36m0\u001b[0m\u001b[0;34m)\u001b[0m\u001b[0;34m.\u001b[0m\u001b[0mreshape\u001b[0m\u001b[0;34m(\u001b[0m\u001b[0;36m1\u001b[0m\u001b[0;34m,\u001b[0m \u001b[0;34m-\u001b[0m\u001b[0;36m1\u001b[0m\u001b[0;34m)\u001b[0m\u001b[0;34m]\u001b[0m\u001b[0;34m)\u001b[0m\u001b[0;34m.\u001b[0m\u001b[0mshape\u001b[0m\u001b[0;34m\u001b[0m\u001b[0;34m\u001b[0m\u001b[0m\n\u001b[0m",
      "\u001b[0;32m/anaconda3/envs/project5/lib/python3.6/site-packages/numpy/core/shape_base.py\u001b[0m in \u001b[0;36mhstack\u001b[0;34m(tup)\u001b[0m\n\u001b[1;32m    286\u001b[0m         \u001b[0;32mreturn\u001b[0m \u001b[0m_nx\u001b[0m\u001b[0;34m.\u001b[0m\u001b[0mconcatenate\u001b[0m\u001b[0;34m(\u001b[0m\u001b[0marrs\u001b[0m\u001b[0;34m,\u001b[0m \u001b[0;36m0\u001b[0m\u001b[0;34m)\u001b[0m\u001b[0;34m\u001b[0m\u001b[0;34m\u001b[0m\u001b[0m\n\u001b[1;32m    287\u001b[0m     \u001b[0;32melse\u001b[0m\u001b[0;34m:\u001b[0m\u001b[0;34m\u001b[0m\u001b[0;34m\u001b[0m\u001b[0m\n\u001b[0;32m--> 288\u001b[0;31m         \u001b[0;32mreturn\u001b[0m \u001b[0m_nx\u001b[0m\u001b[0;34m.\u001b[0m\u001b[0mconcatenate\u001b[0m\u001b[0;34m(\u001b[0m\u001b[0marrs\u001b[0m\u001b[0;34m,\u001b[0m \u001b[0;36m1\u001b[0m\u001b[0;34m)\u001b[0m\u001b[0;34m\u001b[0m\u001b[0;34m\u001b[0m\u001b[0m\n\u001b[0m\u001b[1;32m    289\u001b[0m \u001b[0;34m\u001b[0m\u001b[0m\n\u001b[1;32m    290\u001b[0m \u001b[0;34m\u001b[0m\u001b[0m\n",
      "\u001b[0;31mValueError\u001b[0m: all the input array dimensions except for the concatenation axis must match exactly"
     ]
    }
   ],
   "source": [
    "np.hstack([np.array(token_text).reshape(-1, 1), np.repeat(q_tokens, len(token_text), axis=0).reshape(1, -1)]).shape"
   ]
  },
  {
   "cell_type": "code",
   "execution_count": 117,
   "metadata": {
    "ExecuteTime": {
     "end_time": "2018-12-03T21:53:04.627647Z",
     "start_time": "2018-12-03T21:53:04.608007Z"
    }
   },
   "outputs": [],
   "source": [
    "t = np.array(token_text).reshape(-1, 1)"
   ]
  },
  {
   "cell_type": "code",
   "execution_count": 118,
   "metadata": {
    "ExecuteTime": {
     "end_time": "2018-12-03T21:53:10.211888Z",
     "start_time": "2018-12-03T21:53:10.203881Z"
    }
   },
   "outputs": [
    {
     "data": {
      "text/plain": [
       "(101093, 1)"
      ]
     },
     "execution_count": 118,
     "metadata": {},
     "output_type": "execute_result"
    }
   ],
   "source": [
    "t.shape"
   ]
  },
  {
   "cell_type": "code",
   "execution_count": 119,
   "metadata": {
    "ExecuteTime": {
     "end_time": "2018-12-03T21:53:13.031477Z",
     "start_time": "2018-12-03T21:53:13.021936Z"
    }
   },
   "outputs": [
    {
     "data": {
      "text/plain": [
       "array([[array([ 8532415787641010193,  5865838185239622912,  3411606890003347522,\n",
       "       11901859001352538922, 14070511896034874754], dtype=uint64)],\n",
       "       [array([16315412628806490806, 13583488448875926965, 11779693057662023107,\n",
       "        2619154345045139155, 15597474948775060119, 15099054000809333061,\n",
       "        1920611397140219205,  3791531372978436496, 13569477888548814854],\n",
       "      dtype=uint64)],\n",
       "       [array([16315412628806490806, 13583488448875926965,  7425985699627899538,\n",
       "       11900862162089982680,  6184037061712818460,  3142894986720291236,\n",
       "        3791531372978436496, 17339002579355368042,  9095968958430269659,\n",
       "       10313580197444822952,  9952569212994313472], dtype=uint64)],\n",
       "       ...,\n",
       "       [array([16331095434822636218, 12965068231793614765,  3791531372978436496,\n",
       "        7340758616018961957, 10606469382566443026, 16929211676819693673],\n",
       "      dtype=uint64)],\n",
       "       [array([ 3077651023035088716,  6878210874361030284,  3791531372978436496,\n",
       "       13320680580156776400, 14122124674024302633,  8792669415580402476,\n",
       "        6471315918988267800,  3002984154512732771,  6578343785518939865],\n",
       "      dtype=uint64)],\n",
       "       [array([16331095434822636218,  3791531372978436496,  6502919589296598169,\n",
       "        9743534323633052289,  1031890164806390884,  3791531372978436496,\n",
       "       10778978370903211805], dtype=uint64)]], dtype=object)"
      ]
     },
     "execution_count": 119,
     "metadata": {},
     "output_type": "execute_result"
    }
   ],
   "source": [
    "t"
   ]
  },
  {
   "cell_type": "code",
   "execution_count": 127,
   "metadata": {
    "ExecuteTime": {
     "end_time": "2018-12-03T21:54:18.091574Z",
     "start_time": "2018-12-03T21:54:18.077218Z"
    }
   },
   "outputs": [],
   "source": [
    "v = np.repeat(q_tokens, len(token_text))"
   ]
  },
  {
   "cell_type": "code",
   "execution_count": 128,
   "metadata": {
    "ExecuteTime": {
     "end_time": "2018-12-03T21:54:18.681372Z",
     "start_time": "2018-12-03T21:54:18.675196Z"
    }
   },
   "outputs": [
    {
     "data": {
      "text/plain": [
       "(707651,)"
      ]
     },
     "execution_count": 128,
     "metadata": {},
     "output_type": "execute_result"
    }
   ],
   "source": [
    "v.shape"
   ]
  },
  {
   "cell_type": "code",
   "execution_count": 124,
   "metadata": {
    "ExecuteTime": {
     "end_time": "2018-12-03T21:54:05.425792Z",
     "start_time": "2018-12-03T21:54:05.416084Z"
    }
   },
   "outputs": [
    {
     "data": {
      "text/plain": [
       "101093"
      ]
     },
     "execution_count": 124,
     "metadata": {},
     "output_type": "execute_result"
    }
   ],
   "source": [
    "len(token_text)"
   ]
  },
  {
   "cell_type": "code",
   "execution_count": 133,
   "metadata": {
    "ExecuteTime": {
     "end_time": "2018-12-03T21:59:25.280060Z",
     "start_time": "2018-12-03T21:59:20.627818Z"
    }
   },
   "outputs": [
    {
     "name": "stdout",
     "output_type": "stream",
     "text": [
      "CPU times: user 3.62 s, sys: 69 ms, total: 3.69 s\n",
      "Wall time: 4.64 s\n"
     ]
    },
    {
     "data": {
      "text/plain": [
       "array([[0.33333333, 0.16666667, 0.        ],\n",
       "       [0.        , 0.        , 0.        ],\n",
       "       [0.11111111, 0.        , 0.        ],\n",
       "       ...,\n",
       "       [0.        , 0.        , 0.        ],\n",
       "       [0.        , 0.        , 0.        ],\n",
       "       [0.        , 0.        , 0.        ]])"
      ]
     },
     "execution_count": 133,
     "metadata": {},
     "output_type": "execute_result"
    }
   ],
   "source": [
    "%%time\n",
    "ngram_similarity(q_tokens)"
   ]
  },
  {
   "cell_type": "code",
   "execution_count": null,
   "metadata": {},
   "outputs": [],
   "source": []
  }
 ],
 "metadata": {
  "kernelspec": {
   "display_name": "Python 3",
   "language": "python",
   "name": "python3"
  },
  "language_info": {
   "codemirror_mode": {
    "name": "ipython",
    "version": 3
   },
   "file_extension": ".py",
   "mimetype": "text/x-python",
   "name": "python",
   "nbconvert_exporter": "python",
   "pygments_lexer": "ipython3",
   "version": "3.6.5"
  }
 },
 "nbformat": 4,
 "nbformat_minor": 2
}
