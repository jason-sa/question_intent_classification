{
 "cells": [
  {
   "cell_type": "code",
   "execution_count": 2,
   "metadata": {
    "ExecuteTime": {
     "end_time": "2018-12-05T04:23:22.277183Z",
     "start_time": "2018-12-05T04:23:05.665620Z"
    }
   },
   "outputs": [],
   "source": [
    "import utils\n",
    "import pandas as pd\n",
    "import numpy as np\n",
    "from nltk import ngrams"
   ]
  },
  {
   "cell_type": "code",
   "execution_count": 43,
   "metadata": {
    "ExecuteTime": {
     "end_time": "2018-12-05T04:52:01.125972Z",
     "start_time": "2018-12-05T04:52:01.120054Z"
    }
   },
   "outputs": [
    {
     "data": {
      "text/plain": [
       "'bot_app/data/'"
      ]
     },
     "execution_count": 43,
     "metadata": {},
     "output_type": "execute_result"
    }
   ],
   "source": [
    "utils.PATH = 'bot_app/data/'\n",
    "utils.PATH"
   ]
  },
  {
   "cell_type": "code",
   "execution_count": 4,
   "metadata": {
    "ExecuteTime": {
     "end_time": "2018-12-05T04:52:48.474640Z",
     "start_time": "2018-12-05T04:52:14.389056Z"
    }
   },
   "outputs": [
    {
     "ename": "ValueError",
     "evalue": "Could not reserve memory block",
     "output_type": "error",
     "traceback": [
      "\u001b[0;31m---------------------------------------------------------------------------\u001b[0m",
      "\u001b[0;31mValueError\u001b[0m                                Traceback (most recent call last)",
      "\u001b[0;32m<timed exec>\u001b[0m in \u001b[0;36m<module>\u001b[0;34m()\u001b[0m\n",
      "\u001b[0;32m~/anaconda3/envs/python3/lib/python3.6/site-packages/pandas/io/json/json.py\u001b[0m in \u001b[0;36mread_json\u001b[0;34m(path_or_buf, orient, typ, dtype, convert_axes, convert_dates, keep_default_dates, numpy, precise_float, date_unit, encoding, lines, chunksize, compression)\u001b[0m\n\u001b[1;32m    420\u001b[0m         \u001b[0;32mreturn\u001b[0m \u001b[0mjson_reader\u001b[0m\u001b[0;34m\u001b[0m\u001b[0m\n\u001b[1;32m    421\u001b[0m \u001b[0;34m\u001b[0m\u001b[0m\n\u001b[0;32m--> 422\u001b[0;31m     \u001b[0mresult\u001b[0m \u001b[0;34m=\u001b[0m \u001b[0mjson_reader\u001b[0m\u001b[0;34m.\u001b[0m\u001b[0mread\u001b[0m\u001b[0;34m(\u001b[0m\u001b[0;34m)\u001b[0m\u001b[0;34m\u001b[0m\u001b[0m\n\u001b[0m\u001b[1;32m    423\u001b[0m     \u001b[0;32mif\u001b[0m \u001b[0mshould_close\u001b[0m\u001b[0;34m:\u001b[0m\u001b[0;34m\u001b[0m\u001b[0m\n\u001b[1;32m    424\u001b[0m         \u001b[0;32mtry\u001b[0m\u001b[0;34m:\u001b[0m\u001b[0;34m\u001b[0m\u001b[0m\n",
      "\u001b[0;32m~/anaconda3/envs/python3/lib/python3.6/site-packages/pandas/io/json/json.py\u001b[0m in \u001b[0;36mread\u001b[0;34m(self)\u001b[0m\n\u001b[1;32m    527\u001b[0m             )\n\u001b[1;32m    528\u001b[0m         \u001b[0;32melse\u001b[0m\u001b[0;34m:\u001b[0m\u001b[0;34m\u001b[0m\u001b[0m\n\u001b[0;32m--> 529\u001b[0;31m             \u001b[0mobj\u001b[0m \u001b[0;34m=\u001b[0m \u001b[0mself\u001b[0m\u001b[0;34m.\u001b[0m\u001b[0m_get_object_parser\u001b[0m\u001b[0;34m(\u001b[0m\u001b[0mself\u001b[0m\u001b[0;34m.\u001b[0m\u001b[0mdata\u001b[0m\u001b[0;34m)\u001b[0m\u001b[0;34m\u001b[0m\u001b[0m\n\u001b[0m\u001b[1;32m    530\u001b[0m         \u001b[0mself\u001b[0m\u001b[0;34m.\u001b[0m\u001b[0mclose\u001b[0m\u001b[0;34m(\u001b[0m\u001b[0;34m)\u001b[0m\u001b[0;34m\u001b[0m\u001b[0m\n\u001b[1;32m    531\u001b[0m         \u001b[0;32mreturn\u001b[0m \u001b[0mobj\u001b[0m\u001b[0;34m\u001b[0m\u001b[0m\n",
      "\u001b[0;32m~/anaconda3/envs/python3/lib/python3.6/site-packages/pandas/io/json/json.py\u001b[0m in \u001b[0;36m_get_object_parser\u001b[0;34m(self, json)\u001b[0m\n\u001b[1;32m    544\u001b[0m         \u001b[0mobj\u001b[0m \u001b[0;34m=\u001b[0m \u001b[0;32mNone\u001b[0m\u001b[0;34m\u001b[0m\u001b[0m\n\u001b[1;32m    545\u001b[0m         \u001b[0;32mif\u001b[0m \u001b[0mtyp\u001b[0m \u001b[0;34m==\u001b[0m \u001b[0;34m'frame'\u001b[0m\u001b[0;34m:\u001b[0m\u001b[0;34m\u001b[0m\u001b[0m\n\u001b[0;32m--> 546\u001b[0;31m             \u001b[0mobj\u001b[0m \u001b[0;34m=\u001b[0m \u001b[0mFrameParser\u001b[0m\u001b[0;34m(\u001b[0m\u001b[0mjson\u001b[0m\u001b[0;34m,\u001b[0m \u001b[0;34m**\u001b[0m\u001b[0mkwargs\u001b[0m\u001b[0;34m)\u001b[0m\u001b[0;34m.\u001b[0m\u001b[0mparse\u001b[0m\u001b[0;34m(\u001b[0m\u001b[0;34m)\u001b[0m\u001b[0;34m\u001b[0m\u001b[0m\n\u001b[0m\u001b[1;32m    547\u001b[0m \u001b[0;34m\u001b[0m\u001b[0m\n\u001b[1;32m    548\u001b[0m         \u001b[0;32mif\u001b[0m \u001b[0mtyp\u001b[0m \u001b[0;34m==\u001b[0m \u001b[0;34m'series'\u001b[0m \u001b[0;32mor\u001b[0m \u001b[0mobj\u001b[0m \u001b[0;32mis\u001b[0m \u001b[0;32mNone\u001b[0m\u001b[0;34m:\u001b[0m\u001b[0;34m\u001b[0m\u001b[0m\n",
      "\u001b[0;32m~/anaconda3/envs/python3/lib/python3.6/site-packages/pandas/io/json/json.py\u001b[0m in \u001b[0;36mparse\u001b[0;34m(self)\u001b[0m\n\u001b[1;32m    636\u001b[0m \u001b[0;34m\u001b[0m\u001b[0m\n\u001b[1;32m    637\u001b[0m         \u001b[0;32melse\u001b[0m\u001b[0;34m:\u001b[0m\u001b[0;34m\u001b[0m\u001b[0m\n\u001b[0;32m--> 638\u001b[0;31m             \u001b[0mself\u001b[0m\u001b[0;34m.\u001b[0m\u001b[0m_parse_no_numpy\u001b[0m\u001b[0;34m(\u001b[0m\u001b[0;34m)\u001b[0m\u001b[0;34m\u001b[0m\u001b[0m\n\u001b[0m\u001b[1;32m    639\u001b[0m \u001b[0;34m\u001b[0m\u001b[0m\n\u001b[1;32m    640\u001b[0m         \u001b[0;32mif\u001b[0m \u001b[0mself\u001b[0m\u001b[0;34m.\u001b[0m\u001b[0mobj\u001b[0m \u001b[0;32mis\u001b[0m \u001b[0;32mNone\u001b[0m\u001b[0;34m:\u001b[0m\u001b[0;34m\u001b[0m\u001b[0m\n",
      "\u001b[0;32m~/anaconda3/envs/python3/lib/python3.6/site-packages/pandas/io/json/json.py\u001b[0m in \u001b[0;36m_parse_no_numpy\u001b[0;34m(self)\u001b[0m\n\u001b[1;32m    851\u001b[0m         \u001b[0;32mif\u001b[0m \u001b[0morient\u001b[0m \u001b[0;34m==\u001b[0m \u001b[0;34m\"columns\"\u001b[0m\u001b[0;34m:\u001b[0m\u001b[0;34m\u001b[0m\u001b[0m\n\u001b[1;32m    852\u001b[0m             self.obj = DataFrame(\n\u001b[0;32m--> 853\u001b[0;31m                 loads(json, precise_float=self.precise_float), dtype=None)\n\u001b[0m\u001b[1;32m    854\u001b[0m         \u001b[0;32melif\u001b[0m \u001b[0morient\u001b[0m \u001b[0;34m==\u001b[0m \u001b[0;34m\"split\"\u001b[0m\u001b[0;34m:\u001b[0m\u001b[0;34m\u001b[0m\u001b[0m\n\u001b[1;32m    855\u001b[0m             decoded = {str(k): v for k, v in compat.iteritems(\n",
      "\u001b[0;31mValueError\u001b[0m: Could not reserve memory block"
     ]
    }
   ],
   "source": [
    "%%time\n",
    "qa_df = pd.read_json('../data/ms_marco_large.json')\n",
    "\n",
    "# expand the answer list\n",
    "answers_expanded = qa_df.answers.apply(pd.Series)\n",
    "\n",
    "# rename each variable as answer\n",
    "answers_expanded = answers_expanded.rename(columns = lambda x : 'answer_' + str(x))\n",
    "answers_expanded.head()\n",
    "\n",
    "qa_df = pd.concat([qa_df, answers_expanded], axis=1)\n",
    "\n",
    "# remove questions without answers\n",
    "qa_df = qa_df[qa_df.answer_0 != 'No Answer Present.']\n",
    "\n",
    "# set the answer to the first element of each list\n",
    "qa_df.answers = qa_df.answer_0\n",
    "\n",
    "qa_df = qa_df.loc[:, ['answers', 'query']]\n",
    "\n",
    "utils.save(qa_df, 'qa_df')"
   ]
  },
  {
   "cell_type": "code",
   "execution_count": 49,
   "metadata": {
    "ExecuteTime": {
     "end_time": "2018-12-07T13:54:34.504716Z",
     "start_time": "2018-12-07T13:54:33.713361Z"
    }
   },
   "outputs": [
    {
     "data": {
      "text/html": [
       "<div>\n",
       "<style scoped>\n",
       "    .dataframe tbody tr th:only-of-type {\n",
       "        vertical-align: middle;\n",
       "    }\n",
       "\n",
       "    .dataframe tbody tr th {\n",
       "        vertical-align: top;\n",
       "    }\n",
       "\n",
       "    .dataframe thead th {\n",
       "        text-align: right;\n",
       "    }\n",
       "</style>\n",
       "<table border=\"1\" class=\"dataframe\">\n",
       "  <thead>\n",
       "    <tr style=\"text-align: right;\">\n",
       "      <th></th>\n",
       "      <th>answers</th>\n",
       "      <th>query</th>\n",
       "    </tr>\n",
       "  </thead>\n",
       "  <tbody>\n",
       "    <tr>\n",
       "      <th>63059</th>\n",
       "      <td>The dodge and burn Photoshop were used to eith...</td>\n",
       "      <td>what does dodge and burn photoshop do</td>\n",
       "    </tr>\n",
       "    <tr>\n",
       "      <th>16724</th>\n",
       "      <td>An expectorant, amino acid cysteine which is f...</td>\n",
       "      <td>what helps get rid of mucus</td>\n",
       "    </tr>\n",
       "    <tr>\n",
       "      <th>24519</th>\n",
       "      <td>The tip size is 000 for Victor torch.</td>\n",
       "      <td>what tip size for victor torch</td>\n",
       "    </tr>\n",
       "    <tr>\n",
       "      <th>33865</th>\n",
       "      <td>Related to the mind.</td>\n",
       "      <td>define mentally</td>\n",
       "    </tr>\n",
       "    <tr>\n",
       "      <th>44636</th>\n",
       "      <td>Lump sum is a single payment for the total amo...</td>\n",
       "      <td>lump sum payment definition</td>\n",
       "    </tr>\n",
       "  </tbody>\n",
       "</table>\n",
       "</div>"
      ],
      "text/plain": [
       "                                                 answers  \\\n",
       "63059  The dodge and burn Photoshop were used to eith...   \n",
       "16724  An expectorant, amino acid cysteine which is f...   \n",
       "24519              The tip size is 000 for Victor torch.   \n",
       "33865                               Related to the mind.   \n",
       "44636  Lump sum is a single payment for the total amo...   \n",
       "\n",
       "                                       query  \n",
       "63059  what does dodge and burn photoshop do  \n",
       "16724            what helps get rid of mucus  \n",
       "24519         what tip size for victor torch  \n",
       "33865                        define mentally  \n",
       "44636            lump sum payment definition  "
      ]
     },
     "execution_count": 49,
     "metadata": {},
     "output_type": "execute_result"
    }
   ],
   "source": [
    "qa_df.sample(5)"
   ]
  },
  {
   "cell_type": "markdown",
   "metadata": {
    "ExecuteTime": {
     "end_time": "2018-11-30T19:43:54.248117Z",
     "start_time": "2018-11-30T19:37:00.969224Z"
    }
   },
   "source": [
    "## Transform the questions into half of the feature space"
   ]
  },
  {
   "cell_type": "code",
   "execution_count": 28,
   "metadata": {
    "ExecuteTime": {
     "end_time": "2018-12-05T04:41:13.398388Z",
     "start_time": "2018-12-05T04:41:13.391383Z"
    }
   },
   "outputs": [],
   "source": [
    "questions = qa_df.loc[:, 'query']"
   ]
  },
  {
   "cell_type": "code",
   "execution_count": 29,
   "metadata": {
    "ExecuteTime": {
     "end_time": "2018-12-05T04:41:14.772191Z",
     "start_time": "2018-12-05T04:41:14.755428Z"
    }
   },
   "outputs": [
    {
     "data": {
      "text/plain": [
       "0                                  . what is a corporation?\n",
       "1         why did rachel carson write an obligation to e...\n",
       "10000                             symptoms of a dying mouse\n",
       "100000          average number of lightning strikes per day\n",
       "100001               can you burn your lawn with fertilizer\n",
       "100007                                         goch meaning\n",
       "10001                  symptoms of a gastric ulcer in women\n",
       "100010                        how often can ativan be taken\n",
       "100012    how many years did william bradford serve as g...\n",
       "100013                                 albany mn population\n",
       "Name: query, dtype: object"
      ]
     },
     "execution_count": 29,
     "metadata": {},
     "output_type": "execute_result"
    }
   ],
   "source": [
    "questions[:10]"
   ]
  },
  {
   "cell_type": "code",
   "execution_count": 30,
   "metadata": {
    "ExecuteTime": {
     "end_time": "2018-12-05T04:41:19.167908Z",
     "start_time": "2018-12-05T04:41:19.150650Z"
    }
   },
   "outputs": [],
   "source": [
    "from sklearn.pipeline import Pipeline, FeatureUnion\n",
    "from sklearn.preprocessing import FunctionTransformer\n"
   ]
  },
  {
   "cell_type": "code",
   "execution_count": 77,
   "metadata": {
    "ExecuteTime": {
     "end_time": "2018-12-07T15:56:45.616223Z",
     "start_time": "2018-12-07T15:56:45.516430Z"
    }
   },
   "outputs": [],
   "source": [
    "# text transformation pipes\n",
    "clean_text = Pipeline(\n",
    "    [\n",
    "        ('stack', FunctionTransformer(utils.stack_questions, validate=False)),\n",
    "        ('clean', FunctionTransformer(utils.clean_questions, validate=False))\n",
    "\n",
    "    ]\n",
    ")\n",
    "\n",
    "lemma_text = Pipeline(\n",
    "    [\n",
    "        ('lemma', FunctionTransformer(utils.apply_lemma, validate=False))\n",
    "    ]\n",
    ")\n",
    "\n",
    "# feature engineering pipes\n",
    "single_question_pipe = Pipeline(\n",
    "    [\n",
    "        ('dist', FunctionTransformer(utils.add_min_max_avg_distance_features, validate=False)),\n",
    "        ('unstack', FunctionTransformer(utils.unstack_questions, validate=False))\n",
    "    ]\n",
    ")\n",
    "\n",
    "pair_question_pipe = Pipeline(\n",
    "    [\n",
    "        ('ngram_sim', FunctionTransformer(utils.calc_ngram_similarity, kw_args={'n_grams':[1, 2, 3]}, validate=False))\n",
    "    ]\n",
    ")\n",
    "\n",
    "# build features on the cleaned text only\n",
    "clean_text_features = Pipeline(\n",
    "    [\n",
    "        ('clean', clean_text),\n",
    "        ('feats', FeatureUnion(\n",
    "            [\n",
    "                ('pair', pair_question_pipe),\n",
    "                ('single', single_question_pipe)\n",
    "            ]\n",
    "        ))\n",
    "    ]\n",
    ")\n",
    "\n",
    "# build features on the cleanned and lemmatized text features\n",
    "lemma_text_features = Pipeline(\n",
    "    [\n",
    "        ('clean', clean_text),\n",
    "        ('lemma', lemma_text),\n",
    "        ('feats', FeatureUnion(\n",
    "            [\n",
    "                ('pair', pair_question_pipe),\n",
    "                ('single', single_question_pipe)\n",
    "            ]\n",
    "        ))\n",
    "    ]\n",
    ")\n",
    "\n",
    "# pre-process pipe\n",
    "feature_transformation = Pipeline(\n",
    "    [\n",
    "        ('feats', FeatureUnion(\n",
    "            [\n",
    "                ('clean_text_features', clean_text_features),\n",
    "                ('lemma_text_features', lemma_text_features)\n",
    "            ],\n",
    "            n_jobs = -1\n",
    "        ))\n",
    "    ]\n",
    ")\n"
   ]
  },
  {
   "cell_type": "code",
   "execution_count": 99,
   "metadata": {
    "ExecuteTime": {
     "end_time": "2018-12-07T16:11:53.071309Z",
     "start_time": "2018-12-07T16:11:52.754527Z"
    }
   },
   "outputs": [
    {
     "data": {
      "text/html": [
       "<div>\n",
       "<style scoped>\n",
       "    .dataframe tbody tr th:only-of-type {\n",
       "        vertical-align: middle;\n",
       "    }\n",
       "\n",
       "    .dataframe tbody tr th {\n",
       "        vertical-align: top;\n",
       "    }\n",
       "\n",
       "    .dataframe thead th {\n",
       "        text-align: right;\n",
       "    }\n",
       "</style>\n",
       "<table border=\"1\" class=\"dataframe\">\n",
       "  <thead>\n",
       "    <tr style=\"text-align: right;\">\n",
       "      <th></th>\n",
       "      <th>question1</th>\n",
       "      <th>id</th>\n",
       "      <th>question2</th>\n",
       "    </tr>\n",
       "  </thead>\n",
       "  <tbody>\n",
       "    <tr>\n",
       "      <th>0</th>\n",
       "      <td>. what is a corporation?</td>\n",
       "      <td>0</td>\n",
       "      <td>define mentally</td>\n",
       "    </tr>\n",
       "    <tr>\n",
       "      <th>1</th>\n",
       "      <td>why did rachel carson write an obligation to e...</td>\n",
       "      <td>1</td>\n",
       "      <td>define mentally</td>\n",
       "    </tr>\n",
       "    <tr>\n",
       "      <th>2</th>\n",
       "      <td>why did the battle of berlin take place</td>\n",
       "      <td>6</td>\n",
       "      <td>define mentally</td>\n",
       "    </tr>\n",
       "    <tr>\n",
       "      <th>3</th>\n",
       "      <td>definition of ravines</td>\n",
       "      <td>8</td>\n",
       "      <td>define mentally</td>\n",
       "    </tr>\n",
       "    <tr>\n",
       "      <th>4</th>\n",
       "      <td>why did the sumerians develop writing?</td>\n",
       "      <td>11</td>\n",
       "      <td>define mentally</td>\n",
       "    </tr>\n",
       "  </tbody>\n",
       "</table>\n",
       "</div>"
      ],
      "text/plain": [
       "                                           question1  id        question2\n",
       "0                           . what is a corporation?   0  define mentally\n",
       "1  why did rachel carson write an obligation to e...   1  define mentally\n",
       "2            why did the battle of berlin take place   6  define mentally\n",
       "3                              definition of ravines   8  define mentally\n",
       "4             why did the sumerians develop writing?  11  define mentally"
      ]
     },
     "execution_count": 99,
     "metadata": {},
     "output_type": "execute_result"
    }
   ],
   "source": [
    "X = qa_df.rename(columns={'query':'question1'})\n",
    "X['id'] = X.index\n",
    "X['question2'] = 'define mentally'\n",
    "X = X.drop(columns='answers')\n",
    "X = X.sort_values('id').reset_index(drop=True)\n",
    "X.head()"
   ]
  },
  {
   "cell_type": "code",
   "execution_count": 100,
   "metadata": {
    "ExecuteTime": {
     "end_time": "2018-12-07T16:16:04.700238Z",
     "start_time": "2018-12-07T16:12:02.446756Z"
    }
   },
   "outputs": [
    {
     "name": "stdout",
     "output_type": "stream",
     "text": [
      "CPU times: user 127 ms, sys: 239 ms, total: 366 ms\n",
      "Wall time: 4min 2s\n"
     ]
    }
   ],
   "source": [
    "%%time\n",
    "X_transform = feature_transformation.transform(X)"
   ]
  },
  {
   "cell_type": "code",
   "execution_count": 101,
   "metadata": {
    "ExecuteTime": {
     "end_time": "2018-12-07T16:19:00.550375Z",
     "start_time": "2018-12-07T16:19:00.410275Z"
    }
   },
   "outputs": [
    {
     "data": {
      "text/plain": [
       "(55636, 42)"
      ]
     },
     "execution_count": 101,
     "metadata": {},
     "output_type": "execute_result"
    }
   ],
   "source": [
    "X_transform.shape"
   ]
  },
  {
   "cell_type": "code",
   "execution_count": 102,
   "metadata": {
    "ExecuteTime": {
     "end_time": "2018-12-07T16:19:02.316158Z",
     "start_time": "2018-12-07T16:19:02.247880Z"
    }
   },
   "outputs": [
    {
     "data": {
      "text/plain": [
       "array([ 0.        ,  0.        ,  0.        ,  7.2979822 ,  7.2979822 ,\n",
       "        7.2979822 ,  0.70618225,  0.70618225,  0.70618225, 99.20149679,\n",
       "       99.20149679, 99.20149679,  4.37212157,  7.16779371,  5.88214107,\n",
       "        0.36495314,  0.73614756,  0.56863723, 60.7455775 , 96.1907439 ,\n",
       "       80.25514047,  0.        ,  0.        ,  0.        ,  7.2979822 ,\n",
       "        7.2979822 ,  7.2979822 ,  0.70618225,  0.70618225,  0.70618225,\n",
       "       99.20149679, 99.20149679, 99.20149679,  0.        ,  0.        ,\n",
       "        0.        ,  0.        ,  0.        ,  0.        ,  0.        ,\n",
       "        0.        ,  0.        ])"
      ]
     },
     "execution_count": 102,
     "metadata": {},
     "output_type": "execute_result"
    }
   ],
   "source": [
    "X_transform[0]"
   ]
  },
  {
   "cell_type": "code",
   "execution_count": 103,
   "metadata": {
    "ExecuteTime": {
     "end_time": "2018-12-07T16:19:04.972760Z",
     "start_time": "2018-12-07T16:19:04.781411Z"
    }
   },
   "outputs": [
    {
     "data": {
      "text/html": [
       "<div>\n",
       "<style scoped>\n",
       "    .dataframe tbody tr th:only-of-type {\n",
       "        vertical-align: middle;\n",
       "    }\n",
       "\n",
       "    .dataframe tbody tr th {\n",
       "        vertical-align: top;\n",
       "    }\n",
       "\n",
       "    .dataframe thead th {\n",
       "        text-align: right;\n",
       "    }\n",
       "</style>\n",
       "<table border=\"1\" class=\"dataframe\">\n",
       "  <thead>\n",
       "    <tr style=\"text-align: right;\">\n",
       "      <th></th>\n",
       "      <th>question1</th>\n",
       "      <th>id</th>\n",
       "      <th>question2</th>\n",
       "    </tr>\n",
       "  </thead>\n",
       "  <tbody>\n",
       "    <tr>\n",
       "      <th>21959</th>\n",
       "      <td>define mentally</td>\n",
       "      <td>33865</td>\n",
       "      <td>define mentally</td>\n",
       "    </tr>\n",
       "  </tbody>\n",
       "</table>\n",
       "</div>"
      ],
      "text/plain": [
       "             question1     id        question2\n",
       "21959  define mentally  33865  define mentally"
      ]
     },
     "execution_count": 103,
     "metadata": {},
     "output_type": "execute_result"
    }
   ],
   "source": [
    "X[X.question1 == 'define mentally']"
   ]
  },
  {
   "cell_type": "code",
   "execution_count": 104,
   "metadata": {
    "ExecuteTime": {
     "end_time": "2018-12-07T16:19:07.272528Z",
     "start_time": "2018-12-07T16:19:07.225286Z"
    }
   },
   "outputs": [
    {
     "data": {
      "text/plain": [
       "21959"
      ]
     },
     "execution_count": 104,
     "metadata": {},
     "output_type": "execute_result"
    }
   ],
   "source": [
    "X.index.get_loc(21959)"
   ]
  },
  {
   "cell_type": "code",
   "execution_count": 105,
   "metadata": {
    "ExecuteTime": {
     "end_time": "2018-12-07T16:19:08.672384Z",
     "start_time": "2018-12-07T16:19:08.641699Z"
    }
   },
   "outputs": [
    {
     "data": {
      "text/plain": [
       "question1    define mentally\n",
       "id                     33865\n",
       "question2    define mentally\n",
       "Name: 21959, dtype: object"
      ]
     },
     "execution_count": 105,
     "metadata": {},
     "output_type": "execute_result"
    }
   ],
   "source": [
    "X.iloc[X.index.get_loc(21959)]"
   ]
  },
  {
   "cell_type": "code",
   "execution_count": 112,
   "metadata": {
    "ExecuteTime": {
     "end_time": "2018-12-07T16:21:44.050728Z",
     "start_time": "2018-12-07T16:21:44.033946Z"
    }
   },
   "outputs": [
    {
     "name": "stdout",
     "output_type": "stream",
     "text": [
      "(42,)\n"
     ]
    },
    {
     "data": {
      "text/plain": [
       "array([ 1.        ,  1.        ,  1.        ,  7.2979822 ,  7.2979822 ,\n",
       "        7.2979822 ,  0.70618225,  0.70618225,  0.70618225, 99.20149679,\n",
       "       99.20149679, 99.20149679,  7.2979822 ,  7.2979822 ,  7.2979822 ,\n",
       "        0.70618225,  0.70618225,  0.70618225, 99.20149679, 99.20149679,\n",
       "       99.20149679,  1.        ,  1.        ,  1.        ,  7.2979822 ,\n",
       "        7.2979822 ,  7.2979822 ,  0.70618225,  0.70618225,  0.70618225,\n",
       "       99.20149679, 99.20149679, 99.20149679,  7.2979822 ,  7.2979822 ,\n",
       "        7.2979822 ,  0.70618225,  0.70618225,  0.70618225, 99.20149679,\n",
       "       99.20149679, 99.20149679])"
      ]
     },
     "execution_count": 112,
     "metadata": {},
     "output_type": "execute_result"
    }
   ],
   "source": [
    "print(X_transform[21959].shape)\n",
    "X_transform[21959]"
   ]
  },
  {
   "cell_type": "code",
   "execution_count": 113,
   "metadata": {
    "ExecuteTime": {
     "end_time": "2018-12-07T16:21:53.289270Z",
     "start_time": "2018-12-07T16:21:53.153123Z"
    }
   },
   "outputs": [
    {
     "data": {
      "text/plain": [
       "array([0.4627599], dtype=float32)"
      ]
     },
     "execution_count": 113,
     "metadata": {},
     "output_type": "execute_result"
    }
   ],
   "source": [
    "xgb.predict_proba(X_transform[21959].reshape(1, -1))[:, 1]"
   ]
  },
  {
   "cell_type": "code",
   "execution_count": null,
   "metadata": {},
   "outputs": [],
   "source": []
  },
  {
   "cell_type": "code",
   "execution_count": 68,
   "metadata": {
    "ExecuteTime": {
     "end_time": "2018-12-07T14:35:31.934166Z",
     "start_time": "2018-12-07T14:35:29.934083Z"
    }
   },
   "outputs": [],
   "source": [
    "xgb = utils.load('xgb_FINAL_model_question_swapped')\n",
    "y_probs = xgb.predict_proba(X_transform)[:,1]"
   ]
  },
  {
   "cell_type": "code",
   "execution_count": 76,
   "metadata": {
    "ExecuteTime": {
     "end_time": "2018-12-07T14:51:22.582348Z",
     "start_time": "2018-12-07T14:51:22.366225Z"
    }
   },
   "outputs": [
    {
     "data": {
      "text/html": [
       "<div>\n",
       "<style scoped>\n",
       "    .dataframe tbody tr th:only-of-type {\n",
       "        vertical-align: middle;\n",
       "    }\n",
       "\n",
       "    .dataframe tbody tr th {\n",
       "        vertical-align: top;\n",
       "    }\n",
       "\n",
       "    .dataframe thead th {\n",
       "        text-align: right;\n",
       "    }\n",
       "</style>\n",
       "<table border=\"1\" class=\"dataframe\">\n",
       "  <thead>\n",
       "    <tr style=\"text-align: right;\">\n",
       "      <th></th>\n",
       "      <th>0</th>\n",
       "      <th>question1</th>\n",
       "      <th>2</th>\n",
       "      <th>question2</th>\n",
       "      <th>prob</th>\n",
       "    </tr>\n",
       "  </thead>\n",
       "  <tbody>\n",
       "    <tr>\n",
       "      <th>27923</th>\n",
       "      <td>5254</td>\n",
       "      <td>average propensity to save (aps) definition</td>\n",
       "      <td>5254</td>\n",
       "      <td>define mentally</td>\n",
       "      <td>9.479055e-01</td>\n",
       "    </tr>\n",
       "    <tr>\n",
       "      <th>17126</th>\n",
       "      <td>3318</td>\n",
       "      <td>how long do black bear cubs stay with it mother</td>\n",
       "      <td>3318</td>\n",
       "      <td>define mentally</td>\n",
       "      <td>9.475453e-01</td>\n",
       "    </tr>\n",
       "    <tr>\n",
       "      <th>32958</th>\n",
       "      <td>61121</td>\n",
       "      <td>is beethoven still alive</td>\n",
       "      <td>61121</td>\n",
       "      <td>define mentally</td>\n",
       "      <td>9.383519e-01</td>\n",
       "    </tr>\n",
       "    <tr>\n",
       "      <th>22640</th>\n",
       "      <td>43461</td>\n",
       "      <td>what is a rickshaw</td>\n",
       "      <td>43461</td>\n",
       "      <td>define mentally</td>\n",
       "      <td>9.352981e-01</td>\n",
       "    </tr>\n",
       "    <tr>\n",
       "      <th>11529</th>\n",
       "      <td>2478</td>\n",
       "      <td>how can i calculate the square footage</td>\n",
       "      <td>2478</td>\n",
       "      <td>define mentally</td>\n",
       "      <td>9.223383e-01</td>\n",
       "    </tr>\n",
       "    <tr>\n",
       "      <th>24106</th>\n",
       "      <td>4596</td>\n",
       "      <td>how many more electrons can fit within the val...</td>\n",
       "      <td>4596</td>\n",
       "      <td>define mentally</td>\n",
       "      <td>9.196010e-01</td>\n",
       "    </tr>\n",
       "    <tr>\n",
       "      <th>33291</th>\n",
       "      <td>61713</td>\n",
       "      <td>is the general form of the schrödinger equation?</td>\n",
       "      <td>61713</td>\n",
       "      <td>define mentally</td>\n",
       "      <td>9.029948e-01</td>\n",
       "    </tr>\n",
       "    <tr>\n",
       "      <th>14243</th>\n",
       "      <td>28351</td>\n",
       "      <td>who are jordan</td>\n",
       "      <td>28351</td>\n",
       "      <td>define mentally</td>\n",
       "      <td>8.896139e-01</td>\n",
       "    </tr>\n",
       "    <tr>\n",
       "      <th>17743</th>\n",
       "      <td>34368</td>\n",
       "      <td>are nightshade seeds deadly</td>\n",
       "      <td>34368</td>\n",
       "      <td>define mentally</td>\n",
       "      <td>8.888130e-01</td>\n",
       "    </tr>\n",
       "    <tr>\n",
       "      <th>1219</th>\n",
       "      <td>10976</td>\n",
       "      <td>unlocked iphone x price</td>\n",
       "      <td>10976</td>\n",
       "      <td>define mentally</td>\n",
       "      <td>8.887758e-01</td>\n",
       "    </tr>\n",
       "    <tr>\n",
       "      <th>21647</th>\n",
       "      <td>41794</td>\n",
       "      <td>what is blue nile jewelry?</td>\n",
       "      <td>41794</td>\n",
       "      <td>define mentally</td>\n",
       "      <td>8.874302e-01</td>\n",
       "    </tr>\n",
       "    <tr>\n",
       "      <th>590</th>\n",
       "      <td>10165</td>\n",
       "      <td>telephone number for amazon fire stick custome...</td>\n",
       "      <td>10165</td>\n",
       "      <td>define mentally</td>\n",
       "      <td>8.861542e-01</td>\n",
       "    </tr>\n",
       "    <tr>\n",
       "      <th>29539</th>\n",
       "      <td>5533</td>\n",
       "      <td>how much is an average bottle of prosecco</td>\n",
       "      <td>5533</td>\n",
       "      <td>define mentally</td>\n",
       "      <td>8.857110e-01</td>\n",
       "    </tr>\n",
       "    <tr>\n",
       "      <th>21054</th>\n",
       "      <td>40802</td>\n",
       "      <td>what are jewelry designers?</td>\n",
       "      <td>40802</td>\n",
       "      <td>define mentally</td>\n",
       "      <td>8.808069e-01</td>\n",
       "    </tr>\n",
       "    <tr>\n",
       "      <th>22639</th>\n",
       "      <td>43460</td>\n",
       "      <td>in research what is conflict of interest</td>\n",
       "      <td>43460</td>\n",
       "      <td>define mentally</td>\n",
       "      <td>8.769360e-01</td>\n",
       "    </tr>\n",
       "    <tr>\n",
       "      <th>20557</th>\n",
       "      <td>3989</td>\n",
       "      <td>how long were shannon and david beador married</td>\n",
       "      <td>3989</td>\n",
       "      <td>define mentally</td>\n",
       "      <td>8.755187e-01</td>\n",
       "    </tr>\n",
       "    <tr>\n",
       "      <th>7378</th>\n",
       "      <td>19181</td>\n",
       "      <td>what is hair loss a sign of</td>\n",
       "      <td>19181</td>\n",
       "      <td>define mentally</td>\n",
       "      <td>8.724433e-01</td>\n",
       "    </tr>\n",
       "    <tr>\n",
       "      <th>5944</th>\n",
       "      <td>17328</td>\n",
       "      <td>what is a literary review in a lab report</td>\n",
       "      <td>17328</td>\n",
       "      <td>define mentally</td>\n",
       "      <td>8.663285e-01</td>\n",
       "    </tr>\n",
       "    <tr>\n",
       "      <th>4674</th>\n",
       "      <td>15618</td>\n",
       "      <td>what does optically inactive mean</td>\n",
       "      <td>15618</td>\n",
       "      <td>define mentally</td>\n",
       "      <td>8.655602e-01</td>\n",
       "    </tr>\n",
       "    <tr>\n",
       "      <th>22606</th>\n",
       "      <td>43408</td>\n",
       "      <td>does france celebrate thanksgiving</td>\n",
       "      <td>43408</td>\n",
       "      <td>define mentally</td>\n",
       "      <td>8.641002e-01</td>\n",
       "    </tr>\n",
       "    <tr>\n",
       "      <th>17212</th>\n",
       "      <td>33334</td>\n",
       "      <td>benefits of nebulizer treatments</td>\n",
       "      <td>33334</td>\n",
       "      <td>define mentally</td>\n",
       "      <td>8.591199e-01</td>\n",
       "    </tr>\n",
       "    <tr>\n",
       "      <th>6707</th>\n",
       "      <td>18315</td>\n",
       "      <td>what is bcp mode</td>\n",
       "      <td>18315</td>\n",
       "      <td>define mentally</td>\n",
       "      <td>8.588502e-01</td>\n",
       "    </tr>\n",
       "    <tr>\n",
       "      <th>49910</th>\n",
       "      <td>8988</td>\n",
       "      <td>biggest dow drop</td>\n",
       "      <td>8988</td>\n",
       "      <td>define mentally</td>\n",
       "      <td>8.580921e-01</td>\n",
       "    </tr>\n",
       "    <tr>\n",
       "      <th>22957</th>\n",
       "      <td>43983</td>\n",
       "      <td>is australia 240v 50hz</td>\n",
       "      <td>43983</td>\n",
       "      <td>define mentally</td>\n",
       "      <td>8.555984e-01</td>\n",
       "    </tr>\n",
       "    <tr>\n",
       "      <th>55613</th>\n",
       "      <td>99949</td>\n",
       "      <td>do gemstones have thermal properties</td>\n",
       "      <td>99949</td>\n",
       "      <td>define mentally</td>\n",
       "      <td>8.466834e-01</td>\n",
       "    </tr>\n",
       "    <tr>\n",
       "      <th>16318</th>\n",
       "      <td>31626</td>\n",
       "      <td>how to get in bio settings</td>\n",
       "      <td>31626</td>\n",
       "      <td>define mentally</td>\n",
       "      <td>8.465890e-01</td>\n",
       "    </tr>\n",
       "    <tr>\n",
       "      <th>54955</th>\n",
       "      <td>98712</td>\n",
       "      <td>eisley name meaning</td>\n",
       "      <td>98712</td>\n",
       "      <td>define mentally</td>\n",
       "      <td>8.456863e-01</td>\n",
       "    </tr>\n",
       "    <tr>\n",
       "      <th>23520</th>\n",
       "      <td>44988</td>\n",
       "      <td>what are ip cameras</td>\n",
       "      <td>44988</td>\n",
       "      <td>define mentally</td>\n",
       "      <td>8.416114e-01</td>\n",
       "    </tr>\n",
       "    <tr>\n",
       "      <th>27259</th>\n",
       "      <td>5139</td>\n",
       "      <td>how much do i get paid as a doctor in the army</td>\n",
       "      <td>5139</td>\n",
       "      <td>define mentally</td>\n",
       "      <td>8.368538e-01</td>\n",
       "    </tr>\n",
       "    <tr>\n",
       "      <th>54328</th>\n",
       "      <td>97498</td>\n",
       "      <td>encephalomyelitis definition</td>\n",
       "      <td>97498</td>\n",
       "      <td>define mentally</td>\n",
       "      <td>8.364767e-01</td>\n",
       "    </tr>\n",
       "    <tr>\n",
       "      <th>...</th>\n",
       "      <td>...</td>\n",
       "      <td>...</td>\n",
       "      <td>...</td>\n",
       "      <td>...</td>\n",
       "      <td>...</td>\n",
       "    </tr>\n",
       "    <tr>\n",
       "      <th>6927</th>\n",
       "      <td>18588</td>\n",
       "      <td>what is company town about</td>\n",
       "      <td>18588</td>\n",
       "      <td>define mentally</td>\n",
       "      <td>1.810485e-05</td>\n",
       "    </tr>\n",
       "    <tr>\n",
       "      <th>10971</th>\n",
       "      <td>24016</td>\n",
       "      <td>what school did michael jordan go to</td>\n",
       "      <td>24016</td>\n",
       "      <td>define mentally</td>\n",
       "      <td>1.792218e-05</td>\n",
       "    </tr>\n",
       "    <tr>\n",
       "      <th>20667</th>\n",
       "      <td>40113</td>\n",
       "      <td>does surgical tech school give me a degree</td>\n",
       "      <td>40113</td>\n",
       "      <td>define mentally</td>\n",
       "      <td>1.787566e-05</td>\n",
       "    </tr>\n",
       "    <tr>\n",
       "      <th>9935</th>\n",
       "      <td>22655</td>\n",
       "      <td>custom home builders in missouri</td>\n",
       "      <td>22655</td>\n",
       "      <td>define mentally</td>\n",
       "      <td>1.785814e-05</td>\n",
       "    </tr>\n",
       "    <tr>\n",
       "      <th>10401</th>\n",
       "      <td>23244</td>\n",
       "      <td>what kind of flour can you use in bread machines</td>\n",
       "      <td>23244</td>\n",
       "      <td>define mentally</td>\n",
       "      <td>1.743790e-05</td>\n",
       "    </tr>\n",
       "    <tr>\n",
       "      <th>54169</th>\n",
       "      <td>97187</td>\n",
       "      <td>define tegmentum</td>\n",
       "      <td>97187</td>\n",
       "      <td>define mentally</td>\n",
       "      <td>1.685237e-05</td>\n",
       "    </tr>\n",
       "    <tr>\n",
       "      <th>19534</th>\n",
       "      <td>3790</td>\n",
       "      <td>how long is schooling for ultrasound tech</td>\n",
       "      <td>3790</td>\n",
       "      <td>define mentally</td>\n",
       "      <td>1.679012e-05</td>\n",
       "    </tr>\n",
       "    <tr>\n",
       "      <th>22903</th>\n",
       "      <td>43887</td>\n",
       "      <td>symptoms of wernicke encephalopathy</td>\n",
       "      <td>43887</td>\n",
       "      <td>define mentally</td>\n",
       "      <td>1.650093e-05</td>\n",
       "    </tr>\n",
       "    <tr>\n",
       "      <th>25524</th>\n",
       "      <td>48414</td>\n",
       "      <td>training on how to be a cashier</td>\n",
       "      <td>48414</td>\n",
       "      <td>define mentally</td>\n",
       "      <td>1.637952e-05</td>\n",
       "    </tr>\n",
       "    <tr>\n",
       "      <th>3777</th>\n",
       "      <td>14398</td>\n",
       "      <td>what do i eat to get more fiber in my diet?</td>\n",
       "      <td>14398</td>\n",
       "      <td>define mentally</td>\n",
       "      <td>1.620003e-05</td>\n",
       "    </tr>\n",
       "    <tr>\n",
       "      <th>37462</th>\n",
       "      <td>68954</td>\n",
       "      <td>how windy is neptune</td>\n",
       "      <td>68954</td>\n",
       "      <td>define mentally</td>\n",
       "      <td>1.525281e-05</td>\n",
       "    </tr>\n",
       "    <tr>\n",
       "      <th>20571</th>\n",
       "      <td>39918</td>\n",
       "      <td>how many continuing education hours for health...</td>\n",
       "      <td>39918</td>\n",
       "      <td>define mentally</td>\n",
       "      <td>1.470579e-05</td>\n",
       "    </tr>\n",
       "    <tr>\n",
       "      <th>7915</th>\n",
       "      <td>19889</td>\n",
       "      <td>what is oliver twist ask</td>\n",
       "      <td>19889</td>\n",
       "      <td>define mentally</td>\n",
       "      <td>1.427638e-05</td>\n",
       "    </tr>\n",
       "    <tr>\n",
       "      <th>4419</th>\n",
       "      <td>15277</td>\n",
       "      <td>what does half shaded in</td>\n",
       "      <td>15277</td>\n",
       "      <td>define mentally</td>\n",
       "      <td>1.421810e-05</td>\n",
       "    </tr>\n",
       "    <tr>\n",
       "      <th>25526</th>\n",
       "      <td>48416</td>\n",
       "      <td>s&amp;p definition investopedia</td>\n",
       "      <td>48416</td>\n",
       "      <td>define mentally</td>\n",
       "      <td>1.321342e-05</td>\n",
       "    </tr>\n",
       "    <tr>\n",
       "      <th>15313</th>\n",
       "      <td>29663</td>\n",
       "      <td>whole foods plant ba</td>\n",
       "      <td>29663</td>\n",
       "      <td>define mentally</td>\n",
       "      <td>1.294085e-05</td>\n",
       "    </tr>\n",
       "    <tr>\n",
       "      <th>29907</th>\n",
       "      <td>55930</td>\n",
       "      <td>are bagels a starch</td>\n",
       "      <td>55930</td>\n",
       "      <td>define mentally</td>\n",
       "      <td>1.277431e-05</td>\n",
       "    </tr>\n",
       "    <tr>\n",
       "      <th>5924</th>\n",
       "      <td>17300</td>\n",
       "      <td>what is a king caucus</td>\n",
       "      <td>17300</td>\n",
       "      <td>define mentally</td>\n",
       "      <td>1.125650e-05</td>\n",
       "    </tr>\n",
       "    <tr>\n",
       "      <th>54901</th>\n",
       "      <td>98606</td>\n",
       "      <td>cost of starting a winery</td>\n",
       "      <td>98606</td>\n",
       "      <td>define mentally</td>\n",
       "      <td>9.252279e-06</td>\n",
       "    </tr>\n",
       "    <tr>\n",
       "      <th>24354</th>\n",
       "      <td>46367</td>\n",
       "      <td>different types of lichen</td>\n",
       "      <td>46367</td>\n",
       "      <td>define mentally</td>\n",
       "      <td>9.221034e-06</td>\n",
       "    </tr>\n",
       "    <tr>\n",
       "      <th>54993</th>\n",
       "      <td>9878</td>\n",
       "      <td>starting pay of registered nurse</td>\n",
       "      <td>9878</td>\n",
       "      <td>define mentally</td>\n",
       "      <td>8.771195e-06</td>\n",
       "    </tr>\n",
       "    <tr>\n",
       "      <th>17645</th>\n",
       "      <td>34186</td>\n",
       "      <td>hmrc withholding tax</td>\n",
       "      <td>34186</td>\n",
       "      <td>define mentally</td>\n",
       "      <td>8.391276e-06</td>\n",
       "    </tr>\n",
       "    <tr>\n",
       "      <th>45803</th>\n",
       "      <td>83036</td>\n",
       "      <td>what supplements help with vaginal moisture</td>\n",
       "      <td>83036</td>\n",
       "      <td>define mentally</td>\n",
       "      <td>6.442926e-06</td>\n",
       "    </tr>\n",
       "    <tr>\n",
       "      <th>27398</th>\n",
       "      <td>51626</td>\n",
       "      <td>weather in lakewood, ca.</td>\n",
       "      <td>51626</td>\n",
       "      <td>define mentally</td>\n",
       "      <td>6.397447e-06</td>\n",
       "    </tr>\n",
       "    <tr>\n",
       "      <th>34817</th>\n",
       "      <td>64390</td>\n",
       "      <td>what does a compost bin do</td>\n",
       "      <td>64390</td>\n",
       "      <td>define mentally</td>\n",
       "      <td>6.059537e-06</td>\n",
       "    </tr>\n",
       "    <tr>\n",
       "      <th>49620</th>\n",
       "      <td>89427</td>\n",
       "      <td>why is good customer service important in the ...</td>\n",
       "      <td>89427</td>\n",
       "      <td>define mentally</td>\n",
       "      <td>2.568447e-06</td>\n",
       "    </tr>\n",
       "    <tr>\n",
       "      <th>43501</th>\n",
       "      <td>7912</td>\n",
       "      <td>medical definition of thrombocytopenia</td>\n",
       "      <td>7912</td>\n",
       "      <td>define mentally</td>\n",
       "      <td>1.738155e-06</td>\n",
       "    </tr>\n",
       "    <tr>\n",
       "      <th>13609</th>\n",
       "      <td>27500</td>\n",
       "      <td>where is the series doc martin filmed?</td>\n",
       "      <td>27500</td>\n",
       "      <td>define mentally</td>\n",
       "      <td>1.183362e-06</td>\n",
       "    </tr>\n",
       "    <tr>\n",
       "      <th>22193</th>\n",
       "      <td>42719</td>\n",
       "      <td>describe mumps virus</td>\n",
       "      <td>42719</td>\n",
       "      <td>define mentally</td>\n",
       "      <td>6.567079e-07</td>\n",
       "    </tr>\n",
       "    <tr>\n",
       "      <th>24775</th>\n",
       "      <td>47105</td>\n",
       "      <td>what causes vagina ordor</td>\n",
       "      <td>47105</td>\n",
       "      <td>define mentally</td>\n",
       "      <td>6.441350e-07</td>\n",
       "    </tr>\n",
       "  </tbody>\n",
       "</table>\n",
       "<p>55636 rows × 5 columns</p>\n",
       "</div>"
      ],
      "text/plain": [
       "           0                                          question1      2  \\\n",
       "27923   5254        average propensity to save (aps) definition   5254   \n",
       "17126   3318    how long do black bear cubs stay with it mother   3318   \n",
       "32958  61121                           is beethoven still alive  61121   \n",
       "22640  43461                                 what is a rickshaw  43461   \n",
       "11529   2478             how can i calculate the square footage   2478   \n",
       "24106   4596  how many more electrons can fit within the val...   4596   \n",
       "33291  61713   is the general form of the schrödinger equation?  61713   \n",
       "14243  28351                                     who are jordan  28351   \n",
       "17743  34368                        are nightshade seeds deadly  34368   \n",
       "1219   10976                            unlocked iphone x price  10976   \n",
       "21647  41794                         what is blue nile jewelry?  41794   \n",
       "590    10165  telephone number for amazon fire stick custome...  10165   \n",
       "29539   5533          how much is an average bottle of prosecco   5533   \n",
       "21054  40802                        what are jewelry designers?  40802   \n",
       "22639  43460           in research what is conflict of interest  43460   \n",
       "20557   3989     how long were shannon and david beador married   3989   \n",
       "7378   19181                        what is hair loss a sign of  19181   \n",
       "5944   17328          what is a literary review in a lab report  17328   \n",
       "4674   15618                  what does optically inactive mean  15618   \n",
       "22606  43408                 does france celebrate thanksgiving  43408   \n",
       "17212  33334                   benefits of nebulizer treatments  33334   \n",
       "6707   18315                                   what is bcp mode  18315   \n",
       "49910   8988                                   biggest dow drop   8988   \n",
       "22957  43983                             is australia 240v 50hz  43983   \n",
       "55613  99949               do gemstones have thermal properties  99949   \n",
       "16318  31626                         how to get in bio settings  31626   \n",
       "54955  98712                                eisley name meaning  98712   \n",
       "23520  44988                                what are ip cameras  44988   \n",
       "27259   5139     how much do i get paid as a doctor in the army   5139   \n",
       "54328  97498                       encephalomyelitis definition  97498   \n",
       "...      ...                                                ...    ...   \n",
       "6927   18588                         what is company town about  18588   \n",
       "10971  24016               what school did michael jordan go to  24016   \n",
       "20667  40113         does surgical tech school give me a degree  40113   \n",
       "9935   22655                   custom home builders in missouri  22655   \n",
       "10401  23244   what kind of flour can you use in bread machines  23244   \n",
       "54169  97187                                   define tegmentum  97187   \n",
       "19534   3790          how long is schooling for ultrasound tech   3790   \n",
       "22903  43887                symptoms of wernicke encephalopathy  43887   \n",
       "25524  48414                    training on how to be a cashier  48414   \n",
       "3777   14398        what do i eat to get more fiber in my diet?  14398   \n",
       "37462  68954                               how windy is neptune  68954   \n",
       "20571  39918  how many continuing education hours for health...  39918   \n",
       "7915   19889                           what is oliver twist ask  19889   \n",
       "4419   15277                           what does half shaded in  15277   \n",
       "25526  48416                        s&p definition investopedia  48416   \n",
       "15313  29663                               whole foods plant ba  29663   \n",
       "29907  55930                                are bagels a starch  55930   \n",
       "5924   17300                              what is a king caucus  17300   \n",
       "54901  98606                          cost of starting a winery  98606   \n",
       "24354  46367                          different types of lichen  46367   \n",
       "54993   9878                   starting pay of registered nurse   9878   \n",
       "17645  34186                               hmrc withholding tax  34186   \n",
       "45803  83036        what supplements help with vaginal moisture  83036   \n",
       "27398  51626                           weather in lakewood, ca.  51626   \n",
       "34817  64390                         what does a compost bin do  64390   \n",
       "49620  89427  why is good customer service important in the ...  89427   \n",
       "43501   7912             medical definition of thrombocytopenia   7912   \n",
       "13609  27500             where is the series doc martin filmed?  27500   \n",
       "22193  42719                               describe mumps virus  42719   \n",
       "24775  47105                           what causes vagina ordor  47105   \n",
       "\n",
       "             question2          prob  \n",
       "27923  define mentally  9.479055e-01  \n",
       "17126  define mentally  9.475453e-01  \n",
       "32958  define mentally  9.383519e-01  \n",
       "22640  define mentally  9.352981e-01  \n",
       "11529  define mentally  9.223383e-01  \n",
       "24106  define mentally  9.196010e-01  \n",
       "33291  define mentally  9.029948e-01  \n",
       "14243  define mentally  8.896139e-01  \n",
       "17743  define mentally  8.888130e-01  \n",
       "1219   define mentally  8.887758e-01  \n",
       "21647  define mentally  8.874302e-01  \n",
       "590    define mentally  8.861542e-01  \n",
       "29539  define mentally  8.857110e-01  \n",
       "21054  define mentally  8.808069e-01  \n",
       "22639  define mentally  8.769360e-01  \n",
       "20557  define mentally  8.755187e-01  \n",
       "7378   define mentally  8.724433e-01  \n",
       "5944   define mentally  8.663285e-01  \n",
       "4674   define mentally  8.655602e-01  \n",
       "22606  define mentally  8.641002e-01  \n",
       "17212  define mentally  8.591199e-01  \n",
       "6707   define mentally  8.588502e-01  \n",
       "49910  define mentally  8.580921e-01  \n",
       "22957  define mentally  8.555984e-01  \n",
       "55613  define mentally  8.466834e-01  \n",
       "16318  define mentally  8.465890e-01  \n",
       "54955  define mentally  8.456863e-01  \n",
       "23520  define mentally  8.416114e-01  \n",
       "27259  define mentally  8.368538e-01  \n",
       "54328  define mentally  8.364767e-01  \n",
       "...                ...           ...  \n",
       "6927   define mentally  1.810485e-05  \n",
       "10971  define mentally  1.792218e-05  \n",
       "20667  define mentally  1.787566e-05  \n",
       "9935   define mentally  1.785814e-05  \n",
       "10401  define mentally  1.743790e-05  \n",
       "54169  define mentally  1.685237e-05  \n",
       "19534  define mentally  1.679012e-05  \n",
       "22903  define mentally  1.650093e-05  \n",
       "25524  define mentally  1.637952e-05  \n",
       "3777   define mentally  1.620003e-05  \n",
       "37462  define mentally  1.525281e-05  \n",
       "20571  define mentally  1.470579e-05  \n",
       "7915   define mentally  1.427638e-05  \n",
       "4419   define mentally  1.421810e-05  \n",
       "25526  define mentally  1.321342e-05  \n",
       "15313  define mentally  1.294085e-05  \n",
       "29907  define mentally  1.277431e-05  \n",
       "5924   define mentally  1.125650e-05  \n",
       "54901  define mentally  9.252279e-06  \n",
       "24354  define mentally  9.221034e-06  \n",
       "54993  define mentally  8.771195e-06  \n",
       "17645  define mentally  8.391276e-06  \n",
       "45803  define mentally  6.442926e-06  \n",
       "27398  define mentally  6.397447e-06  \n",
       "34817  define mentally  6.059537e-06  \n",
       "49620  define mentally  2.568447e-06  \n",
       "43501  define mentally  1.738155e-06  \n",
       "13609  define mentally  1.183362e-06  \n",
       "22193  define mentally  6.567079e-07  \n",
       "24775  define mentally  6.441350e-07  \n",
       "\n",
       "[55636 rows x 5 columns]"
      ]
     },
     "execution_count": 76,
     "metadata": {},
     "output_type": "execute_result"
    }
   ],
   "source": [
    "X_ind = X.reset_index()\n",
    "merge_questions = pd.concat([X_ind, pd.Series(y_probs)], axis=1, sort=False, ignore_index=True)\n",
    "merge_questions = merge_questions.rename(columns={1:'question1', 3:'question2', 4:'prob'})\n",
    "merge_questions.sort_values('prob', ascending=False)"
   ]
  },
  {
   "cell_type": "markdown",
   "metadata": {},
   "source": [
    "## App data\n",
    "\n",
    "All data below needs to be pre-calculated"
   ]
  },
  {
   "cell_type": "code",
   "execution_count": 39,
   "metadata": {
    "ExecuteTime": {
     "end_time": "2018-12-05T04:46:00.169278Z",
     "start_time": "2018-12-05T04:45:25.544302Z"
    }
   },
   "outputs": [
    {
     "name": "stdout",
     "output_type": "stream",
     "text": [
      "CPU times: user 41.7 s, sys: 6.86 s, total: 48.6 s\n",
      "Wall time: 34.6 s\n"
     ]
    }
   ],
   "source": [
    "%%time\n",
    "cleaned_questions = utils.clean_questions(questions)\n",
    "lemma_questions = utils.apply_lemma(cleaned_questions)\n",
    "\n",
    "utils.save(cleaned_questions, 'cleaned_questions')\n",
    "utils.save(lemma_questions, 'lemma_questions')"
   ]
  },
  {
   "cell_type": "code",
   "execution_count": 40,
   "metadata": {
    "ExecuteTime": {
     "end_time": "2018-12-05T04:47:44.737687Z",
     "start_time": "2018-12-05T04:47:44.722274Z"
    }
   },
   "outputs": [],
   "source": [
    "def tokenize_questions(X):\n",
    "    texts = []\n",
    "    for doc in utils.nlp.pipe(X, disable=['parser', 'ner'], batch_size=10000):\n",
    "        texts.append(doc.to_array([utils.spacy.attrs.LOWER]))\n",
    "    return texts"
   ]
  },
  {
   "cell_type": "code",
   "execution_count": 41,
   "metadata": {
    "ExecuteTime": {
     "end_time": "2018-12-05T04:49:01.543457Z",
     "start_time": "2018-12-05T04:47:57.246908Z"
    }
   },
   "outputs": [
    {
     "name": "stdout",
     "output_type": "stream",
     "text": [
      "CPU times: user 1min 17s, sys: 11.6 s, total: 1min 28s\n",
      "Wall time: 1min 4s\n"
     ]
    }
   ],
   "source": [
    "%%time\n",
    "clean_tokens = tokenize_questions(cleaned_questions)\n",
    "lemma_tokens = tokenize_questions(lemma_questions)\n",
    "\n",
    "utils.save(clean_tokens, 'clean_tokens')\n",
    "utils.save(lemma_tokens, 'lemma_tokens')"
   ]
  },
  {
   "cell_type": "code",
   "execution_count": 42,
   "metadata": {
    "ExecuteTime": {
     "end_time": "2018-12-05T04:50:53.231276Z",
     "start_time": "2018-12-05T04:49:01.547135Z"
    }
   },
   "outputs": [
    {
     "name": "stdout",
     "output_type": "stream",
     "text": [
      "CPU times: user 2min 34s, sys: 14.3 s, total: 2min 48s\n",
      "Wall time: 1min 51s\n"
     ]
    }
   ],
   "source": [
    "%%time\n",
    "clean_question_features = clean_text_features.transform(questions)\n",
    "lemma_question_features = lemma_text_features.transform(questions)\n",
    "\n",
    "utils.save(clean_question_features, 'clean_question_features')\n",
    "utils.save(lemma_question_features, 'lemma_question_features')"
   ]
  },
  {
   "cell_type": "code",
   "execution_count": 68,
   "metadata": {
    "ExecuteTime": {
     "end_time": "2018-12-04T04:30:01.860742Z",
     "start_time": "2018-12-04T04:30:01.722166Z"
    }
   },
   "outputs": [],
   "source": [
    "xgb = utils.load('xgb_FINAL_model')"
   ]
  },
  {
   "cell_type": "code",
   "execution_count": 45,
   "metadata": {
    "ExecuteTime": {
     "end_time": "2018-12-04T04:14:19.338571Z",
     "start_time": "2018-12-04T04:14:19.329468Z"
    }
   },
   "outputs": [],
   "source": [
    "def ngram_similarity(q_token, token_db,  n_grams=[1, 2, 3]):\n",
    "    ''' Calculates the ngram similarity between a pair of questions. Similarity is defined as,\n",
    "            2 · ( |S1| / |S1 ∩ S2| + |S2| / |S1 ∩ S2|)^−1\n",
    "        where S_i is the ngrams for question i\n",
    "        \n",
    "        n_grams: list\n",
    "        List of n-grams to calculate, i.e. [1, 2, 3]\n",
    "        \n",
    "        return: array-like (n_pairs, len(n_grams))\n",
    "        N-dimensional array of n_gram similarity calculated for the different n_grams.\n",
    "        \n",
    "    '''\n",
    "    ngram_sim = []\n",
    "    ngram_q2 = [set(ngrams(q_token, i, pad_right=True)) for i in n_grams]\n",
    "    for t in token_db:\n",
    "        ngram_q1 = [set(ngrams(t, i, pad_right=True)) for i in n_grams]\n",
    "\n",
    "        doc_ngram_sim = []\n",
    "        for i in range(len(ngram_q1)):\n",
    "            try:\n",
    "                s1 = len(ngram_q1[i]) / len(ngram_q1[i].intersection(ngram_q2[i]))\n",
    "            except:\n",
    "                s1 = 0\n",
    "\n",
    "            try:\n",
    "                s2 = len(ngram_q2[i]) / len(ngram_q1[i].intersection(ngram_q2[i]))\n",
    "            except:\n",
    "                s2 = 0\n",
    "\n",
    "            if s1 == 0 and s2 == 0:\n",
    "                doc_ngram_sim.append(0)\n",
    "            else:\n",
    "                doc_ngram_sim.append(2 * (s1 + s2)**-1)\n",
    "        ngram_sim.append(doc_ngram_sim)\n",
    "        \n",
    "    return np.array(ngram_sim)\n"
   ]
  },
  {
   "cell_type": "code",
   "execution_count": 83,
   "metadata": {
    "ExecuteTime": {
     "end_time": "2018-12-04T04:38:28.702793Z",
     "start_time": "2018-12-04T04:38:28.690052Z"
    }
   },
   "outputs": [],
   "source": [
    "def ask_question(question):\n",
    "    \n",
    "    question_clean = utils.clean_questions([question]) ## returns an array\n",
    "    ## if question is a duplicate after cleaning, then return the answer\n",
    "    if question_clean[0] in cleaned_questions:\n",
    "        return question_clean\n",
    "    \n",
    "    ## else run the model\n",
    "    else:    \n",
    "        ## Feature Set 1 -- clean text similarity\n",
    "        ## create the tokens for the question\n",
    "        doc = utils.nlp(question_clean[0])\n",
    "        question_tokens = doc.to_array([utils.spacy.attrs.LOWER])\n",
    "        clean_n_gram = ngram_similarity(question_tokens, clean_tokens)\n",
    "\n",
    "        ## Feature Set 2 -- Clean distance features\n",
    "        # union single question features\n",
    "        question_features = clean_text_features.transform([question]) \n",
    "        clean_single_features = np.hstack([clean_question_features, \n",
    "                                           np.repeat(question_features, clean_question_features.shape[0], axis=0)])\n",
    "        \n",
    "\n",
    "        ## Feature Set 3 -- Lemma text similarity\n",
    "        # calculate n_gram similarity for the cleaned and lemmatized question\n",
    "        question_lemma = utils.apply_lemma(question_clean)\n",
    "        doc = utils.nlp(question_lemma[0])\n",
    "        question_tokens = doc.to_array([utils.spacy.attrs.LOWER])\n",
    "        lemma_n_gram = ngram_similarity(question_tokens, lemma_tokens)\n",
    "\n",
    "\n",
    "        ## Feature Set 4 -- Lemma distance features\n",
    "        # union single question features\n",
    "        question_features = lemma_text_features.transform([question]) \n",
    "        lemma_single_features = np.hstack([lemma_question_features, \n",
    "                                           np.repeat(question_features, lemma_question_features.shape[0], axis=0)])\n",
    "\n",
    "    ### Transform through the whole pipeline\n",
    "#     df_cleaned_questions['question2'] = question\n",
    "    \n",
    "#     feature_space = feature_pipe.transform(df_cleaned_questions[:5000])\n",
    "\n",
    "        # make the prediction\n",
    "        feature_space = np.hstack([clean_n_gram, clean_single_features, lemma_n_gram, lemma_single_features])\n",
    "        probs = xgb.predict_proba(feature_space)[:, 1]\n",
    "\n",
    "        top = probs.argsort()[-3:]\n",
    "        top_question = np.array(qa_df.iloc[top]).reshape(len(top), -1)\n",
    "        top_probs = probs[top].reshape(-1, 1)\n",
    "\n",
    "#     return None\n",
    "#     return pd.DataFrame(np.hstack([top_question, top_probs]))\n",
    "        return feature_space, pd.DataFrame(np.hstack([top_question, top_probs]))"
   ]
  },
  {
   "cell_type": "code",
   "execution_count": 74,
   "metadata": {
    "ExecuteTime": {
     "end_time": "2018-12-04T04:32:01.794703Z",
     "start_time": "2018-12-04T04:32:01.788882Z"
    }
   },
   "outputs": [
    {
     "data": {
      "text/plain": [
       "['do owls eat in the day']"
      ]
     },
     "execution_count": 74,
     "metadata": {},
     "output_type": "execute_result"
    }
   ],
   "source": [
    "ask_question('do owls eat in the day')"
   ]
  },
  {
   "cell_type": "code",
   "execution_count": 64,
   "metadata": {
    "ExecuteTime": {
     "end_time": "2018-12-04T04:27:27.376424Z",
     "start_time": "2018-12-04T04:27:22.357628Z"
    }
   },
   "outputs": [
    {
     "data": {
      "text/plain": [
       "(101093, 42)"
      ]
     },
     "execution_count": 64,
     "metadata": {},
     "output_type": "execute_result"
    }
   ],
   "source": [
    "ask_question('do owls eat at night')"
   ]
  },
  {
   "cell_type": "code",
   "execution_count": 84,
   "metadata": {
    "ExecuteTime": {
     "end_time": "2018-12-04T04:38:40.988266Z",
     "start_time": "2018-12-04T04:38:33.843680Z"
    }
   },
   "outputs": [],
   "source": [
    "features, top_results = ask_question('what causes earthquakes')"
   ]
  },
  {
   "cell_type": "code",
   "execution_count": 19,
   "metadata": {
    "ExecuteTime": {
     "end_time": "2018-12-04T03:53:14.980903Z",
     "start_time": "2018-12-04T03:53:14.975373Z"
    }
   },
   "outputs": [
    {
     "data": {
      "text/plain": [
       "True"
      ]
     },
     "execution_count": 19,
     "metadata": {},
     "output_type": "execute_result"
    }
   ],
   "source": [
    "'do owls eat in the day' in cleaned_questions"
   ]
  },
  {
   "cell_type": "code",
   "execution_count": 250,
   "metadata": {
    "ExecuteTime": {
     "end_time": "2018-12-04T00:31:16.220318Z",
     "start_time": "2018-12-04T00:31:16.198741Z"
    }
   },
   "outputs": [
    {
     "data": {
      "text/html": [
       "<div>\n",
       "<style scoped>\n",
       "    .dataframe tbody tr th:only-of-type {\n",
       "        vertical-align: middle;\n",
       "    }\n",
       "\n",
       "    .dataframe tbody tr th {\n",
       "        vertical-align: top;\n",
       "    }\n",
       "\n",
       "    .dataframe thead th {\n",
       "        text-align: right;\n",
       "    }\n",
       "</style>\n",
       "<table border=\"1\" class=\"dataframe\">\n",
       "  <thead>\n",
       "    <tr style=\"text-align: right;\">\n",
       "      <th></th>\n",
       "      <th>question1</th>\n",
       "      <th>id</th>\n",
       "      <th>question2</th>\n",
       "    </tr>\n",
       "  </thead>\n",
       "  <tbody>\n",
       "    <tr>\n",
       "      <th>4</th>\n",
       "      <td>do owls eat in the day</td>\n",
       "      <td>4</td>\n",
       "      <td>do owls eat in the day</td>\n",
       "    </tr>\n",
       "  </tbody>\n",
       "</table>\n",
       "</div>"
      ],
      "text/plain": [
       "                question1  id               question2\n",
       "4  do owls eat in the day   4  do owls eat in the day"
      ]
     },
     "execution_count": 250,
     "metadata": {},
     "output_type": "execute_result"
    }
   ],
   "source": [
    "df[df.question1 == 'do owls eat in the day']"
   ]
  },
  {
   "cell_type": "code",
   "execution_count": 85,
   "metadata": {
    "ExecuteTime": {
     "end_time": "2018-12-04T04:38:45.130976Z",
     "start_time": "2018-12-04T04:38:45.106027Z"
    }
   },
   "outputs": [
    {
     "data": {
      "text/html": [
       "<div>\n",
       "<style scoped>\n",
       "    .dataframe tbody tr th:only-of-type {\n",
       "        vertical-align: middle;\n",
       "    }\n",
       "\n",
       "    .dataframe tbody tr th {\n",
       "        vertical-align: top;\n",
       "    }\n",
       "\n",
       "    .dataframe thead th {\n",
       "        text-align: right;\n",
       "    }\n",
       "</style>\n",
       "<table border=\"1\" class=\"dataframe\">\n",
       "  <thead>\n",
       "    <tr style=\"text-align: right;\">\n",
       "      <th></th>\n",
       "      <th>0</th>\n",
       "      <th>1</th>\n",
       "      <th>2</th>\n",
       "      <th>3</th>\n",
       "      <th>4</th>\n",
       "      <th>5</th>\n",
       "      <th>6</th>\n",
       "    </tr>\n",
       "  </thead>\n",
       "  <tbody>\n",
       "    <tr>\n",
       "      <th>0</th>\n",
       "      <td>[No Answer Present.]</td>\n",
       "      <td>[{'is_selected': 0, 'passage_text': 'What is a...</td>\n",
       "      <td>what causes boil water notice</td>\n",
       "      <td>586008</td>\n",
       "      <td>DESCRIPTION</td>\n",
       "      <td>[]</td>\n",
       "      <td>0.861625</td>\n",
       "    </tr>\n",
       "    <tr>\n",
       "      <th>1</th>\n",
       "      <td>[Humans can cause earthquakes by triggering se...</td>\n",
       "      <td>[{'is_selected': 0, 'passage_text': 'An uptick...</td>\n",
       "      <td>how can humans cause earthquakes</td>\n",
       "      <td>210161</td>\n",
       "      <td>DESCRIPTION</td>\n",
       "      <td>[]</td>\n",
       "      <td>0.863643</td>\n",
       "    </tr>\n",
       "    <tr>\n",
       "      <th>2</th>\n",
       "      <td>[Stasis dermatitis cause extremely sensitive a...</td>\n",
       "      <td>[{'is_selected': 0, 'passage_text': 'Poor circ...</td>\n",
       "      <td>stasis dermatitis causes</td>\n",
       "      <td>1090422</td>\n",
       "      <td>DESCRIPTION</td>\n",
       "      <td>[]</td>\n",
       "      <td>0.895012</td>\n",
       "    </tr>\n",
       "  </tbody>\n",
       "</table>\n",
       "</div>"
      ],
      "text/plain": [
       "                                                   0  \\\n",
       "0                               [No Answer Present.]   \n",
       "1  [Humans can cause earthquakes by triggering se...   \n",
       "2  [Stasis dermatitis cause extremely sensitive a...   \n",
       "\n",
       "                                                   1  \\\n",
       "0  [{'is_selected': 0, 'passage_text': 'What is a...   \n",
       "1  [{'is_selected': 0, 'passage_text': 'An uptick...   \n",
       "2  [{'is_selected': 0, 'passage_text': 'Poor circ...   \n",
       "\n",
       "                                  2        3            4   5         6  \n",
       "0     what causes boil water notice   586008  DESCRIPTION  []  0.861625  \n",
       "1  how can humans cause earthquakes   210161  DESCRIPTION  []  0.863643  \n",
       "2          stasis dermatitis causes  1090422  DESCRIPTION  []  0.895012  "
      ]
     },
     "execution_count": 85,
     "metadata": {},
     "output_type": "execute_result"
    }
   ],
   "source": [
    "top_results # full pipeline"
   ]
  },
  {
   "cell_type": "code",
   "execution_count": 72,
   "metadata": {
    "ExecuteTime": {
     "end_time": "2018-12-04T04:30:52.782047Z",
     "start_time": "2018-12-04T04:30:52.762947Z"
    }
   },
   "outputs": [
    {
     "data": {
      "text/html": [
       "<div>\n",
       "<style scoped>\n",
       "    .dataframe tbody tr th:only-of-type {\n",
       "        vertical-align: middle;\n",
       "    }\n",
       "\n",
       "    .dataframe tbody tr th {\n",
       "        vertical-align: top;\n",
       "    }\n",
       "\n",
       "    .dataframe thead th {\n",
       "        text-align: right;\n",
       "    }\n",
       "</style>\n",
       "<table border=\"1\" class=\"dataframe\">\n",
       "  <thead>\n",
       "    <tr style=\"text-align: right;\">\n",
       "      <th></th>\n",
       "      <th>0</th>\n",
       "      <th>1</th>\n",
       "    </tr>\n",
       "  </thead>\n",
       "  <tbody>\n",
       "    <tr>\n",
       "      <th>0</th>\n",
       "      <td>what causes fingers to swell at night</td>\n",
       "      <td>0.2007</td>\n",
       "    </tr>\n",
       "    <tr>\n",
       "      <th>1</th>\n",
       "      <td>what causes swelling in hands at night</td>\n",
       "      <td>0.30395</td>\n",
       "    </tr>\n",
       "    <tr>\n",
       "      <th>2</th>\n",
       "      <td>do owls eat in the day</td>\n",
       "      <td>0.408373</td>\n",
       "    </tr>\n",
       "  </tbody>\n",
       "</table>\n",
       "</div>"
      ],
      "text/plain": [
       "                                        0         1\n",
       "0   what causes fingers to swell at night    0.2007\n",
       "1  what causes swelling in hands at night   0.30395\n",
       "2                  do owls eat in the day  0.408373"
      ]
     },
     "execution_count": 72,
     "metadata": {},
     "output_type": "execute_result"
    }
   ],
   "source": [
    "top_results # opt pipeline"
   ]
  },
  {
   "cell_type": "code",
   "execution_count": 251,
   "metadata": {
    "ExecuteTime": {
     "end_time": "2018-12-04T00:31:19.812406Z",
     "start_time": "2018-12-04T00:31:19.805782Z"
    }
   },
   "outputs": [
    {
     "data": {
      "text/plain": [
       "array([  1.        ,   1.        ,   1.        ,   4.63359628,\n",
       "         8.4752183 ,   6.82304781,   0.44451424,   0.94712703,\n",
       "         0.66871357,  62.24226321, 115.15204134,  92.26256858,\n",
       "         4.63359628,   8.4752183 ,   6.82304781,   0.44451424,\n",
       "         0.94712703,   0.66871357,  62.24226321, 115.15204134,\n",
       "        92.26256858,   1.        ,   1.        ,   1.        ,\n",
       "         6.72955502,   8.34001638,   7.60125726,   0.55986509,\n",
       "         0.79268708,   0.69988742,  92.72933482, 111.52220958,\n",
       "       102.69947146,   6.72955502,   8.34001638,   7.60125726,\n",
       "         0.55986509,   0.79268708,   0.69988742,  92.72933482,\n",
       "       111.52220958, 102.69947146])"
      ]
     },
     "execution_count": 251,
     "metadata": {},
     "output_type": "execute_result"
    }
   ],
   "source": [
    "features[4]"
   ]
  },
  {
   "cell_type": "code",
   "execution_count": 214,
   "metadata": {
    "ExecuteTime": {
     "end_time": "2018-12-03T23:49:32.003905Z",
     "start_time": "2018-12-03T23:49:31.373839Z"
    }
   },
   "outputs": [],
   "source": [
    "probs = xgb.predict_proba(features)[:, 1]"
   ]
  },
  {
   "cell_type": "code",
   "execution_count": 218,
   "metadata": {
    "ExecuteTime": {
     "end_time": "2018-12-03T23:52:10.725666Z",
     "start_time": "2018-12-03T23:52:10.710249Z"
    }
   },
   "outputs": [
    {
     "data": {
      "text/plain": [
       "array([0.1619365], dtype=float32)"
      ]
     },
     "execution_count": 218,
     "metadata": {},
     "output_type": "execute_result"
    }
   ],
   "source": [
    "xgb.predict_proba(features[20546].reshape(1, -1))[:, 1]"
   ]
  },
  {
   "cell_type": "code",
   "execution_count": 216,
   "metadata": {
    "ExecuteTime": {
     "end_time": "2018-12-03T23:49:46.126962Z",
     "start_time": "2018-12-03T23:49:46.120556Z"
    }
   },
   "outputs": [
    {
     "data": {
      "text/plain": [
       "0.1619365"
      ]
     },
     "execution_count": 216,
     "metadata": {},
     "output_type": "execute_result"
    }
   ],
   "source": [
    "probs[20546]"
   ]
  },
  {
   "cell_type": "code",
   "execution_count": 220,
   "metadata": {
    "ExecuteTime": {
     "end_time": "2018-12-03T23:54:01.994430Z",
     "start_time": "2018-12-03T23:54:01.329860Z"
    }
   },
   "outputs": [
    {
     "name": "stdout",
     "output_type": "stream",
     "text": [
      "[0.02938479 0.02320101 0.01954768 0.01709631 0.0290843  0.02475091\n",
      " 0.02119247 0.03724498 0.03382888 0.01341136 0.02718646 0.02229954\n",
      " 0.01790289 0.02774    0.02487743 0.0211134  0.03670726 0.03213665\n",
      " 0.0142812  0.02740788 0.02233117 0.02340661 0.01603669 0.01205124\n",
      " 0.02133481 0.02304286 0.02117666 0.02979598 0.03019137 0.02762929\n",
      " 0.01991143 0.02397596 0.02027519 0.0207022  0.02217302 0.0199747\n",
      " 0.02709157 0.03117191 0.02400759 0.01902578 0.02492488 0.01937371]\n"
     ]
    }
   ],
   "source": [
    "import matplotlib.pyplot as plt\n",
    "print(xgb.feature_importances_)"
   ]
  },
  {
   "cell_type": "code",
   "execution_count": 221,
   "metadata": {
    "ExecuteTime": {
     "end_time": "2018-12-03T23:54:25.300115Z",
     "start_time": "2018-12-03T23:54:24.515844Z"
    }
   },
   "outputs": [
    {
     "data": {
      "image/png": "[encoded data removed]",
      "text/plain": [
       "<Figure size 432x288 with 1 Axes>"
      ]
     },
     "metadata": {
      "needs_background": "light"
     },
     "output_type": "display_data"
    }
   ],
   "source": [
    "plt.bar(range(len(xgb.feature_importances_)), xgb.feature_importances_)\n",
    "plt.show()"
   ]
  },
  {
   "cell_type": "code",
   "execution_count": 240,
   "metadata": {
    "ExecuteTime": {
     "end_time": "2018-12-04T00:20:58.111285Z",
     "start_time": "2018-12-04T00:20:57.499153Z"
    }
   },
   "outputs": [
    {
     "data": {
      "image/png": "[encoded data removed]",
      "text/plain": [
       "<Figure size 432x288 with 1 Axes>"
      ]
     },
     "metadata": {
      "needs_background": "light"
     },
     "output_type": "display_data"
    }
   ],
   "source": [
    "from xgboost import plot_importance\n",
    "plot_importance(xgb, max_num_features=10)\n",
    "plt.show()"
   ]
  },
  {
   "cell_type": "code",
   "execution_count": 236,
   "metadata": {
    "ExecuteTime": {
     "end_time": "2018-12-04T00:10:16.738589Z",
     "start_time": "2018-12-04T00:10:16.731657Z"
    }
   },
   "outputs": [
    {
     "name": "stdout",
     "output_type": "stream",
     "text": [
      "42\n"
     ]
    }
   ],
   "source": [
    "feature_names = [\n",
    "    'clean_1_gram_sim',\n",
    "    'clean_2_gram_sim',\n",
    "    'clean_3_gram_sim',\n",
    "    'clean_euc_min_q1',\n",
    "    'clean_euc_max_q1',\n",
    "    'clean_euc_avg_q1',\n",
    "    'clean_cos_min_q1',\n",
    "    'clean_cos_max_q1',\n",
    "    'clean_cos_avg_q1',\n",
    "    'clean_man_min_q1',\n",
    "    'clean_man_max_q1',\n",
    "    'clean_man_avg_q1',\n",
    "    'clean_euc_min_q2',\n",
    "    'clean_euc_max_q2',\n",
    "    'clean_euc_avg_q2',\n",
    "    'clean_cos_min_q2',\n",
    "    'clean_cos_max_q2',\n",
    "    'clean_cos_avg_q2',\n",
    "    'clean_man_min_q2',\n",
    "    'clean_man_max_q2',\n",
    "    'clean_man_avg_q2',\n",
    "    'lemma_1_gram_sim',\n",
    "    'lemma_2_gram_sim',\n",
    "    'lemma_3_gram_sim',\n",
    "    'lemma_euc_min_q1',\n",
    "    'lemma_euc_max_q1',\n",
    "    'lemma_euc_avg_q1',\n",
    "    'lemma_cos_min_q1',\n",
    "    'lemma_cos_max_q1',\n",
    "    'lemma_cos_avg_q1',\n",
    "    'lemma_man_min_q1',\n",
    "    'lemma_man_max_q1',\n",
    "    'lemma_man_avg_q1',\n",
    "    'lemma_euc_min_q2',\n",
    "    'lemma_euc_max_q2',\n",
    "    'lemma_euc_avg_q2',\n",
    "    'lemma_cos_min_q2',\n",
    "    'lemma_cos_max_q2',\n",
    "    'lemma_cos_avg_q2',\n",
    "    'lemma_man_min_q2',\n",
    "    'lemma_man_max_q2',\n",
    "    'lemma_man_avg_q1'\n",
    "    \n",
    "]\n",
    "print(len(feature_names))"
   ]
  },
  {
   "cell_type": "code",
   "execution_count": 253,
   "metadata": {
    "ExecuteTime": {
     "end_time": "2018-12-04T00:32:47.442417Z",
     "start_time": "2018-12-04T00:32:47.436600Z"
    }
   },
   "outputs": [
    {
     "name": "stdout",
     "output_type": "stream",
     "text": [
      "clean_cos_max_q1\n",
      "clean_cos_max_q2\n",
      "clean_cos_avg_q1\n",
      "clean_cos_avg_q2\n",
      "lemma_cos_max_q2\n",
      "lemma_cos_max_q1\n",
      "lemma_cos_min_q1\n",
      "clean_1_gram_sim\n",
      "clean_euc_max_q1\n",
      "clean_euc_max_q2\n"
     ]
    }
   ],
   "source": [
    "def print_features(l=[7, 16, 8, 17, 37, 28, 27, 0, 4, 13]):\n",
    "    for n in l:\n",
    "#         print(n)\n",
    "        print(feature_names[n])\n",
    "print_features()"
   ]
  },
  {
   "cell_type": "code",
   "execution_count": 238,
   "metadata": {
    "ExecuteTime": {
     "end_time": "2018-12-04T00:10:47.723638Z",
     "start_time": "2018-12-04T00:10:47.717112Z"
    }
   },
   "outputs": [
    {
     "data": {
      "text/plain": [
       "array([0.96252071, 1.08482914, 0.72458074, 0.68943047, 1.06595845])"
      ]
     },
     "execution_count": 238,
     "metadata": {},
     "output_type": "execute_result"
    }
   ],
   "source": [
    "features[20456, [7, 16, 8, 17, 37]]"
   ]
  },
  {
   "cell_type": "code",
   "execution_count": 239,
   "metadata": {
    "ExecuteTime": {
     "end_time": "2018-12-04T00:17:54.734779Z",
     "start_time": "2018-12-04T00:17:54.477510Z"
    }
   },
   "outputs": [
    {
     "data": {
      "text/plain": [
       "{'f1': 1467,\n",
       " 'f21': 1480,\n",
       " 'f0': 1858,\n",
       " 'f28': 1909,\n",
       " 'f7': 2355,\n",
       " 'f29': 1747,\n",
       " 'f6': 1340,\n",
       " 'f8': 2139,\n",
       " 'f12': 1132,\n",
       " 'f4': 1839,\n",
       " 'f16': 2321,\n",
       " 'f2': 1236,\n",
       " 'f27': 1884,\n",
       " 'f17': 2032,\n",
       " 'f39': 1203,\n",
       " 'f22': 1014,\n",
       " 'f13': 1754,\n",
       " 'f18': 903,\n",
       " 'f10': 1719,\n",
       " 'f37': 1971,\n",
       " 'f19': 1733,\n",
       " 'f23': 762,\n",
       " 'f38': 1518,\n",
       " 'f34': 1402,\n",
       " 'f5': 1565,\n",
       " 'f24': 1349,\n",
       " 'f3': 1081,\n",
       " 'f25': 1457,\n",
       " 'f32': 1282,\n",
       " 'f41': 1225,\n",
       " 'f15': 1335,\n",
       " 'f35': 1263,\n",
       " 'f20': 1412,\n",
       " 'f26': 1339,\n",
       " 'f31': 1516,\n",
       " 'f33': 1309,\n",
       " 'f9': 848,\n",
       " 'f36': 1713,\n",
       " 'f30': 1259,\n",
       " 'f40': 1576,\n",
       " 'f11': 1410,\n",
       " 'f14': 1573}"
      ]
     },
     "execution_count": 239,
     "metadata": {},
     "output_type": "execute_result"
    }
   ],
   "source": [
    "xgb.get_booster().get_fscore()"
   ]
  },
  {
   "cell_type": "code",
   "execution_count": null,
   "metadata": {
    "ExecuteTime": {
     "end_time": "2018-12-03T23:20:18.259810Z",
     "start_time": "2018-12-03T22:57:47.802917Z"
    }
   },
   "outputs": [],
   "source": [
    "#### ask_question('What is the capital of Washington?')\n",
    "# ask_question('noncontagious definition')\n",
    "ask_question('where is the stamen located in a flower')"
   ]
  },
  {
   "cell_type": "code",
   "execution_count": 188,
   "metadata": {
    "ExecuteTime": {
     "end_time": "2018-12-03T22:52:14.744702Z",
     "start_time": "2018-12-03T22:52:14.716704Z"
    }
   },
   "outputs": [
    {
     "data": {
      "text/plain": [
       "27505    where is the stamen located in a flower\n",
       "Name: query, dtype: object"
      ]
     },
     "execution_count": 188,
     "metadata": {},
     "output_type": "execute_result"
    }
   ],
   "source": [
    "qa_df.loc[:, 'query'].sample()"
   ]
  },
  {
   "cell_type": "code",
   "execution_count": 167,
   "metadata": {
    "ExecuteTime": {
     "end_time": "2018-12-03T22:42:18.602685Z",
     "start_time": "2018-12-03T22:42:18.569767Z"
    }
   },
   "outputs": [
    {
     "data": {
      "text/plain": [
       "array([21032, 80760, 14203])"
      ]
     },
     "execution_count": 167,
     "metadata": {},
     "output_type": "execute_result"
    }
   ],
   "source": [
    "p.argsort()[-3:]"
   ]
  },
  {
   "cell_type": "code",
   "execution_count": 166,
   "metadata": {
    "ExecuteTime": {
     "end_time": "2018-12-03T22:41:52.857938Z",
     "start_time": "2018-12-03T22:41:52.817080Z"
    }
   },
   "outputs": [
    {
     "data": {
      "text/plain": [
       "27943     which is the original delmonico's\n",
       "81699               what state is borths in\n",
       "21797    what is the meaning of the bowery?\n",
       "Name: query, dtype: object"
      ]
     },
     "execution_count": 166,
     "metadata": {},
     "output_type": "execute_result"
    }
   ],
   "source": [
    "questions.iloc[p.argsort()[-3:]]\n",
    "# questions.iloc[1]"
   ]
  },
  {
   "cell_type": "code",
   "execution_count": 168,
   "metadata": {
    "ExecuteTime": {
     "end_time": "2018-12-03T22:42:57.920212Z",
     "start_time": "2018-12-03T22:42:57.851718Z"
    }
   },
   "outputs": [],
   "source": [
    "q_array = np.array(questions)"
   ]
  },
  {
   "cell_type": "code",
   "execution_count": 169,
   "metadata": {
    "ExecuteTime": {
     "end_time": "2018-12-03T22:43:12.448485Z",
     "start_time": "2018-12-03T22:43:12.441078Z"
    }
   },
   "outputs": [
    {
     "data": {
      "text/plain": [
       "'what is the meaning of the bowery?'"
      ]
     },
     "execution_count": 169,
     "metadata": {},
     "output_type": "execute_result"
    }
   ],
   "source": [
    "q_array[14203]"
   ]
  },
  {
   "cell_type": "code",
   "execution_count": 170,
   "metadata": {
    "ExecuteTime": {
     "end_time": "2018-12-03T22:43:30.215686Z",
     "start_time": "2018-12-03T22:43:30.207884Z"
    }
   },
   "outputs": [
    {
     "data": {
      "text/plain": [
       "'what state is borths in'"
      ]
     },
     "execution_count": 170,
     "metadata": {},
     "output_type": "execute_result"
    }
   ],
   "source": [
    "q_array[80760]"
   ]
  },
  {
   "cell_type": "code",
   "execution_count": null,
   "metadata": {},
   "outputs": [],
   "source": []
  },
  {
   "cell_type": "code",
   "execution_count": 72,
   "metadata": {
    "ExecuteTime": {
     "end_time": "2018-12-03T21:14:20.142131Z",
     "start_time": "2018-12-03T21:14:20.139127Z"
    }
   },
   "outputs": [],
   "source": [
    "q = ['What is the capital of Washington?']"
   ]
  },
  {
   "cell_type": "code",
   "execution_count": 76,
   "metadata": {
    "ExecuteTime": {
     "end_time": "2018-12-03T21:14:40.695255Z",
     "start_time": "2018-12-03T21:14:40.688795Z"
    }
   },
   "outputs": [
    {
     "data": {
      "text/plain": [
       "(2,)"
      ]
     },
     "execution_count": 76,
     "metadata": {},
     "output_type": "execute_result"
    }
   ],
   "source": [
    "np.repeat(q, 2, axis=0).shape"
   ]
  },
  {
   "cell_type": "code",
   "execution_count": 108,
   "metadata": {
    "ExecuteTime": {
     "end_time": "2018-12-03T21:48:42.964111Z",
     "start_time": "2018-12-03T21:48:31.913803Z"
    }
   },
   "outputs": [],
   "source": [
    "utils.save(token_text, 'questions_tokenized')\n"
   ]
  },
  {
   "cell_type": "code",
   "execution_count": 104,
   "metadata": {
    "ExecuteTime": {
     "end_time": "2018-12-03T21:47:44.281776Z",
     "start_time": "2018-12-03T21:47:44.277089Z"
    }
   },
   "outputs": [
    {
     "name": "stdout",
     "output_type": "stream",
     "text": [
      "<class 'numpy.ndarray'>\n"
     ]
    }
   ],
   "source": [
    "for t in token_text:\n",
    "    print(type(t))\n",
    "    break"
   ]
  },
  {
   "cell_type": "code",
   "execution_count": 97,
   "metadata": {
    "ExecuteTime": {
     "end_time": "2018-12-03T21:41:30.558965Z",
     "start_time": "2018-12-03T21:41:30.556004Z"
    }
   },
   "outputs": [],
   "source": [
    "from nltk import ngrams"
   ]
  },
  {
   "cell_type": "code",
   "execution_count": 107,
   "metadata": {
    "ExecuteTime": {
     "end_time": "2018-12-03T21:48:06.396701Z",
     "start_time": "2018-12-03T21:48:06.388831Z"
    }
   },
   "outputs": [
    {
     "name": "stdout",
     "output_type": "stream",
     "text": [
      "(8532415787641010193, 5865838185239622912, 3411606890003347522)\n",
      "(5865838185239622912, 3411606890003347522, 11901859001352538922)\n",
      "(3411606890003347522, 11901859001352538922, 14070511896034874754)\n",
      "(11901859001352538922, 14070511896034874754, None)\n",
      "(14070511896034874754, None, None)\n"
     ]
    }
   ],
   "source": [
    "for n in ngrams(np.array(token_text[0]), 3, pad_right=True):\n",
    "    print(n)"
   ]
  },
  {
   "cell_type": "code",
   "execution_count": 111,
   "metadata": {
    "ExecuteTime": {
     "end_time": "2018-12-03T21:50:51.607141Z",
     "start_time": "2018-12-03T21:50:51.555815Z"
    }
   },
   "outputs": [],
   "source": [
    "doc = utils.nlp('What is the capital of Washington?')\n",
    "q_tokens = doc.to_array([utils.spacy.attrs.LOWER])"
   ]
  },
  {
   "cell_type": "code",
   "execution_count": 116,
   "metadata": {
    "ExecuteTime": {
     "end_time": "2018-12-03T21:52:48.923895Z",
     "start_time": "2018-12-03T21:52:48.860107Z"
    }
   },
   "outputs": [
    {
     "ename": "ValueError",
     "evalue": "all the input array dimensions except for the concatenation axis must match exactly",
     "output_type": "error",
     "traceback": [
      "\u001b[0;31m---------------------------------------------------------------------------\u001b[0m",
      "\u001b[0;31mValueError\u001b[0m                                Traceback (most recent call last)",
      "\u001b[0;32m<ipython-input-116-de1a6a15089f>\u001b[0m in \u001b[0;36m<module>\u001b[0;34m\u001b[0m\n\u001b[0;32m----> 1\u001b[0;31m \u001b[0mnp\u001b[0m\u001b[0;34m.\u001b[0m\u001b[0mhstack\u001b[0m\u001b[0;34m(\u001b[0m\u001b[0;34m[\u001b[0m\u001b[0mnp\u001b[0m\u001b[0;34m.\u001b[0m\u001b[0marray\u001b[0m\u001b[0;34m(\u001b[0m\u001b[0mtoken_text\u001b[0m\u001b[0;34m)\u001b[0m\u001b[0;34m.\u001b[0m\u001b[0mreshape\u001b[0m\u001b[0;34m(\u001b[0m\u001b[0;34m-\u001b[0m\u001b[0;36m1\u001b[0m\u001b[0;34m,\u001b[0m \u001b[0;36m1\u001b[0m\u001b[0;34m)\u001b[0m\u001b[0;34m,\u001b[0m \u001b[0mnp\u001b[0m\u001b[0;34m.\u001b[0m\u001b[0mrepeat\u001b[0m\u001b[0;34m(\u001b[0m\u001b[0mq_tokens\u001b[0m\u001b[0;34m,\u001b[0m \u001b[0mlen\u001b[0m\u001b[0;34m(\u001b[0m\u001b[0mtoken_text\u001b[0m\u001b[0;34m)\u001b[0m\u001b[0;34m,\u001b[0m \u001b[0maxis\u001b[0m\u001b[0;34m=\u001b[0m\u001b[0;36m0\u001b[0m\u001b[0;34m)\u001b[0m\u001b[0;34m.\u001b[0m\u001b[0mreshape\u001b[0m\u001b[0;34m(\u001b[0m\u001b[0;36m1\u001b[0m\u001b[0;34m,\u001b[0m \u001b[0;34m-\u001b[0m\u001b[0;36m1\u001b[0m\u001b[0;34m)\u001b[0m\u001b[0;34m]\u001b[0m\u001b[0;34m)\u001b[0m\u001b[0;34m.\u001b[0m\u001b[0mshape\u001b[0m\u001b[0;34m\u001b[0m\u001b[0;34m\u001b[0m\u001b[0m\n\u001b[0m",
      "\u001b[0;32m/anaconda3/envs/project5/lib/python3.6/site-packages/numpy/core/shape_base.py\u001b[0m in \u001b[0;36mhstack\u001b[0;34m(tup)\u001b[0m\n\u001b[1;32m    286\u001b[0m         \u001b[0;32mreturn\u001b[0m \u001b[0m_nx\u001b[0m\u001b[0;34m.\u001b[0m\u001b[0mconcatenate\u001b[0m\u001b[0;34m(\u001b[0m\u001b[0marrs\u001b[0m\u001b[0;34m,\u001b[0m \u001b[0;36m0\u001b[0m\u001b[0;34m)\u001b[0m\u001b[0;34m\u001b[0m\u001b[0;34m\u001b[0m\u001b[0m\n\u001b[1;32m    287\u001b[0m     \u001b[0;32melse\u001b[0m\u001b[0;34m:\u001b[0m\u001b[0;34m\u001b[0m\u001b[0;34m\u001b[0m\u001b[0m\n\u001b[0;32m--> 288\u001b[0;31m         \u001b[0;32mreturn\u001b[0m \u001b[0m_nx\u001b[0m\u001b[0;34m.\u001b[0m\u001b[0mconcatenate\u001b[0m\u001b[0;34m(\u001b[0m\u001b[0marrs\u001b[0m\u001b[0;34m,\u001b[0m \u001b[0;36m1\u001b[0m\u001b[0;34m)\u001b[0m\u001b[0;34m\u001b[0m\u001b[0;34m\u001b[0m\u001b[0m\n\u001b[0m\u001b[1;32m    289\u001b[0m \u001b[0;34m\u001b[0m\u001b[0m\n\u001b[1;32m    290\u001b[0m \u001b[0;34m\u001b[0m\u001b[0m\n",
      "\u001b[0;31mValueError\u001b[0m: all the input array dimensions except for the concatenation axis must match exactly"
     ]
    }
   ],
   "source": [
    "np.hstack([np.array(token_text).reshape(-1, 1), np.repeat(q_tokens, len(token_text), axis=0).reshape(1, -1)]).shape"
   ]
  },
  {
   "cell_type": "code",
   "execution_count": 117,
   "metadata": {
    "ExecuteTime": {
     "end_time": "2018-12-03T21:53:04.627647Z",
     "start_time": "2018-12-03T21:53:04.608007Z"
    }
   },
   "outputs": [],
   "source": [
    "t = np.array(token_text).reshape(-1, 1)"
   ]
  },
  {
   "cell_type": "code",
   "execution_count": 118,
   "metadata": {
    "ExecuteTime": {
     "end_time": "2018-12-03T21:53:10.211888Z",
     "start_time": "2018-12-03T21:53:10.203881Z"
    }
   },
   "outputs": [
    {
     "data": {
      "text/plain": [
       "(101093, 1)"
      ]
     },
     "execution_count": 118,
     "metadata": {},
     "output_type": "execute_result"
    }
   ],
   "source": [
    "t.shape"
   ]
  },
  {
   "cell_type": "code",
   "execution_count": 119,
   "metadata": {
    "ExecuteTime": {
     "end_time": "2018-12-03T21:53:13.031477Z",
     "start_time": "2018-12-03T21:53:13.021936Z"
    }
   },
   "outputs": [
    {
     "data": {
      "text/plain": [
       "array([[array([ 8532415787641010193,  5865838185239622912,  3411606890003347522,\n",
       "       11901859001352538922, 14070511896034874754], dtype=uint64)],\n",
       "       [array([16315412628806490806, 13583488448875926965, 11779693057662023107,\n",
       "        2619154345045139155, 15597474948775060119, 15099054000809333061,\n",
       "        1920611397140219205,  3791531372978436496, 13569477888548814854],\n",
       "      dtype=uint64)],\n",
       "       [array([16315412628806490806, 13583488448875926965,  7425985699627899538,\n",
       "       11900862162089982680,  6184037061712818460,  3142894986720291236,\n",
       "        3791531372978436496, 17339002579355368042,  9095968958430269659,\n",
       "       10313580197444822952,  9952569212994313472], dtype=uint64)],\n",
       "       ...,\n",
       "       [array([16331095434822636218, 12965068231793614765,  3791531372978436496,\n",
       "        7340758616018961957, 10606469382566443026, 16929211676819693673],\n",
       "      dtype=uint64)],\n",
       "       [array([ 3077651023035088716,  6878210874361030284,  3791531372978436496,\n",
       "       13320680580156776400, 14122124674024302633,  8792669415580402476,\n",
       "        6471315918988267800,  3002984154512732771,  6578343785518939865],\n",
       "      dtype=uint64)],\n",
       "       [array([16331095434822636218,  3791531372978436496,  6502919589296598169,\n",
       "        9743534323633052289,  1031890164806390884,  3791531372978436496,\n",
       "       10778978370903211805], dtype=uint64)]], dtype=object)"
      ]
     },
     "execution_count": 119,
     "metadata": {},
     "output_type": "execute_result"
    }
   ],
   "source": [
    "t"
   ]
  },
  {
   "cell_type": "code",
   "execution_count": 127,
   "metadata": {
    "ExecuteTime": {
     "end_time": "2018-12-03T21:54:18.091574Z",
     "start_time": "2018-12-03T21:54:18.077218Z"
    }
   },
   "outputs": [],
   "source": [
    "v = np.repeat(q_tokens, len(token_text))"
   ]
  },
  {
   "cell_type": "code",
   "execution_count": 128,
   "metadata": {
    "ExecuteTime": {
     "end_time": "2018-12-03T21:54:18.681372Z",
     "start_time": "2018-12-03T21:54:18.675196Z"
    }
   },
   "outputs": [
    {
     "data": {
      "text/plain": [
       "(707651,)"
      ]
     },
     "execution_count": 128,
     "metadata": {},
     "output_type": "execute_result"
    }
   ],
   "source": [
    "v.shape"
   ]
  },
  {
   "cell_type": "code",
   "execution_count": 124,
   "metadata": {
    "ExecuteTime": {
     "end_time": "2018-12-03T21:54:05.425792Z",
     "start_time": "2018-12-03T21:54:05.416084Z"
    }
   },
   "outputs": [
    {
     "data": {
      "text/plain": [
       "101093"
      ]
     },
     "execution_count": 124,
     "metadata": {},
     "output_type": "execute_result"
    }
   ],
   "source": [
    "len(token_text)"
   ]
  },
  {
   "cell_type": "code",
   "execution_count": 133,
   "metadata": {
    "ExecuteTime": {
     "end_time": "2018-12-03T21:59:25.280060Z",
     "start_time": "2018-12-03T21:59:20.627818Z"
    }
   },
   "outputs": [
    {
     "name": "stdout",
     "output_type": "stream",
     "text": [
      "CPU times: user 3.62 s, sys: 69 ms, total: 3.69 s\n",
      "Wall time: 4.64 s\n"
     ]
    },
    {
     "data": {
      "text/plain": [
       "array([[0.33333333, 0.16666667, 0.        ],\n",
       "       [0.        , 0.        , 0.        ],\n",
       "       [0.11111111, 0.        , 0.        ],\n",
       "       ...,\n",
       "       [0.        , 0.        , 0.        ],\n",
       "       [0.        , 0.        , 0.        ],\n",
       "       [0.        , 0.        , 0.        ]])"
      ]
     },
     "execution_count": 133,
     "metadata": {},
     "output_type": "execute_result"
    }
   ],
   "source": [
    "%%time\n",
    "ngram_similarity(q_tokens)"
   ]
  },
  {
   "cell_type": "code",
   "execution_count": null,
   "metadata": {},
   "outputs": [],
   "source": []
  }
 ],
 "metadata": {
  "kernelspec": {
   "display_name": "Python 3",
   "language": "python",
   "name": "python3"
  },
  "language_info": {
   "codemirror_mode": {
    "name": "ipython",
    "version": 3
   },
   "file_extension": ".py",
   "mimetype": "text/x-python",
   "name": "python",
   "nbconvert_exporter": "python",
   "pygments_lexer": "ipython3",
   "version": "3.6.5"
  }
 },
 "nbformat": 4,
 "nbformat_minor": 2
}
