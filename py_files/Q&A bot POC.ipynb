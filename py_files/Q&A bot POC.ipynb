{
 "cells": [
  {
   "cell_type": "code",
   "execution_count": 3,
   "metadata": {
    "ExecuteTime": {
     "end_time": "2018-12-04T13:57:58.423687Z",
     "start_time": "2018-12-04T13:57:43.606359Z"
    }
   },
   "outputs": [],
   "source": [
    "import utils\n",
    "import pandas as pd\n",
    "import numpy as np\n",
    "from nltk import ngrams"
   ]
  },
  {
   "cell_type": "code",
   "execution_count": 4,
   "metadata": {
    "ExecuteTime": {
     "end_time": "2018-12-04T13:59:38.224234Z",
     "start_time": "2018-12-04T13:59:18.406236Z"
    }
   },
   "outputs": [],
   "source": [
    "qa_df = pd.read_json('../data/ms_macro_qa/dev_v2.1.json')"
   ]
  },
  {
   "cell_type": "code",
   "execution_count": 6,
   "metadata": {
    "ExecuteTime": {
     "end_time": "2018-12-04T14:04:16.640124Z",
     "start_time": "2018-12-04T14:04:15.950223Z"
    }
   },
   "outputs": [],
   "source": [
    "qa_df = qa_df.loc[:, ['answers', 'query']]"
   ]
  },
  {
   "cell_type": "code",
   "execution_count": 7,
   "metadata": {
    "ExecuteTime": {
     "end_time": "2018-12-04T14:04:19.284732Z",
     "start_time": "2018-12-04T14:04:17.642878Z"
    }
   },
   "outputs": [],
   "source": [
    "utils.save(qa_df, 'qa_df')"
   ]
  },
  {
   "cell_type": "code",
   "execution_count": 4,
   "metadata": {
    "ExecuteTime": {
     "end_time": "2018-12-04T03:46:16.416115Z",
     "start_time": "2018-12-04T03:46:16.400338Z"
    }
   },
   "outputs": [
    {
     "data": {
      "text/plain": [
       "(101093, 6)"
      ]
     },
     "execution_count": 4,
     "metadata": {},
     "output_type": "execute_result"
    }
   ],
   "source": [
    "qa_df.shape"
   ]
  },
  {
   "cell_type": "code",
   "execution_count": null,
   "metadata": {
    "ExecuteTime": {
     "start_time": "2018-12-04T04:57:13.181Z"
    }
   },
   "outputs": [],
   "source": [
    "qa_df.answers.value_counts() ## what to do with the '[No Answer Present.]'"
   ]
  },
  {
   "cell_type": "code",
   "execution_count": 5,
   "metadata": {
    "ExecuteTime": {
     "end_time": "2018-12-04T03:46:18.026110Z",
     "start_time": "2018-12-04T03:46:17.976522Z"
    }
   },
   "outputs": [
    {
     "data": {
      "text/html": [
       "<div>\n",
       "<style scoped>\n",
       "    .dataframe tbody tr th:only-of-type {\n",
       "        vertical-align: middle;\n",
       "    }\n",
       "\n",
       "    .dataframe tbody tr th {\n",
       "        vertical-align: top;\n",
       "    }\n",
       "\n",
       "    .dataframe thead th {\n",
       "        text-align: right;\n",
       "    }\n",
       "</style>\n",
       "<table border=\"1\" class=\"dataframe\">\n",
       "  <thead>\n",
       "    <tr style=\"text-align: right;\">\n",
       "      <th></th>\n",
       "      <th>answers</th>\n",
       "      <th>passages</th>\n",
       "      <th>query</th>\n",
       "      <th>query_id</th>\n",
       "      <th>query_type</th>\n",
       "      <th>wellFormedAnswers</th>\n",
       "    </tr>\n",
       "  </thead>\n",
       "  <tbody>\n",
       "    <tr>\n",
       "      <th>0</th>\n",
       "      <td>[A corporation is a company or group of people...</td>\n",
       "      <td>[{'is_selected': 0, 'passage_text': 'A company...</td>\n",
       "      <td>. what is a corporation?</td>\n",
       "      <td>1102432</td>\n",
       "      <td>DESCRIPTION</td>\n",
       "      <td>[]</td>\n",
       "    </tr>\n",
       "    <tr>\n",
       "      <th>1</th>\n",
       "      <td>[Rachel Carson writes The Obligation to Endure...</td>\n",
       "      <td>[{'is_selected': 0, 'passage_text': 'Read to w...</td>\n",
       "      <td>why did rachel carson write an obligation to e...</td>\n",
       "      <td>1102431</td>\n",
       "      <td>DESCRIPTION</td>\n",
       "      <td>[]</td>\n",
       "    </tr>\n",
       "    <tr>\n",
       "      <th>10</th>\n",
       "      <td>[No Answer Present.]</td>\n",
       "      <td>[{'is_selected': 0, 'passage_text': 'The Progr...</td>\n",
       "      <td>why did the progressive movement fail to advan...</td>\n",
       "      <td>1102421</td>\n",
       "      <td>DESCRIPTION</td>\n",
       "      <td>[]</td>\n",
       "    </tr>\n",
       "    <tr>\n",
       "      <th>100</th>\n",
       "      <td>[No Answer Present.]</td>\n",
       "      <td>[{'is_selected': 0, 'passage_text': 'On an ave...</td>\n",
       "      <td>why do police need to understand what the fore...</td>\n",
       "      <td>1102315</td>\n",
       "      <td>DESCRIPTION</td>\n",
       "      <td>[]</td>\n",
       "    </tr>\n",
       "    <tr>\n",
       "      <th>1000</th>\n",
       "      <td>[No Answer Present.]</td>\n",
       "      <td>[{'is_selected': 0, 'passage_text': 'A: Very, ...</td>\n",
       "      <td>do owls eat in the day</td>\n",
       "      <td>1101280</td>\n",
       "      <td>NUMERIC</td>\n",
       "      <td>[]</td>\n",
       "    </tr>\n",
       "  </tbody>\n",
       "</table>\n",
       "</div>"
      ],
      "text/plain": [
       "                                                answers  \\\n",
       "0     [A corporation is a company or group of people...   \n",
       "1     [Rachel Carson writes The Obligation to Endure...   \n",
       "10                                 [No Answer Present.]   \n",
       "100                                [No Answer Present.]   \n",
       "1000                               [No Answer Present.]   \n",
       "\n",
       "                                               passages  \\\n",
       "0     [{'is_selected': 0, 'passage_text': 'A company...   \n",
       "1     [{'is_selected': 0, 'passage_text': 'Read to w...   \n",
       "10    [{'is_selected': 0, 'passage_text': 'The Progr...   \n",
       "100   [{'is_selected': 0, 'passage_text': 'On an ave...   \n",
       "1000  [{'is_selected': 0, 'passage_text': 'A: Very, ...   \n",
       "\n",
       "                                                  query  query_id  \\\n",
       "0                              . what is a corporation?   1102432   \n",
       "1     why did rachel carson write an obligation to e...   1102431   \n",
       "10    why did the progressive movement fail to advan...   1102421   \n",
       "100   why do police need to understand what the fore...   1102315   \n",
       "1000                             do owls eat in the day   1101280   \n",
       "\n",
       "       query_type wellFormedAnswers  \n",
       "0     DESCRIPTION                []  \n",
       "1     DESCRIPTION                []  \n",
       "10    DESCRIPTION                []  \n",
       "100   DESCRIPTION                []  \n",
       "1000      NUMERIC                []  "
      ]
     },
     "execution_count": 5,
     "metadata": {},
     "output_type": "execute_result"
    }
   ],
   "source": [
    "qa_df.head()"
   ]
  },
  {
   "cell_type": "code",
   "execution_count": 6,
   "metadata": {
    "ExecuteTime": {
     "end_time": "2018-12-04T03:46:19.420756Z",
     "start_time": "2018-12-04T03:46:19.165297Z"
    }
   },
   "outputs": [
    {
     "data": {
      "text/html": [
       "<div>\n",
       "<style scoped>\n",
       "    .dataframe tbody tr th:only-of-type {\n",
       "        vertical-align: middle;\n",
       "    }\n",
       "\n",
       "    .dataframe tbody tr th {\n",
       "        vertical-align: top;\n",
       "    }\n",
       "\n",
       "    .dataframe thead th {\n",
       "        text-align: right;\n",
       "    }\n",
       "</style>\n",
       "<table border=\"1\" class=\"dataframe\">\n",
       "  <thead>\n",
       "    <tr style=\"text-align: right;\">\n",
       "      <th></th>\n",
       "      <th>answers</th>\n",
       "      <th>passages</th>\n",
       "      <th>query</th>\n",
       "      <th>query_id</th>\n",
       "      <th>query_type</th>\n",
       "      <th>wellFormedAnswers</th>\n",
       "    </tr>\n",
       "  </thead>\n",
       "  <tbody>\n",
       "    <tr>\n",
       "      <th>62835</th>\n",
       "      <td>[Yes, Chamberlain College of Nursing is an HLC...</td>\n",
       "      <td>[{'is_selected': 0, 'passage_text': 'You also ...</td>\n",
       "      <td>is chamberlain college of nursing accredited</td>\n",
       "      <td>405918</td>\n",
       "      <td>DESCRIPTION</td>\n",
       "      <td>[]</td>\n",
       "    </tr>\n",
       "    <tr>\n",
       "      <th>71943</th>\n",
       "      <td>[Angola, mining company Lucapa.]</td>\n",
       "      <td>[{'is_selected': 0, 'passage_text': 'The 1,111...</td>\n",
       "      <td>where was the large diamond just found</td>\n",
       "      <td>1003844</td>\n",
       "      <td>LOCATION</td>\n",
       "      <td>[]</td>\n",
       "    </tr>\n",
       "    <tr>\n",
       "      <th>2410</th>\n",
       "      <td>[he recovery of fingerprints from a crime scen...</td>\n",
       "      <td>[{'is_selected': 0, 'passage_text': 'The three...</td>\n",
       "      <td>how are fingerprints discovered at crime scenes?</td>\n",
       "      <td>1099709</td>\n",
       "      <td>DESCRIPTION</td>\n",
       "      <td>[]</td>\n",
       "    </tr>\n",
       "    <tr>\n",
       "      <th>99019</th>\n",
       "      <td>[No Answer Present.]</td>\n",
       "      <td>[{'is_selected': 0, 'passage_text': 'Get maxim...</td>\n",
       "      <td>ferris is 1500z zero turn mower</td>\n",
       "      <td>186437</td>\n",
       "      <td>DESCRIPTION</td>\n",
       "      <td>[]</td>\n",
       "    </tr>\n",
       "    <tr>\n",
       "      <th>8465</th>\n",
       "      <td>[No Answer Present.]</td>\n",
       "      <td>[{'is_selected': 0, 'passage_text': 'Group Pol...</td>\n",
       "      <td>nosmhelp what is it</td>\n",
       "      <td>1092157</td>\n",
       "      <td>DESCRIPTION</td>\n",
       "      <td>[]</td>\n",
       "    </tr>\n",
       "    <tr>\n",
       "      <th>53678</th>\n",
       "      <td>[No Answer Present.]</td>\n",
       "      <td>[{'is_selected': 0, 'passage_text': 'The leave...</td>\n",
       "      <td>can you get bear grass in florists?</td>\n",
       "      <td>77715</td>\n",
       "      <td>DESCRIPTION</td>\n",
       "      <td>[]</td>\n",
       "    </tr>\n",
       "    <tr>\n",
       "      <th>47442</th>\n",
       "      <td>[No]</td>\n",
       "      <td>[{'is_selected': 1, 'passage_text': 'A Waiter/...</td>\n",
       "      <td>is waiter gender specific</td>\n",
       "      <td>431098</td>\n",
       "      <td>DESCRIPTION</td>\n",
       "      <td>[]</td>\n",
       "    </tr>\n",
       "    <tr>\n",
       "      <th>3417</th>\n",
       "      <td>[The bankruptcy record from the court is delet...</td>\n",
       "      <td>[{'is_selected': 0, 'passage_text': 'I was suc...</td>\n",
       "      <td>how long does a bankruptcy show on public reco...</td>\n",
       "      <td>1098423</td>\n",
       "      <td>NUMERIC</td>\n",
       "      <td>[]</td>\n",
       "    </tr>\n",
       "    <tr>\n",
       "      <th>88321</th>\n",
       "      <td>[No Answer Present.]</td>\n",
       "      <td>[{'is_selected': 0, 'passage_text': 'NOTE: Eve...</td>\n",
       "      <td>which statement explains why conclusions from ...</td>\n",
       "      <td>1020051</td>\n",
       "      <td>DESCRIPTION</td>\n",
       "      <td>[]</td>\n",
       "    </tr>\n",
       "    <tr>\n",
       "      <th>3602</th>\n",
       "      <td>[No Answer Present.]</td>\n",
       "      <td>[{'is_selected': 0, 'passage_text': 'This step...</td>\n",
       "      <td>how long does it take to get dna results for i...</td>\n",
       "      <td>1098175</td>\n",
       "      <td>NUMERIC</td>\n",
       "      <td>[]</td>\n",
       "    </tr>\n",
       "    <tr>\n",
       "      <th>59741</th>\n",
       "      <td>[No Answer Present.]</td>\n",
       "      <td>[{'is_selected': 0, 'passage_text': 'Rule 1. U...</td>\n",
       "      <td>should research-based have a comma</td>\n",
       "      <td>496759</td>\n",
       "      <td>DESCRIPTION</td>\n",
       "      <td>[]</td>\n",
       "    </tr>\n",
       "    <tr>\n",
       "      <th>35902</th>\n",
       "      <td>[A disease that can be communicated from one p...</td>\n",
       "      <td>[{'is_selected': 0, 'passage_text': 'All age g...</td>\n",
       "      <td>communication disease definition</td>\n",
       "      <td>95929</td>\n",
       "      <td>DESCRIPTION</td>\n",
       "      <td>[Communication disease is a disease that can b...</td>\n",
       "    </tr>\n",
       "    <tr>\n",
       "      <th>76109</th>\n",
       "      <td>[No Answer Present.]</td>\n",
       "      <td>[{'is_selected': 0, 'passage_text': 'Once you’...</td>\n",
       "      <td>how to restore a macbook snow leopard</td>\n",
       "      <td>377541</td>\n",
       "      <td>DESCRIPTION</td>\n",
       "      <td>[]</td>\n",
       "    </tr>\n",
       "    <tr>\n",
       "      <th>54298</th>\n",
       "      <td>[Six to eight week]</td>\n",
       "      <td>[{'is_selected': 0, 'passage_text': 'The ball ...</td>\n",
       "      <td>infant hip dysplasia brace how long</td>\n",
       "      <td>395655</td>\n",
       "      <td>NUMERIC</td>\n",
       "      <td>[]</td>\n",
       "    </tr>\n",
       "    <tr>\n",
       "      <th>29113</th>\n",
       "      <td>[The meaning of Jerky is of, relating to, or b...</td>\n",
       "      <td>[{'is_selected': 0, 'passage_text': 'Define je...</td>\n",
       "      <td>definition of jerky</td>\n",
       "      <td>988507</td>\n",
       "      <td>DESCRIPTION</td>\n",
       "      <td>[]</td>\n",
       "    </tr>\n",
       "    <tr>\n",
       "      <th>65568</th>\n",
       "      <td>[It is a chronic congestive enlargement of the...</td>\n",
       "      <td>[{'is_selected': 0, 'passage_text': 'Banti's S...</td>\n",
       "      <td>what is banti disease</td>\n",
       "      <td>722295</td>\n",
       "      <td>ENTITY</td>\n",
       "      <td>[]</td>\n",
       "    </tr>\n",
       "    <tr>\n",
       "      <th>6508</th>\n",
       "      <td>[No Answer Present.]</td>\n",
       "      <td>[{'is_selected': 0, 'passage_text': 'Iliotibia...</td>\n",
       "      <td>iliotibial tendon injury symptoms</td>\n",
       "      <td>1094639</td>\n",
       "      <td>ENTITY</td>\n",
       "      <td>[]</td>\n",
       "    </tr>\n",
       "    <tr>\n",
       "      <th>75461</th>\n",
       "      <td>[No Answer Present.]</td>\n",
       "      <td>[{'is_selected': 0, 'passage_text': 'The acces...</td>\n",
       "      <td>which of the following is an accessory organ o...</td>\n",
       "      <td>1015042</td>\n",
       "      <td>DESCRIPTION</td>\n",
       "      <td>[]</td>\n",
       "    </tr>\n",
       "    <tr>\n",
       "      <th>60305</th>\n",
       "      <td>[An increase in the amount of aspartate transa...</td>\n",
       "      <td>[{'is_selected': 0, 'passage_text': 'Aspartate...</td>\n",
       "      <td>what is high ast</td>\n",
       "      <td>754952</td>\n",
       "      <td>DESCRIPTION</td>\n",
       "      <td>[High aspartate aminotransferase is an increas...</td>\n",
       "    </tr>\n",
       "    <tr>\n",
       "      <th>47760</th>\n",
       "      <td>[No Answer Present.]</td>\n",
       "      <td>[{'is_selected': 0, 'passage_text': '1. Multip...</td>\n",
       "      <td>how to solve 18.7 times 4.2</td>\n",
       "      <td>380467</td>\n",
       "      <td>DESCRIPTION</td>\n",
       "      <td>[]</td>\n",
       "    </tr>\n",
       "    <tr>\n",
       "      <th>92526</th>\n",
       "      <td>[No Answer Present.]</td>\n",
       "      <td>[{'is_selected': 0, 'passage_text': 'Next time...</td>\n",
       "      <td>what skills do you develop in recruitment</td>\n",
       "      <td>896025</td>\n",
       "      <td>DESCRIPTION</td>\n",
       "      <td>[]</td>\n",
       "    </tr>\n",
       "    <tr>\n",
       "      <th>98704</th>\n",
       "      <td>[No Answer Present.]</td>\n",
       "      <td>[{'is_selected': 0, 'passage_text': 'Well, I c...</td>\n",
       "      <td>how to coil a cord</td>\n",
       "      <td>350961</td>\n",
       "      <td>DESCRIPTION</td>\n",
       "      <td>[]</td>\n",
       "    </tr>\n",
       "    <tr>\n",
       "      <th>31615</th>\n",
       "      <td>[Between $73 and $104.]</td>\n",
       "      <td>[{'is_selected': 0, 'passage_text': 'Additiona...</td>\n",
       "      <td>how much is brake fluid service</td>\n",
       "      <td>321779</td>\n",
       "      <td>NUMERIC</td>\n",
       "      <td>[]</td>\n",
       "    </tr>\n",
       "    <tr>\n",
       "      <th>88206</th>\n",
       "      <td>[No Answer Present.]</td>\n",
       "      <td>[{'is_selected': 0, 'passage_text': 'Exeter Ch...</td>\n",
       "      <td>what is the bridge called by exeter chiefs ground</td>\n",
       "      <td>809645</td>\n",
       "      <td>LOCATION</td>\n",
       "      <td>[]</td>\n",
       "    </tr>\n",
       "    <tr>\n",
       "      <th>83800</th>\n",
       "      <td>[Bacterial infections including, leptospirosis...</td>\n",
       "      <td>[{'is_selected': 1, 'passage_text': 'It is use...</td>\n",
       "      <td>what tetracycline is used for</td>\n",
       "      <td>903158</td>\n",
       "      <td>DESCRIPTION</td>\n",
       "      <td>[Tetracycline is used to treat bacterial infec...</td>\n",
       "    </tr>\n",
       "    <tr>\n",
       "      <th>93507</th>\n",
       "      <td>[Sarawak Chamber is the biggest underground ch...</td>\n",
       "      <td>[{'is_selected': 0, 'passage_text': 'Scans of ...</td>\n",
       "      <td>biggest underground chamber on earth</td>\n",
       "      <td>53602</td>\n",
       "      <td>LOCATION</td>\n",
       "      <td>[]</td>\n",
       "    </tr>\n",
       "    <tr>\n",
       "      <th>39837</th>\n",
       "      <td>[No Answer Present.]</td>\n",
       "      <td>[{'is_selected': 0, 'passage_text': 'Garage Co...</td>\n",
       "      <td>average cost to build a garage in mo</td>\n",
       "      <td>34989</td>\n",
       "      <td>NUMERIC</td>\n",
       "      <td>[]</td>\n",
       "    </tr>\n",
       "    <tr>\n",
       "      <th>66449</th>\n",
       "      <td>[No Answer Present.]</td>\n",
       "      <td>[{'is_selected': 0, 'passage_text': 'Targeted ...</td>\n",
       "      <td>is ppd a tetanus</td>\n",
       "      <td>421465</td>\n",
       "      <td>DESCRIPTION</td>\n",
       "      <td>[]</td>\n",
       "    </tr>\n",
       "    <tr>\n",
       "      <th>60373</th>\n",
       "      <td>[A basic metabolic panel is a combination of t...</td>\n",
       "      <td>[{'is_selected': 0, 'passage_text': 'A basic m...</td>\n",
       "      <td>what is a basic metabolic blood test</td>\n",
       "      <td>674324</td>\n",
       "      <td>DESCRIPTION</td>\n",
       "      <td>[A basic metabolic panel is a combination of t...</td>\n",
       "    </tr>\n",
       "    <tr>\n",
       "      <th>63873</th>\n",
       "      <td>[No Answer Present.]</td>\n",
       "      <td>[{'is_selected': 0, 'passage_text': 'Author Mi...</td>\n",
       "      <td>nicaragua average yearly temperatures</td>\n",
       "      <td>464373</td>\n",
       "      <td>NUMERIC</td>\n",
       "      <td>[]</td>\n",
       "    </tr>\n",
       "    <tr>\n",
       "      <th>...</th>\n",
       "      <td>...</td>\n",
       "      <td>...</td>\n",
       "      <td>...</td>\n",
       "      <td>...</td>\n",
       "      <td>...</td>\n",
       "      <td>...</td>\n",
       "    </tr>\n",
       "    <tr>\n",
       "      <th>99296</th>\n",
       "      <td>[No Answer Present.]</td>\n",
       "      <td>[{'is_selected': 0, 'passage_text': 'This mode...</td>\n",
       "      <td>can porcelain tile be painted</td>\n",
       "      <td>72553</td>\n",
       "      <td>DESCRIPTION</td>\n",
       "      <td>[]</td>\n",
       "    </tr>\n",
       "    <tr>\n",
       "      <th>32978</th>\n",
       "      <td>[382 kilometers.]</td>\n",
       "      <td>[{'is_selected': 1, 'passage_text': 'Distance ...</td>\n",
       "      <td>how far is dominican republic puerto rico?</td>\n",
       "      <td>230898</td>\n",
       "      <td>NUMERIC</td>\n",
       "      <td>[Distance from Dominican Republic to Puerto Ri...</td>\n",
       "    </tr>\n",
       "    <tr>\n",
       "      <th>50876</th>\n",
       "      <td>[No Answer Present.]</td>\n",
       "      <td>[{'is_selected': 0, 'passage_text': '‘Icon’ me...</td>\n",
       "      <td>what iconic image represents italy</td>\n",
       "      <td>669987</td>\n",
       "      <td>DESCRIPTION</td>\n",
       "      <td>[]</td>\n",
       "    </tr>\n",
       "    <tr>\n",
       "      <th>26268</th>\n",
       "      <td>[No Answer Present.]</td>\n",
       "      <td>[{'is_selected': 0, 'passage_text': 'Apr 21, 2...</td>\n",
       "      <td>when is the best time of year to visit the out...</td>\n",
       "      <td>1003792</td>\n",
       "      <td>NUMERIC</td>\n",
       "      <td>[]</td>\n",
       "    </tr>\n",
       "    <tr>\n",
       "      <th>30804</th>\n",
       "      <td>[No Answer Present.]</td>\n",
       "      <td>[{'is_selected': 0, 'passage_text': 'To me, th...</td>\n",
       "      <td>how quickly should a new business expect to re...</td>\n",
       "      <td>338305</td>\n",
       "      <td>DESCRIPTION</td>\n",
       "      <td>[]</td>\n",
       "    </tr>\n",
       "    <tr>\n",
       "      <th>29852</th>\n",
       "      <td>[No Answer Present.]</td>\n",
       "      <td>[{'is_selected': 0, 'passage_text': 'If you ch...</td>\n",
       "      <td>how to change your flight without paying</td>\n",
       "      <td>349212</td>\n",
       "      <td>DESCRIPTION</td>\n",
       "      <td>[]</td>\n",
       "    </tr>\n",
       "    <tr>\n",
       "      <th>57824</th>\n",
       "      <td>[The word clout means a cloth; a piece of clot...</td>\n",
       "      <td>[{'is_selected': 1, 'passage_text': 'Webster D...</td>\n",
       "      <td>what does the word clout mean</td>\n",
       "      <td>653464</td>\n",
       "      <td>DESCRIPTION</td>\n",
       "      <td>[]</td>\n",
       "    </tr>\n",
       "    <tr>\n",
       "      <th>76963</th>\n",
       "      <td>[No Answer Present.]</td>\n",
       "      <td>[{'is_selected': 0, 'passage_text': 'Variable ...</td>\n",
       "      <td>how does a variable temperature system work</td>\n",
       "      <td>225214</td>\n",
       "      <td>DESCRIPTION</td>\n",
       "      <td>[]</td>\n",
       "    </tr>\n",
       "    <tr>\n",
       "      <th>60673</th>\n",
       "      <td>[No Answer Present.]</td>\n",
       "      <td>[{'is_selected': 0, 'passage_text': 'Weight Li...</td>\n",
       "      <td>what are resistance training equipment</td>\n",
       "      <td>564200</td>\n",
       "      <td>DESCRIPTION</td>\n",
       "      <td>[]</td>\n",
       "    </tr>\n",
       "    <tr>\n",
       "      <th>23857</th>\n",
       "      <td>[Chlorofluorocarbons are considered to be the ...</td>\n",
       "      <td>[{'is_selected': 1, 'passage_text': 'These are...</td>\n",
       "      <td>what pollutant reaches the stratosphere</td>\n",
       "      <td>1022355</td>\n",
       "      <td>DESCRIPTION</td>\n",
       "      <td>[]</td>\n",
       "    </tr>\n",
       "    <tr>\n",
       "      <th>87644</th>\n",
       "      <td>[No Answer Present.]</td>\n",
       "      <td>[{'is_selected': 0, 'passage_text': 'Curve of ...</td>\n",
       "      <td>what would be the force of gravity if earth wa...</td>\n",
       "      <td>925207</td>\n",
       "      <td>DESCRIPTION</td>\n",
       "      <td>[]</td>\n",
       "    </tr>\n",
       "    <tr>\n",
       "      <th>42932</th>\n",
       "      <td>[Yes]</td>\n",
       "      <td>[{'is_selected': 1, 'passage_text': 'The basic...</td>\n",
       "      <td>is lithosphere made of silicate</td>\n",
       "      <td>416562</td>\n",
       "      <td>DESCRIPTION</td>\n",
       "      <td>[]</td>\n",
       "    </tr>\n",
       "    <tr>\n",
       "      <th>64956</th>\n",
       "      <td>[No]</td>\n",
       "      <td>[{'is_selected': 0, 'passage_text': 'A. While ...</td>\n",
       "      <td>are eggs considered meat</td>\n",
       "      <td>22217</td>\n",
       "      <td>DESCRIPTION</td>\n",
       "      <td>[No, eggs are not considered meat., No, Eggs a...</td>\n",
       "    </tr>\n",
       "    <tr>\n",
       "      <th>16720</th>\n",
       "      <td>[Despite its name, radiant floor heating depen...</td>\n",
       "      <td>[{'is_selected': 0, 'passage_text': '1 Upload ...</td>\n",
       "      <td>what heating system involve circulation of the...</td>\n",
       "      <td>1078852</td>\n",
       "      <td>DESCRIPTION</td>\n",
       "      <td>[]</td>\n",
       "    </tr>\n",
       "    <tr>\n",
       "      <th>15865</th>\n",
       "      <td>[SLAP stands for Superior Labrum from Anterior...</td>\n",
       "      <td>[{'is_selected': 0, 'passage_text': 'A SLAP te...</td>\n",
       "      <td>what does slap stand for in medical terms</td>\n",
       "      <td>1083006</td>\n",
       "      <td>DESCRIPTION</td>\n",
       "      <td>[]</td>\n",
       "    </tr>\n",
       "    <tr>\n",
       "      <th>46288</th>\n",
       "      <td>[The psychodynamic approach includes all the t...</td>\n",
       "      <td>[{'is_selected': 0, 'passage_text': 'As we hav...</td>\n",
       "      <td>psychodynamic meaning</td>\n",
       "      <td>483595</td>\n",
       "      <td>DESCRIPTION</td>\n",
       "      <td>[]</td>\n",
       "    </tr>\n",
       "    <tr>\n",
       "      <th>45210</th>\n",
       "      <td>[A program or group of programs that is design...</td>\n",
       "      <td>[{'is_selected': 0, 'passage_text': 'A compute...</td>\n",
       "      <td>what are computer applications</td>\n",
       "      <td>556954</td>\n",
       "      <td>DESCRIPTION</td>\n",
       "      <td>[]</td>\n",
       "    </tr>\n",
       "    <tr>\n",
       "      <th>59168</th>\n",
       "      <td>[87]</td>\n",
       "      <td>[{'is_selected': 0, 'passage_text': 'Retiremen...</td>\n",
       "      <td>what is a us male life expectancy</td>\n",
       "      <td>704912</td>\n",
       "      <td>NUMERIC</td>\n",
       "      <td>[The life expectancy of a male in the United S...</td>\n",
       "    </tr>\n",
       "    <tr>\n",
       "      <th>100851</th>\n",
       "      <td>[No Answer Present.]</td>\n",
       "      <td>[{'is_selected': 0, 'passage_text': 'Quick Ans...</td>\n",
       "      <td>how long to bake wingettes</td>\n",
       "      <td>268353</td>\n",
       "      <td>NUMERIC</td>\n",
       "      <td>[]</td>\n",
       "    </tr>\n",
       "    <tr>\n",
       "      <th>87348</th>\n",
       "      <td>[No Answer Present.]</td>\n",
       "      <td>[{'is_selected': 0, 'passage_text': 'The strat...</td>\n",
       "      <td>what occurs in the stratum basale</td>\n",
       "      <td>882658</td>\n",
       "      <td>DESCRIPTION</td>\n",
       "      <td>[]</td>\n",
       "    </tr>\n",
       "    <tr>\n",
       "      <th>90003</th>\n",
       "      <td>[No Answer Present.]</td>\n",
       "      <td>[{'is_selected': 0, 'passage_text': 'The avera...</td>\n",
       "      <td>why has life expectancy increased in the us</td>\n",
       "      <td>1068835</td>\n",
       "      <td>DESCRIPTION</td>\n",
       "      <td>[]</td>\n",
       "    </tr>\n",
       "    <tr>\n",
       "      <th>41324</th>\n",
       "      <td>[Jared Keeso, for season 2 Andrew Herr, Alexan...</td>\n",
       "      <td>[{'is_selected': 0, 'passage_text': 'In Season...</td>\n",
       "      <td>cast of letterkenny</td>\n",
       "      <td>83427</td>\n",
       "      <td>PERSON</td>\n",
       "      <td>[]</td>\n",
       "    </tr>\n",
       "    <tr>\n",
       "      <th>57791</th>\n",
       "      <td>[Multidirectional Instability of the Shoulder ...</td>\n",
       "      <td>[{'is_selected': 0, 'passage_text': 'The shoul...</td>\n",
       "      <td>what does shoulder mdi mean</td>\n",
       "      <td>647876</td>\n",
       "      <td>DESCRIPTION</td>\n",
       "      <td>[]</td>\n",
       "    </tr>\n",
       "    <tr>\n",
       "      <th>34600</th>\n",
       "      <td>[No Answer Present.]</td>\n",
       "      <td>[{'is_selected': 0, 'passage_text': 'You can f...</td>\n",
       "      <td>how do i find out how much rrsp i have</td>\n",
       "      <td>218038</td>\n",
       "      <td>DESCRIPTION</td>\n",
       "      <td>[]</td>\n",
       "    </tr>\n",
       "    <tr>\n",
       "      <th>22637</th>\n",
       "      <td>[The flow of water through the xylem from the ...</td>\n",
       "      <td>[{'is_selected': 0, 'passage_text': 'Transpira...</td>\n",
       "      <td>what is the transpiration stream</td>\n",
       "      <td>1030915</td>\n",
       "      <td>DESCRIPTION</td>\n",
       "      <td>[]</td>\n",
       "    </tr>\n",
       "    <tr>\n",
       "      <th>59461</th>\n",
       "      <td>[No Answer Present.]</td>\n",
       "      <td>[{'is_selected': 0, 'passage_text': 'Fluorosul...</td>\n",
       "      <td>what is fluorosulfuric acid used for</td>\n",
       "      <td>748112</td>\n",
       "      <td>DESCRIPTION</td>\n",
       "      <td>[]</td>\n",
       "    </tr>\n",
       "    <tr>\n",
       "      <th>56089</th>\n",
       "      <td>[Between $800 and $1,000.]</td>\n",
       "      <td>[{'is_selected': 0, 'passage_text': 'A liner i...</td>\n",
       "      <td>price of bath fitter for a tub</td>\n",
       "      <td>480536</td>\n",
       "      <td>NUMERIC</td>\n",
       "      <td>[]</td>\n",
       "    </tr>\n",
       "    <tr>\n",
       "      <th>34111</th>\n",
       "      <td>[No Answer Present.]</td>\n",
       "      <td>[{'is_selected': 0, 'passage_text': 'The excep...</td>\n",
       "      <td>can a mother report dependent child income in ...</td>\n",
       "      <td>62746</td>\n",
       "      <td>DESCRIPTION</td>\n",
       "      <td>[]</td>\n",
       "    </tr>\n",
       "    <tr>\n",
       "      <th>94268</th>\n",
       "      <td>[No Answer Present.]</td>\n",
       "      <td>[{'is_selected': 0, 'passage_text': 'For the h...</td>\n",
       "      <td>when can you open the whisper of the old god c...</td>\n",
       "      <td>936734</td>\n",
       "      <td>NUMERIC</td>\n",
       "      <td>[]</td>\n",
       "    </tr>\n",
       "    <tr>\n",
       "      <th>42762</th>\n",
       "      <td>[No Answer Present.]</td>\n",
       "      <td>[{'is_selected': 0, 'passage_text': '2. Plan h...</td>\n",
       "      <td>how to sneak out at night without getting caught</td>\n",
       "      <td>380428</td>\n",
       "      <td>DESCRIPTION</td>\n",
       "      <td>[]</td>\n",
       "    </tr>\n",
       "  </tbody>\n",
       "</table>\n",
       "<p>100 rows × 6 columns</p>\n",
       "</div>"
      ],
      "text/plain": [
       "                                                  answers  \\\n",
       "62835   [Yes, Chamberlain College of Nursing is an HLC...   \n",
       "71943                    [Angola, mining company Lucapa.]   \n",
       "2410    [he recovery of fingerprints from a crime scen...   \n",
       "99019                                [No Answer Present.]   \n",
       "8465                                 [No Answer Present.]   \n",
       "53678                                [No Answer Present.]   \n",
       "47442                                                [No]   \n",
       "3417    [The bankruptcy record from the court is delet...   \n",
       "88321                                [No Answer Present.]   \n",
       "3602                                 [No Answer Present.]   \n",
       "59741                                [No Answer Present.]   \n",
       "35902   [A disease that can be communicated from one p...   \n",
       "76109                                [No Answer Present.]   \n",
       "54298                                 [Six to eight week]   \n",
       "29113   [The meaning of Jerky is of, relating to, or b...   \n",
       "65568   [It is a chronic congestive enlargement of the...   \n",
       "6508                                 [No Answer Present.]   \n",
       "75461                                [No Answer Present.]   \n",
       "60305   [An increase in the amount of aspartate transa...   \n",
       "47760                                [No Answer Present.]   \n",
       "92526                                [No Answer Present.]   \n",
       "98704                                [No Answer Present.]   \n",
       "31615                             [Between $73 and $104.]   \n",
       "88206                                [No Answer Present.]   \n",
       "83800   [Bacterial infections including, leptospirosis...   \n",
       "93507   [Sarawak Chamber is the biggest underground ch...   \n",
       "39837                                [No Answer Present.]   \n",
       "66449                                [No Answer Present.]   \n",
       "60373   [A basic metabolic panel is a combination of t...   \n",
       "63873                                [No Answer Present.]   \n",
       "...                                                   ...   \n",
       "99296                                [No Answer Present.]   \n",
       "32978                                   [382 kilometers.]   \n",
       "50876                                [No Answer Present.]   \n",
       "26268                                [No Answer Present.]   \n",
       "30804                                [No Answer Present.]   \n",
       "29852                                [No Answer Present.]   \n",
       "57824   [The word clout means a cloth; a piece of clot...   \n",
       "76963                                [No Answer Present.]   \n",
       "60673                                [No Answer Present.]   \n",
       "23857   [Chlorofluorocarbons are considered to be the ...   \n",
       "87644                                [No Answer Present.]   \n",
       "42932                                               [Yes]   \n",
       "64956                                                [No]   \n",
       "16720   [Despite its name, radiant floor heating depen...   \n",
       "15865   [SLAP stands for Superior Labrum from Anterior...   \n",
       "46288   [The psychodynamic approach includes all the t...   \n",
       "45210   [A program or group of programs that is design...   \n",
       "59168                                                [87]   \n",
       "100851                               [No Answer Present.]   \n",
       "87348                                [No Answer Present.]   \n",
       "90003                                [No Answer Present.]   \n",
       "41324   [Jared Keeso, for season 2 Andrew Herr, Alexan...   \n",
       "57791   [Multidirectional Instability of the Shoulder ...   \n",
       "34600                                [No Answer Present.]   \n",
       "22637   [The flow of water through the xylem from the ...   \n",
       "59461                                [No Answer Present.]   \n",
       "56089                          [Between $800 and $1,000.]   \n",
       "34111                                [No Answer Present.]   \n",
       "94268                                [No Answer Present.]   \n",
       "42762                                [No Answer Present.]   \n",
       "\n",
       "                                                 passages  \\\n",
       "62835   [{'is_selected': 0, 'passage_text': 'You also ...   \n",
       "71943   [{'is_selected': 0, 'passage_text': 'The 1,111...   \n",
       "2410    [{'is_selected': 0, 'passage_text': 'The three...   \n",
       "99019   [{'is_selected': 0, 'passage_text': 'Get maxim...   \n",
       "8465    [{'is_selected': 0, 'passage_text': 'Group Pol...   \n",
       "53678   [{'is_selected': 0, 'passage_text': 'The leave...   \n",
       "47442   [{'is_selected': 1, 'passage_text': 'A Waiter/...   \n",
       "3417    [{'is_selected': 0, 'passage_text': 'I was suc...   \n",
       "88321   [{'is_selected': 0, 'passage_text': 'NOTE: Eve...   \n",
       "3602    [{'is_selected': 0, 'passage_text': 'This step...   \n",
       "59741   [{'is_selected': 0, 'passage_text': 'Rule 1. U...   \n",
       "35902   [{'is_selected': 0, 'passage_text': 'All age g...   \n",
       "76109   [{'is_selected': 0, 'passage_text': 'Once you’...   \n",
       "54298   [{'is_selected': 0, 'passage_text': 'The ball ...   \n",
       "29113   [{'is_selected': 0, 'passage_text': 'Define je...   \n",
       "65568   [{'is_selected': 0, 'passage_text': 'Banti's S...   \n",
       "6508    [{'is_selected': 0, 'passage_text': 'Iliotibia...   \n",
       "75461   [{'is_selected': 0, 'passage_text': 'The acces...   \n",
       "60305   [{'is_selected': 0, 'passage_text': 'Aspartate...   \n",
       "47760   [{'is_selected': 0, 'passage_text': '1. Multip...   \n",
       "92526   [{'is_selected': 0, 'passage_text': 'Next time...   \n",
       "98704   [{'is_selected': 0, 'passage_text': 'Well, I c...   \n",
       "31615   [{'is_selected': 0, 'passage_text': 'Additiona...   \n",
       "88206   [{'is_selected': 0, 'passage_text': 'Exeter Ch...   \n",
       "83800   [{'is_selected': 1, 'passage_text': 'It is use...   \n",
       "93507   [{'is_selected': 0, 'passage_text': 'Scans of ...   \n",
       "39837   [{'is_selected': 0, 'passage_text': 'Garage Co...   \n",
       "66449   [{'is_selected': 0, 'passage_text': 'Targeted ...   \n",
       "60373   [{'is_selected': 0, 'passage_text': 'A basic m...   \n",
       "63873   [{'is_selected': 0, 'passage_text': 'Author Mi...   \n",
       "...                                                   ...   \n",
       "99296   [{'is_selected': 0, 'passage_text': 'This mode...   \n",
       "32978   [{'is_selected': 1, 'passage_text': 'Distance ...   \n",
       "50876   [{'is_selected': 0, 'passage_text': '‘Icon’ me...   \n",
       "26268   [{'is_selected': 0, 'passage_text': 'Apr 21, 2...   \n",
       "30804   [{'is_selected': 0, 'passage_text': 'To me, th...   \n",
       "29852   [{'is_selected': 0, 'passage_text': 'If you ch...   \n",
       "57824   [{'is_selected': 1, 'passage_text': 'Webster D...   \n",
       "76963   [{'is_selected': 0, 'passage_text': 'Variable ...   \n",
       "60673   [{'is_selected': 0, 'passage_text': 'Weight Li...   \n",
       "23857   [{'is_selected': 1, 'passage_text': 'These are...   \n",
       "87644   [{'is_selected': 0, 'passage_text': 'Curve of ...   \n",
       "42932   [{'is_selected': 1, 'passage_text': 'The basic...   \n",
       "64956   [{'is_selected': 0, 'passage_text': 'A. While ...   \n",
       "16720   [{'is_selected': 0, 'passage_text': '1 Upload ...   \n",
       "15865   [{'is_selected': 0, 'passage_text': 'A SLAP te...   \n",
       "46288   [{'is_selected': 0, 'passage_text': 'As we hav...   \n",
       "45210   [{'is_selected': 0, 'passage_text': 'A compute...   \n",
       "59168   [{'is_selected': 0, 'passage_text': 'Retiremen...   \n",
       "100851  [{'is_selected': 0, 'passage_text': 'Quick Ans...   \n",
       "87348   [{'is_selected': 0, 'passage_text': 'The strat...   \n",
       "90003   [{'is_selected': 0, 'passage_text': 'The avera...   \n",
       "41324   [{'is_selected': 0, 'passage_text': 'In Season...   \n",
       "57791   [{'is_selected': 0, 'passage_text': 'The shoul...   \n",
       "34600   [{'is_selected': 0, 'passage_text': 'You can f...   \n",
       "22637   [{'is_selected': 0, 'passage_text': 'Transpira...   \n",
       "59461   [{'is_selected': 0, 'passage_text': 'Fluorosul...   \n",
       "56089   [{'is_selected': 0, 'passage_text': 'A liner i...   \n",
       "34111   [{'is_selected': 0, 'passage_text': 'The excep...   \n",
       "94268   [{'is_selected': 0, 'passage_text': 'For the h...   \n",
       "42762   [{'is_selected': 0, 'passage_text': '2. Plan h...   \n",
       "\n",
       "                                                    query  query_id  \\\n",
       "62835        is chamberlain college of nursing accredited    405918   \n",
       "71943              where was the large diamond just found   1003844   \n",
       "2410     how are fingerprints discovered at crime scenes?   1099709   \n",
       "99019                     ferris is 1500z zero turn mower    186437   \n",
       "8465                                  nosmhelp what is it   1092157   \n",
       "53678                 can you get bear grass in florists?     77715   \n",
       "47442                           is waiter gender specific    431098   \n",
       "3417    how long does a bankruptcy show on public reco...   1098423   \n",
       "88321   which statement explains why conclusions from ...   1020051   \n",
       "3602    how long does it take to get dna results for i...   1098175   \n",
       "59741                  should research-based have a comma    496759   \n",
       "35902                    communication disease definition     95929   \n",
       "76109               how to restore a macbook snow leopard    377541   \n",
       "54298                 infant hip dysplasia brace how long    395655   \n",
       "29113                                 definition of jerky    988507   \n",
       "65568                               what is banti disease    722295   \n",
       "6508                    iliotibial tendon injury symptoms   1094639   \n",
       "75461   which of the following is an accessory organ o...   1015042   \n",
       "60305                                    what is high ast    754952   \n",
       "47760                         how to solve 18.7 times 4.2    380467   \n",
       "92526           what skills do you develop in recruitment    896025   \n",
       "98704                                  how to coil a cord    350961   \n",
       "31615                     how much is brake fluid service    321779   \n",
       "88206   what is the bridge called by exeter chiefs ground    809645   \n",
       "83800                       what tetracycline is used for    903158   \n",
       "93507                biggest underground chamber on earth     53602   \n",
       "39837                average cost to build a garage in mo     34989   \n",
       "66449                                    is ppd a tetanus    421465   \n",
       "60373                what is a basic metabolic blood test    674324   \n",
       "63873               nicaragua average yearly temperatures    464373   \n",
       "...                                                   ...       ...   \n",
       "99296                       can porcelain tile be painted     72553   \n",
       "32978          how far is dominican republic puerto rico?    230898   \n",
       "50876                  what iconic image represents italy    669987   \n",
       "26268   when is the best time of year to visit the out...   1003792   \n",
       "30804   how quickly should a new business expect to re...    338305   \n",
       "29852            how to change your flight without paying    349212   \n",
       "57824                       what does the word clout mean    653464   \n",
       "76963         how does a variable temperature system work    225214   \n",
       "60673              what are resistance training equipment    564200   \n",
       "23857             what pollutant reaches the stratosphere   1022355   \n",
       "87644   what would be the force of gravity if earth wa...    925207   \n",
       "42932                     is lithosphere made of silicate    416562   \n",
       "64956                            are eggs considered meat     22217   \n",
       "16720   what heating system involve circulation of the...   1078852   \n",
       "15865           what does slap stand for in medical terms   1083006   \n",
       "46288                               psychodynamic meaning    483595   \n",
       "45210                      what are computer applications    556954   \n",
       "59168                   what is a us male life expectancy    704912   \n",
       "100851                         how long to bake wingettes    268353   \n",
       "87348                   what occurs in the stratum basale    882658   \n",
       "90003         why has life expectancy increased in the us   1068835   \n",
       "41324                                 cast of letterkenny     83427   \n",
       "57791                         what does shoulder mdi mean    647876   \n",
       "34600              how do i find out how much rrsp i have    218038   \n",
       "22637                    what is the transpiration stream   1030915   \n",
       "59461                what is fluorosulfuric acid used for    748112   \n",
       "56089                      price of bath fitter for a tub    480536   \n",
       "34111   can a mother report dependent child income in ...     62746   \n",
       "94268   when can you open the whisper of the old god c...    936734   \n",
       "42762    how to sneak out at night without getting caught    380428   \n",
       "\n",
       "         query_type                                  wellFormedAnswers  \n",
       "62835   DESCRIPTION                                                 []  \n",
       "71943      LOCATION                                                 []  \n",
       "2410    DESCRIPTION                                                 []  \n",
       "99019   DESCRIPTION                                                 []  \n",
       "8465    DESCRIPTION                                                 []  \n",
       "53678   DESCRIPTION                                                 []  \n",
       "47442   DESCRIPTION                                                 []  \n",
       "3417        NUMERIC                                                 []  \n",
       "88321   DESCRIPTION                                                 []  \n",
       "3602        NUMERIC                                                 []  \n",
       "59741   DESCRIPTION                                                 []  \n",
       "35902   DESCRIPTION  [Communication disease is a disease that can b...  \n",
       "76109   DESCRIPTION                                                 []  \n",
       "54298       NUMERIC                                                 []  \n",
       "29113   DESCRIPTION                                                 []  \n",
       "65568        ENTITY                                                 []  \n",
       "6508         ENTITY                                                 []  \n",
       "75461   DESCRIPTION                                                 []  \n",
       "60305   DESCRIPTION  [High aspartate aminotransferase is an increas...  \n",
       "47760   DESCRIPTION                                                 []  \n",
       "92526   DESCRIPTION                                                 []  \n",
       "98704   DESCRIPTION                                                 []  \n",
       "31615       NUMERIC                                                 []  \n",
       "88206      LOCATION                                                 []  \n",
       "83800   DESCRIPTION  [Tetracycline is used to treat bacterial infec...  \n",
       "93507      LOCATION                                                 []  \n",
       "39837       NUMERIC                                                 []  \n",
       "66449   DESCRIPTION                                                 []  \n",
       "60373   DESCRIPTION  [A basic metabolic panel is a combination of t...  \n",
       "63873       NUMERIC                                                 []  \n",
       "...             ...                                                ...  \n",
       "99296   DESCRIPTION                                                 []  \n",
       "32978       NUMERIC  [Distance from Dominican Republic to Puerto Ri...  \n",
       "50876   DESCRIPTION                                                 []  \n",
       "26268       NUMERIC                                                 []  \n",
       "30804   DESCRIPTION                                                 []  \n",
       "29852   DESCRIPTION                                                 []  \n",
       "57824   DESCRIPTION                                                 []  \n",
       "76963   DESCRIPTION                                                 []  \n",
       "60673   DESCRIPTION                                                 []  \n",
       "23857   DESCRIPTION                                                 []  \n",
       "87644   DESCRIPTION                                                 []  \n",
       "42932   DESCRIPTION                                                 []  \n",
       "64956   DESCRIPTION  [No, eggs are not considered meat., No, Eggs a...  \n",
       "16720   DESCRIPTION                                                 []  \n",
       "15865   DESCRIPTION                                                 []  \n",
       "46288   DESCRIPTION                                                 []  \n",
       "45210   DESCRIPTION                                                 []  \n",
       "59168       NUMERIC  [The life expectancy of a male in the United S...  \n",
       "100851      NUMERIC                                                 []  \n",
       "87348   DESCRIPTION                                                 []  \n",
       "90003   DESCRIPTION                                                 []  \n",
       "41324        PERSON                                                 []  \n",
       "57791   DESCRIPTION                                                 []  \n",
       "34600   DESCRIPTION                                                 []  \n",
       "22637   DESCRIPTION                                                 []  \n",
       "59461   DESCRIPTION                                                 []  \n",
       "56089       NUMERIC                                                 []  \n",
       "34111   DESCRIPTION                                                 []  \n",
       "94268       NUMERIC                                                 []  \n",
       "42762   DESCRIPTION                                                 []  \n",
       "\n",
       "[100 rows x 6 columns]"
      ]
     },
     "execution_count": 6,
     "metadata": {},
     "output_type": "execute_result"
    }
   ],
   "source": [
    "qa_df.sample(100)"
   ]
  },
  {
   "cell_type": "markdown",
   "metadata": {
    "ExecuteTime": {
     "end_time": "2018-11-30T19:43:54.248117Z",
     "start_time": "2018-11-30T19:37:00.969224Z"
    }
   },
   "source": [
    "## Transform the questions into half of the feature space"
   ]
  },
  {
   "cell_type": "code",
   "execution_count": 7,
   "metadata": {
    "ExecuteTime": {
     "end_time": "2018-12-04T03:46:28.426383Z",
     "start_time": "2018-12-04T03:46:28.420763Z"
    }
   },
   "outputs": [],
   "source": [
    "questions = qa_df.loc[:, 'query']"
   ]
  },
  {
   "cell_type": "code",
   "execution_count": 8,
   "metadata": {
    "ExecuteTime": {
     "end_time": "2018-12-04T03:46:29.542698Z",
     "start_time": "2018-12-04T03:46:29.532991Z"
    }
   },
   "outputs": [
    {
     "data": {
      "text/plain": [
       "0                                  . what is a corporation?\n",
       "1         why did rachel carson write an obligation to e...\n",
       "10        why did the progressive movement fail to advan...\n",
       "100       why do police need to understand what the fore...\n",
       "1000                                 do owls eat in the day\n",
       "10000                             symptoms of a dying mouse\n",
       "100000          average number of lightning strikes per day\n",
       "100001               can you burn your lawn with fertilizer\n",
       "100002              are volvox autotrophic or heterotrophic\n",
       "100003                          average force of a raindrop\n",
       "Name: query, dtype: object"
      ]
     },
     "execution_count": 8,
     "metadata": {},
     "output_type": "execute_result"
    }
   ],
   "source": [
    "questions[:10]"
   ]
  },
  {
   "cell_type": "code",
   "execution_count": 1,
   "metadata": {
    "ExecuteTime": {
     "end_time": "2018-12-04T13:57:34.981195Z",
     "start_time": "2018-12-04T13:57:33.743690Z"
    }
   },
   "outputs": [],
   "source": [
    "from sklearn.pipeline import Pipeline, FeatureUnion\n",
    "from sklearn.preprocessing import FunctionTransformer\n"
   ]
  },
  {
   "cell_type": "code",
   "execution_count": 2,
   "metadata": {
    "ExecuteTime": {
     "end_time": "2018-12-04T13:57:35.296798Z",
     "start_time": "2018-12-04T13:57:35.054440Z"
    }
   },
   "outputs": [
    {
     "ename": "NameError",
     "evalue": "name 'utils' is not defined",
     "output_type": "error",
     "traceback": [
      "\u001b[0;31m---------------------------------------------------------------------------\u001b[0m",
      "\u001b[0;31mNameError\u001b[0m                                 Traceback (most recent call last)",
      "\u001b[0;32m<ipython-input-2-56d1d7ebe52f>\u001b[0m in \u001b[0;36m<module>\u001b[0;34m\u001b[0m\n\u001b[1;32m     31\u001b[0m clean_text_features = Pipeline(\n\u001b[1;32m     32\u001b[0m     [\n\u001b[0;32m---> 33\u001b[0;31m         \u001b[0;34m(\u001b[0m\u001b[0;34m'clean'\u001b[0m\u001b[0;34m,\u001b[0m \u001b[0mFunctionTransformer\u001b[0m\u001b[0;34m(\u001b[0m\u001b[0mutils\u001b[0m\u001b[0;34m.\u001b[0m\u001b[0mclean_questions\u001b[0m\u001b[0;34m,\u001b[0m \u001b[0mvalidate\u001b[0m\u001b[0;34m=\u001b[0m\u001b[0;32mFalse\u001b[0m\u001b[0;34m)\u001b[0m\u001b[0;34m)\u001b[0m\u001b[0;34m,\u001b[0m\u001b[0;34m\u001b[0m\u001b[0;34m\u001b[0m\u001b[0m\n\u001b[0m\u001b[1;32m     34\u001b[0m         \u001b[0;34m(\u001b[0m\u001b[0;34m'dist'\u001b[0m\u001b[0;34m,\u001b[0m \u001b[0mFunctionTransformer\u001b[0m\u001b[0;34m(\u001b[0m\u001b[0mutils\u001b[0m\u001b[0;34m.\u001b[0m\u001b[0madd_min_max_avg_distance_features\u001b[0m\u001b[0;34m,\u001b[0m \u001b[0mvalidate\u001b[0m\u001b[0;34m=\u001b[0m\u001b[0;32mFalse\u001b[0m\u001b[0;34m)\u001b[0m\u001b[0;34m)\u001b[0m\u001b[0;34m\u001b[0m\u001b[0;34m\u001b[0m\u001b[0m\n\u001b[1;32m     35\u001b[0m     ]\n",
      "\u001b[0;31mNameError\u001b[0m: name 'utils' is not defined"
     ]
    }
   ],
   "source": [
    "## text transformation pipes\n",
    "# clean_text = Pipeline(\n",
    "#     [\n",
    "#         ('stack', FunctionTransformer(utils.stack_questions, validate=False)),\n",
    "\n",
    "#     ]\n",
    "# )\n",
    "\n",
    "# lemma_text = Pipeline(\n",
    "#     [\n",
    "#         ('lemma', FunctionTransformer(utils.apply_lemma, validate=False))\n",
    "#     ]\n",
    "# )\n",
    "\n",
    "# # feature engineering pipes\n",
    "# single_question_pipe = Pipeline(\n",
    "#     [\n",
    "#         ('dist', FunctionTransformer(utils.add_min_max_avg_distance_features, validate=False)),\n",
    "# #         ('unstack', FunctionTransformer(utils.unstack_questions, validate=False))\n",
    "#     ]\n",
    "# )\n",
    "\n",
    "# No Pairs\n",
    "# pair_question_pipe = Pipeline(\n",
    "#     [\n",
    "#         ('ngram_sim', FunctionTransformer(utils.calc_ngram_similarity, kw_args={'n_grams':[1, 2, 3]}, validate=False))\n",
    "#     ]\n",
    "# )\n",
    "\n",
    "# build features on the cleaned text only\n",
    "clean_text_features = Pipeline(\n",
    "    [\n",
    "        ('clean', FunctionTransformer(utils.clean_questions, validate=False)),\n",
    "        ('dist', FunctionTransformer(utils.add_min_max_avg_distance_features, validate=False))\n",
    "    ]\n",
    ")\n",
    "\n",
    "# build features on the cleanned and lemmatized text features\n",
    "lemma_text_features = Pipeline(\n",
    "    [\n",
    "        ('clean', FunctionTransformer(utils.clean_questions, validate=False)),\n",
    "        ('lemma', FunctionTransformer(utils.apply_lemma, validate=False)),\n",
    "        ('dist', FunctionTransformer(utils.add_min_max_avg_distance_features, validate=False))\n",
    "    ]\n",
    ")\n",
    "\n",
    "# pre-process pipe\n",
    "feature_transformation = Pipeline(\n",
    "    [\n",
    "        ('feats', FeatureUnion(\n",
    "            [\n",
    "                ('clean_text_features', clean_text_features),\n",
    "                ('lemma_text_features', lemma_text_features)\n",
    "            ]\n",
    "        ))\n",
    "    ]\n",
    ")\n"
   ]
  },
  {
   "cell_type": "code",
   "execution_count": 140,
   "metadata": {
    "ExecuteTime": {
     "end_time": "2018-12-03T22:16:07.803987Z",
     "start_time": "2018-12-03T22:12:03.230586Z"
    }
   },
   "outputs": [
    {
     "name": "stdout",
     "output_type": "stream",
     "text": [
      "CPU times: user 2min 59s, sys: 16 s, total: 3min 15s\n",
      "Wall time: 4min 4s\n"
     ]
    }
   ],
   "source": [
    "%%time\n",
    "q_trans_clean = clean_text_features.transform(questions)"
   ]
  },
  {
   "cell_type": "code",
   "execution_count": 141,
   "metadata": {
    "ExecuteTime": {
     "end_time": "2018-12-03T22:18:27.372815Z",
     "start_time": "2018-12-03T22:18:27.350008Z"
    }
   },
   "outputs": [
    {
     "data": {
      "text/plain": [
       "(101093, 9)"
      ]
     },
     "execution_count": 141,
     "metadata": {},
     "output_type": "execute_result"
    }
   ],
   "source": [
    "q_trans_clean.shape"
   ]
  },
  {
   "cell_type": "code",
   "execution_count": 142,
   "metadata": {
    "ExecuteTime": {
     "end_time": "2018-12-03T22:23:36.626755Z",
     "start_time": "2018-12-03T22:18:32.583191Z"
    }
   },
   "outputs": [
    {
     "name": "stdout",
     "output_type": "stream",
     "text": [
      "CPU times: user 3min 39s, sys: 36.9 s, total: 4min 16s\n",
      "Wall time: 5min 4s\n"
     ]
    }
   ],
   "source": [
    "%%time\n",
    "q_trans_lemma = lemma_text_features.transform(questions)"
   ]
  },
  {
   "cell_type": "code",
   "execution_count": 143,
   "metadata": {
    "ExecuteTime": {
     "end_time": "2018-12-03T22:24:20.447772Z",
     "start_time": "2018-12-03T22:24:20.434741Z"
    }
   },
   "outputs": [
    {
     "data": {
      "text/plain": [
       "(101093, 9)"
      ]
     },
     "execution_count": 143,
     "metadata": {},
     "output_type": "execute_result"
    }
   ],
   "source": [
    "q_trans_lemma.shape"
   ]
  },
  {
   "cell_type": "code",
   "execution_count": 144,
   "metadata": {
    "ExecuteTime": {
     "end_time": "2018-12-03T22:27:04.756751Z",
     "start_time": "2018-12-03T22:27:04.546895Z"
    }
   },
   "outputs": [],
   "source": [
    "utils.save(q_trans_clean, 'transformed_questions_clean')\n",
    "utils.save(q_trans_lemma, 'transformed_questions_lemma')"
   ]
  },
  {
   "cell_type": "code",
   "execution_count": 82,
   "metadata": {
    "ExecuteTime": {
     "end_time": "2018-12-03T21:23:31.617513Z",
     "start_time": "2018-12-03T21:23:31.518404Z"
    }
   },
   "outputs": [
    {
     "data": {
      "text/html": [
       "<div>\n",
       "<style scoped>\n",
       "    .dataframe tbody tr th:only-of-type {\n",
       "        vertical-align: middle;\n",
       "    }\n",
       "\n",
       "    .dataframe tbody tr th {\n",
       "        vertical-align: top;\n",
       "    }\n",
       "\n",
       "    .dataframe thead th {\n",
       "        text-align: right;\n",
       "    }\n",
       "</style>\n",
       "<table border=\"1\" class=\"dataframe\">\n",
       "  <thead>\n",
       "    <tr style=\"text-align: right;\">\n",
       "      <th></th>\n",
       "      <th>question1</th>\n",
       "      <th>id</th>\n",
       "    </tr>\n",
       "  </thead>\n",
       "  <tbody>\n",
       "    <tr>\n",
       "      <th>0</th>\n",
       "      <td>what is a corporation</td>\n",
       "      <td>0</td>\n",
       "    </tr>\n",
       "    <tr>\n",
       "      <th>1</th>\n",
       "      <td>why did rachel carson write an obligation to e...</td>\n",
       "      <td>1</td>\n",
       "    </tr>\n",
       "    <tr>\n",
       "      <th>2</th>\n",
       "      <td>why did the progressive movement fail to advan...</td>\n",
       "      <td>2</td>\n",
       "    </tr>\n",
       "    <tr>\n",
       "      <th>3</th>\n",
       "      <td>why do police need to understand what the fore...</td>\n",
       "      <td>3</td>\n",
       "    </tr>\n",
       "    <tr>\n",
       "      <th>4</th>\n",
       "      <td>do owls eat in the day</td>\n",
       "      <td>4</td>\n",
       "    </tr>\n",
       "  </tbody>\n",
       "</table>\n",
       "</div>"
      ],
      "text/plain": [
       "                                           question1  id\n",
       "0                              what is a corporation   0\n",
       "1  why did rachel carson write an obligation to e...   1\n",
       "2  why did the progressive movement fail to advan...   2\n",
       "3  why do police need to understand what the fore...   3\n",
       "4                             do owls eat in the day   4"
      ]
     },
     "execution_count": 82,
     "metadata": {},
     "output_type": "execute_result"
    }
   ],
   "source": [
    "df_cleaned_questions = pd.DataFrame(cleaned_questions)\n",
    "df_cleaned_questions = df_cleaned_questions.rename(columns={0:'question1'})\n",
    "df_cleaned_questions['id'] = df_cleaned_questions.index\n",
    "df_cleaned_questions.head()"
   ]
  },
  {
   "cell_type": "code",
   "execution_count": 190,
   "metadata": {
    "ExecuteTime": {
     "end_time": "2018-12-03T22:55:19.004387Z",
     "start_time": "2018-12-03T22:55:18.951327Z"
    }
   },
   "outputs": [],
   "source": [
    "feature_pipe = utils.load('feature_pipe')"
   ]
  },
  {
   "cell_type": "markdown",
   "metadata": {},
   "source": [
    "## App data\n",
    "\n",
    "All data below needs to be pre-calculated"
   ]
  },
  {
   "cell_type": "code",
   "execution_count": 29,
   "metadata": {
    "ExecuteTime": {
     "end_time": "2018-12-04T04:05:41.211738Z",
     "start_time": "2018-12-04T04:04:34.776814Z"
    }
   },
   "outputs": [
    {
     "name": "stdout",
     "output_type": "stream",
     "text": [
      "CPU times: user 1min 1s, sys: 13.9 s, total: 1min 15s\n",
      "Wall time: 1min 6s\n"
     ]
    }
   ],
   "source": [
    "%%time\n",
    "cleaned_questions = utils.clean_questions(questions)\n",
    "lemma_questions = utils.apply_lemma(cleaned_questions)\n",
    "\n",
    "utils.save(cleaned_questions, 'app_data/cleaned_questions')\n",
    "utils.save(lemma_questions, 'app_data/lemma_questions')"
   ]
  },
  {
   "cell_type": "code",
   "execution_count": 30,
   "metadata": {
    "ExecuteTime": {
     "end_time": "2018-12-04T04:05:41.221886Z",
     "start_time": "2018-12-04T04:05:41.215344Z"
    }
   },
   "outputs": [],
   "source": [
    "def tokenize_questions(X):\n",
    "    texts = []\n",
    "    for doc in utils.nlp.pipe(X, disable=['parser', 'ner'], batch_size=10000):\n",
    "        texts.append(doc.to_array([utils.spacy.attrs.LOWER]))\n",
    "    return texts"
   ]
  },
  {
   "cell_type": "code",
   "execution_count": 31,
   "metadata": {
    "ExecuteTime": {
     "end_time": "2018-12-04T04:07:33.562493Z",
     "start_time": "2018-12-04T04:05:41.225444Z"
    }
   },
   "outputs": [
    {
     "name": "stdout",
     "output_type": "stream",
     "text": [
      "CPU times: user 1min 48s, sys: 21 s, total: 2min 9s\n",
      "Wall time: 1min 52s\n"
     ]
    }
   ],
   "source": [
    "%%time\n",
    "clean_tokens = tokenize_questions(cleaned_questions)\n",
    "lemma_tokens = tokenize_questions(lemma_questions)\n",
    "\n",
    "utils.save(clean_tokens, 'app_data/clean_tokens')\n",
    "utils.save(lemma_tokens, 'app_data/lemma_tokens')"
   ]
  },
  {
   "cell_type": "code",
   "execution_count": 52,
   "metadata": {
    "ExecuteTime": {
     "end_time": "2018-12-04T04:21:31.032294Z",
     "start_time": "2018-12-04T04:17:46.738325Z"
    }
   },
   "outputs": [
    {
     "name": "stdout",
     "output_type": "stream",
     "text": [
      "CPU times: user 4min 4s, sys: 29.8 s, total: 4min 33s\n",
      "Wall time: 3min 44s\n"
     ]
    }
   ],
   "source": [
    "%%time\n",
    "clean_question_features = clean_text_features.transform(questions)\n",
    "lemma_question_features = lemma_text_features.transform(questions)\n",
    "\n",
    "utils.save(clean_question_features, 'app_data/clean_question_features')\n",
    "utils.save(lemma_question_features, 'app_data/lemma_question_features')"
   ]
  },
  {
   "cell_type": "code",
   "execution_count": 68,
   "metadata": {
    "ExecuteTime": {
     "end_time": "2018-12-04T04:30:01.860742Z",
     "start_time": "2018-12-04T04:30:01.722166Z"
    }
   },
   "outputs": [],
   "source": [
    "xgb = utils.load('xgb_FINAL_model')"
   ]
  },
  {
   "cell_type": "code",
   "execution_count": 45,
   "metadata": {
    "ExecuteTime": {
     "end_time": "2018-12-04T04:14:19.338571Z",
     "start_time": "2018-12-04T04:14:19.329468Z"
    }
   },
   "outputs": [],
   "source": [
    "def ngram_similarity(q_token, token_db,  n_grams=[1, 2, 3]):\n",
    "    ''' Calculates the ngram similarity between a pair of questions. Similarity is defined as,\n",
    "            2 · ( |S1| / |S1 ∩ S2| + |S2| / |S1 ∩ S2|)^−1\n",
    "        where S_i is the ngrams for question i\n",
    "        \n",
    "        n_grams: list\n",
    "        List of n-grams to calculate, i.e. [1, 2, 3]\n",
    "        \n",
    "        return: array-like (n_pairs, len(n_grams))\n",
    "        N-dimensional array of n_gram similarity calculated for the different n_grams.\n",
    "        \n",
    "    '''\n",
    "    ngram_sim = []\n",
    "    ngram_q2 = [set(ngrams(q_token, i, pad_right=True)) for i in n_grams]\n",
    "    for t in token_db:\n",
    "        ngram_q1 = [set(ngrams(t, i, pad_right=True)) for i in n_grams]\n",
    "\n",
    "        doc_ngram_sim = []\n",
    "        for i in range(len(ngram_q1)):\n",
    "            try:\n",
    "                s1 = len(ngram_q1[i]) / len(ngram_q1[i].intersection(ngram_q2[i]))\n",
    "            except:\n",
    "                s1 = 0\n",
    "\n",
    "            try:\n",
    "                s2 = len(ngram_q2[i]) / len(ngram_q1[i].intersection(ngram_q2[i]))\n",
    "            except:\n",
    "                s2 = 0\n",
    "\n",
    "            if s1 == 0 and s2 == 0:\n",
    "                doc_ngram_sim.append(0)\n",
    "            else:\n",
    "                doc_ngram_sim.append(2 * (s1 + s2)**-1)\n",
    "        ngram_sim.append(doc_ngram_sim)\n",
    "        \n",
    "    return np.array(ngram_sim)\n"
   ]
  },
  {
   "cell_type": "code",
   "execution_count": 83,
   "metadata": {
    "ExecuteTime": {
     "end_time": "2018-12-04T04:38:28.702793Z",
     "start_time": "2018-12-04T04:38:28.690052Z"
    }
   },
   "outputs": [],
   "source": [
    "def ask_question(question):\n",
    "    \n",
    "    question_clean = utils.clean_questions([question]) ## returns an array\n",
    "    ## if question is a duplicate after cleaning, then return the answer\n",
    "    if question_clean[0] in cleaned_questions:\n",
    "        return question_clean\n",
    "    \n",
    "    ## else run the model\n",
    "    else:    \n",
    "        ## Feature Set 1 -- clean text similarity\n",
    "        ## create the tokens for the question\n",
    "        doc = utils.nlp(question_clean[0])\n",
    "        question_tokens = doc.to_array([utils.spacy.attrs.LOWER])\n",
    "        clean_n_gram = ngram_similarity(question_tokens, clean_tokens)\n",
    "\n",
    "        ## Feature Set 2 -- Clean distance features\n",
    "        # union single question features\n",
    "        question_features = clean_text_features.transform([question]) \n",
    "        clean_single_features = np.hstack([clean_question_features, \n",
    "                                           np.repeat(question_features, clean_question_features.shape[0], axis=0)])\n",
    "        \n",
    "\n",
    "        ## Feature Set 3 -- Lemma text similarity\n",
    "        # calculate n_gram similarity for the cleaned and lemmatized question\n",
    "        question_lemma = utils.apply_lemma(question_clean)\n",
    "        doc = utils.nlp(question_lemma[0])\n",
    "        question_tokens = doc.to_array([utils.spacy.attrs.LOWER])\n",
    "        lemma_n_gram = ngram_similarity(question_tokens, lemma_tokens)\n",
    "\n",
    "\n",
    "        ## Feature Set 4 -- Lemma distance features\n",
    "        # union single question features\n",
    "        question_features = lemma_text_features.transform([question]) \n",
    "        lemma_single_features = np.hstack([lemma_question_features, \n",
    "                                           np.repeat(question_features, lemma_question_features.shape[0], axis=0)])\n",
    "\n",
    "    ### Transform through the whole pipeline\n",
    "#     df_cleaned_questions['question2'] = question\n",
    "    \n",
    "#     feature_space = feature_pipe.transform(df_cleaned_questions[:5000])\n",
    "\n",
    "        # make the prediction\n",
    "        feature_space = np.hstack([clean_n_gram, clean_single_features, lemma_n_gram, lemma_single_features])\n",
    "        probs = xgb.predict_proba(feature_space)[:, 1]\n",
    "\n",
    "        top = probs.argsort()[-3:]\n",
    "        top_question = np.array(qa_df.iloc[top]).reshape(len(top), -1)\n",
    "        top_probs = probs[top].reshape(-1, 1)\n",
    "\n",
    "#     return None\n",
    "#     return pd.DataFrame(np.hstack([top_question, top_probs]))\n",
    "        return feature_space, pd.DataFrame(np.hstack([top_question, top_probs]))"
   ]
  },
  {
   "cell_type": "code",
   "execution_count": 74,
   "metadata": {
    "ExecuteTime": {
     "end_time": "2018-12-04T04:32:01.794703Z",
     "start_time": "2018-12-04T04:32:01.788882Z"
    }
   },
   "outputs": [
    {
     "data": {
      "text/plain": [
       "['do owls eat in the day']"
      ]
     },
     "execution_count": 74,
     "metadata": {},
     "output_type": "execute_result"
    }
   ],
   "source": [
    "ask_question('do owls eat in the day')"
   ]
  },
  {
   "cell_type": "code",
   "execution_count": 64,
   "metadata": {
    "ExecuteTime": {
     "end_time": "2018-12-04T04:27:27.376424Z",
     "start_time": "2018-12-04T04:27:22.357628Z"
    }
   },
   "outputs": [
    {
     "data": {
      "text/plain": [
       "(101093, 42)"
      ]
     },
     "execution_count": 64,
     "metadata": {},
     "output_type": "execute_result"
    }
   ],
   "source": [
    "ask_question('do owls eat at night')"
   ]
  },
  {
   "cell_type": "code",
   "execution_count": 84,
   "metadata": {
    "ExecuteTime": {
     "end_time": "2018-12-04T04:38:40.988266Z",
     "start_time": "2018-12-04T04:38:33.843680Z"
    }
   },
   "outputs": [],
   "source": [
    "features, top_results = ask_question('what causes earthquakes')"
   ]
  },
  {
   "cell_type": "code",
   "execution_count": 19,
   "metadata": {
    "ExecuteTime": {
     "end_time": "2018-12-04T03:53:14.980903Z",
     "start_time": "2018-12-04T03:53:14.975373Z"
    }
   },
   "outputs": [
    {
     "data": {
      "text/plain": [
       "True"
      ]
     },
     "execution_count": 19,
     "metadata": {},
     "output_type": "execute_result"
    }
   ],
   "source": [
    "'do owls eat in the day' in cleaned_questions"
   ]
  },
  {
   "cell_type": "code",
   "execution_count": 250,
   "metadata": {
    "ExecuteTime": {
     "end_time": "2018-12-04T00:31:16.220318Z",
     "start_time": "2018-12-04T00:31:16.198741Z"
    }
   },
   "outputs": [
    {
     "data": {
      "text/html": [
       "<div>\n",
       "<style scoped>\n",
       "    .dataframe tbody tr th:only-of-type {\n",
       "        vertical-align: middle;\n",
       "    }\n",
       "\n",
       "    .dataframe tbody tr th {\n",
       "        vertical-align: top;\n",
       "    }\n",
       "\n",
       "    .dataframe thead th {\n",
       "        text-align: right;\n",
       "    }\n",
       "</style>\n",
       "<table border=\"1\" class=\"dataframe\">\n",
       "  <thead>\n",
       "    <tr style=\"text-align: right;\">\n",
       "      <th></th>\n",
       "      <th>question1</th>\n",
       "      <th>id</th>\n",
       "      <th>question2</th>\n",
       "    </tr>\n",
       "  </thead>\n",
       "  <tbody>\n",
       "    <tr>\n",
       "      <th>4</th>\n",
       "      <td>do owls eat in the day</td>\n",
       "      <td>4</td>\n",
       "      <td>do owls eat in the day</td>\n",
       "    </tr>\n",
       "  </tbody>\n",
       "</table>\n",
       "</div>"
      ],
      "text/plain": [
       "                question1  id               question2\n",
       "4  do owls eat in the day   4  do owls eat in the day"
      ]
     },
     "execution_count": 250,
     "metadata": {},
     "output_type": "execute_result"
    }
   ],
   "source": [
    "df[df.question1 == 'do owls eat in the day']"
   ]
  },
  {
   "cell_type": "code",
   "execution_count": 85,
   "metadata": {
    "ExecuteTime": {
     "end_time": "2018-12-04T04:38:45.130976Z",
     "start_time": "2018-12-04T04:38:45.106027Z"
    }
   },
   "outputs": [
    {
     "data": {
      "text/html": [
       "<div>\n",
       "<style scoped>\n",
       "    .dataframe tbody tr th:only-of-type {\n",
       "        vertical-align: middle;\n",
       "    }\n",
       "\n",
       "    .dataframe tbody tr th {\n",
       "        vertical-align: top;\n",
       "    }\n",
       "\n",
       "    .dataframe thead th {\n",
       "        text-align: right;\n",
       "    }\n",
       "</style>\n",
       "<table border=\"1\" class=\"dataframe\">\n",
       "  <thead>\n",
       "    <tr style=\"text-align: right;\">\n",
       "      <th></th>\n",
       "      <th>0</th>\n",
       "      <th>1</th>\n",
       "      <th>2</th>\n",
       "      <th>3</th>\n",
       "      <th>4</th>\n",
       "      <th>5</th>\n",
       "      <th>6</th>\n",
       "    </tr>\n",
       "  </thead>\n",
       "  <tbody>\n",
       "    <tr>\n",
       "      <th>0</th>\n",
       "      <td>[No Answer Present.]</td>\n",
       "      <td>[{'is_selected': 0, 'passage_text': 'What is a...</td>\n",
       "      <td>what causes boil water notice</td>\n",
       "      <td>586008</td>\n",
       "      <td>DESCRIPTION</td>\n",
       "      <td>[]</td>\n",
       "      <td>0.861625</td>\n",
       "    </tr>\n",
       "    <tr>\n",
       "      <th>1</th>\n",
       "      <td>[Humans can cause earthquakes by triggering se...</td>\n",
       "      <td>[{'is_selected': 0, 'passage_text': 'An uptick...</td>\n",
       "      <td>how can humans cause earthquakes</td>\n",
       "      <td>210161</td>\n",
       "      <td>DESCRIPTION</td>\n",
       "      <td>[]</td>\n",
       "      <td>0.863643</td>\n",
       "    </tr>\n",
       "    <tr>\n",
       "      <th>2</th>\n",
       "      <td>[Stasis dermatitis cause extremely sensitive a...</td>\n",
       "      <td>[{'is_selected': 0, 'passage_text': 'Poor circ...</td>\n",
       "      <td>stasis dermatitis causes</td>\n",
       "      <td>1090422</td>\n",
       "      <td>DESCRIPTION</td>\n",
       "      <td>[]</td>\n",
       "      <td>0.895012</td>\n",
       "    </tr>\n",
       "  </tbody>\n",
       "</table>\n",
       "</div>"
      ],
      "text/plain": [
       "                                                   0  \\\n",
       "0                               [No Answer Present.]   \n",
       "1  [Humans can cause earthquakes by triggering se...   \n",
       "2  [Stasis dermatitis cause extremely sensitive a...   \n",
       "\n",
       "                                                   1  \\\n",
       "0  [{'is_selected': 0, 'passage_text': 'What is a...   \n",
       "1  [{'is_selected': 0, 'passage_text': 'An uptick...   \n",
       "2  [{'is_selected': 0, 'passage_text': 'Poor circ...   \n",
       "\n",
       "                                  2        3            4   5         6  \n",
       "0     what causes boil water notice   586008  DESCRIPTION  []  0.861625  \n",
       "1  how can humans cause earthquakes   210161  DESCRIPTION  []  0.863643  \n",
       "2          stasis dermatitis causes  1090422  DESCRIPTION  []  0.895012  "
      ]
     },
     "execution_count": 85,
     "metadata": {},
     "output_type": "execute_result"
    }
   ],
   "source": [
    "top_results # full pipeline"
   ]
  },
  {
   "cell_type": "code",
   "execution_count": 72,
   "metadata": {
    "ExecuteTime": {
     "end_time": "2018-12-04T04:30:52.782047Z",
     "start_time": "2018-12-04T04:30:52.762947Z"
    }
   },
   "outputs": [
    {
     "data": {
      "text/html": [
       "<div>\n",
       "<style scoped>\n",
       "    .dataframe tbody tr th:only-of-type {\n",
       "        vertical-align: middle;\n",
       "    }\n",
       "\n",
       "    .dataframe tbody tr th {\n",
       "        vertical-align: top;\n",
       "    }\n",
       "\n",
       "    .dataframe thead th {\n",
       "        text-align: right;\n",
       "    }\n",
       "</style>\n",
       "<table border=\"1\" class=\"dataframe\">\n",
       "  <thead>\n",
       "    <tr style=\"text-align: right;\">\n",
       "      <th></th>\n",
       "      <th>0</th>\n",
       "      <th>1</th>\n",
       "    </tr>\n",
       "  </thead>\n",
       "  <tbody>\n",
       "    <tr>\n",
       "      <th>0</th>\n",
       "      <td>what causes fingers to swell at night</td>\n",
       "      <td>0.2007</td>\n",
       "    </tr>\n",
       "    <tr>\n",
       "      <th>1</th>\n",
       "      <td>what causes swelling in hands at night</td>\n",
       "      <td>0.30395</td>\n",
       "    </tr>\n",
       "    <tr>\n",
       "      <th>2</th>\n",
       "      <td>do owls eat in the day</td>\n",
       "      <td>0.408373</td>\n",
       "    </tr>\n",
       "  </tbody>\n",
       "</table>\n",
       "</div>"
      ],
      "text/plain": [
       "                                        0         1\n",
       "0   what causes fingers to swell at night    0.2007\n",
       "1  what causes swelling in hands at night   0.30395\n",
       "2                  do owls eat in the day  0.408373"
      ]
     },
     "execution_count": 72,
     "metadata": {},
     "output_type": "execute_result"
    }
   ],
   "source": [
    "top_results # opt pipeline"
   ]
  },
  {
   "cell_type": "code",
   "execution_count": 251,
   "metadata": {
    "ExecuteTime": {
     "end_time": "2018-12-04T00:31:19.812406Z",
     "start_time": "2018-12-04T00:31:19.805782Z"
    }
   },
   "outputs": [
    {
     "data": {
      "text/plain": [
       "array([  1.        ,   1.        ,   1.        ,   4.63359628,\n",
       "         8.4752183 ,   6.82304781,   0.44451424,   0.94712703,\n",
       "         0.66871357,  62.24226321, 115.15204134,  92.26256858,\n",
       "         4.63359628,   8.4752183 ,   6.82304781,   0.44451424,\n",
       "         0.94712703,   0.66871357,  62.24226321, 115.15204134,\n",
       "        92.26256858,   1.        ,   1.        ,   1.        ,\n",
       "         6.72955502,   8.34001638,   7.60125726,   0.55986509,\n",
       "         0.79268708,   0.69988742,  92.72933482, 111.52220958,\n",
       "       102.69947146,   6.72955502,   8.34001638,   7.60125726,\n",
       "         0.55986509,   0.79268708,   0.69988742,  92.72933482,\n",
       "       111.52220958, 102.69947146])"
      ]
     },
     "execution_count": 251,
     "metadata": {},
     "output_type": "execute_result"
    }
   ],
   "source": [
    "features[4]"
   ]
  },
  {
   "cell_type": "code",
   "execution_count": 214,
   "metadata": {
    "ExecuteTime": {
     "end_time": "2018-12-03T23:49:32.003905Z",
     "start_time": "2018-12-03T23:49:31.373839Z"
    }
   },
   "outputs": [],
   "source": [
    "probs = xgb.predict_proba(features)[:, 1]"
   ]
  },
  {
   "cell_type": "code",
   "execution_count": 218,
   "metadata": {
    "ExecuteTime": {
     "end_time": "2018-12-03T23:52:10.725666Z",
     "start_time": "2018-12-03T23:52:10.710249Z"
    }
   },
   "outputs": [
    {
     "data": {
      "text/plain": [
       "array([0.1619365], dtype=float32)"
      ]
     },
     "execution_count": 218,
     "metadata": {},
     "output_type": "execute_result"
    }
   ],
   "source": [
    "xgb.predict_proba(features[20546].reshape(1, -1))[:, 1]"
   ]
  },
  {
   "cell_type": "code",
   "execution_count": 216,
   "metadata": {
    "ExecuteTime": {
     "end_time": "2018-12-03T23:49:46.126962Z",
     "start_time": "2018-12-03T23:49:46.120556Z"
    }
   },
   "outputs": [
    {
     "data": {
      "text/plain": [
       "0.1619365"
      ]
     },
     "execution_count": 216,
     "metadata": {},
     "output_type": "execute_result"
    }
   ],
   "source": [
    "probs[20546]"
   ]
  },
  {
   "cell_type": "code",
   "execution_count": 220,
   "metadata": {
    "ExecuteTime": {
     "end_time": "2018-12-03T23:54:01.994430Z",
     "start_time": "2018-12-03T23:54:01.329860Z"
    }
   },
   "outputs": [
    {
     "name": "stdout",
     "output_type": "stream",
     "text": [
      "[0.02938479 0.02320101 0.01954768 0.01709631 0.0290843  0.02475091\n",
      " 0.02119247 0.03724498 0.03382888 0.01341136 0.02718646 0.02229954\n",
      " 0.01790289 0.02774    0.02487743 0.0211134  0.03670726 0.03213665\n",
      " 0.0142812  0.02740788 0.02233117 0.02340661 0.01603669 0.01205124\n",
      " 0.02133481 0.02304286 0.02117666 0.02979598 0.03019137 0.02762929\n",
      " 0.01991143 0.02397596 0.02027519 0.0207022  0.02217302 0.0199747\n",
      " 0.02709157 0.03117191 0.02400759 0.01902578 0.02492488 0.01937371]\n"
     ]
    }
   ],
   "source": [
    "import matplotlib.pyplot as plt\n",
    "print(xgb.feature_importances_)"
   ]
  },
  {
   "cell_type": "code",
   "execution_count": 221,
   "metadata": {
    "ExecuteTime": {
     "end_time": "2018-12-03T23:54:25.300115Z",
     "start_time": "2018-12-03T23:54:24.515844Z"
    }
   },
   "outputs": [
    {
     "data": {
      "image/png": "[encoded data removed]",
      "text/plain": [
       "<Figure size 432x288 with 1 Axes>"
      ]
     },
     "metadata": {
      "needs_background": "light"
     },
     "output_type": "display_data"
    }
   ],
   "source": [
    "plt.bar(range(len(xgb.feature_importances_)), xgb.feature_importances_)\n",
    "plt.show()"
   ]
  },
  {
   "cell_type": "code",
   "execution_count": 240,
   "metadata": {
    "ExecuteTime": {
     "end_time": "2018-12-04T00:20:58.111285Z",
     "start_time": "2018-12-04T00:20:57.499153Z"
    }
   },
   "outputs": [
    {
     "data": {
      "image/png": "[encoded data removed]",
      "text/plain": [
       "<Figure size 432x288 with 1 Axes>"
      ]
     },
     "metadata": {
      "needs_background": "light"
     },
     "output_type": "display_data"
    }
   ],
   "source": [
    "from xgboost import plot_importance\n",
    "plot_importance(xgb, max_num_features=10)\n",
    "plt.show()"
   ]
  },
  {
   "cell_type": "code",
   "execution_count": 236,
   "metadata": {
    "ExecuteTime": {
     "end_time": "2018-12-04T00:10:16.738589Z",
     "start_time": "2018-12-04T00:10:16.731657Z"
    }
   },
   "outputs": [
    {
     "name": "stdout",
     "output_type": "stream",
     "text": [
      "42\n"
     ]
    }
   ],
   "source": [
    "feature_names = [\n",
    "    'clean_1_gram_sim',\n",
    "    'clean_2_gram_sim',\n",
    "    'clean_3_gram_sim',\n",
    "    'clean_euc_min_q1',\n",
    "    'clean_euc_max_q1',\n",
    "    'clean_euc_avg_q1',\n",
    "    'clean_cos_min_q1',\n",
    "    'clean_cos_max_q1',\n",
    "    'clean_cos_avg_q1',\n",
    "    'clean_man_min_q1',\n",
    "    'clean_man_max_q1',\n",
    "    'clean_man_avg_q1',\n",
    "    'clean_euc_min_q2',\n",
    "    'clean_euc_max_q2',\n",
    "    'clean_euc_avg_q2',\n",
    "    'clean_cos_min_q2',\n",
    "    'clean_cos_max_q2',\n",
    "    'clean_cos_avg_q2',\n",
    "    'clean_man_min_q2',\n",
    "    'clean_man_max_q2',\n",
    "    'clean_man_avg_q2',\n",
    "    'lemma_1_gram_sim',\n",
    "    'lemma_2_gram_sim',\n",
    "    'lemma_3_gram_sim',\n",
    "    'lemma_euc_min_q1',\n",
    "    'lemma_euc_max_q1',\n",
    "    'lemma_euc_avg_q1',\n",
    "    'lemma_cos_min_q1',\n",
    "    'lemma_cos_max_q1',\n",
    "    'lemma_cos_avg_q1',\n",
    "    'lemma_man_min_q1',\n",
    "    'lemma_man_max_q1',\n",
    "    'lemma_man_avg_q1',\n",
    "    'lemma_euc_min_q2',\n",
    "    'lemma_euc_max_q2',\n",
    "    'lemma_euc_avg_q2',\n",
    "    'lemma_cos_min_q2',\n",
    "    'lemma_cos_max_q2',\n",
    "    'lemma_cos_avg_q2',\n",
    "    'lemma_man_min_q2',\n",
    "    'lemma_man_max_q2',\n",
    "    'lemma_man_avg_q1'\n",
    "    \n",
    "]\n",
    "print(len(feature_names))"
   ]
  },
  {
   "cell_type": "code",
   "execution_count": 253,
   "metadata": {
    "ExecuteTime": {
     "end_time": "2018-12-04T00:32:47.442417Z",
     "start_time": "2018-12-04T00:32:47.436600Z"
    }
   },
   "outputs": [
    {
     "name": "stdout",
     "output_type": "stream",
     "text": [
      "clean_cos_max_q1\n",
      "clean_cos_max_q2\n",
      "clean_cos_avg_q1\n",
      "clean_cos_avg_q2\n",
      "lemma_cos_max_q2\n",
      "lemma_cos_max_q1\n",
      "lemma_cos_min_q1\n",
      "clean_1_gram_sim\n",
      "clean_euc_max_q1\n",
      "clean_euc_max_q2\n"
     ]
    }
   ],
   "source": [
    "def print_features(l=[7, 16, 8, 17, 37, 28, 27, 0, 4, 13]):\n",
    "    for n in l:\n",
    "#         print(n)\n",
    "        print(feature_names[n])\n",
    "print_features()"
   ]
  },
  {
   "cell_type": "code",
   "execution_count": 238,
   "metadata": {
    "ExecuteTime": {
     "end_time": "2018-12-04T00:10:47.723638Z",
     "start_time": "2018-12-04T00:10:47.717112Z"
    }
   },
   "outputs": [
    {
     "data": {
      "text/plain": [
       "array([0.96252071, 1.08482914, 0.72458074, 0.68943047, 1.06595845])"
      ]
     },
     "execution_count": 238,
     "metadata": {},
     "output_type": "execute_result"
    }
   ],
   "source": [
    "features[20456, [7, 16, 8, 17, 37]]"
   ]
  },
  {
   "cell_type": "code",
   "execution_count": 239,
   "metadata": {
    "ExecuteTime": {
     "end_time": "2018-12-04T00:17:54.734779Z",
     "start_time": "2018-12-04T00:17:54.477510Z"
    }
   },
   "outputs": [
    {
     "data": {
      "text/plain": [
       "{'f1': 1467,\n",
       " 'f21': 1480,\n",
       " 'f0': 1858,\n",
       " 'f28': 1909,\n",
       " 'f7': 2355,\n",
       " 'f29': 1747,\n",
       " 'f6': 1340,\n",
       " 'f8': 2139,\n",
       " 'f12': 1132,\n",
       " 'f4': 1839,\n",
       " 'f16': 2321,\n",
       " 'f2': 1236,\n",
       " 'f27': 1884,\n",
       " 'f17': 2032,\n",
       " 'f39': 1203,\n",
       " 'f22': 1014,\n",
       " 'f13': 1754,\n",
       " 'f18': 903,\n",
       " 'f10': 1719,\n",
       " 'f37': 1971,\n",
       " 'f19': 1733,\n",
       " 'f23': 762,\n",
       " 'f38': 1518,\n",
       " 'f34': 1402,\n",
       " 'f5': 1565,\n",
       " 'f24': 1349,\n",
       " 'f3': 1081,\n",
       " 'f25': 1457,\n",
       " 'f32': 1282,\n",
       " 'f41': 1225,\n",
       " 'f15': 1335,\n",
       " 'f35': 1263,\n",
       " 'f20': 1412,\n",
       " 'f26': 1339,\n",
       " 'f31': 1516,\n",
       " 'f33': 1309,\n",
       " 'f9': 848,\n",
       " 'f36': 1713,\n",
       " 'f30': 1259,\n",
       " 'f40': 1576,\n",
       " 'f11': 1410,\n",
       " 'f14': 1573}"
      ]
     },
     "execution_count": 239,
     "metadata": {},
     "output_type": "execute_result"
    }
   ],
   "source": [
    "xgb.get_booster().get_fscore()"
   ]
  },
  {
   "cell_type": "code",
   "execution_count": null,
   "metadata": {
    "ExecuteTime": {
     "end_time": "2018-12-03T23:20:18.259810Z",
     "start_time": "2018-12-03T22:57:47.802917Z"
    }
   },
   "outputs": [],
   "source": [
    "#### ask_question('What is the capital of Washington?')\n",
    "# ask_question('noncontagious definition')\n",
    "ask_question('where is the stamen located in a flower')"
   ]
  },
  {
   "cell_type": "code",
   "execution_count": 188,
   "metadata": {
    "ExecuteTime": {
     "end_time": "2018-12-03T22:52:14.744702Z",
     "start_time": "2018-12-03T22:52:14.716704Z"
    }
   },
   "outputs": [
    {
     "data": {
      "text/plain": [
       "27505    where is the stamen located in a flower\n",
       "Name: query, dtype: object"
      ]
     },
     "execution_count": 188,
     "metadata": {},
     "output_type": "execute_result"
    }
   ],
   "source": [
    "qa_df.loc[:, 'query'].sample()"
   ]
  },
  {
   "cell_type": "code",
   "execution_count": 167,
   "metadata": {
    "ExecuteTime": {
     "end_time": "2018-12-03T22:42:18.602685Z",
     "start_time": "2018-12-03T22:42:18.569767Z"
    }
   },
   "outputs": [
    {
     "data": {
      "text/plain": [
       "array([21032, 80760, 14203])"
      ]
     },
     "execution_count": 167,
     "metadata": {},
     "output_type": "execute_result"
    }
   ],
   "source": [
    "p.argsort()[-3:]"
   ]
  },
  {
   "cell_type": "code",
   "execution_count": 166,
   "metadata": {
    "ExecuteTime": {
     "end_time": "2018-12-03T22:41:52.857938Z",
     "start_time": "2018-12-03T22:41:52.817080Z"
    }
   },
   "outputs": [
    {
     "data": {
      "text/plain": [
       "27943     which is the original delmonico's\n",
       "81699               what state is borths in\n",
       "21797    what is the meaning of the bowery?\n",
       "Name: query, dtype: object"
      ]
     },
     "execution_count": 166,
     "metadata": {},
     "output_type": "execute_result"
    }
   ],
   "source": [
    "questions.iloc[p.argsort()[-3:]]\n",
    "# questions.iloc[1]"
   ]
  },
  {
   "cell_type": "code",
   "execution_count": 168,
   "metadata": {
    "ExecuteTime": {
     "end_time": "2018-12-03T22:42:57.920212Z",
     "start_time": "2018-12-03T22:42:57.851718Z"
    }
   },
   "outputs": [],
   "source": [
    "q_array = np.array(questions)"
   ]
  },
  {
   "cell_type": "code",
   "execution_count": 169,
   "metadata": {
    "ExecuteTime": {
     "end_time": "2018-12-03T22:43:12.448485Z",
     "start_time": "2018-12-03T22:43:12.441078Z"
    }
   },
   "outputs": [
    {
     "data": {
      "text/plain": [
       "'what is the meaning of the bowery?'"
      ]
     },
     "execution_count": 169,
     "metadata": {},
     "output_type": "execute_result"
    }
   ],
   "source": [
    "q_array[14203]"
   ]
  },
  {
   "cell_type": "code",
   "execution_count": 170,
   "metadata": {
    "ExecuteTime": {
     "end_time": "2018-12-03T22:43:30.215686Z",
     "start_time": "2018-12-03T22:43:30.207884Z"
    }
   },
   "outputs": [
    {
     "data": {
      "text/plain": [
       "'what state is borths in'"
      ]
     },
     "execution_count": 170,
     "metadata": {},
     "output_type": "execute_result"
    }
   ],
   "source": [
    "q_array[80760]"
   ]
  },
  {
   "cell_type": "code",
   "execution_count": null,
   "metadata": {},
   "outputs": [],
   "source": []
  },
  {
   "cell_type": "code",
   "execution_count": 72,
   "metadata": {
    "ExecuteTime": {
     "end_time": "2018-12-03T21:14:20.142131Z",
     "start_time": "2018-12-03T21:14:20.139127Z"
    }
   },
   "outputs": [],
   "source": [
    "q = ['What is the capital of Washington?']"
   ]
  },
  {
   "cell_type": "code",
   "execution_count": 76,
   "metadata": {
    "ExecuteTime": {
     "end_time": "2018-12-03T21:14:40.695255Z",
     "start_time": "2018-12-03T21:14:40.688795Z"
    }
   },
   "outputs": [
    {
     "data": {
      "text/plain": [
       "(2,)"
      ]
     },
     "execution_count": 76,
     "metadata": {},
     "output_type": "execute_result"
    }
   ],
   "source": [
    "np.repeat(q, 2, axis=0).shape"
   ]
  },
  {
   "cell_type": "code",
   "execution_count": 108,
   "metadata": {
    "ExecuteTime": {
     "end_time": "2018-12-03T21:48:42.964111Z",
     "start_time": "2018-12-03T21:48:31.913803Z"
    }
   },
   "outputs": [],
   "source": [
    "utils.save(token_text, 'questions_tokenized')\n"
   ]
  },
  {
   "cell_type": "code",
   "execution_count": 104,
   "metadata": {
    "ExecuteTime": {
     "end_time": "2018-12-03T21:47:44.281776Z",
     "start_time": "2018-12-03T21:47:44.277089Z"
    }
   },
   "outputs": [
    {
     "name": "stdout",
     "output_type": "stream",
     "text": [
      "<class 'numpy.ndarray'>\n"
     ]
    }
   ],
   "source": [
    "for t in token_text:\n",
    "    print(type(t))\n",
    "    break"
   ]
  },
  {
   "cell_type": "code",
   "execution_count": 97,
   "metadata": {
    "ExecuteTime": {
     "end_time": "2018-12-03T21:41:30.558965Z",
     "start_time": "2018-12-03T21:41:30.556004Z"
    }
   },
   "outputs": [],
   "source": [
    "from nltk import ngrams"
   ]
  },
  {
   "cell_type": "code",
   "execution_count": 107,
   "metadata": {
    "ExecuteTime": {
     "end_time": "2018-12-03T21:48:06.396701Z",
     "start_time": "2018-12-03T21:48:06.388831Z"
    }
   },
   "outputs": [
    {
     "name": "stdout",
     "output_type": "stream",
     "text": [
      "(8532415787641010193, 5865838185239622912, 3411606890003347522)\n",
      "(5865838185239622912, 3411606890003347522, 11901859001352538922)\n",
      "(3411606890003347522, 11901859001352538922, 14070511896034874754)\n",
      "(11901859001352538922, 14070511896034874754, None)\n",
      "(14070511896034874754, None, None)\n"
     ]
    }
   ],
   "source": [
    "for n in ngrams(np.array(token_text[0]), 3, pad_right=True):\n",
    "    print(n)"
   ]
  },
  {
   "cell_type": "code",
   "execution_count": 111,
   "metadata": {
    "ExecuteTime": {
     "end_time": "2018-12-03T21:50:51.607141Z",
     "start_time": "2018-12-03T21:50:51.555815Z"
    }
   },
   "outputs": [],
   "source": [
    "doc = utils.nlp('What is the capital of Washington?')\n",
    "q_tokens = doc.to_array([utils.spacy.attrs.LOWER])"
   ]
  },
  {
   "cell_type": "code",
   "execution_count": 116,
   "metadata": {
    "ExecuteTime": {
     "end_time": "2018-12-03T21:52:48.923895Z",
     "start_time": "2018-12-03T21:52:48.860107Z"
    }
   },
   "outputs": [
    {
     "ename": "ValueError",
     "evalue": "all the input array dimensions except for the concatenation axis must match exactly",
     "output_type": "error",
     "traceback": [
      "\u001b[0;31m---------------------------------------------------------------------------\u001b[0m",
      "\u001b[0;31mValueError\u001b[0m                                Traceback (most recent call last)",
      "\u001b[0;32m<ipython-input-116-de1a6a15089f>\u001b[0m in \u001b[0;36m<module>\u001b[0;34m\u001b[0m\n\u001b[0;32m----> 1\u001b[0;31m \u001b[0mnp\u001b[0m\u001b[0;34m.\u001b[0m\u001b[0mhstack\u001b[0m\u001b[0;34m(\u001b[0m\u001b[0;34m[\u001b[0m\u001b[0mnp\u001b[0m\u001b[0;34m.\u001b[0m\u001b[0marray\u001b[0m\u001b[0;34m(\u001b[0m\u001b[0mtoken_text\u001b[0m\u001b[0;34m)\u001b[0m\u001b[0;34m.\u001b[0m\u001b[0mreshape\u001b[0m\u001b[0;34m(\u001b[0m\u001b[0;34m-\u001b[0m\u001b[0;36m1\u001b[0m\u001b[0;34m,\u001b[0m \u001b[0;36m1\u001b[0m\u001b[0;34m)\u001b[0m\u001b[0;34m,\u001b[0m \u001b[0mnp\u001b[0m\u001b[0;34m.\u001b[0m\u001b[0mrepeat\u001b[0m\u001b[0;34m(\u001b[0m\u001b[0mq_tokens\u001b[0m\u001b[0;34m,\u001b[0m \u001b[0mlen\u001b[0m\u001b[0;34m(\u001b[0m\u001b[0mtoken_text\u001b[0m\u001b[0;34m)\u001b[0m\u001b[0;34m,\u001b[0m \u001b[0maxis\u001b[0m\u001b[0;34m=\u001b[0m\u001b[0;36m0\u001b[0m\u001b[0;34m)\u001b[0m\u001b[0;34m.\u001b[0m\u001b[0mreshape\u001b[0m\u001b[0;34m(\u001b[0m\u001b[0;36m1\u001b[0m\u001b[0;34m,\u001b[0m \u001b[0;34m-\u001b[0m\u001b[0;36m1\u001b[0m\u001b[0;34m)\u001b[0m\u001b[0;34m]\u001b[0m\u001b[0;34m)\u001b[0m\u001b[0;34m.\u001b[0m\u001b[0mshape\u001b[0m\u001b[0;34m\u001b[0m\u001b[0;34m\u001b[0m\u001b[0m\n\u001b[0m",
      "\u001b[0;32m/anaconda3/envs/project5/lib/python3.6/site-packages/numpy/core/shape_base.py\u001b[0m in \u001b[0;36mhstack\u001b[0;34m(tup)\u001b[0m\n\u001b[1;32m    286\u001b[0m         \u001b[0;32mreturn\u001b[0m \u001b[0m_nx\u001b[0m\u001b[0;34m.\u001b[0m\u001b[0mconcatenate\u001b[0m\u001b[0;34m(\u001b[0m\u001b[0marrs\u001b[0m\u001b[0;34m,\u001b[0m \u001b[0;36m0\u001b[0m\u001b[0;34m)\u001b[0m\u001b[0;34m\u001b[0m\u001b[0;34m\u001b[0m\u001b[0m\n\u001b[1;32m    287\u001b[0m     \u001b[0;32melse\u001b[0m\u001b[0;34m:\u001b[0m\u001b[0;34m\u001b[0m\u001b[0;34m\u001b[0m\u001b[0m\n\u001b[0;32m--> 288\u001b[0;31m         \u001b[0;32mreturn\u001b[0m \u001b[0m_nx\u001b[0m\u001b[0;34m.\u001b[0m\u001b[0mconcatenate\u001b[0m\u001b[0;34m(\u001b[0m\u001b[0marrs\u001b[0m\u001b[0;34m,\u001b[0m \u001b[0;36m1\u001b[0m\u001b[0;34m)\u001b[0m\u001b[0;34m\u001b[0m\u001b[0;34m\u001b[0m\u001b[0m\n\u001b[0m\u001b[1;32m    289\u001b[0m \u001b[0;34m\u001b[0m\u001b[0m\n\u001b[1;32m    290\u001b[0m \u001b[0;34m\u001b[0m\u001b[0m\n",
      "\u001b[0;31mValueError\u001b[0m: all the input array dimensions except for the concatenation axis must match exactly"
     ]
    }
   ],
   "source": [
    "np.hstack([np.array(token_text).reshape(-1, 1), np.repeat(q_tokens, len(token_text), axis=0).reshape(1, -1)]).shape"
   ]
  },
  {
   "cell_type": "code",
   "execution_count": 117,
   "metadata": {
    "ExecuteTime": {
     "end_time": "2018-12-03T21:53:04.627647Z",
     "start_time": "2018-12-03T21:53:04.608007Z"
    }
   },
   "outputs": [],
   "source": [
    "t = np.array(token_text).reshape(-1, 1)"
   ]
  },
  {
   "cell_type": "code",
   "execution_count": 118,
   "metadata": {
    "ExecuteTime": {
     "end_time": "2018-12-03T21:53:10.211888Z",
     "start_time": "2018-12-03T21:53:10.203881Z"
    }
   },
   "outputs": [
    {
     "data": {
      "text/plain": [
       "(101093, 1)"
      ]
     },
     "execution_count": 118,
     "metadata": {},
     "output_type": "execute_result"
    }
   ],
   "source": [
    "t.shape"
   ]
  },
  {
   "cell_type": "code",
   "execution_count": 119,
   "metadata": {
    "ExecuteTime": {
     "end_time": "2018-12-03T21:53:13.031477Z",
     "start_time": "2018-12-03T21:53:13.021936Z"
    }
   },
   "outputs": [
    {
     "data": {
      "text/plain": [
       "array([[array([ 8532415787641010193,  5865838185239622912,  3411606890003347522,\n",
       "       11901859001352538922, 14070511896034874754], dtype=uint64)],\n",
       "       [array([16315412628806490806, 13583488448875926965, 11779693057662023107,\n",
       "        2619154345045139155, 15597474948775060119, 15099054000809333061,\n",
       "        1920611397140219205,  3791531372978436496, 13569477888548814854],\n",
       "      dtype=uint64)],\n",
       "       [array([16315412628806490806, 13583488448875926965,  7425985699627899538,\n",
       "       11900862162089982680,  6184037061712818460,  3142894986720291236,\n",
       "        3791531372978436496, 17339002579355368042,  9095968958430269659,\n",
       "       10313580197444822952,  9952569212994313472], dtype=uint64)],\n",
       "       ...,\n",
       "       [array([16331095434822636218, 12965068231793614765,  3791531372978436496,\n",
       "        7340758616018961957, 10606469382566443026, 16929211676819693673],\n",
       "      dtype=uint64)],\n",
       "       [array([ 3077651023035088716,  6878210874361030284,  3791531372978436496,\n",
       "       13320680580156776400, 14122124674024302633,  8792669415580402476,\n",
       "        6471315918988267800,  3002984154512732771,  6578343785518939865],\n",
       "      dtype=uint64)],\n",
       "       [array([16331095434822636218,  3791531372978436496,  6502919589296598169,\n",
       "        9743534323633052289,  1031890164806390884,  3791531372978436496,\n",
       "       10778978370903211805], dtype=uint64)]], dtype=object)"
      ]
     },
     "execution_count": 119,
     "metadata": {},
     "output_type": "execute_result"
    }
   ],
   "source": [
    "t"
   ]
  },
  {
   "cell_type": "code",
   "execution_count": 127,
   "metadata": {
    "ExecuteTime": {
     "end_time": "2018-12-03T21:54:18.091574Z",
     "start_time": "2018-12-03T21:54:18.077218Z"
    }
   },
   "outputs": [],
   "source": [
    "v = np.repeat(q_tokens, len(token_text))"
   ]
  },
  {
   "cell_type": "code",
   "execution_count": 128,
   "metadata": {
    "ExecuteTime": {
     "end_time": "2018-12-03T21:54:18.681372Z",
     "start_time": "2018-12-03T21:54:18.675196Z"
    }
   },
   "outputs": [
    {
     "data": {
      "text/plain": [
       "(707651,)"
      ]
     },
     "execution_count": 128,
     "metadata": {},
     "output_type": "execute_result"
    }
   ],
   "source": [
    "v.shape"
   ]
  },
  {
   "cell_type": "code",
   "execution_count": 124,
   "metadata": {
    "ExecuteTime": {
     "end_time": "2018-12-03T21:54:05.425792Z",
     "start_time": "2018-12-03T21:54:05.416084Z"
    }
   },
   "outputs": [
    {
     "data": {
      "text/plain": [
       "101093"
      ]
     },
     "execution_count": 124,
     "metadata": {},
     "output_type": "execute_result"
    }
   ],
   "source": [
    "len(token_text)"
   ]
  },
  {
   "cell_type": "code",
   "execution_count": 133,
   "metadata": {
    "ExecuteTime": {
     "end_time": "2018-12-03T21:59:25.280060Z",
     "start_time": "2018-12-03T21:59:20.627818Z"
    }
   },
   "outputs": [
    {
     "name": "stdout",
     "output_type": "stream",
     "text": [
      "CPU times: user 3.62 s, sys: 69 ms, total: 3.69 s\n",
      "Wall time: 4.64 s\n"
     ]
    },
    {
     "data": {
      "text/plain": [
       "array([[0.33333333, 0.16666667, 0.        ],\n",
       "       [0.        , 0.        , 0.        ],\n",
       "       [0.11111111, 0.        , 0.        ],\n",
       "       ...,\n",
       "       [0.        , 0.        , 0.        ],\n",
       "       [0.        , 0.        , 0.        ],\n",
       "       [0.        , 0.        , 0.        ]])"
      ]
     },
     "execution_count": 133,
     "metadata": {},
     "output_type": "execute_result"
    }
   ],
   "source": [
    "%%time\n",
    "ngram_similarity(q_tokens)"
   ]
  },
  {
   "cell_type": "code",
   "execution_count": null,
   "metadata": {},
   "outputs": [],
   "source": []
  }
 ],
 "metadata": {
  "kernelspec": {
   "display_name": "Python [conda env:project5]",
   "language": "python",
   "name": "conda-env-project5-py"
  },
  "language_info": {
   "codemirror_mode": {
    "name": "ipython",
    "version": 3
   },
   "file_extension": ".py",
   "mimetype": "text/x-python",
   "name": "python",
   "nbconvert_exporter": "python",
   "pygments_lexer": "ipython3",
   "version": "3.6.7"
  }
 },
 "nbformat": 4,
 "nbformat_minor": 2
}
