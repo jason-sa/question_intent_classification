{
 "cells": [
  {
   "cell_type": "code",
   "execution_count": 148,
   "metadata": {
    "ExecuteTime": {
     "end_time": "2018-12-03T22:31:53.263980Z",
     "start_time": "2018-12-03T22:31:53.243514Z"
    }
   },
   "outputs": [
    {
     "ename": "ModuleNotFoundError",
     "evalue": "No module named 'xgboost'",
     "output_type": "error",
     "traceback": [
      "\u001b[0;31m---------------------------------------------------------------------------\u001b[0m",
      "\u001b[0;31mModuleNotFoundError\u001b[0m                       Traceback (most recent call last)",
      "\u001b[0;32m<ipython-input-148-e516ce0d49f7>\u001b[0m in \u001b[0;36m<module>\u001b[0;34m\u001b[0m\n\u001b[1;32m      2\u001b[0m \u001b[0;32mimport\u001b[0m \u001b[0mpandas\u001b[0m \u001b[0;32mas\u001b[0m \u001b[0mpd\u001b[0m\u001b[0;34m\u001b[0m\u001b[0;34m\u001b[0m\u001b[0m\n\u001b[1;32m      3\u001b[0m \u001b[0;32mimport\u001b[0m \u001b[0mnumpy\u001b[0m \u001b[0;32mas\u001b[0m \u001b[0mnp\u001b[0m\u001b[0;34m\u001b[0m\u001b[0;34m\u001b[0m\u001b[0m\n\u001b[0;32m----> 4\u001b[0;31m \u001b[0;32mfrom\u001b[0m \u001b[0mxgboost\u001b[0m \u001b[0;32mimport\u001b[0m \u001b[0mXGBClassifier\u001b[0m\u001b[0;34m\u001b[0m\u001b[0;34m\u001b[0m\u001b[0m\n\u001b[0m",
      "\u001b[0;31mModuleNotFoundError\u001b[0m: No module named 'xgboost'"
     ]
    }
   ],
   "source": [
    "import utils\n",
    "import pandas as pd\n",
    "import numpy as np\n",
    "from x import XGBClassifier"
   ]
  },
  {
   "cell_type": "code",
   "execution_count": 2,
   "metadata": {
    "ExecuteTime": {
     "end_time": "2018-11-30T19:14:42.446116Z",
     "start_time": "2018-11-30T19:14:34.987836Z"
    }
   },
   "outputs": [],
   "source": [
    "qa_df = pd.read_json('../data/ms_macro_qa/dev_v2.1.json')"
   ]
  },
  {
   "cell_type": "code",
   "execution_count": null,
   "metadata": {
    "ExecuteTime": {
     "start_time": "2018-11-30T19:08:10.905Z"
    }
   },
   "outputs": [],
   "source": [
    "with open('../data/ms_macro_qa/train_v2.1.json', 'r') as f:\n",
    "    for l in f.readlines()[:10]:\n",
    "        print(l)"
   ]
  },
  {
   "cell_type": "code",
   "execution_count": 3,
   "metadata": {
    "ExecuteTime": {
     "end_time": "2018-11-30T19:14:45.731465Z",
     "start_time": "2018-11-30T19:14:45.715611Z"
    }
   },
   "outputs": [
    {
     "data": {
      "text/plain": [
       "(101093, 6)"
      ]
     },
     "execution_count": 3,
     "metadata": {},
     "output_type": "execute_result"
    }
   ],
   "source": [
    "qa_df.shape"
   ]
  },
  {
   "cell_type": "code",
   "execution_count": 5,
   "metadata": {
    "ExecuteTime": {
     "end_time": "2018-11-30T19:15:28.064763Z",
     "start_time": "2018-11-30T19:15:28.037065Z"
    }
   },
   "outputs": [
    {
     "data": {
      "text/html": [
       "<div>\n",
       "<style scoped>\n",
       "    .dataframe tbody tr th:only-of-type {\n",
       "        vertical-align: middle;\n",
       "    }\n",
       "\n",
       "    .dataframe tbody tr th {\n",
       "        vertical-align: top;\n",
       "    }\n",
       "\n",
       "    .dataframe thead th {\n",
       "        text-align: right;\n",
       "    }\n",
       "</style>\n",
       "<table border=\"1\" class=\"dataframe\">\n",
       "  <thead>\n",
       "    <tr style=\"text-align: right;\">\n",
       "      <th></th>\n",
       "      <th>answers</th>\n",
       "      <th>passages</th>\n",
       "      <th>query</th>\n",
       "      <th>query_id</th>\n",
       "      <th>query_type</th>\n",
       "      <th>wellFormedAnswers</th>\n",
       "    </tr>\n",
       "  </thead>\n",
       "  <tbody>\n",
       "    <tr>\n",
       "      <th>0</th>\n",
       "      <td>[A corporation is a company or group of people...</td>\n",
       "      <td>[{'is_selected': 0, 'passage_text': 'A company...</td>\n",
       "      <td>. what is a corporation?</td>\n",
       "      <td>1102432</td>\n",
       "      <td>DESCRIPTION</td>\n",
       "      <td>[]</td>\n",
       "    </tr>\n",
       "    <tr>\n",
       "      <th>1</th>\n",
       "      <td>[Rachel Carson writes The Obligation to Endure...</td>\n",
       "      <td>[{'is_selected': 0, 'passage_text': 'Read to w...</td>\n",
       "      <td>why did rachel carson write an obligation to e...</td>\n",
       "      <td>1102431</td>\n",
       "      <td>DESCRIPTION</td>\n",
       "      <td>[]</td>\n",
       "    </tr>\n",
       "    <tr>\n",
       "      <th>10</th>\n",
       "      <td>[No Answer Present.]</td>\n",
       "      <td>[{'is_selected': 0, 'passage_text': 'The Progr...</td>\n",
       "      <td>why did the progressive movement fail to advan...</td>\n",
       "      <td>1102421</td>\n",
       "      <td>DESCRIPTION</td>\n",
       "      <td>[]</td>\n",
       "    </tr>\n",
       "    <tr>\n",
       "      <th>100</th>\n",
       "      <td>[No Answer Present.]</td>\n",
       "      <td>[{'is_selected': 0, 'passage_text': 'On an ave...</td>\n",
       "      <td>why do police need to understand what the fore...</td>\n",
       "      <td>1102315</td>\n",
       "      <td>DESCRIPTION</td>\n",
       "      <td>[]</td>\n",
       "    </tr>\n",
       "    <tr>\n",
       "      <th>1000</th>\n",
       "      <td>[No Answer Present.]</td>\n",
       "      <td>[{'is_selected': 0, 'passage_text': 'A: Very, ...</td>\n",
       "      <td>do owls eat in the day</td>\n",
       "      <td>1101280</td>\n",
       "      <td>NUMERIC</td>\n",
       "      <td>[]</td>\n",
       "    </tr>\n",
       "  </tbody>\n",
       "</table>\n",
       "</div>"
      ],
      "text/plain": [
       "                                                answers  \\\n",
       "0     [A corporation is a company or group of people...   \n",
       "1     [Rachel Carson writes The Obligation to Endure...   \n",
       "10                                 [No Answer Present.]   \n",
       "100                                [No Answer Present.]   \n",
       "1000                               [No Answer Present.]   \n",
       "\n",
       "                                               passages  \\\n",
       "0     [{'is_selected': 0, 'passage_text': 'A company...   \n",
       "1     [{'is_selected': 0, 'passage_text': 'Read to w...   \n",
       "10    [{'is_selected': 0, 'passage_text': 'The Progr...   \n",
       "100   [{'is_selected': 0, 'passage_text': 'On an ave...   \n",
       "1000  [{'is_selected': 0, 'passage_text': 'A: Very, ...   \n",
       "\n",
       "                                                  query  query_id  \\\n",
       "0                              . what is a corporation?   1102432   \n",
       "1     why did rachel carson write an obligation to e...   1102431   \n",
       "10    why did the progressive movement fail to advan...   1102421   \n",
       "100   why do police need to understand what the fore...   1102315   \n",
       "1000                             do owls eat in the day   1101280   \n",
       "\n",
       "       query_type wellFormedAnswers  \n",
       "0     DESCRIPTION                []  \n",
       "1     DESCRIPTION                []  \n",
       "10    DESCRIPTION                []  \n",
       "100   DESCRIPTION                []  \n",
       "1000      NUMERIC                []  "
      ]
     },
     "execution_count": 5,
     "metadata": {},
     "output_type": "execute_result"
    }
   ],
   "source": [
    "qa_df.head()"
   ]
  },
  {
   "cell_type": "code",
   "execution_count": 6,
   "metadata": {
    "ExecuteTime": {
     "end_time": "2018-11-30T19:15:33.934093Z",
     "start_time": "2018-11-30T19:15:33.703032Z"
    }
   },
   "outputs": [
    {
     "data": {
      "text/html": [
       "<div>\n",
       "<style scoped>\n",
       "    .dataframe tbody tr th:only-of-type {\n",
       "        vertical-align: middle;\n",
       "    }\n",
       "\n",
       "    .dataframe tbody tr th {\n",
       "        vertical-align: top;\n",
       "    }\n",
       "\n",
       "    .dataframe thead th {\n",
       "        text-align: right;\n",
       "    }\n",
       "</style>\n",
       "<table border=\"1\" class=\"dataframe\">\n",
       "  <thead>\n",
       "    <tr style=\"text-align: right;\">\n",
       "      <th></th>\n",
       "      <th>answers</th>\n",
       "      <th>passages</th>\n",
       "      <th>query</th>\n",
       "      <th>query_id</th>\n",
       "      <th>query_type</th>\n",
       "      <th>wellFormedAnswers</th>\n",
       "    </tr>\n",
       "  </thead>\n",
       "  <tbody>\n",
       "    <tr>\n",
       "      <th>27394</th>\n",
       "      <td>[Scott Ling. Dr Scott Ling's Chinese Medicine ...</td>\n",
       "      <td>[{'is_selected': 0, 'passage_text': 'View Scot...</td>\n",
       "      <td>where is sustain health practice scott ling</td>\n",
       "      <td>997744</td>\n",
       "      <td>LOCATION</td>\n",
       "      <td>[]</td>\n",
       "    </tr>\n",
       "    <tr>\n",
       "      <th>68203</th>\n",
       "      <td>[1-3 years]</td>\n",
       "      <td>[{'is_selected': 0, 'passage_text': 'A bachelo...</td>\n",
       "      <td>how much longer after bachelors does a masters...</td>\n",
       "      <td>323946</td>\n",
       "      <td>NUMERIC</td>\n",
       "      <td>[Masters take 1 to 3 years after Bachelors., A...</td>\n",
       "    </tr>\n",
       "    <tr>\n",
       "      <th>40994</th>\n",
       "      <td>[No Answer Present.]</td>\n",
       "      <td>[{'is_selected': 0, 'passage_text': 'History o...</td>\n",
       "      <td>is grand jury considered a civil jury</td>\n",
       "      <td>411480</td>\n",
       "      <td>DESCRIPTION</td>\n",
       "      <td>[]</td>\n",
       "    </tr>\n",
       "    <tr>\n",
       "      <th>63911</th>\n",
       "      <td>[Disturbance in either the balance organs of t...</td>\n",
       "      <td>[{'is_selected': 0, 'passage_text': 'Vertigo i...</td>\n",
       "      <td>what are some causes of vertigo</td>\n",
       "      <td>565231</td>\n",
       "      <td>DESCRIPTION</td>\n",
       "      <td>[]</td>\n",
       "    </tr>\n",
       "    <tr>\n",
       "      <th>43752</th>\n",
       "      <td>[No Answer Present.]</td>\n",
       "      <td>[{'is_selected': 0, 'passage_text': 'Basic con...</td>\n",
       "      <td>alaskan slab cost</td>\n",
       "      <td>15164</td>\n",
       "      <td>NUMERIC</td>\n",
       "      <td>[]</td>\n",
       "    </tr>\n",
       "    <tr>\n",
       "      <th>36432</th>\n",
       "      <td>[36 to 42 islands.]</td>\n",
       "      <td>[{'is_selected': 0, 'passage_text': 'For more ...</td>\n",
       "      <td>how many islands in ny</td>\n",
       "      <td>286709</td>\n",
       "      <td>NUMERIC</td>\n",
       "      <td>[]</td>\n",
       "    </tr>\n",
       "    <tr>\n",
       "      <th>7200</th>\n",
       "      <td>[JUMP Math is a numeracy program and it is ded...</td>\n",
       "      <td>[{'is_selected': 0, 'passage_text': 'Math expl...</td>\n",
       "      <td>jump definition in math</td>\n",
       "      <td>1093729</td>\n",
       "      <td>DESCRIPTION</td>\n",
       "      <td>[]</td>\n",
       "    </tr>\n",
       "    <tr>\n",
       "      <th>78571</th>\n",
       "      <td>[40 mg before anxious situations or twice a day.]</td>\n",
       "      <td>[{'is_selected': 0, 'passage_text': 'Possible ...</td>\n",
       "      <td>what is the dosage for propranolol for anxiety</td>\n",
       "      <td>819416</td>\n",
       "      <td>DESCRIPTION</td>\n",
       "      <td>[]</td>\n",
       "    </tr>\n",
       "    <tr>\n",
       "      <th>86988</th>\n",
       "      <td>[2 hours, 58 minutes.]</td>\n",
       "      <td>[{'is_selected': 0, 'passage_text': 'And as th...</td>\n",
       "      <td>what is the average length of a major league b...</td>\n",
       "      <td>806448</td>\n",
       "      <td>NUMERIC</td>\n",
       "      <td>[]</td>\n",
       "    </tr>\n",
       "    <tr>\n",
       "      <th>69317</th>\n",
       "      <td>[No Answer Present.]</td>\n",
       "      <td>[{'is_selected': 0, 'passage_text': 'Your Last...</td>\n",
       "      <td>does i input jr in first name or last name on ...</td>\n",
       "      <td>167397</td>\n",
       "      <td>DESCRIPTION</td>\n",
       "      <td>[]</td>\n",
       "    </tr>\n",
       "    <tr>\n",
       "      <th>90470</th>\n",
       "      <td>[An airplane pilot has an international pilot'...</td>\n",
       "      <td>[{'is_selected': 0, 'passage_text': '1 Ask the...</td>\n",
       "      <td>what type of pilot was bessie coleman</td>\n",
       "      <td>913915</td>\n",
       "      <td>PERSON</td>\n",
       "      <td>[]</td>\n",
       "    </tr>\n",
       "    <tr>\n",
       "      <th>22169</th>\n",
       "      <td>[No Answer Present.]</td>\n",
       "      <td>[{'is_selected': 0, 'passage_text': 'With the ...</td>\n",
       "      <td>what is the print limits of markforged onyx one</td>\n",
       "      <td>1034043</td>\n",
       "      <td>NUMERIC</td>\n",
       "      <td>[]</td>\n",
       "    </tr>\n",
       "    <tr>\n",
       "      <th>8035</th>\n",
       "      <td>[The domain name mil is the sponsored top-leve...</td>\n",
       "      <td>[{'is_selected': 0, 'passage_text': 'Sustained...</td>\n",
       "      <td>military definition of mil</td>\n",
       "      <td>1092714</td>\n",
       "      <td>DESCRIPTION</td>\n",
       "      <td>[]</td>\n",
       "    </tr>\n",
       "    <tr>\n",
       "      <th>13869</th>\n",
       "      <td>[No Answer Present.]</td>\n",
       "      <td>[{'is_selected': 0, 'passage_text': 'NOTICE OF...</td>\n",
       "      <td>what county is mahwah, nj</td>\n",
       "      <td>1085450</td>\n",
       "      <td>LOCATION</td>\n",
       "      <td>[]</td>\n",
       "    </tr>\n",
       "    <tr>\n",
       "      <th>6525</th>\n",
       "      <td>[No Answer Present.]</td>\n",
       "      <td>[{'is_selected': 0, 'passage_text': 'The ban i...</td>\n",
       "      <td>implicit liabilities economics definition</td>\n",
       "      <td>1094620</td>\n",
       "      <td>DESCRIPTION</td>\n",
       "      <td>[]</td>\n",
       "    </tr>\n",
       "    <tr>\n",
       "      <th>72048</th>\n",
       "      <td>[The Viktor Leonov is now positioned northeast...</td>\n",
       "      <td>[{'is_selected': 0, 'passage_text': 'Russian s...</td>\n",
       "      <td>where is the the viktor leonov, now</td>\n",
       "      <td>997990</td>\n",
       "      <td>LOCATION</td>\n",
       "      <td>[]</td>\n",
       "    </tr>\n",
       "    <tr>\n",
       "      <th>51477</th>\n",
       "      <td>[No Answer Present.]</td>\n",
       "      <td>[{'is_selected': 0, 'passage_text': 'There are...</td>\n",
       "      <td>what is hemochromatosis symptoms</td>\n",
       "      <td>754495</td>\n",
       "      <td>ENTITY</td>\n",
       "      <td>[]</td>\n",
       "    </tr>\n",
       "    <tr>\n",
       "      <th>79769</th>\n",
       "      <td>[No Answer Present.]</td>\n",
       "      <td>[{'is_selected': 0, 'passage_text': 'Sponsored...</td>\n",
       "      <td>when was mingo junction ohio incorporated?</td>\n",
       "      <td>958924</td>\n",
       "      <td>NUMERIC</td>\n",
       "      <td>[]</td>\n",
       "    </tr>\n",
       "    <tr>\n",
       "      <th>16564</th>\n",
       "      <td>[No Answer Present.]</td>\n",
       "      <td>[{'is_selected': 0, 'passage_text': 'Once the ...</td>\n",
       "      <td>what forms need to be filed in year of a regul...</td>\n",
       "      <td>1080453</td>\n",
       "      <td>DESCRIPTION</td>\n",
       "      <td>[]</td>\n",
       "    </tr>\n",
       "    <tr>\n",
       "      <th>29146</th>\n",
       "      <td>[No Answer Present.]</td>\n",
       "      <td>[{'is_selected': 0, 'passage_text': 'Vita-Mix ...</td>\n",
       "      <td>who manufactures commercial vita mix food juicer</td>\n",
       "      <td>988426</td>\n",
       "      <td>PERSON</td>\n",
       "      <td>[]</td>\n",
       "    </tr>\n",
       "    <tr>\n",
       "      <th>77033</th>\n",
       "      <td>[No Answer Present.]</td>\n",
       "      <td>[{'is_selected': 0, 'passage_text': 'How to co...</td>\n",
       "      <td>how to merge data from three columns in excel</td>\n",
       "      <td>370757</td>\n",
       "      <td>DESCRIPTION</td>\n",
       "      <td>[]</td>\n",
       "    </tr>\n",
       "    <tr>\n",
       "      <th>784</th>\n",
       "      <td>[No Answer Present.]</td>\n",
       "      <td>[{'is_selected': 0, 'passage_text': 'For accou...</td>\n",
       "      <td>difference between a limited liability or busi...</td>\n",
       "      <td>1101529</td>\n",
       "      <td>DESCRIPTION</td>\n",
       "      <td>[]</td>\n",
       "    </tr>\n",
       "    <tr>\n",
       "      <th>37974</th>\n",
       "      <td>[No Answer Present.]</td>\n",
       "      <td>[{'is_selected': 0, 'passage_text': 'Pennsylva...</td>\n",
       "      <td>how many police districts are there in bethlehem</td>\n",
       "      <td>293591</td>\n",
       "      <td>NUMERIC</td>\n",
       "      <td>[]</td>\n",
       "    </tr>\n",
       "    <tr>\n",
       "      <th>19847</th>\n",
       "      <td>[Normal blood pressure for adults is defined a...</td>\n",
       "      <td>[{'is_selected': 0, 'passage_text': 'UK Blood ...</td>\n",
       "      <td>what is normal blood su</td>\n",
       "      <td>1049664</td>\n",
       "      <td>DESCRIPTION</td>\n",
       "      <td>[]</td>\n",
       "    </tr>\n",
       "    <tr>\n",
       "      <th>113</th>\n",
       "      <td>[Ttoenails turn yellow and thicken because of ...</td>\n",
       "      <td>[{'is_selected': 0, 'passage_text': 'Trim your...</td>\n",
       "      <td>why do toenails turn yellow and thicken</td>\n",
       "      <td>1102300</td>\n",
       "      <td>DESCRIPTION</td>\n",
       "      <td>[]</td>\n",
       "    </tr>\n",
       "    <tr>\n",
       "      <th>58383</th>\n",
       "      <td>[The factors that influence GDP include the pa...</td>\n",
       "      <td>[{'is_selected': 1, 'passage_text': 'Real gros...</td>\n",
       "      <td>what are the factors that influence gdp?</td>\n",
       "      <td>569689</td>\n",
       "      <td>DESCRIPTION</td>\n",
       "      <td>[]</td>\n",
       "    </tr>\n",
       "    <tr>\n",
       "      <th>100628</th>\n",
       "      <td>[Spring - Spring goes from March 21st to June ...</td>\n",
       "      <td>[{'is_selected': 0, 'passage_text': 'Jan throu...</td>\n",
       "      <td>how are the months split into seasons</td>\n",
       "      <td>207859</td>\n",
       "      <td>DESCRIPTION</td>\n",
       "      <td>[The splitting of months into seasons is as fo...</td>\n",
       "    </tr>\n",
       "    <tr>\n",
       "      <th>44562</th>\n",
       "      <td>[No Answer Present.]</td>\n",
       "      <td>[{'is_selected': 0, 'passage_text': 'In the sp...</td>\n",
       "      <td>what do you call in cricket the average score ...</td>\n",
       "      <td>626238</td>\n",
       "      <td>DESCRIPTION</td>\n",
       "      <td>[]</td>\n",
       "    </tr>\n",
       "    <tr>\n",
       "      <th>23733</th>\n",
       "      <td>[No Answer Present.]</td>\n",
       "      <td>[{'is_selected': 0, 'passage_text': 'Meals Plu...</td>\n",
       "      <td>what p.o.s. computer program does kaiser use i...</td>\n",
       "      <td>1023152</td>\n",
       "      <td>DESCRIPTION</td>\n",
       "      <td>[]</td>\n",
       "    </tr>\n",
       "    <tr>\n",
       "      <th>64543</th>\n",
       "      <td>[A way of looking at the tissues of a woman's ...</td>\n",
       "      <td>[{'is_selected': 1, 'passage_text': 'Colposcop...</td>\n",
       "      <td>what is colposcopy</td>\n",
       "      <td>732321</td>\n",
       "      <td>DESCRIPTION</td>\n",
       "      <td>[]</td>\n",
       "    </tr>\n",
       "    <tr>\n",
       "      <th>...</th>\n",
       "      <td>...</td>\n",
       "      <td>...</td>\n",
       "      <td>...</td>\n",
       "      <td>...</td>\n",
       "      <td>...</td>\n",
       "      <td>...</td>\n",
       "    </tr>\n",
       "    <tr>\n",
       "      <th>82235</th>\n",
       "      <td>[No Answer Present.]</td>\n",
       "      <td>[{'is_selected': 0, 'passage_text': 'U.S. Immi...</td>\n",
       "      <td>what should us do about immigration</td>\n",
       "      <td>894104</td>\n",
       "      <td>DESCRIPTION</td>\n",
       "      <td>[]</td>\n",
       "    </tr>\n",
       "    <tr>\n",
       "      <th>46052</th>\n",
       "      <td>[No Answer Present.]</td>\n",
       "      <td>[{'is_selected': 0, 'passage_text': '1 In 1999...</td>\n",
       "      <td>average beep test score female</td>\n",
       "      <td>31338</td>\n",
       "      <td>NUMERIC</td>\n",
       "      <td>[]</td>\n",
       "    </tr>\n",
       "    <tr>\n",
       "      <th>58729</th>\n",
       "      <td>[It represents deception and trickery in your ...</td>\n",
       "      <td>[{'is_selected': 0, 'passage_text': 'You are h...</td>\n",
       "      <td>what does a lemur mean in a dream</td>\n",
       "      <td>629334</td>\n",
       "      <td>DESCRIPTION</td>\n",
       "      <td>[]</td>\n",
       "    </tr>\n",
       "    <tr>\n",
       "      <th>84053</th>\n",
       "      <td>[No Answer Present.]</td>\n",
       "      <td>[{'is_selected': 0, 'passage_text': 'Microsoft...</td>\n",
       "      <td>where is publisher and access</td>\n",
       "      <td>991094</td>\n",
       "      <td>LOCATION</td>\n",
       "      <td>[]</td>\n",
       "    </tr>\n",
       "    <tr>\n",
       "      <th>41532</th>\n",
       "      <td>[No Answer Present.]</td>\n",
       "      <td>[{'is_selected': 0, 'passage_text': 'Brownielo...</td>\n",
       "      <td>important native american celebrations in febr...</td>\n",
       "      <td>393088</td>\n",
       "      <td>ENTITY</td>\n",
       "      <td>[]</td>\n",
       "    </tr>\n",
       "    <tr>\n",
       "      <th>8225</th>\n",
       "      <td>[Columbine is the most recent school shooting ...</td>\n",
       "      <td>[{'is_selected': 0, 'passage_text': 'Here are ...</td>\n",
       "      <td>most recent school shooting in the us</td>\n",
       "      <td>1092447</td>\n",
       "      <td>PERSON</td>\n",
       "      <td>[]</td>\n",
       "    </tr>\n",
       "    <tr>\n",
       "      <th>5950</th>\n",
       "      <td>[No Answer Present.]</td>\n",
       "      <td>[{'is_selected': 0, 'passage_text': 'Common Cl...</td>\n",
       "      <td>how often should a person have lab work for cl...</td>\n",
       "      <td>1095331</td>\n",
       "      <td>NUMERIC</td>\n",
       "      <td>[]</td>\n",
       "    </tr>\n",
       "    <tr>\n",
       "      <th>30451</th>\n",
       "      <td>[No Answer Present.]</td>\n",
       "      <td>[{'is_selected': 0, 'passage_text': 'The stand...</td>\n",
       "      <td>cultural goals definition</td>\n",
       "      <td>113510</td>\n",
       "      <td>DESCRIPTION</td>\n",
       "      <td>[]</td>\n",
       "    </tr>\n",
       "    <tr>\n",
       "      <th>58893</th>\n",
       "      <td>[Adaptive instruction by tutoring was the comm...</td>\n",
       "      <td>[{'is_selected': 0, 'passage_text': 'Adaptive ...</td>\n",
       "      <td>is it adaptive or adapted instruction</td>\n",
       "      <td>413404</td>\n",
       "      <td>DESCRIPTION</td>\n",
       "      <td>[]</td>\n",
       "    </tr>\n",
       "    <tr>\n",
       "      <th>14646</th>\n",
       "      <td>[Each faculty senate shall elect three faculty...</td>\n",
       "      <td>[{'is_selected': 0, 'passage_text': 'United St...</td>\n",
       "      <td>what does a faculty senate do</td>\n",
       "      <td>1084480</td>\n",
       "      <td>DESCRIPTION</td>\n",
       "      <td>[]</td>\n",
       "    </tr>\n",
       "    <tr>\n",
       "      <th>82398</th>\n",
       "      <td>[Because They contain a unique compound called...</td>\n",
       "      <td>[{'is_selected': 0, 'passage_text': 'When you ...</td>\n",
       "      <td>why is bioluminescence impacted</td>\n",
       "      <td>1069556</td>\n",
       "      <td>DESCRIPTION</td>\n",
       "      <td>[]</td>\n",
       "    </tr>\n",
       "    <tr>\n",
       "      <th>23449</th>\n",
       "      <td>[Dead on arrival is a term used to indicate th...</td>\n",
       "      <td>[{'is_selected': 0, 'passage_text': 'Definitio...</td>\n",
       "      <td>dead on arrival meaning</td>\n",
       "      <td>1025493</td>\n",
       "      <td>DESCRIPTION</td>\n",
       "      <td>[]</td>\n",
       "    </tr>\n",
       "    <tr>\n",
       "      <th>3462</th>\n",
       "      <td>[No Answer Present.]</td>\n",
       "      <td>[{'is_selected': 0, 'passage_text': '4 How Lon...</td>\n",
       "      <td>how long does an ohio business have to keep re...</td>\n",
       "      <td>1098366</td>\n",
       "      <td>NUMERIC</td>\n",
       "      <td>[]</td>\n",
       "    </tr>\n",
       "    <tr>\n",
       "      <th>24304</th>\n",
       "      <td>[Fresh frozen plasma can be stored at a very l...</td>\n",
       "      <td>[{'is_selected': 1, 'passage_text': 'It also h...</td>\n",
       "      <td>what temp is plasma stored at</td>\n",
       "      <td>1019236</td>\n",
       "      <td>NUMERIC</td>\n",
       "      <td>[]</td>\n",
       "    </tr>\n",
       "    <tr>\n",
       "      <th>35988</th>\n",
       "      <td>[12 hours]</td>\n",
       "      <td>[{'is_selected': 0, 'passage_text': 'More on t...</td>\n",
       "      <td>how long does oxy last</td>\n",
       "      <td>259128</td>\n",
       "      <td>NUMERIC</td>\n",
       "      <td>[Oxy lasts for 12 hours.]</td>\n",
       "    </tr>\n",
       "    <tr>\n",
       "      <th>17954</th>\n",
       "      <td>[No Answer Present.]</td>\n",
       "      <td>[{'is_selected': 0, 'passage_text': 'Curricula...</td>\n",
       "      <td>what is an acceptable id for an internship</td>\n",
       "      <td>1063779</td>\n",
       "      <td>DESCRIPTION</td>\n",
       "      <td>[]</td>\n",
       "    </tr>\n",
       "    <tr>\n",
       "      <th>27937</th>\n",
       "      <td>[No Answer Present.]</td>\n",
       "      <td>[{'is_selected': 0, 'passage_text': 'allows ca...</td>\n",
       "      <td>which is not one of the reasons carbon atoms f...</td>\n",
       "      <td>994246</td>\n",
       "      <td>DESCRIPTION</td>\n",
       "      <td>[]</td>\n",
       "    </tr>\n",
       "    <tr>\n",
       "      <th>85958</th>\n",
       "      <td>[No Answer Present.]</td>\n",
       "      <td>[{'is_selected': 0, 'passage_text': 'The close...</td>\n",
       "      <td>where is the players parking lot target field</td>\n",
       "      <td>997200</td>\n",
       "      <td>LOCATION</td>\n",
       "      <td>[]</td>\n",
       "    </tr>\n",
       "    <tr>\n",
       "      <th>96647</th>\n",
       "      <td>[Chloroplast]</td>\n",
       "      <td>[{'is_selected': 0, 'passage_text': 'Cells do ...</td>\n",
       "      <td>what type cell can capture energy from sunligh...</td>\n",
       "      <td>909938</td>\n",
       "      <td>DESCRIPTION</td>\n",
       "      <td>[Chloroplast type of a cell can capture an ene...</td>\n",
       "    </tr>\n",
       "    <tr>\n",
       "      <th>52755</th>\n",
       "      <td>[No Answer Present.]</td>\n",
       "      <td>[{'is_selected': 0, 'passage_text': 'Viral hep...</td>\n",
       "      <td>phases of hepatitis a</td>\n",
       "      <td>474315</td>\n",
       "      <td>DESCRIPTION</td>\n",
       "      <td>[]</td>\n",
       "    </tr>\n",
       "    <tr>\n",
       "      <th>15569</th>\n",
       "      <td>[A positive mycoplasma igm antibody would indi...</td>\n",
       "      <td>[{'is_selected': 1, 'passage_text': 'In brief:...</td>\n",
       "      <td>what does mycoplasma antibody, igm positive mean</td>\n",
       "      <td>1083384</td>\n",
       "      <td>DESCRIPTION</td>\n",
       "      <td>[]</td>\n",
       "    </tr>\n",
       "    <tr>\n",
       "      <th>44913</th>\n",
       "      <td>[The population of Kent, Connecticut is 2,858.]</td>\n",
       "      <td>[{'is_selected': 0, 'passage_text': 'American ...</td>\n",
       "      <td>kent ct population</td>\n",
       "      <td>434149</td>\n",
       "      <td>NUMERIC</td>\n",
       "      <td>[]</td>\n",
       "    </tr>\n",
       "    <tr>\n",
       "      <th>34609</th>\n",
       "      <td>[208 Calories in Chicken Dumpling Soup Calories.]</td>\n",
       "      <td>[{'is_selected': 0, 'passage_text': 'Instructi...</td>\n",
       "      <td>how many calories are in chicken dumplings</td>\n",
       "      <td>276078</td>\n",
       "      <td>NUMERIC</td>\n",
       "      <td>[]</td>\n",
       "    </tr>\n",
       "    <tr>\n",
       "      <th>25331</th>\n",
       "      <td>[No Answer Present.]</td>\n",
       "      <td>[{'is_selected': 0, 'passage_text': 'When prin...</td>\n",
       "      <td>what would cause a brother copier to print blurry</td>\n",
       "      <td>1011070</td>\n",
       "      <td>DESCRIPTION</td>\n",
       "      <td>[]</td>\n",
       "    </tr>\n",
       "    <tr>\n",
       "      <th>43308</th>\n",
       "      <td>[15,000 to 20,000]</td>\n",
       "      <td>[{'is_selected': 0, 'passage_text': 'Migration...</td>\n",
       "      <td>how many how species of butterflies</td>\n",
       "      <td>286374</td>\n",
       "      <td>NUMERIC</td>\n",
       "      <td>[]</td>\n",
       "    </tr>\n",
       "    <tr>\n",
       "      <th>86437</th>\n",
       "      <td>[Most cars run on petroleum, a fossil fuel. Wh...</td>\n",
       "      <td>[{'is_selected': 0, 'passage_text': 'Since the...</td>\n",
       "      <td>why does driving cause global warming</td>\n",
       "      <td>1066860</td>\n",
       "      <td>DESCRIPTION</td>\n",
       "      <td>[Most cars run on petroleum and a fossil fuel,...</td>\n",
       "    </tr>\n",
       "    <tr>\n",
       "      <th>99303</th>\n",
       "      <td>[40 to 50 minutes]</td>\n",
       "      <td>[{'is_selected': 0, 'passage_text': '4. Immedi...</td>\n",
       "      <td>how long to cook brown rice on stove</td>\n",
       "      <td>269540</td>\n",
       "      <td>NUMERIC</td>\n",
       "      <td>[]</td>\n",
       "    </tr>\n",
       "    <tr>\n",
       "      <th>84647</th>\n",
       "      <td>[Nov. 18, 1978]</td>\n",
       "      <td>[{'is_selected': 0, 'passage_text': 'Finally, ...</td>\n",
       "      <td>when did the jonestown massacre occur</td>\n",
       "      <td>941818</td>\n",
       "      <td>NUMERIC</td>\n",
       "      <td>[Jonestown massacre occured in November 18, 19...</td>\n",
       "    </tr>\n",
       "    <tr>\n",
       "      <th>6320</th>\n",
       "      <td>[Anise is pronounced as Ann eye eese Ann as.]</td>\n",
       "      <td>[{'is_selected': 0, 'passage_text': 'Anise/sta...</td>\n",
       "      <td>how to pronounce anise</td>\n",
       "      <td>1094869</td>\n",
       "      <td>DESCRIPTION</td>\n",
       "      <td>[]</td>\n",
       "    </tr>\n",
       "    <tr>\n",
       "      <th>24166</th>\n",
       "      <td>[No Answer Present.]</td>\n",
       "      <td>[{'is_selected': 0, 'passage_text': 'Beyond th...</td>\n",
       "      <td>what species is ashoka</td>\n",
       "      <td>1020162</td>\n",
       "      <td>ENTITY</td>\n",
       "      <td>[]</td>\n",
       "    </tr>\n",
       "  </tbody>\n",
       "</table>\n",
       "<p>100 rows × 6 columns</p>\n",
       "</div>"
      ],
      "text/plain": [
       "                                                  answers  \\\n",
       "27394   [Scott Ling. Dr Scott Ling's Chinese Medicine ...   \n",
       "68203                                         [1-3 years]   \n",
       "40994                                [No Answer Present.]   \n",
       "63911   [Disturbance in either the balance organs of t...   \n",
       "43752                                [No Answer Present.]   \n",
       "36432                                 [36 to 42 islands.]   \n",
       "7200    [JUMP Math is a numeracy program and it is ded...   \n",
       "78571   [40 mg before anxious situations or twice a day.]   \n",
       "86988                              [2 hours, 58 minutes.]   \n",
       "69317                                [No Answer Present.]   \n",
       "90470   [An airplane pilot has an international pilot'...   \n",
       "22169                                [No Answer Present.]   \n",
       "8035    [The domain name mil is the sponsored top-leve...   \n",
       "13869                                [No Answer Present.]   \n",
       "6525                                 [No Answer Present.]   \n",
       "72048   [The Viktor Leonov is now positioned northeast...   \n",
       "51477                                [No Answer Present.]   \n",
       "79769                                [No Answer Present.]   \n",
       "16564                                [No Answer Present.]   \n",
       "29146                                [No Answer Present.]   \n",
       "77033                                [No Answer Present.]   \n",
       "784                                  [No Answer Present.]   \n",
       "37974                                [No Answer Present.]   \n",
       "19847   [Normal blood pressure for adults is defined a...   \n",
       "113     [Ttoenails turn yellow and thicken because of ...   \n",
       "58383   [The factors that influence GDP include the pa...   \n",
       "100628  [Spring - Spring goes from March 21st to June ...   \n",
       "44562                                [No Answer Present.]   \n",
       "23733                                [No Answer Present.]   \n",
       "64543   [A way of looking at the tissues of a woman's ...   \n",
       "...                                                   ...   \n",
       "82235                                [No Answer Present.]   \n",
       "46052                                [No Answer Present.]   \n",
       "58729   [It represents deception and trickery in your ...   \n",
       "84053                                [No Answer Present.]   \n",
       "41532                                [No Answer Present.]   \n",
       "8225    [Columbine is the most recent school shooting ...   \n",
       "5950                                 [No Answer Present.]   \n",
       "30451                                [No Answer Present.]   \n",
       "58893   [Adaptive instruction by tutoring was the comm...   \n",
       "14646   [Each faculty senate shall elect three faculty...   \n",
       "82398   [Because They contain a unique compound called...   \n",
       "23449   [Dead on arrival is a term used to indicate th...   \n",
       "3462                                 [No Answer Present.]   \n",
       "24304   [Fresh frozen plasma can be stored at a very l...   \n",
       "35988                                          [12 hours]   \n",
       "17954                                [No Answer Present.]   \n",
       "27937                                [No Answer Present.]   \n",
       "85958                                [No Answer Present.]   \n",
       "96647                                       [Chloroplast]   \n",
       "52755                                [No Answer Present.]   \n",
       "15569   [A positive mycoplasma igm antibody would indi...   \n",
       "44913     [The population of Kent, Connecticut is 2,858.]   \n",
       "34609   [208 Calories in Chicken Dumpling Soup Calories.]   \n",
       "25331                                [No Answer Present.]   \n",
       "43308                                  [15,000 to 20,000]   \n",
       "86437   [Most cars run on petroleum, a fossil fuel. Wh...   \n",
       "99303                                  [40 to 50 minutes]   \n",
       "84647                                     [Nov. 18, 1978]   \n",
       "6320        [Anise is pronounced as Ann eye eese Ann as.]   \n",
       "24166                                [No Answer Present.]   \n",
       "\n",
       "                                                 passages  \\\n",
       "27394   [{'is_selected': 0, 'passage_text': 'View Scot...   \n",
       "68203   [{'is_selected': 0, 'passage_text': 'A bachelo...   \n",
       "40994   [{'is_selected': 0, 'passage_text': 'History o...   \n",
       "63911   [{'is_selected': 0, 'passage_text': 'Vertigo i...   \n",
       "43752   [{'is_selected': 0, 'passage_text': 'Basic con...   \n",
       "36432   [{'is_selected': 0, 'passage_text': 'For more ...   \n",
       "7200    [{'is_selected': 0, 'passage_text': 'Math expl...   \n",
       "78571   [{'is_selected': 0, 'passage_text': 'Possible ...   \n",
       "86988   [{'is_selected': 0, 'passage_text': 'And as th...   \n",
       "69317   [{'is_selected': 0, 'passage_text': 'Your Last...   \n",
       "90470   [{'is_selected': 0, 'passage_text': '1 Ask the...   \n",
       "22169   [{'is_selected': 0, 'passage_text': 'With the ...   \n",
       "8035    [{'is_selected': 0, 'passage_text': 'Sustained...   \n",
       "13869   [{'is_selected': 0, 'passage_text': 'NOTICE OF...   \n",
       "6525    [{'is_selected': 0, 'passage_text': 'The ban i...   \n",
       "72048   [{'is_selected': 0, 'passage_text': 'Russian s...   \n",
       "51477   [{'is_selected': 0, 'passage_text': 'There are...   \n",
       "79769   [{'is_selected': 0, 'passage_text': 'Sponsored...   \n",
       "16564   [{'is_selected': 0, 'passage_text': 'Once the ...   \n",
       "29146   [{'is_selected': 0, 'passage_text': 'Vita-Mix ...   \n",
       "77033   [{'is_selected': 0, 'passage_text': 'How to co...   \n",
       "784     [{'is_selected': 0, 'passage_text': 'For accou...   \n",
       "37974   [{'is_selected': 0, 'passage_text': 'Pennsylva...   \n",
       "19847   [{'is_selected': 0, 'passage_text': 'UK Blood ...   \n",
       "113     [{'is_selected': 0, 'passage_text': 'Trim your...   \n",
       "58383   [{'is_selected': 1, 'passage_text': 'Real gros...   \n",
       "100628  [{'is_selected': 0, 'passage_text': 'Jan throu...   \n",
       "44562   [{'is_selected': 0, 'passage_text': 'In the sp...   \n",
       "23733   [{'is_selected': 0, 'passage_text': 'Meals Plu...   \n",
       "64543   [{'is_selected': 1, 'passage_text': 'Colposcop...   \n",
       "...                                                   ...   \n",
       "82235   [{'is_selected': 0, 'passage_text': 'U.S. Immi...   \n",
       "46052   [{'is_selected': 0, 'passage_text': '1 In 1999...   \n",
       "58729   [{'is_selected': 0, 'passage_text': 'You are h...   \n",
       "84053   [{'is_selected': 0, 'passage_text': 'Microsoft...   \n",
       "41532   [{'is_selected': 0, 'passage_text': 'Brownielo...   \n",
       "8225    [{'is_selected': 0, 'passage_text': 'Here are ...   \n",
       "5950    [{'is_selected': 0, 'passage_text': 'Common Cl...   \n",
       "30451   [{'is_selected': 0, 'passage_text': 'The stand...   \n",
       "58893   [{'is_selected': 0, 'passage_text': 'Adaptive ...   \n",
       "14646   [{'is_selected': 0, 'passage_text': 'United St...   \n",
       "82398   [{'is_selected': 0, 'passage_text': 'When you ...   \n",
       "23449   [{'is_selected': 0, 'passage_text': 'Definitio...   \n",
       "3462    [{'is_selected': 0, 'passage_text': '4 How Lon...   \n",
       "24304   [{'is_selected': 1, 'passage_text': 'It also h...   \n",
       "35988   [{'is_selected': 0, 'passage_text': 'More on t...   \n",
       "17954   [{'is_selected': 0, 'passage_text': 'Curricula...   \n",
       "27937   [{'is_selected': 0, 'passage_text': 'allows ca...   \n",
       "85958   [{'is_selected': 0, 'passage_text': 'The close...   \n",
       "96647   [{'is_selected': 0, 'passage_text': 'Cells do ...   \n",
       "52755   [{'is_selected': 0, 'passage_text': 'Viral hep...   \n",
       "15569   [{'is_selected': 1, 'passage_text': 'In brief:...   \n",
       "44913   [{'is_selected': 0, 'passage_text': 'American ...   \n",
       "34609   [{'is_selected': 0, 'passage_text': 'Instructi...   \n",
       "25331   [{'is_selected': 0, 'passage_text': 'When prin...   \n",
       "43308   [{'is_selected': 0, 'passage_text': 'Migration...   \n",
       "86437   [{'is_selected': 0, 'passage_text': 'Since the...   \n",
       "99303   [{'is_selected': 0, 'passage_text': '4. Immedi...   \n",
       "84647   [{'is_selected': 0, 'passage_text': 'Finally, ...   \n",
       "6320    [{'is_selected': 0, 'passage_text': 'Anise/sta...   \n",
       "24166   [{'is_selected': 0, 'passage_text': 'Beyond th...   \n",
       "\n",
       "                                                    query  query_id  \\\n",
       "27394         where is sustain health practice scott ling    997744   \n",
       "68203   how much longer after bachelors does a masters...    323946   \n",
       "40994               is grand jury considered a civil jury    411480   \n",
       "63911                     what are some causes of vertigo    565231   \n",
       "43752                                   alaskan slab cost     15164   \n",
       "36432                              how many islands in ny    286709   \n",
       "7200                              jump definition in math   1093729   \n",
       "78571      what is the dosage for propranolol for anxiety    819416   \n",
       "86988   what is the average length of a major league b...    806448   \n",
       "69317   does i input jr in first name or last name on ...    167397   \n",
       "90470               what type of pilot was bessie coleman    913915   \n",
       "22169     what is the print limits of markforged onyx one   1034043   \n",
       "8035                           military definition of mil   1092714   \n",
       "13869                           what county is mahwah, nj   1085450   \n",
       "6525            implicit liabilities economics definition   1094620   \n",
       "72048                 where is the the viktor leonov, now    997990   \n",
       "51477                    what is hemochromatosis symptoms    754495   \n",
       "79769          when was mingo junction ohio incorporated?    958924   \n",
       "16564   what forms need to be filed in year of a regul...   1080453   \n",
       "29146    who manufactures commercial vita mix food juicer    988426   \n",
       "77033       how to merge data from three columns in excel    370757   \n",
       "784     difference between a limited liability or busi...   1101529   \n",
       "37974    how many police districts are there in bethlehem    293591   \n",
       "19847                             what is normal blood su   1049664   \n",
       "113               why do toenails turn yellow and thicken   1102300   \n",
       "58383            what are the factors that influence gdp?    569689   \n",
       "100628              how are the months split into seasons    207859   \n",
       "44562   what do you call in cricket the average score ...    626238   \n",
       "23733   what p.o.s. computer program does kaiser use i...   1023152   \n",
       "64543                                  what is colposcopy    732321   \n",
       "...                                                   ...       ...   \n",
       "82235                 what should us do about immigration    894104   \n",
       "46052                      average beep test score female     31338   \n",
       "58729                   what does a lemur mean in a dream    629334   \n",
       "84053                       where is publisher and access    991094   \n",
       "41532   important native american celebrations in febr...    393088   \n",
       "8225                most recent school shooting in the us   1092447   \n",
       "5950    how often should a person have lab work for cl...   1095331   \n",
       "30451                           cultural goals definition    113510   \n",
       "58893               is it adaptive or adapted instruction    413404   \n",
       "14646                       what does a faculty senate do   1084480   \n",
       "82398                     why is bioluminescence impacted   1069556   \n",
       "23449                             dead on arrival meaning   1025493   \n",
       "3462    how long does an ohio business have to keep re...   1098366   \n",
       "24304                       what temp is plasma stored at   1019236   \n",
       "35988                              how long does oxy last    259128   \n",
       "17954          what is an acceptable id for an internship   1063779   \n",
       "27937   which is not one of the reasons carbon atoms f...    994246   \n",
       "85958       where is the players parking lot target field    997200   \n",
       "96647   what type cell can capture energy from sunligh...    909938   \n",
       "52755                               phases of hepatitis a    474315   \n",
       "15569    what does mycoplasma antibody, igm positive mean   1083384   \n",
       "44913                                  kent ct population    434149   \n",
       "34609          how many calories are in chicken dumplings    276078   \n",
       "25331   what would cause a brother copier to print blurry   1011070   \n",
       "43308                 how many how species of butterflies    286374   \n",
       "86437               why does driving cause global warming   1066860   \n",
       "99303                how long to cook brown rice on stove    269540   \n",
       "84647               when did the jonestown massacre occur    941818   \n",
       "6320                               how to pronounce anise   1094869   \n",
       "24166                              what species is ashoka   1020162   \n",
       "\n",
       "         query_type                                  wellFormedAnswers  \n",
       "27394      LOCATION                                                 []  \n",
       "68203       NUMERIC  [Masters take 1 to 3 years after Bachelors., A...  \n",
       "40994   DESCRIPTION                                                 []  \n",
       "63911   DESCRIPTION                                                 []  \n",
       "43752       NUMERIC                                                 []  \n",
       "36432       NUMERIC                                                 []  \n",
       "7200    DESCRIPTION                                                 []  \n",
       "78571   DESCRIPTION                                                 []  \n",
       "86988       NUMERIC                                                 []  \n",
       "69317   DESCRIPTION                                                 []  \n",
       "90470        PERSON                                                 []  \n",
       "22169       NUMERIC                                                 []  \n",
       "8035    DESCRIPTION                                                 []  \n",
       "13869      LOCATION                                                 []  \n",
       "6525    DESCRIPTION                                                 []  \n",
       "72048      LOCATION                                                 []  \n",
       "51477        ENTITY                                                 []  \n",
       "79769       NUMERIC                                                 []  \n",
       "16564   DESCRIPTION                                                 []  \n",
       "29146        PERSON                                                 []  \n",
       "77033   DESCRIPTION                                                 []  \n",
       "784     DESCRIPTION                                                 []  \n",
       "37974       NUMERIC                                                 []  \n",
       "19847   DESCRIPTION                                                 []  \n",
       "113     DESCRIPTION                                                 []  \n",
       "58383   DESCRIPTION                                                 []  \n",
       "100628  DESCRIPTION  [The splitting of months into seasons is as fo...  \n",
       "44562   DESCRIPTION                                                 []  \n",
       "23733   DESCRIPTION                                                 []  \n",
       "64543   DESCRIPTION                                                 []  \n",
       "...             ...                                                ...  \n",
       "82235   DESCRIPTION                                                 []  \n",
       "46052       NUMERIC                                                 []  \n",
       "58729   DESCRIPTION                                                 []  \n",
       "84053      LOCATION                                                 []  \n",
       "41532        ENTITY                                                 []  \n",
       "8225         PERSON                                                 []  \n",
       "5950        NUMERIC                                                 []  \n",
       "30451   DESCRIPTION                                                 []  \n",
       "58893   DESCRIPTION                                                 []  \n",
       "14646   DESCRIPTION                                                 []  \n",
       "82398   DESCRIPTION                                                 []  \n",
       "23449   DESCRIPTION                                                 []  \n",
       "3462        NUMERIC                                                 []  \n",
       "24304       NUMERIC                                                 []  \n",
       "35988       NUMERIC                          [Oxy lasts for 12 hours.]  \n",
       "17954   DESCRIPTION                                                 []  \n",
       "27937   DESCRIPTION                                                 []  \n",
       "85958      LOCATION                                                 []  \n",
       "96647   DESCRIPTION  [Chloroplast type of a cell can capture an ene...  \n",
       "52755   DESCRIPTION                                                 []  \n",
       "15569   DESCRIPTION                                                 []  \n",
       "44913       NUMERIC                                                 []  \n",
       "34609       NUMERIC                                                 []  \n",
       "25331   DESCRIPTION                                                 []  \n",
       "43308       NUMERIC                                                 []  \n",
       "86437   DESCRIPTION  [Most cars run on petroleum and a fossil fuel,...  \n",
       "99303       NUMERIC                                                 []  \n",
       "84647       NUMERIC  [Jonestown massacre occured in November 18, 19...  \n",
       "6320    DESCRIPTION                                                 []  \n",
       "24166        ENTITY                                                 []  \n",
       "\n",
       "[100 rows x 6 columns]"
      ]
     },
     "execution_count": 6,
     "metadata": {},
     "output_type": "execute_result"
    }
   ],
   "source": [
    "qa_df.sample(100)"
   ]
  },
  {
   "cell_type": "markdown",
   "metadata": {
    "ExecuteTime": {
     "end_time": "2018-11-30T19:43:54.248117Z",
     "start_time": "2018-11-30T19:37:00.969224Z"
    }
   },
   "source": [
    "## Transform the questions into half of the feature space"
   ]
  },
  {
   "cell_type": "code",
   "execution_count": 15,
   "metadata": {
    "ExecuteTime": {
     "end_time": "2018-12-03T20:34:48.037500Z",
     "start_time": "2018-12-03T20:34:48.015540Z"
    }
   },
   "outputs": [],
   "source": [
    "questions = qa_df.loc[:, 'query']"
   ]
  },
  {
   "cell_type": "code",
   "execution_count": 17,
   "metadata": {
    "ExecuteTime": {
     "end_time": "2018-12-03T20:35:39.912210Z",
     "start_time": "2018-12-03T20:35:39.886962Z"
    }
   },
   "outputs": [
    {
     "data": {
      "text/plain": [
       "0                                  . what is a corporation?\n",
       "1         why did rachel carson write an obligation to e...\n",
       "10        why did the progressive movement fail to advan...\n",
       "100       why do police need to understand what the fore...\n",
       "1000                                 do owls eat in the day\n",
       "10000                             symptoms of a dying mouse\n",
       "100000          average number of lightning strikes per day\n",
       "100001               can you burn your lawn with fertilizer\n",
       "100002              are volvox autotrophic or heterotrophic\n",
       "100003                          average force of a raindrop\n",
       "Name: query, dtype: object"
      ]
     },
     "execution_count": 17,
     "metadata": {},
     "output_type": "execute_result"
    }
   ],
   "source": [
    "questions[:10]"
   ]
  },
  {
   "cell_type": "code",
   "execution_count": 20,
   "metadata": {
    "ExecuteTime": {
     "end_time": "2018-12-03T20:39:11.179210Z",
     "start_time": "2018-12-03T20:39:11.170570Z"
    }
   },
   "outputs": [],
   "source": [
    "from sklearn.pipeline import Pipeline, FeatureUnion\n",
    "from sklearn.preprocessing import FunctionTransformer\n"
   ]
  },
  {
   "cell_type": "code",
   "execution_count": 25,
   "metadata": {
    "ExecuteTime": {
     "end_time": "2018-12-03T20:41:23.969024Z",
     "start_time": "2018-12-03T20:41:23.949136Z"
    }
   },
   "outputs": [],
   "source": [
    "## text transformation pipes\n",
    "# clean_text = Pipeline(\n",
    "#     [\n",
    "#         ('stack', FunctionTransformer(utils.stack_questions, validate=False)),\n",
    "\n",
    "#     ]\n",
    "# )\n",
    "\n",
    "# lemma_text = Pipeline(\n",
    "#     [\n",
    "#         ('lemma', FunctionTransformer(utils.apply_lemma, validate=False))\n",
    "#     ]\n",
    "# )\n",
    "\n",
    "# # feature engineering pipes\n",
    "# single_question_pipe = Pipeline(\n",
    "#     [\n",
    "#         ('dist', FunctionTransformer(utils.add_min_max_avg_distance_features, validate=False)),\n",
    "# #         ('unstack', FunctionTransformer(utils.unstack_questions, validate=False))\n",
    "#     ]\n",
    "# )\n",
    "\n",
    "# No Pairs\n",
    "# pair_question_pipe = Pipeline(\n",
    "#     [\n",
    "#         ('ngram_sim', FunctionTransformer(utils.calc_ngram_similarity, kw_args={'n_grams':[1, 2, 3]}, validate=False))\n",
    "#     ]\n",
    "# )\n",
    "\n",
    "# build features on the cleaned text only\n",
    "clean_text_features = Pipeline(\n",
    "    [\n",
    "        ('clean', FunctionTransformer(utils.clean_questions, validate=False)),\n",
    "        ('dist', FunctionTransformer(utils.add_min_max_avg_distance_features, validate=False))\n",
    "    ]\n",
    ")\n",
    "\n",
    "# build features on the cleanned and lemmatized text features\n",
    "lemma_text_features = Pipeline(\n",
    "    [\n",
    "        ('clean', FunctionTransformer(utils.clean_questions, validate=False)),\n",
    "        ('lemma', FunctionTransformer(utils.apply_lemma, validate=False)),\n",
    "        ('dist', FunctionTransformer(utils.add_min_max_avg_distance_features, validate=False))\n",
    "    ]\n",
    ")\n",
    "\n",
    "# pre-process pipe\n",
    "feature_transformation = Pipeline(\n",
    "    [\n",
    "        ('feats', FeatureUnion(\n",
    "            [\n",
    "                ('clean_text_features', clean_text_features),\n",
    "                ('lemma_text_features', lemma_text_features)\n",
    "            ]\n",
    "        ))\n",
    "    ]\n",
    ")\n"
   ]
  },
  {
   "cell_type": "code",
   "execution_count": 140,
   "metadata": {
    "ExecuteTime": {
     "end_time": "2018-12-03T22:16:07.803987Z",
     "start_time": "2018-12-03T22:12:03.230586Z"
    }
   },
   "outputs": [
    {
     "name": "stdout",
     "output_type": "stream",
     "text": [
      "CPU times: user 2min 59s, sys: 16 s, total: 3min 15s\n",
      "Wall time: 4min 4s\n"
     ]
    }
   ],
   "source": [
    "%%time\n",
    "q_trans_clean = clean_text_features.transform(questions)"
   ]
  },
  {
   "cell_type": "code",
   "execution_count": 141,
   "metadata": {
    "ExecuteTime": {
     "end_time": "2018-12-03T22:18:27.372815Z",
     "start_time": "2018-12-03T22:18:27.350008Z"
    }
   },
   "outputs": [
    {
     "data": {
      "text/plain": [
       "(101093, 9)"
      ]
     },
     "execution_count": 141,
     "metadata": {},
     "output_type": "execute_result"
    }
   ],
   "source": [
    "q_trans_clean.shape"
   ]
  },
  {
   "cell_type": "code",
   "execution_count": 142,
   "metadata": {
    "ExecuteTime": {
     "end_time": "2018-12-03T22:23:36.626755Z",
     "start_time": "2018-12-03T22:18:32.583191Z"
    }
   },
   "outputs": [
    {
     "name": "stdout",
     "output_type": "stream",
     "text": [
      "CPU times: user 3min 39s, sys: 36.9 s, total: 4min 16s\n",
      "Wall time: 5min 4s\n"
     ]
    }
   ],
   "source": [
    "%%time\n",
    "q_trans_lemma = lemma_text_features.transform(questions)"
   ]
  },
  {
   "cell_type": "code",
   "execution_count": 143,
   "metadata": {
    "ExecuteTime": {
     "end_time": "2018-12-03T22:24:20.447772Z",
     "start_time": "2018-12-03T22:24:20.434741Z"
    }
   },
   "outputs": [
    {
     "data": {
      "text/plain": [
       "(101093, 9)"
      ]
     },
     "execution_count": 143,
     "metadata": {},
     "output_type": "execute_result"
    }
   ],
   "source": [
    "q_trans_lemma.shape"
   ]
  },
  {
   "cell_type": "code",
   "execution_count": 144,
   "metadata": {
    "ExecuteTime": {
     "end_time": "2018-12-03T22:27:04.756751Z",
     "start_time": "2018-12-03T22:27:04.546895Z"
    }
   },
   "outputs": [],
   "source": [
    "utils.save(q_trans_clean, 'transformed_questions_clean')\n",
    "utils.save(q_trans_lemma, 'transformed_questions_lemma')"
   ]
  },
  {
   "cell_type": "code",
   "execution_count": 78,
   "metadata": {
    "ExecuteTime": {
     "end_time": "2018-12-03T21:20:38.631912Z",
     "start_time": "2018-12-03T21:20:37.237542Z"
    }
   },
   "outputs": [
    {
     "name": "stdout",
     "output_type": "stream",
     "text": [
      "CPU times: user 1.01 s, sys: 72.9 ms, total: 1.08 s\n",
      "Wall time: 1.39 s\n"
     ]
    }
   ],
   "source": [
    "%%time\n",
    "cleaned_questions = utils.clean_questions(questions)"
   ]
  },
  {
   "cell_type": "code",
   "execution_count": 82,
   "metadata": {
    "ExecuteTime": {
     "end_time": "2018-12-03T21:23:31.617513Z",
     "start_time": "2018-12-03T21:23:31.518404Z"
    }
   },
   "outputs": [
    {
     "data": {
      "text/html": [
       "<div>\n",
       "<style scoped>\n",
       "    .dataframe tbody tr th:only-of-type {\n",
       "        vertical-align: middle;\n",
       "    }\n",
       "\n",
       "    .dataframe tbody tr th {\n",
       "        vertical-align: top;\n",
       "    }\n",
       "\n",
       "    .dataframe thead th {\n",
       "        text-align: right;\n",
       "    }\n",
       "</style>\n",
       "<table border=\"1\" class=\"dataframe\">\n",
       "  <thead>\n",
       "    <tr style=\"text-align: right;\">\n",
       "      <th></th>\n",
       "      <th>question1</th>\n",
       "      <th>id</th>\n",
       "    </tr>\n",
       "  </thead>\n",
       "  <tbody>\n",
       "    <tr>\n",
       "      <th>0</th>\n",
       "      <td>what is a corporation</td>\n",
       "      <td>0</td>\n",
       "    </tr>\n",
       "    <tr>\n",
       "      <th>1</th>\n",
       "      <td>why did rachel carson write an obligation to e...</td>\n",
       "      <td>1</td>\n",
       "    </tr>\n",
       "    <tr>\n",
       "      <th>2</th>\n",
       "      <td>why did the progressive movement fail to advan...</td>\n",
       "      <td>2</td>\n",
       "    </tr>\n",
       "    <tr>\n",
       "      <th>3</th>\n",
       "      <td>why do police need to understand what the fore...</td>\n",
       "      <td>3</td>\n",
       "    </tr>\n",
       "    <tr>\n",
       "      <th>4</th>\n",
       "      <td>do owls eat in the day</td>\n",
       "      <td>4</td>\n",
       "    </tr>\n",
       "  </tbody>\n",
       "</table>\n",
       "</div>"
      ],
      "text/plain": [
       "                                           question1  id\n",
       "0                              what is a corporation   0\n",
       "1  why did rachel carson write an obligation to e...   1\n",
       "2  why did the progressive movement fail to advan...   2\n",
       "3  why do police need to understand what the fore...   3\n",
       "4                             do owls eat in the day   4"
      ]
     },
     "execution_count": 82,
     "metadata": {},
     "output_type": "execute_result"
    }
   ],
   "source": [
    "df_cleaned_questions = pd.DataFrame(cleaned_questions)\n",
    "df_cleaned_questions = df_cleaned_questions.rename(columns={0:'question1'})\n",
    "df_cleaned_questions['id'] = df_cleaned_questions.index\n",
    "df_cleaned_questions.head()"
   ]
  },
  {
   "cell_type": "code",
   "execution_count": 190,
   "metadata": {
    "ExecuteTime": {
     "end_time": "2018-12-03T22:55:19.004387Z",
     "start_time": "2018-12-03T22:55:18.951327Z"
    }
   },
   "outputs": [],
   "source": [
    "xgb = utils.load('xgb_FINAL_model')\n",
    "feature_pipe = utils.load('feature_pipe')"
   ]
  },
  {
   "cell_type": "code",
   "execution_count": 256,
   "metadata": {
    "ExecuteTime": {
     "end_time": "2018-12-04T00:50:27.870925Z",
     "start_time": "2018-12-04T00:50:27.853044Z"
    }
   },
   "outputs": [],
   "source": [
    "def ask_question(question):\n",
    "    \n",
    "    ## if question is a duplicate after cleaning, then return the answer\n",
    "    ## else run the model\n",
    "    \n",
    "#     ## Feature Set 1 -- clean text similarity\n",
    "#     # calculate n_gram similarity for the cleaned question\n",
    "#     question_clean = utils.clean_questions(question)\n",
    "#     doc = utils.nlp(question_clean[0])\n",
    "#     question_tokens = doc.to_array([utils.spacy.attrs.LOWER])\n",
    "#     clean_n_gram = ngram_similarity(q_tokens)\n",
    "\n",
    "#     ## Feature Set 2 -- Clean distance features\n",
    "#     # union single question features\n",
    "#     question_features = clean_text_features.transform([question]) \n",
    "#     clean_single_features = np.hstack([q_trans_clean, np.repeat(question_features, q_trans_clean.shape[0], axis=0)])\n",
    "\n",
    "#     ## Feature Set 3 -- Lemma text similarity\n",
    "#     # calculate n_gram similarity for the cleaned and lemmatized question\n",
    "#     question_lemma = utils.apply_lemma(question_clean)\n",
    "#     doc = utils.nlp(question_lemma[0])\n",
    "#     question_tokens = doc.to_array([utils.spacy.attrs.LOWER])\n",
    "#     lemma_n_gram = ngram_similarity(q_tokens)\n",
    "\n",
    "#     ## Feature Set 4 -- Lemma distance features\n",
    "#     # union single question features\n",
    "#     question_features = lemma_text_features.transform([question]) \n",
    "#     lemma_single_features = np.hstack([q_trans_lemma, np.repeat(question_features, q_trans_lemma.shape[0], axis=0)])\n",
    "\n",
    "    ### Transform through the whole pipeline\n",
    "    df_cleaned_questions['question2'] = question\n",
    "    \n",
    "    feature_space = feature_pipe.transform(df_cleaned_questions[:5000])\n",
    "\n",
    "    ## make the prediction\n",
    "#     feature_space = np.hstack([clean_n_gram, clean_single_features, lemma_n_gram, lemma_single_features])\n",
    "    probs = xgb.predict_proba(feature_space)[:, 1]\n",
    "    \n",
    "    top = probs.argsort()[-3:]\n",
    "    top_question = np.array(questions.iloc[top]).reshape(-1, 1)\n",
    "    top_probs = probs[top].reshape(-1, 1)\n",
    "    \n",
    "#     return pd.DataFrame(np.hstack([top_question, top_probs]))\n",
    "    return df_cleaned_questions, feature_space, pd.DataFrame(np.hstack([top_question, top_probs]))"
   ]
  },
  {
   "cell_type": "code",
   "execution_count": 257,
   "metadata": {
    "ExecuteTime": {
     "end_time": "2018-12-04T00:50:55.089216Z",
     "start_time": "2018-12-04T00:50:28.426099Z"
    }
   },
   "outputs": [],
   "source": [
    "df, features, top_results = ask_question('do owls eat at night')"
   ]
  },
  {
   "cell_type": "code",
   "execution_count": 250,
   "metadata": {
    "ExecuteTime": {
     "end_time": "2018-12-04T00:31:16.220318Z",
     "start_time": "2018-12-04T00:31:16.198741Z"
    }
   },
   "outputs": [
    {
     "data": {
      "text/html": [
       "<div>\n",
       "<style scoped>\n",
       "    .dataframe tbody tr th:only-of-type {\n",
       "        vertical-align: middle;\n",
       "    }\n",
       "\n",
       "    .dataframe tbody tr th {\n",
       "        vertical-align: top;\n",
       "    }\n",
       "\n",
       "    .dataframe thead th {\n",
       "        text-align: right;\n",
       "    }\n",
       "</style>\n",
       "<table border=\"1\" class=\"dataframe\">\n",
       "  <thead>\n",
       "    <tr style=\"text-align: right;\">\n",
       "      <th></th>\n",
       "      <th>question1</th>\n",
       "      <th>id</th>\n",
       "      <th>question2</th>\n",
       "    </tr>\n",
       "  </thead>\n",
       "  <tbody>\n",
       "    <tr>\n",
       "      <th>4</th>\n",
       "      <td>do owls eat in the day</td>\n",
       "      <td>4</td>\n",
       "      <td>do owls eat in the day</td>\n",
       "    </tr>\n",
       "  </tbody>\n",
       "</table>\n",
       "</div>"
      ],
      "text/plain": [
       "                question1  id               question2\n",
       "4  do owls eat in the day   4  do owls eat in the day"
      ]
     },
     "execution_count": 250,
     "metadata": {},
     "output_type": "execute_result"
    }
   ],
   "source": [
    "df[df.question1 == 'do owls eat in the day']"
   ]
  },
  {
   "cell_type": "code",
   "execution_count": 258,
   "metadata": {
    "ExecuteTime": {
     "end_time": "2018-12-04T00:50:56.638923Z",
     "start_time": "2018-12-04T00:50:56.627841Z"
    }
   },
   "outputs": [
    {
     "data": {
      "text/html": [
       "<div>\n",
       "<style scoped>\n",
       "    .dataframe tbody tr th:only-of-type {\n",
       "        vertical-align: middle;\n",
       "    }\n",
       "\n",
       "    .dataframe tbody tr th {\n",
       "        vertical-align: top;\n",
       "    }\n",
       "\n",
       "    .dataframe thead th {\n",
       "        text-align: right;\n",
       "    }\n",
       "</style>\n",
       "<table border=\"1\" class=\"dataframe\">\n",
       "  <thead>\n",
       "    <tr style=\"text-align: right;\">\n",
       "      <th></th>\n",
       "      <th>0</th>\n",
       "      <th>1</th>\n",
       "    </tr>\n",
       "  </thead>\n",
       "  <tbody>\n",
       "    <tr>\n",
       "      <th>0</th>\n",
       "      <td>do spiders eat other animals</td>\n",
       "      <td>0.288564</td>\n",
       "    </tr>\n",
       "    <tr>\n",
       "      <th>1</th>\n",
       "      <td>what causes swelling in hands at night</td>\n",
       "      <td>0.30395</td>\n",
       "    </tr>\n",
       "    <tr>\n",
       "      <th>2</th>\n",
       "      <td>do owls eat in the day</td>\n",
       "      <td>0.347248</td>\n",
       "    </tr>\n",
       "  </tbody>\n",
       "</table>\n",
       "</div>"
      ],
      "text/plain": [
       "                                        0         1\n",
       "0            do spiders eat other animals  0.288564\n",
       "1  what causes swelling in hands at night   0.30395\n",
       "2                  do owls eat in the day  0.347248"
      ]
     },
     "execution_count": 258,
     "metadata": {},
     "output_type": "execute_result"
    }
   ],
   "source": [
    "top_results"
   ]
  },
  {
   "cell_type": "code",
   "execution_count": 251,
   "metadata": {
    "ExecuteTime": {
     "end_time": "2018-12-04T00:31:19.812406Z",
     "start_time": "2018-12-04T00:31:19.805782Z"
    }
   },
   "outputs": [
    {
     "data": {
      "text/plain": [
       "array([  1.        ,   1.        ,   1.        ,   4.63359628,\n",
       "         8.4752183 ,   6.82304781,   0.44451424,   0.94712703,\n",
       "         0.66871357,  62.24226321, 115.15204134,  92.26256858,\n",
       "         4.63359628,   8.4752183 ,   6.82304781,   0.44451424,\n",
       "         0.94712703,   0.66871357,  62.24226321, 115.15204134,\n",
       "        92.26256858,   1.        ,   1.        ,   1.        ,\n",
       "         6.72955502,   8.34001638,   7.60125726,   0.55986509,\n",
       "         0.79268708,   0.69988742,  92.72933482, 111.52220958,\n",
       "       102.69947146,   6.72955502,   8.34001638,   7.60125726,\n",
       "         0.55986509,   0.79268708,   0.69988742,  92.72933482,\n",
       "       111.52220958, 102.69947146])"
      ]
     },
     "execution_count": 251,
     "metadata": {},
     "output_type": "execute_result"
    }
   ],
   "source": [
    "features[4]"
   ]
  },
  {
   "cell_type": "code",
   "execution_count": 214,
   "metadata": {
    "ExecuteTime": {
     "end_time": "2018-12-03T23:49:32.003905Z",
     "start_time": "2018-12-03T23:49:31.373839Z"
    }
   },
   "outputs": [],
   "source": [
    "probs = xgb.predict_proba(features)[:, 1]"
   ]
  },
  {
   "cell_type": "code",
   "execution_count": 218,
   "metadata": {
    "ExecuteTime": {
     "end_time": "2018-12-03T23:52:10.725666Z",
     "start_time": "2018-12-03T23:52:10.710249Z"
    }
   },
   "outputs": [
    {
     "data": {
      "text/plain": [
       "array([0.1619365], dtype=float32)"
      ]
     },
     "execution_count": 218,
     "metadata": {},
     "output_type": "execute_result"
    }
   ],
   "source": [
    "xgb.predict_proba(features[20546].reshape(1, -1))[:, 1]"
   ]
  },
  {
   "cell_type": "code",
   "execution_count": 216,
   "metadata": {
    "ExecuteTime": {
     "end_time": "2018-12-03T23:49:46.126962Z",
     "start_time": "2018-12-03T23:49:46.120556Z"
    }
   },
   "outputs": [
    {
     "data": {
      "text/plain": [
       "0.1619365"
      ]
     },
     "execution_count": 216,
     "metadata": {},
     "output_type": "execute_result"
    }
   ],
   "source": [
    "probs[20546]"
   ]
  },
  {
   "cell_type": "code",
   "execution_count": 220,
   "metadata": {
    "ExecuteTime": {
     "end_time": "2018-12-03T23:54:01.994430Z",
     "start_time": "2018-12-03T23:54:01.329860Z"
    }
   },
   "outputs": [
    {
     "name": "stdout",
     "output_type": "stream",
     "text": [
      "[0.02938479 0.02320101 0.01954768 0.01709631 0.0290843  0.02475091\n",
      " 0.02119247 0.03724498 0.03382888 0.01341136 0.02718646 0.02229954\n",
      " 0.01790289 0.02774    0.02487743 0.0211134  0.03670726 0.03213665\n",
      " 0.0142812  0.02740788 0.02233117 0.02340661 0.01603669 0.01205124\n",
      " 0.02133481 0.02304286 0.02117666 0.02979598 0.03019137 0.02762929\n",
      " 0.01991143 0.02397596 0.02027519 0.0207022  0.02217302 0.0199747\n",
      " 0.02709157 0.03117191 0.02400759 0.01902578 0.02492488 0.01937371]\n"
     ]
    }
   ],
   "source": [
    "import matplotlib.pyplot as plt\n",
    "print(xgb.feature_importances_)"
   ]
  },
  {
   "cell_type": "code",
   "execution_count": 221,
   "metadata": {
    "ExecuteTime": {
     "end_time": "2018-12-03T23:54:25.300115Z",
     "start_time": "2018-12-03T23:54:24.515844Z"
    }
   },
   "outputs": [
    {
     "data": {
      "image/png": "[encoded data removed]",
      "text/plain": [
       "<Figure size 432x288 with 1 Axes>"
      ]
     },
     "metadata": {
      "needs_background": "light"
     },
     "output_type": "display_data"
    }
   ],
   "source": [
    "plt.bar(range(len(xgb.feature_importances_)), xgb.feature_importances_)\n",
    "plt.show()"
   ]
  },
  {
   "cell_type": "code",
   "execution_count": 240,
   "metadata": {
    "ExecuteTime": {
     "end_time": "2018-12-04T00:20:58.111285Z",
     "start_time": "2018-12-04T00:20:57.499153Z"
    }
   },
   "outputs": [
    {
     "data": {
      "image/png": "[encoded data removed]",
      "text/plain": [
       "<Figure size 432x288 with 1 Axes>"
      ]
     },
     "metadata": {
      "needs_background": "light"
     },
     "output_type": "display_data"
    }
   ],
   "source": [
    "from xgboost import plot_importance\n",
    "plot_importance(xgb, max_num_features=10)\n",
    "plt.show()"
   ]
  },
  {
   "cell_type": "code",
   "execution_count": 236,
   "metadata": {
    "ExecuteTime": {
     "end_time": "2018-12-04T00:10:16.738589Z",
     "start_time": "2018-12-04T00:10:16.731657Z"
    }
   },
   "outputs": [
    {
     "name": "stdout",
     "output_type": "stream",
     "text": [
      "42\n"
     ]
    }
   ],
   "source": [
    "feature_names = [\n",
    "    'clean_1_gram_sim',\n",
    "    'clean_2_gram_sim',\n",
    "    'clean_3_gram_sim',\n",
    "    'clean_euc_min_q1',\n",
    "    'clean_euc_max_q1',\n",
    "    'clean_euc_avg_q1',\n",
    "    'clean_cos_min_q1',\n",
    "    'clean_cos_max_q1',\n",
    "    'clean_cos_avg_q1',\n",
    "    'clean_man_min_q1',\n",
    "    'clean_man_max_q1',\n",
    "    'clean_man_avg_q1',\n",
    "    'clean_euc_min_q2',\n",
    "    'clean_euc_max_q2',\n",
    "    'clean_euc_avg_q2',\n",
    "    'clean_cos_min_q2',\n",
    "    'clean_cos_max_q2',\n",
    "    'clean_cos_avg_q2',\n",
    "    'clean_man_min_q2',\n",
    "    'clean_man_max_q2',\n",
    "    'clean_man_avg_q2',\n",
    "    'lemma_1_gram_sim',\n",
    "    'lemma_2_gram_sim',\n",
    "    'lemma_3_gram_sim',\n",
    "    'lemma_euc_min_q1',\n",
    "    'lemma_euc_max_q1',\n",
    "    'lemma_euc_avg_q1',\n",
    "    'lemma_cos_min_q1',\n",
    "    'lemma_cos_max_q1',\n",
    "    'lemma_cos_avg_q1',\n",
    "    'lemma_man_min_q1',\n",
    "    'lemma_man_max_q1',\n",
    "    'lemma_man_avg_q1',\n",
    "    'lemma_euc_min_q2',\n",
    "    'lemma_euc_max_q2',\n",
    "    'lemma_euc_avg_q2',\n",
    "    'lemma_cos_min_q2',\n",
    "    'lemma_cos_max_q2',\n",
    "    'lemma_cos_avg_q2',\n",
    "    'lemma_man_min_q2',\n",
    "    'lemma_man_max_q2',\n",
    "    'lemma_man_avg_q1'\n",
    "    \n",
    "]\n",
    "print(len(feature_names))"
   ]
  },
  {
   "cell_type": "code",
   "execution_count": 253,
   "metadata": {
    "ExecuteTime": {
     "end_time": "2018-12-04T00:32:47.442417Z",
     "start_time": "2018-12-04T00:32:47.436600Z"
    }
   },
   "outputs": [
    {
     "name": "stdout",
     "output_type": "stream",
     "text": [
      "clean_cos_max_q1\n",
      "clean_cos_max_q2\n",
      "clean_cos_avg_q1\n",
      "clean_cos_avg_q2\n",
      "lemma_cos_max_q2\n",
      "lemma_cos_max_q1\n",
      "lemma_cos_min_q1\n",
      "clean_1_gram_sim\n",
      "clean_euc_max_q1\n",
      "clean_euc_max_q2\n"
     ]
    }
   ],
   "source": [
    "def print_features(l=[7, 16, 8, 17, 37, 28, 27, 0, 4, 13]):\n",
    "    for n in l:\n",
    "#         print(n)\n",
    "        print(feature_names[n])\n",
    "print_features()"
   ]
  },
  {
   "cell_type": "code",
   "execution_count": 238,
   "metadata": {
    "ExecuteTime": {
     "end_time": "2018-12-04T00:10:47.723638Z",
     "start_time": "2018-12-04T00:10:47.717112Z"
    }
   },
   "outputs": [
    {
     "data": {
      "text/plain": [
       "array([0.96252071, 1.08482914, 0.72458074, 0.68943047, 1.06595845])"
      ]
     },
     "execution_count": 238,
     "metadata": {},
     "output_type": "execute_result"
    }
   ],
   "source": [
    "features[20456, [7, 16, 8, 17, 37]]"
   ]
  },
  {
   "cell_type": "code",
   "execution_count": 239,
   "metadata": {
    "ExecuteTime": {
     "end_time": "2018-12-04T00:17:54.734779Z",
     "start_time": "2018-12-04T00:17:54.477510Z"
    }
   },
   "outputs": [
    {
     "data": {
      "text/plain": [
       "{'f1': 1467,\n",
       " 'f21': 1480,\n",
       " 'f0': 1858,\n",
       " 'f28': 1909,\n",
       " 'f7': 2355,\n",
       " 'f29': 1747,\n",
       " 'f6': 1340,\n",
       " 'f8': 2139,\n",
       " 'f12': 1132,\n",
       " 'f4': 1839,\n",
       " 'f16': 2321,\n",
       " 'f2': 1236,\n",
       " 'f27': 1884,\n",
       " 'f17': 2032,\n",
       " 'f39': 1203,\n",
       " 'f22': 1014,\n",
       " 'f13': 1754,\n",
       " 'f18': 903,\n",
       " 'f10': 1719,\n",
       " 'f37': 1971,\n",
       " 'f19': 1733,\n",
       " 'f23': 762,\n",
       " 'f38': 1518,\n",
       " 'f34': 1402,\n",
       " 'f5': 1565,\n",
       " 'f24': 1349,\n",
       " 'f3': 1081,\n",
       " 'f25': 1457,\n",
       " 'f32': 1282,\n",
       " 'f41': 1225,\n",
       " 'f15': 1335,\n",
       " 'f35': 1263,\n",
       " 'f20': 1412,\n",
       " 'f26': 1339,\n",
       " 'f31': 1516,\n",
       " 'f33': 1309,\n",
       " 'f9': 848,\n",
       " 'f36': 1713,\n",
       " 'f30': 1259,\n",
       " 'f40': 1576,\n",
       " 'f11': 1410,\n",
       " 'f14': 1573}"
      ]
     },
     "execution_count": 239,
     "metadata": {},
     "output_type": "execute_result"
    }
   ],
   "source": [
    "xgb.get_booster().get_fscore()"
   ]
  },
  {
   "cell_type": "code",
   "execution_count": null,
   "metadata": {
    "ExecuteTime": {
     "end_time": "2018-12-03T23:20:18.259810Z",
     "start_time": "2018-12-03T22:57:47.802917Z"
    }
   },
   "outputs": [],
   "source": [
    "#### ask_question('What is the capital of Washington?')\n",
    "# ask_question('noncontagious definition')\n",
    "ask_question('where is the stamen located in a flower')"
   ]
  },
  {
   "cell_type": "code",
   "execution_count": 188,
   "metadata": {
    "ExecuteTime": {
     "end_time": "2018-12-03T22:52:14.744702Z",
     "start_time": "2018-12-03T22:52:14.716704Z"
    }
   },
   "outputs": [
    {
     "data": {
      "text/plain": [
       "27505    where is the stamen located in a flower\n",
       "Name: query, dtype: object"
      ]
     },
     "execution_count": 188,
     "metadata": {},
     "output_type": "execute_result"
    }
   ],
   "source": [
    "qa_df.loc[:, 'query'].sample()"
   ]
  },
  {
   "cell_type": "code",
   "execution_count": 167,
   "metadata": {
    "ExecuteTime": {
     "end_time": "2018-12-03T22:42:18.602685Z",
     "start_time": "2018-12-03T22:42:18.569767Z"
    }
   },
   "outputs": [
    {
     "data": {
      "text/plain": [
       "array([21032, 80760, 14203])"
      ]
     },
     "execution_count": 167,
     "metadata": {},
     "output_type": "execute_result"
    }
   ],
   "source": [
    "p.argsort()[-3:]"
   ]
  },
  {
   "cell_type": "code",
   "execution_count": 166,
   "metadata": {
    "ExecuteTime": {
     "end_time": "2018-12-03T22:41:52.857938Z",
     "start_time": "2018-12-03T22:41:52.817080Z"
    }
   },
   "outputs": [
    {
     "data": {
      "text/plain": [
       "27943     which is the original delmonico's\n",
       "81699               what state is borths in\n",
       "21797    what is the meaning of the bowery?\n",
       "Name: query, dtype: object"
      ]
     },
     "execution_count": 166,
     "metadata": {},
     "output_type": "execute_result"
    }
   ],
   "source": [
    "questions.iloc[p.argsort()[-3:]]\n",
    "# questions.iloc[1]"
   ]
  },
  {
   "cell_type": "code",
   "execution_count": 168,
   "metadata": {
    "ExecuteTime": {
     "end_time": "2018-12-03T22:42:57.920212Z",
     "start_time": "2018-12-03T22:42:57.851718Z"
    }
   },
   "outputs": [],
   "source": [
    "q_array = np.array(questions)"
   ]
  },
  {
   "cell_type": "code",
   "execution_count": 169,
   "metadata": {
    "ExecuteTime": {
     "end_time": "2018-12-03T22:43:12.448485Z",
     "start_time": "2018-12-03T22:43:12.441078Z"
    }
   },
   "outputs": [
    {
     "data": {
      "text/plain": [
       "'what is the meaning of the bowery?'"
      ]
     },
     "execution_count": 169,
     "metadata": {},
     "output_type": "execute_result"
    }
   ],
   "source": [
    "q_array[14203]"
   ]
  },
  {
   "cell_type": "code",
   "execution_count": 170,
   "metadata": {
    "ExecuteTime": {
     "end_time": "2018-12-03T22:43:30.215686Z",
     "start_time": "2018-12-03T22:43:30.207884Z"
    }
   },
   "outputs": [
    {
     "data": {
      "text/plain": [
       "'what state is borths in'"
      ]
     },
     "execution_count": 170,
     "metadata": {},
     "output_type": "execute_result"
    }
   ],
   "source": [
    "q_array[80760]"
   ]
  },
  {
   "cell_type": "code",
   "execution_count": null,
   "metadata": {},
   "outputs": [],
   "source": []
  },
  {
   "cell_type": "code",
   "execution_count": 72,
   "metadata": {
    "ExecuteTime": {
     "end_time": "2018-12-03T21:14:20.142131Z",
     "start_time": "2018-12-03T21:14:20.139127Z"
    }
   },
   "outputs": [],
   "source": [
    "q = ['What is the capital of Washington?']"
   ]
  },
  {
   "cell_type": "code",
   "execution_count": 76,
   "metadata": {
    "ExecuteTime": {
     "end_time": "2018-12-03T21:14:40.695255Z",
     "start_time": "2018-12-03T21:14:40.688795Z"
    }
   },
   "outputs": [
    {
     "data": {
      "text/plain": [
       "(2,)"
      ]
     },
     "execution_count": 76,
     "metadata": {},
     "output_type": "execute_result"
    }
   ],
   "source": [
    "np.repeat(q, 2, axis=0).shape"
   ]
  },
  {
   "cell_type": "code",
   "execution_count": 101,
   "metadata": {
    "ExecuteTime": {
     "end_time": "2018-12-03T21:43:16.112320Z",
     "start_time": "2018-12-03T21:43:16.104335Z"
    }
   },
   "outputs": [],
   "source": [
    "def tokenize_questions(X):\n",
    "    texts = []\n",
    "    for doc in utils.nlp.pipe(X, disable=['parser', 'ner'], batch_size=10000):\n",
    "        texts.append(doc.to_array([utils.spacy.attrs.LOWER]))\n",
    "    return texts"
   ]
  },
  {
   "cell_type": "code",
   "execution_count": 102,
   "metadata": {
    "ExecuteTime": {
     "end_time": "2018-12-03T21:45:52.885466Z",
     "start_time": "2018-12-03T21:43:16.822723Z"
    }
   },
   "outputs": [],
   "source": [
    "token_text = tokenize_questions(df_cleaned_questions.question1)"
   ]
  },
  {
   "cell_type": "code",
   "execution_count": 108,
   "metadata": {
    "ExecuteTime": {
     "end_time": "2018-12-03T21:48:42.964111Z",
     "start_time": "2018-12-03T21:48:31.913803Z"
    }
   },
   "outputs": [],
   "source": [
    "utils.save(token_text, 'questions_tokenized')\n"
   ]
  },
  {
   "cell_type": "code",
   "execution_count": 104,
   "metadata": {
    "ExecuteTime": {
     "end_time": "2018-12-03T21:47:44.281776Z",
     "start_time": "2018-12-03T21:47:44.277089Z"
    }
   },
   "outputs": [
    {
     "name": "stdout",
     "output_type": "stream",
     "text": [
      "<class 'numpy.ndarray'>\n"
     ]
    }
   ],
   "source": [
    "for t in token_text:\n",
    "    print(type(t))\n",
    "    break"
   ]
  },
  {
   "cell_type": "code",
   "execution_count": 97,
   "metadata": {
    "ExecuteTime": {
     "end_time": "2018-12-03T21:41:30.558965Z",
     "start_time": "2018-12-03T21:41:30.556004Z"
    }
   },
   "outputs": [],
   "source": [
    "from nltk import ngrams"
   ]
  },
  {
   "cell_type": "code",
   "execution_count": 107,
   "metadata": {
    "ExecuteTime": {
     "end_time": "2018-12-03T21:48:06.396701Z",
     "start_time": "2018-12-03T21:48:06.388831Z"
    }
   },
   "outputs": [
    {
     "name": "stdout",
     "output_type": "stream",
     "text": [
      "(8532415787641010193, 5865838185239622912, 3411606890003347522)\n",
      "(5865838185239622912, 3411606890003347522, 11901859001352538922)\n",
      "(3411606890003347522, 11901859001352538922, 14070511896034874754)\n",
      "(11901859001352538922, 14070511896034874754, None)\n",
      "(14070511896034874754, None, None)\n"
     ]
    }
   ],
   "source": [
    "for n in ngrams(np.array(token_text[0]), 3, pad_right=True):\n",
    "    print(n)"
   ]
  },
  {
   "cell_type": "code",
   "execution_count": 111,
   "metadata": {
    "ExecuteTime": {
     "end_time": "2018-12-03T21:50:51.607141Z",
     "start_time": "2018-12-03T21:50:51.555815Z"
    }
   },
   "outputs": [],
   "source": [
    "doc = utils.nlp('What is the capital of Washington?')\n",
    "q_tokens = doc.to_array([utils.spacy.attrs.LOWER])"
   ]
  },
  {
   "cell_type": "code",
   "execution_count": 116,
   "metadata": {
    "ExecuteTime": {
     "end_time": "2018-12-03T21:52:48.923895Z",
     "start_time": "2018-12-03T21:52:48.860107Z"
    }
   },
   "outputs": [
    {
     "ename": "ValueError",
     "evalue": "all the input array dimensions except for the concatenation axis must match exactly",
     "output_type": "error",
     "traceback": [
      "\u001b[0;31m---------------------------------------------------------------------------\u001b[0m",
      "\u001b[0;31mValueError\u001b[0m                                Traceback (most recent call last)",
      "\u001b[0;32m<ipython-input-116-de1a6a15089f>\u001b[0m in \u001b[0;36m<module>\u001b[0;34m\u001b[0m\n\u001b[0;32m----> 1\u001b[0;31m \u001b[0mnp\u001b[0m\u001b[0;34m.\u001b[0m\u001b[0mhstack\u001b[0m\u001b[0;34m(\u001b[0m\u001b[0;34m[\u001b[0m\u001b[0mnp\u001b[0m\u001b[0;34m.\u001b[0m\u001b[0marray\u001b[0m\u001b[0;34m(\u001b[0m\u001b[0mtoken_text\u001b[0m\u001b[0;34m)\u001b[0m\u001b[0;34m.\u001b[0m\u001b[0mreshape\u001b[0m\u001b[0;34m(\u001b[0m\u001b[0;34m-\u001b[0m\u001b[0;36m1\u001b[0m\u001b[0;34m,\u001b[0m \u001b[0;36m1\u001b[0m\u001b[0;34m)\u001b[0m\u001b[0;34m,\u001b[0m \u001b[0mnp\u001b[0m\u001b[0;34m.\u001b[0m\u001b[0mrepeat\u001b[0m\u001b[0;34m(\u001b[0m\u001b[0mq_tokens\u001b[0m\u001b[0;34m,\u001b[0m \u001b[0mlen\u001b[0m\u001b[0;34m(\u001b[0m\u001b[0mtoken_text\u001b[0m\u001b[0;34m)\u001b[0m\u001b[0;34m,\u001b[0m \u001b[0maxis\u001b[0m\u001b[0;34m=\u001b[0m\u001b[0;36m0\u001b[0m\u001b[0;34m)\u001b[0m\u001b[0;34m.\u001b[0m\u001b[0mreshape\u001b[0m\u001b[0;34m(\u001b[0m\u001b[0;36m1\u001b[0m\u001b[0;34m,\u001b[0m \u001b[0;34m-\u001b[0m\u001b[0;36m1\u001b[0m\u001b[0;34m)\u001b[0m\u001b[0;34m]\u001b[0m\u001b[0;34m)\u001b[0m\u001b[0;34m.\u001b[0m\u001b[0mshape\u001b[0m\u001b[0;34m\u001b[0m\u001b[0;34m\u001b[0m\u001b[0m\n\u001b[0m",
      "\u001b[0;32m/anaconda3/envs/project5/lib/python3.6/site-packages/numpy/core/shape_base.py\u001b[0m in \u001b[0;36mhstack\u001b[0;34m(tup)\u001b[0m\n\u001b[1;32m    286\u001b[0m         \u001b[0;32mreturn\u001b[0m \u001b[0m_nx\u001b[0m\u001b[0;34m.\u001b[0m\u001b[0mconcatenate\u001b[0m\u001b[0;34m(\u001b[0m\u001b[0marrs\u001b[0m\u001b[0;34m,\u001b[0m \u001b[0;36m0\u001b[0m\u001b[0;34m)\u001b[0m\u001b[0;34m\u001b[0m\u001b[0;34m\u001b[0m\u001b[0m\n\u001b[1;32m    287\u001b[0m     \u001b[0;32melse\u001b[0m\u001b[0;34m:\u001b[0m\u001b[0;34m\u001b[0m\u001b[0;34m\u001b[0m\u001b[0m\n\u001b[0;32m--> 288\u001b[0;31m         \u001b[0;32mreturn\u001b[0m \u001b[0m_nx\u001b[0m\u001b[0;34m.\u001b[0m\u001b[0mconcatenate\u001b[0m\u001b[0;34m(\u001b[0m\u001b[0marrs\u001b[0m\u001b[0;34m,\u001b[0m \u001b[0;36m1\u001b[0m\u001b[0;34m)\u001b[0m\u001b[0;34m\u001b[0m\u001b[0;34m\u001b[0m\u001b[0m\n\u001b[0m\u001b[1;32m    289\u001b[0m \u001b[0;34m\u001b[0m\u001b[0m\n\u001b[1;32m    290\u001b[0m \u001b[0;34m\u001b[0m\u001b[0m\n",
      "\u001b[0;31mValueError\u001b[0m: all the input array dimensions except for the concatenation axis must match exactly"
     ]
    }
   ],
   "source": [
    "np.hstack([np.array(token_text).reshape(-1, 1), np.repeat(q_tokens, len(token_text), axis=0).reshape(1, -1)]).shape"
   ]
  },
  {
   "cell_type": "code",
   "execution_count": 117,
   "metadata": {
    "ExecuteTime": {
     "end_time": "2018-12-03T21:53:04.627647Z",
     "start_time": "2018-12-03T21:53:04.608007Z"
    }
   },
   "outputs": [],
   "source": [
    "t = np.array(token_text).reshape(-1, 1)"
   ]
  },
  {
   "cell_type": "code",
   "execution_count": 118,
   "metadata": {
    "ExecuteTime": {
     "end_time": "2018-12-03T21:53:10.211888Z",
     "start_time": "2018-12-03T21:53:10.203881Z"
    }
   },
   "outputs": [
    {
     "data": {
      "text/plain": [
       "(101093, 1)"
      ]
     },
     "execution_count": 118,
     "metadata": {},
     "output_type": "execute_result"
    }
   ],
   "source": [
    "t.shape"
   ]
  },
  {
   "cell_type": "code",
   "execution_count": 119,
   "metadata": {
    "ExecuteTime": {
     "end_time": "2018-12-03T21:53:13.031477Z",
     "start_time": "2018-12-03T21:53:13.021936Z"
    }
   },
   "outputs": [
    {
     "data": {
      "text/plain": [
       "array([[array([ 8532415787641010193,  5865838185239622912,  3411606890003347522,\n",
       "       11901859001352538922, 14070511896034874754], dtype=uint64)],\n",
       "       [array([16315412628806490806, 13583488448875926965, 11779693057662023107,\n",
       "        2619154345045139155, 15597474948775060119, 15099054000809333061,\n",
       "        1920611397140219205,  3791531372978436496, 13569477888548814854],\n",
       "      dtype=uint64)],\n",
       "       [array([16315412628806490806, 13583488448875926965,  7425985699627899538,\n",
       "       11900862162089982680,  6184037061712818460,  3142894986720291236,\n",
       "        3791531372978436496, 17339002579355368042,  9095968958430269659,\n",
       "       10313580197444822952,  9952569212994313472], dtype=uint64)],\n",
       "       ...,\n",
       "       [array([16331095434822636218, 12965068231793614765,  3791531372978436496,\n",
       "        7340758616018961957, 10606469382566443026, 16929211676819693673],\n",
       "      dtype=uint64)],\n",
       "       [array([ 3077651023035088716,  6878210874361030284,  3791531372978436496,\n",
       "       13320680580156776400, 14122124674024302633,  8792669415580402476,\n",
       "        6471315918988267800,  3002984154512732771,  6578343785518939865],\n",
       "      dtype=uint64)],\n",
       "       [array([16331095434822636218,  3791531372978436496,  6502919589296598169,\n",
       "        9743534323633052289,  1031890164806390884,  3791531372978436496,\n",
       "       10778978370903211805], dtype=uint64)]], dtype=object)"
      ]
     },
     "execution_count": 119,
     "metadata": {},
     "output_type": "execute_result"
    }
   ],
   "source": [
    "t"
   ]
  },
  {
   "cell_type": "code",
   "execution_count": 127,
   "metadata": {
    "ExecuteTime": {
     "end_time": "2018-12-03T21:54:18.091574Z",
     "start_time": "2018-12-03T21:54:18.077218Z"
    }
   },
   "outputs": [],
   "source": [
    "v = np.repeat(q_tokens, len(token_text))"
   ]
  },
  {
   "cell_type": "code",
   "execution_count": 128,
   "metadata": {
    "ExecuteTime": {
     "end_time": "2018-12-03T21:54:18.681372Z",
     "start_time": "2018-12-03T21:54:18.675196Z"
    }
   },
   "outputs": [
    {
     "data": {
      "text/plain": [
       "(707651,)"
      ]
     },
     "execution_count": 128,
     "metadata": {},
     "output_type": "execute_result"
    }
   ],
   "source": [
    "v.shape"
   ]
  },
  {
   "cell_type": "code",
   "execution_count": 124,
   "metadata": {
    "ExecuteTime": {
     "end_time": "2018-12-03T21:54:05.425792Z",
     "start_time": "2018-12-03T21:54:05.416084Z"
    }
   },
   "outputs": [
    {
     "data": {
      "text/plain": [
       "101093"
      ]
     },
     "execution_count": 124,
     "metadata": {},
     "output_type": "execute_result"
    }
   ],
   "source": [
    "len(token_text)"
   ]
  },
  {
   "cell_type": "code",
   "execution_count": 131,
   "metadata": {
    "ExecuteTime": {
     "end_time": "2018-12-03T21:58:48.657124Z",
     "start_time": "2018-12-03T21:58:48.641454Z"
    }
   },
   "outputs": [],
   "source": [
    "def ngram_similarity(q_token, n_grams=[1, 2, 3]):\n",
    "    ''' Calculates the ngram similarity between a pair of questions. Similarity is defined as,\n",
    "            2 · ( |S1| / |S1 ∩ S2| + |S2| / |S1 ∩ S2|)^−1\n",
    "        where S_i is the ngrams for question i\n",
    "        \n",
    "        X: array-like (n_pairs*2,)\n",
    "        Array of questions with pairs in sequential order.\n",
    "        \n",
    "        n_grams: list\n",
    "        List of n-grams to calculate, i.e. [1, 2, 3]\n",
    "        \n",
    "        return: array-like (n_pairs, len(n_grams))\n",
    "        N-dimensional array of n_gram similarity calculated for the different n_grams.\n",
    "        \n",
    "    '''\n",
    "    ngram_sim = []\n",
    "    ngram_q2 = [set(ngrams(q_token, i, pad_right=True)) for i in n_grams]\n",
    "    for t in token_text:\n",
    "        ngram_q1 = [set(ngrams(t, i, pad_right=True)) for i in n_grams]\n",
    "\n",
    "        doc_ngram_sim = []\n",
    "        for i in range(len(ngram_q1)):\n",
    "            try:\n",
    "                s1 = len(ngram_q1[i]) / len(ngram_q1[i].intersection(ngram_q2[i]))\n",
    "            except:\n",
    "                s1 = 0\n",
    "\n",
    "            try:\n",
    "                s2 = len(ngram_q2[i]) / len(ngram_q1[i].intersection(ngram_q2[i]))\n",
    "            except:\n",
    "                s2 = 0\n",
    "\n",
    "            if s1 == 0 and s2 == 0:\n",
    "                doc_ngram_sim.append(0)\n",
    "            else:\n",
    "                doc_ngram_sim.append(2 * (s1 + s2)**-1)\n",
    "        ngram_sim.append(doc_ngram_sim)\n",
    "        \n",
    "    return np.array(ngram_sim)\n"
   ]
  },
  {
   "cell_type": "code",
   "execution_count": 133,
   "metadata": {
    "ExecuteTime": {
     "end_time": "2018-12-03T21:59:25.280060Z",
     "start_time": "2018-12-03T21:59:20.627818Z"
    }
   },
   "outputs": [
    {
     "name": "stdout",
     "output_type": "stream",
     "text": [
      "CPU times: user 3.62 s, sys: 69 ms, total: 3.69 s\n",
      "Wall time: 4.64 s\n"
     ]
    },
    {
     "data": {
      "text/plain": [
       "array([[0.33333333, 0.16666667, 0.        ],\n",
       "       [0.        , 0.        , 0.        ],\n",
       "       [0.11111111, 0.        , 0.        ],\n",
       "       ...,\n",
       "       [0.        , 0.        , 0.        ],\n",
       "       [0.        , 0.        , 0.        ],\n",
       "       [0.        , 0.        , 0.        ]])"
      ]
     },
     "execution_count": 133,
     "metadata": {},
     "output_type": "execute_result"
    }
   ],
   "source": [
    "%%time\n",
    "ngram_similarity(q_tokens)"
   ]
  },
  {
   "cell_type": "code",
   "execution_count": null,
   "metadata": {},
   "outputs": [],
   "source": []
  }
 ],
 "metadata": {
  "kernelspec": {
   "display_name": "Python [conda env:project5]",
   "language": "python",
   "name": "conda-env-project5-py"
  },
  "language_info": {
   "codemirror_mode": {
    "name": "ipython",
    "version": 3
   },
   "file_extension": ".py",
   "mimetype": "text/x-python",
   "name": "python",
   "nbconvert_exporter": "python",
   "pygments_lexer": "ipython3",
   "version": "3.6.7"
  }
 },
 "nbformat": 4,
 "nbformat_minor": 2
}
