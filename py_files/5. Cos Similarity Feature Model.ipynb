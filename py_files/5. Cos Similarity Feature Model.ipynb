{
 "cells": [
  {
   "cell_type": "code",
   "execution_count": 1,
   "metadata": {
    "ExecuteTime": {
     "end_time": "2018-11-26T21:01:12.733361Z",
     "start_time": "2018-11-26T21:00:59.760407Z"
    }
   },
   "outputs": [],
   "source": [
    "# data manipulation\n",
    "import utils\n",
    "import pandas as pd\n",
    "import numpy as np\n",
    "\n",
    "# modeling\n",
    "from sklearn.pipeline import Pipeline\n",
    "from sklearn.feature_extraction.text import TfidfVectorizer\n",
    "from sklearn.decomposition import NMF\n",
    "from sklearn.preprocessing import FunctionTransformer\n",
    "\n",
    "from xgboost import XGBClassifier"
   ]
  },
  {
   "cell_type": "code",
   "execution_count": 2,
   "metadata": {
    "ExecuteTime": {
     "end_time": "2018-11-26T21:01:14.560819Z",
     "start_time": "2018-11-26T21:01:13.889655Z"
    }
   },
   "outputs": [],
   "source": [
    "train_df = utils.load('train')"
   ]
  },
  {
   "cell_type": "code",
   "execution_count": 4,
   "metadata": {
    "ExecuteTime": {
     "end_time": "2018-11-26T21:01:45.904901Z",
     "start_time": "2018-11-26T21:01:41.682017Z"
    }
   },
   "outputs": [],
   "source": [
    "try:\n",
    "    train_lemma = utils.load('train_lemma') \n",
    "except:\n",
    "    pipe_cos_sim = Pipeline(\n",
    "        [\n",
    "            ('stack', FunctionTransformer(utils.stack_questions, validate=False)),\n",
    "            ('lemma', FunctionTransformer(utils.cleanup_text, validate=False)),\n",
    "        ]\n",
    "    )\n",
    "\n",
    "    train_lemma = pipe_cos_sim.transform(train_df)\n",
    "    utils.save(train_lemma, 'train_lemma') # save as it can take 13 minutes to lemmatize the entire corpus"
   ]
  },
  {
   "cell_type": "code",
   "execution_count": 6,
   "metadata": {
    "ExecuteTime": {
     "end_time": "2018-11-26T21:07:41.659757Z",
     "start_time": "2018-11-26T21:02:35.145059Z"
    }
   },
   "outputs": [
    {
     "data": {
      "text/plain": [
       "Pipeline(memory=None,\n",
       "     steps=[('tfidf', TfidfVectorizer(analyzer='word', binary=False, decode_error='strict',\n",
       "        dtype=<class 'numpy.float64'>, encoding='utf-8', input='content',\n",
       "        lowercase=True, max_df=1.0, max_features=None, min_df=1,\n",
       "        ngram_range=(1, 1), norm='l2', preprocessor=None, smooth_idf=True,...ate=42, reg_alpha=0, reg_lambda=1, scale_pos_weight=1,\n",
       "       seed=None, silent=True, subsample=1))])"
      ]
     },
     "execution_count": 6,
     "metadata": {},
     "output_type": "execute_result"
    }
   ],
   "source": [
    "pipe_cos_sim = Pipeline(\n",
    "    [\n",
    "        ('tfidf', TfidfVectorizer()),\n",
    "        ('nmf', NMF(n_components=5)),\n",
    "        ('unstack', FunctionTransformer(utils.unstack_questions, validate=True)),\n",
    "        ('cos_sim', FunctionTransformer(utils.calc_cos_sim, validate=True)),\n",
    "        ('xgb', XGBClassifier(n_estimators=500, random_state=42))\n",
    "    ]\n",
    ")\n",
    "\n",
    "y = train_df.is_duplicate.values\n",
    "pipe_cos_sim.fit(train_lemma, y)"
   ]
  },
  {
   "cell_type": "code",
   "execution_count": 7,
   "metadata": {
    "ExecuteTime": {
     "end_time": "2018-11-26T21:10:22.636284Z",
     "start_time": "2018-11-26T21:08:49.081452Z"
    }
   },
   "outputs": [],
   "source": [
    "y_probs = pipe_cos_sim.predict_proba(train_lemma)[:, 1]"
   ]
  },
  {
   "cell_type": "code",
   "execution_count": 11,
   "metadata": {
    "ExecuteTime": {
     "end_time": "2018-11-26T21:16:59.346781Z",
     "start_time": "2018-11-26T21:15:31.676213Z"
    }
   },
   "outputs": [
    {
     "data": {
      "text/html": [
       "<div>\n",
       "<style scoped>\n",
       "    .dataframe tbody tr th:only-of-type {\n",
       "        vertical-align: middle;\n",
       "    }\n",
       "\n",
       "    .dataframe tbody tr th {\n",
       "        vertical-align: top;\n",
       "    }\n",
       "\n",
       "    .dataframe thead th {\n",
       "        text-align: right;\n",
       "    }\n",
       "</style>\n",
       "<table border=\"1\" class=\"dataframe\">\n",
       "  <thead>\n",
       "    <tr style=\"text-align: right;\">\n",
       "      <th></th>\n",
       "      <th>accuracy</th>\n",
       "      <th>precision</th>\n",
       "      <th>recall</th>\n",
       "      <th>f1</th>\n",
       "      <th>auc</th>\n",
       "      <th>log_loss</th>\n",
       "    </tr>\n",
       "  </thead>\n",
       "  <tbody>\n",
       "    <tr>\n",
       "      <th>mvp (tf-idf, nmf(5), xgboost)</th>\n",
       "      <td>0.704833</td>\n",
       "      <td>0.670638</td>\n",
       "      <td>0.394130</td>\n",
       "      <td>0.496481</td>\n",
       "      <td>0.748040</td>\n",
       "      <td>0.563257</td>\n",
       "    </tr>\n",
       "    <tr>\n",
       "      <th>mvp (+ lemma)</th>\n",
       "      <td>0.699275</td>\n",
       "      <td>0.655821</td>\n",
       "      <td>0.390391</td>\n",
       "      <td>0.489436</td>\n",
       "      <td>0.742537</td>\n",
       "      <td>0.568832</td>\n",
       "    </tr>\n",
       "    <tr>\n",
       "      <th>all_neg</th>\n",
       "      <td>0.630780</td>\n",
       "      <td>0.000000</td>\n",
       "      <td>0.000000</td>\n",
       "      <td>0.000000</td>\n",
       "      <td>0.500000</td>\n",
       "      <td>12.752399</td>\n",
       "    </tr>\n",
       "    <tr>\n",
       "      <th>cos_sim_model</th>\n",
       "      <td>0.713050</td>\n",
       "      <td>0.664312</td>\n",
       "      <td>0.450433</td>\n",
       "      <td>0.536855</td>\n",
       "      <td>0.752023</td>\n",
       "      <td>0.560813</td>\n",
       "    </tr>\n",
       "  </tbody>\n",
       "</table>\n",
       "</div>"
      ],
      "text/plain": [
       "                               accuracy  precision    recall        f1  \\\n",
       "mvp (tf-idf, nmf(5), xgboost)  0.704833   0.670638  0.394130  0.496481   \n",
       "mvp (+ lemma)                  0.699275   0.655821  0.390391  0.489436   \n",
       "all_neg                        0.630780   0.000000  0.000000  0.000000   \n",
       "cos_sim_model                  0.713050   0.664312  0.450433  0.536855   \n",
       "\n",
       "                                    auc   log_loss  \n",
       "mvp (tf-idf, nmf(5), xgboost)  0.748040   0.563257  \n",
       "mvp (+ lemma)                  0.742537   0.568832  \n",
       "all_neg                        0.500000  12.752399  \n",
       "cos_sim_model                  0.752023   0.560813  "
      ]
     },
     "execution_count": 11,
     "metadata": {},
     "output_type": "execute_result"
    }
   ],
   "source": [
    "results_df = utils.load('results')\n",
    "\n",
    "results_df = results_df.drop(index='cos_sim_model', errors='ignore')\n",
    "results_df = results_df.append(utils.log_scores(pipe_cos_sim, train_lemma, y, 'cos_sim_model'))\n",
    "results_df"
   ]
  },
  {
   "cell_type": "code",
   "execution_count": 12,
   "metadata": {
    "ExecuteTime": {
     "end_time": "2018-11-26T21:18:41.855243Z",
     "start_time": "2018-11-26T21:18:39.301369Z"
    }
   },
   "outputs": [],
   "source": [
    "utils.save(results_df, 'results')\n",
    "utils.save(pipe_cos_sim, 'cos_sim_model')"
   ]
  },
  {
   "cell_type": "markdown",
   "metadata": {},
   "source": [
    "### Results\n",
    "\n",
    "Adding the cosine similarity metric to the model made a marginal improvement in the training statistics, and is possibly a good candidate to hyper tune via cross validation. \n",
    "\n",
    "Let's now take a look at where the classifier was wrong."
   ]
  },
  {
   "cell_type": "code",
   "execution_count": 14,
   "metadata": {
    "ExecuteTime": {
     "end_time": "2018-11-26T21:21:46.154082Z",
     "start_time": "2018-11-26T21:21:46.127462Z"
    }
   },
   "outputs": [
    {
     "data": {
      "text/html": [
       "<div>\n",
       "<style scoped>\n",
       "    .dataframe tbody tr th:only-of-type {\n",
       "        vertical-align: middle;\n",
       "    }\n",
       "\n",
       "    .dataframe tbody tr th {\n",
       "        vertical-align: top;\n",
       "    }\n",
       "\n",
       "    .dataframe thead th {\n",
       "        text-align: right;\n",
       "    }\n",
       "</style>\n",
       "<table border=\"1\" class=\"dataframe\">\n",
       "  <thead>\n",
       "    <tr style=\"text-align: right;\">\n",
       "      <th></th>\n",
       "      <th>gt</th>\n",
       "      <th>prob</th>\n",
       "      <th>diff</th>\n",
       "    </tr>\n",
       "  </thead>\n",
       "  <tbody>\n",
       "    <tr>\n",
       "      <th>0</th>\n",
       "      <td>0</td>\n",
       "      <td>0.219144</td>\n",
       "      <td>-0.219144</td>\n",
       "    </tr>\n",
       "    <tr>\n",
       "      <th>1</th>\n",
       "      <td>0</td>\n",
       "      <td>0.187922</td>\n",
       "      <td>-0.187922</td>\n",
       "    </tr>\n",
       "    <tr>\n",
       "      <th>2</th>\n",
       "      <td>0</td>\n",
       "      <td>0.295018</td>\n",
       "      <td>-0.295018</td>\n",
       "    </tr>\n",
       "    <tr>\n",
       "      <th>3</th>\n",
       "      <td>0</td>\n",
       "      <td>0.132087</td>\n",
       "      <td>-0.132087</td>\n",
       "    </tr>\n",
       "    <tr>\n",
       "      <th>4</th>\n",
       "      <td>0</td>\n",
       "      <td>0.356076</td>\n",
       "      <td>-0.356076</td>\n",
       "    </tr>\n",
       "  </tbody>\n",
       "</table>\n",
       "</div>"
      ],
      "text/plain": [
       "   gt      prob      diff\n",
       "0   0  0.219144 -0.219144\n",
       "1   0  0.187922 -0.187922\n",
       "2   0  0.295018 -0.295018\n",
       "3   0  0.132087 -0.132087\n",
       "4   0  0.356076 -0.356076"
      ]
     },
     "execution_count": 14,
     "metadata": {},
     "output_type": "execute_result"
    }
   ],
   "source": [
    "class_errors_df = utils.ground_truth_analysis(y, y_probs)\n",
    "class_errors_df.head()"
   ]
  },
  {
   "cell_type": "code",
   "execution_count": 19,
   "metadata": {
    "ExecuteTime": {
     "end_time": "2018-11-26T21:24:38.204207Z",
     "start_time": "2018-11-26T21:24:38.062497Z"
    }
   },
   "outputs": [
    {
     "name": "stdout",
     "output_type": "stream",
     "text": [
      "How can I get unlimited Ola Credits? Please help. I know there's a hack for that.\n",
      "What is the best Ola hack to get unlimited Ola Credits?\n",
      "\n",
      "What is the best Ola hack to get unlimited Ola Credits?\n",
      "How can I get unlimited Ola credits? I know there's a hack for that.\n",
      "\n",
      "If somebody has a good startup idea, then how can he find angel investors to invest in his idea?\n",
      "How can I invite investors to invest money for my idea?\n",
      "\n",
      "What arguments do climate change skeptics use to defend their position?\n",
      "What are some of the best arguments to refute Climate deniers?\n",
      "\n",
      "How do I become a quick learner in life?\n",
      "How do I become a quick learner?\n",
      "\n"
     ]
    }
   ],
   "source": [
    "fn_idx = class_errors_df.sort_values('diff', ascending = False).head().index\n",
    "for row in train_df.iloc[fn_idx].values:\n",
    "    print(row[3])\n",
    "    print(row[4])\n",
    "    print()"
   ]
  },
  {
   "cell_type": "code",
   "execution_count": null,
   "metadata": {},
   "outputs": [],
   "source": []
  }
 ],
 "metadata": {
  "kernelspec": {
   "display_name": "Python [conda env:project5]",
   "language": "python",
   "name": "conda-env-project5-py"
  },
  "language_info": {
   "codemirror_mode": {
    "name": "ipython",
    "version": 3
   },
   "file_extension": ".py",
   "mimetype": "text/x-python",
   "name": "python",
   "nbconvert_exporter": "python",
   "pygments_lexer": "ipython3",
   "version": "3.7.1"
  }
 },
 "nbformat": 4,
 "nbformat_minor": 2
}
