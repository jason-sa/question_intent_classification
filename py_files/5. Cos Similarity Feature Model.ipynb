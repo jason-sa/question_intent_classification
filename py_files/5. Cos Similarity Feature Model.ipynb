{
 "cells": [
  {
   "cell_type": "markdown",
   "metadata": {},
   "source": [
    "## Cosine Similarity Feature\n",
    "\n",
    "This model will add a cosine similarity feature in addition to NMF features. The previous model showed some misclassifed pairs had a very high cosine similarity.\n",
    "\n",
    "**Pipeline**\n",
    "1. Stack questions\n",
    "2. Lemmatize questions\n",
    "3. Tfidf\n",
    "4. NMF\n",
    "5. Unstack questions\n",
    "6. Add cosine similarity\n",
    "7. XGBClassifier"
   ]
  },
  {
   "cell_type": "code",
   "execution_count": 1,
   "metadata": {
    "ExecuteTime": {
     "end_time": "2018-11-26T23:11:35.055165Z",
     "start_time": "2018-11-26T23:11:22.449820Z"
    }
   },
   "outputs": [],
   "source": [
    "# data manipulation\n",
    "import utils\n",
    "import pandas as pd\n",
    "import numpy as np\n",
    "\n",
    "# modeling\n",
    "from sklearn.pipeline import Pipeline\n",
    "from sklearn.feature_extraction.text import TfidfVectorizer\n",
    "from sklearn.decomposition import NMF\n",
    "from sklearn.preprocessing import FunctionTransformer\n",
    "\n",
    "from xgboost import XGBClassifier"
   ]
  },
  {
   "cell_type": "code",
   "execution_count": 6,
   "metadata": {
    "ExecuteTime": {
     "end_time": "2018-11-26T23:13:01.733695Z",
     "start_time": "2018-11-26T23:13:01.428445Z"
    }
   },
   "outputs": [],
   "source": [
    "X_train = utils.load('X_train')\n",
    "y_train = utils.load('y_train')"
   ]
  },
  {
   "cell_type": "code",
   "execution_count": 7,
   "metadata": {
    "ExecuteTime": {
     "end_time": "2018-11-26T23:13:06.314525Z",
     "start_time": "2018-11-26T23:13:02.388458Z"
    }
   },
   "outputs": [],
   "source": [
    "try:\n",
    "    X_train_lemma = utils.load('X_train_lemma') \n",
    "except:\n",
    "    pipe_cos_sim = Pipeline(\n",
    "        [\n",
    "            ('stack', FunctionTransformer(utils.stack_questions, validate=False)),\n",
    "            ('lemma', FunctionTransformer(utils.cleanup_text, validate=False)),\n",
    "        ]\n",
    "    )\n",
    "\n",
    "    X_train_lemma = pipe_cos_sim.transform(train_df)\n",
    "    utils.save(train_lemma, 'X_train_lemma') # save as it can take 10 minutes to lemmatize the entire corpus"
   ]
  },
  {
   "cell_type": "code",
   "execution_count": 8,
   "metadata": {
    "ExecuteTime": {
     "end_time": "2018-11-26T23:16:34.453678Z",
     "start_time": "2018-11-26T23:13:06.317842Z"
    }
   },
   "outputs": [
    {
     "data": {
      "text/plain": [
       "Pipeline(memory=None,\n",
       "     steps=[('tfidf', TfidfVectorizer(analyzer='word', binary=False, decode_error='strict',\n",
       "        dtype=<class 'numpy.float64'>, encoding='utf-8', input='content',\n",
       "        lowercase=True, max_df=1.0, max_features=None, min_df=1,\n",
       "        ngram_range=(1, 1), norm='l2', preprocessor=None, smooth_idf=True,...ate=42, reg_alpha=0, reg_lambda=1, scale_pos_weight=1,\n",
       "       seed=None, silent=True, subsample=1))])"
      ]
     },
     "execution_count": 8,
     "metadata": {},
     "output_type": "execute_result"
    }
   ],
   "source": [
    "pipe_cos_sim = Pipeline(\n",
    "    [\n",
    "        ('tfidf', TfidfVectorizer()),\n",
    "        ('nmf', NMF(n_components=5)),\n",
    "        ('unstack', FunctionTransformer(utils.unstack_questions, validate=True)),\n",
    "        ('cos_sim', FunctionTransformer(utils.calc_cos_sim, validate=True)),\n",
    "        ('xgb', XGBClassifier(n_estimators=500, random_state=42))\n",
    "    ]\n",
    ")\n",
    "\n",
    "pipe_cos_sim.fit(X_train_lemma, y_train)"
   ]
  },
  {
   "cell_type": "code",
   "execution_count": 9,
   "metadata": {
    "ExecuteTime": {
     "end_time": "2018-11-26T23:17:47.748060Z",
     "start_time": "2018-11-26T23:16:34.456935Z"
    }
   },
   "outputs": [],
   "source": [
    "y_probs = pipe_cos_sim.predict_proba(X_train_lemma)[:, 1]"
   ]
  },
  {
   "cell_type": "code",
   "execution_count": 10,
   "metadata": {
    "ExecuteTime": {
     "end_time": "2018-11-26T23:19:02.736737Z",
     "start_time": "2018-11-26T23:17:47.750846Z"
    }
   },
   "outputs": [
    {
     "data": {
      "text/html": [
       "<div>\n",
       "<style scoped>\n",
       "    .dataframe tbody tr th:only-of-type {\n",
       "        vertical-align: middle;\n",
       "    }\n",
       "\n",
       "    .dataframe tbody tr th {\n",
       "        vertical-align: top;\n",
       "    }\n",
       "\n",
       "    .dataframe thead th {\n",
       "        text-align: right;\n",
       "    }\n",
       "</style>\n",
       "<table border=\"1\" class=\"dataframe\">\n",
       "  <thead>\n",
       "    <tr style=\"text-align: right;\">\n",
       "      <th></th>\n",
       "      <th>accuracy</th>\n",
       "      <th>precision</th>\n",
       "      <th>recall</th>\n",
       "      <th>f1</th>\n",
       "      <th>auc</th>\n",
       "      <th>log_loss</th>\n",
       "    </tr>\n",
       "  </thead>\n",
       "  <tbody>\n",
       "    <tr>\n",
       "      <th>mvp (tf-idf, nmf(5), xgboost)</th>\n",
       "      <td>0.631325</td>\n",
       "      <td>0.823529</td>\n",
       "      <td>0.001876</td>\n",
       "      <td>0.003743</td>\n",
       "      <td>0.571099</td>\n",
       "      <td>0.654121</td>\n",
       "    </tr>\n",
       "    <tr>\n",
       "      <th>mvp (+ lemma)</th>\n",
       "      <td>0.631466</td>\n",
       "      <td>0.819018</td>\n",
       "      <td>0.002385</td>\n",
       "      <td>0.004756</td>\n",
       "      <td>0.571259</td>\n",
       "      <td>0.654228</td>\n",
       "    </tr>\n",
       "    <tr>\n",
       "      <th>all_neg</th>\n",
       "      <td>0.630780</td>\n",
       "      <td>0.000000</td>\n",
       "      <td>0.000000</td>\n",
       "      <td>0.000000</td>\n",
       "      <td>0.500000</td>\n",
       "      <td>12.752392</td>\n",
       "    </tr>\n",
       "    <tr>\n",
       "      <th>cos_sim_model</th>\n",
       "      <td>0.631381</td>\n",
       "      <td>0.811644</td>\n",
       "      <td>0.002117</td>\n",
       "      <td>0.004223</td>\n",
       "      <td>0.573368</td>\n",
       "      <td>0.654084</td>\n",
       "    </tr>\n",
       "  </tbody>\n",
       "</table>\n",
       "</div>"
      ],
      "text/plain": [
       "                               accuracy  precision    recall        f1  \\\n",
       "mvp (tf-idf, nmf(5), xgboost)  0.631325   0.823529  0.001876  0.003743   \n",
       "mvp (+ lemma)                  0.631466   0.819018  0.002385  0.004756   \n",
       "all_neg                        0.630780   0.000000  0.000000  0.000000   \n",
       "cos_sim_model                  0.631381   0.811644  0.002117  0.004223   \n",
       "\n",
       "                                    auc   log_loss  \n",
       "mvp (tf-idf, nmf(5), xgboost)  0.571099   0.654121  \n",
       "mvp (+ lemma)                  0.571259   0.654228  \n",
       "all_neg                        0.500000  12.752392  \n",
       "cos_sim_model                  0.573368   0.654084  "
      ]
     },
     "execution_count": 10,
     "metadata": {},
     "output_type": "execute_result"
    }
   ],
   "source": [
    "results_df = utils.load('results')\n",
    "\n",
    "results_df = results_df.drop(index='cos_sim_model', errors='ignore')\n",
    "results_df = results_df.append(utils.log_scores(pipe_cos_sim, X_train_lemma, y_train, 'cos_sim_model'))\n",
    "results_df"
   ]
  },
  {
   "cell_type": "code",
   "execution_count": 12,
   "metadata": {
    "ExecuteTime": {
     "end_time": "2018-11-26T21:18:41.855243Z",
     "start_time": "2018-11-26T21:18:39.301369Z"
    }
   },
   "outputs": [],
   "source": [
    "utils.save(results_df, 'results')\n",
    "utils.save(pipe_cos_sim, 'cos_sim_model')"
   ]
  },
  {
   "cell_type": "markdown",
   "metadata": {},
   "source": [
    "### Results\n",
    "\n",
    "Adding the cosine similarity metric to the model made a marginal improvement in the training statistics, and is possibly a good candidate to hyper tune via cross validation. \n",
    "\n",
    "Let's now take a look at where the classifier was wrong."
   ]
  },
  {
   "cell_type": "code",
   "execution_count": 11,
   "metadata": {
    "ExecuteTime": {
     "end_time": "2018-11-26T23:21:01.713738Z",
     "start_time": "2018-11-26T23:21:01.685981Z"
    }
   },
   "outputs": [
    {
     "data": {
      "text/html": [
       "<div>\n",
       "<style scoped>\n",
       "    .dataframe tbody tr th:only-of-type {\n",
       "        vertical-align: middle;\n",
       "    }\n",
       "\n",
       "    .dataframe tbody tr th {\n",
       "        vertical-align: top;\n",
       "    }\n",
       "\n",
       "    .dataframe thead th {\n",
       "        text-align: right;\n",
       "    }\n",
       "</style>\n",
       "<table border=\"1\" class=\"dataframe\">\n",
       "  <thead>\n",
       "    <tr style=\"text-align: right;\">\n",
       "      <th></th>\n",
       "      <th>gt</th>\n",
       "      <th>prob</th>\n",
       "      <th>diff</th>\n",
       "    </tr>\n",
       "  </thead>\n",
       "  <tbody>\n",
       "    <tr>\n",
       "      <th>0</th>\n",
       "      <td>0</td>\n",
       "      <td>0.374594</td>\n",
       "      <td>-0.374594</td>\n",
       "    </tr>\n",
       "    <tr>\n",
       "      <th>1</th>\n",
       "      <td>0</td>\n",
       "      <td>0.363202</td>\n",
       "      <td>-0.363202</td>\n",
       "    </tr>\n",
       "    <tr>\n",
       "      <th>2</th>\n",
       "      <td>1</td>\n",
       "      <td>0.364842</td>\n",
       "      <td>0.635158</td>\n",
       "    </tr>\n",
       "    <tr>\n",
       "      <th>3</th>\n",
       "      <td>0</td>\n",
       "      <td>0.367989</td>\n",
       "      <td>-0.367989</td>\n",
       "    </tr>\n",
       "    <tr>\n",
       "      <th>4</th>\n",
       "      <td>1</td>\n",
       "      <td>0.364302</td>\n",
       "      <td>0.635698</td>\n",
       "    </tr>\n",
       "  </tbody>\n",
       "</table>\n",
       "</div>"
      ],
      "text/plain": [
       "   gt      prob      diff\n",
       "0   0  0.374594 -0.374594\n",
       "1   0  0.363202 -0.363202\n",
       "2   1  0.364842  0.635158\n",
       "3   0  0.367989 -0.367989\n",
       "4   1  0.364302  0.635698"
      ]
     },
     "execution_count": 11,
     "metadata": {},
     "output_type": "execute_result"
    }
   ],
   "source": [
    "class_errors_df = utils.ground_truth_analysis(y_train, y_probs)\n",
    "class_errors_df.head()"
   ]
  },
  {
   "cell_type": "code",
   "execution_count": 23,
   "metadata": {
    "ExecuteTime": {
     "end_time": "2018-11-26T23:28:37.181843Z",
     "start_time": "2018-11-26T23:28:37.074621Z"
    }
   },
   "outputs": [
    {
     "name": "stdout",
     "output_type": "stream",
     "text": [
      "Where can I buy online products?\n",
      "Where do I buy online products?\n",
      "Prob: 0.16664948\n",
      "money home\n",
      "way money online\n",
      "\n",
      "What would a bedroom in the year 1980 look like but it would have to be an older man's theme?\n",
      "What items were in an older man's bedroom circa 1980?\n",
      "Prob: 0.1992089\n",
      "question quora\n",
      "question quora\n",
      "\n",
      "What should I do if I find out that my dad is having an affair?\n",
      "My dad is having an affair. What should I do?\n",
      "Prob: 0.22508842\n",
      "programming language learn\n",
      "order learn programming language\n",
      "\n",
      "What can natrully change your eye color?\n",
      "Can subminals audio change eye colour?\n",
      "Prob: 0.24299282\n",
      "question quora\n",
      "ask question quora\n",
      "\n",
      "What are the prospects and challenges for pulses for sustainable food security?\n",
      "What are the prospects for pulses for sustainable food security?\n",
      "Prob: 0.24651669\n",
      "thing people know\n",
      "thing people know\n",
      "\n"
     ]
    }
   ],
   "source": [
    "fn_idx = class_errors_df.sort_values('diff', ascending = False).head().index\n",
    "for idx in fn_idx:\n",
    "    print(X_train.iloc[idx].question1)\n",
    "    print(X_train.iloc[idx].question2)\n",
    "    print('Prob:', y_probs[idx])\n",
    "    print(X_train_lemma[idx*2])\n",
    "    print(X_train_lemma[idx*2+1])\n",
    "    print()"
   ]
  },
  {
   "cell_type": "code",
   "execution_count": 24,
   "metadata": {
    "ExecuteTime": {
     "end_time": "2018-11-26T23:28:59.831782Z",
     "start_time": "2018-11-26T23:28:59.825736Z"
    }
   },
   "outputs": [
    {
     "data": {
      "text/plain": [
       "array(['step step guide invest share market india',\n",
       "       'step step guide invest share market',\n",
       "       'story kohinoor koh noor diamond',\n",
       "       'happen indian government steal kohinoor koh noor diamond',\n",
       "       'increase speed internet connection use vpn',\n",
       "       'internet speed increase hack dns', 'mentally lonely solve',\n",
       "       'find remainder math]23^{24}[/math divide 24,23',\n",
       "       'dissolve water quikly sugar salt methane carbon di oxide',\n",
       "       'fish survive salt water'], dtype='<U535')"
      ]
     },
     "execution_count": 24,
     "metadata": {},
     "output_type": "execute_result"
    }
   ],
   "source": [
    "X_train_lemma[:10]"
   ]
  },
  {
   "cell_type": "code",
   "execution_count": 26,
   "metadata": {
    "ExecuteTime": {
     "end_time": "2018-11-26T23:29:39.080142Z",
     "start_time": "2018-11-26T23:29:38.919473Z"
    }
   },
   "outputs": [
    {
     "data": {
      "text/html": [
       "<div>\n",
       "<style scoped>\n",
       "    .dataframe tbody tr th:only-of-type {\n",
       "        vertical-align: middle;\n",
       "    }\n",
       "\n",
       "    .dataframe tbody tr th {\n",
       "        vertical-align: top;\n",
       "    }\n",
       "\n",
       "    .dataframe thead th {\n",
       "        text-align: right;\n",
       "    }\n",
       "</style>\n",
       "<table border=\"1\" class=\"dataframe\">\n",
       "  <thead>\n",
       "    <tr style=\"text-align: right;\">\n",
       "      <th></th>\n",
       "      <th>id</th>\n",
       "      <th>question1</th>\n",
       "      <th>question2</th>\n",
       "    </tr>\n",
       "  </thead>\n",
       "  <tbody>\n",
       "    <tr>\n",
       "      <th>0</th>\n",
       "      <td>0</td>\n",
       "      <td>What is the step by step guide to invest in sh...</td>\n",
       "      <td>What is the step by step guide to invest in sh...</td>\n",
       "    </tr>\n",
       "    <tr>\n",
       "      <th>1</th>\n",
       "      <td>1</td>\n",
       "      <td>What is the story of Kohinoor (Koh-i-Noor) Dia...</td>\n",
       "      <td>What would happen if the Indian government sto...</td>\n",
       "    </tr>\n",
       "    <tr>\n",
       "      <th>2</th>\n",
       "      <td>2</td>\n",
       "      <td>How can I increase the speed of my internet co...</td>\n",
       "      <td>How can Internet speed be increased by hacking...</td>\n",
       "    </tr>\n",
       "    <tr>\n",
       "      <th>3</th>\n",
       "      <td>3</td>\n",
       "      <td>Why am I mentally very lonely? How can I solve...</td>\n",
       "      <td>Find the remainder when [math]23^{24}[/math] i...</td>\n",
       "    </tr>\n",
       "    <tr>\n",
       "      <th>4</th>\n",
       "      <td>4</td>\n",
       "      <td>Which one dissolve in water quikly sugar, salt...</td>\n",
       "      <td>Which fish would survive in salt water?</td>\n",
       "    </tr>\n",
       "    <tr>\n",
       "      <th>5</th>\n",
       "      <td>5</td>\n",
       "      <td>Astrology: I am a Capricorn Sun Cap moon and c...</td>\n",
       "      <td>I'm a triple Capricorn (Sun, Moon and ascendan...</td>\n",
       "    </tr>\n",
       "    <tr>\n",
       "      <th>8</th>\n",
       "      <td>8</td>\n",
       "      <td>When do you use シ instead of し?</td>\n",
       "      <td>When do you use \"&amp;\" instead of \"and\"?</td>\n",
       "    </tr>\n",
       "    <tr>\n",
       "      <th>9</th>\n",
       "      <td>9</td>\n",
       "      <td>Motorola (company): Can I hack my Charter Moto...</td>\n",
       "      <td>How do I hack Motorola DCX3400 for free internet?</td>\n",
       "    </tr>\n",
       "    <tr>\n",
       "      <th>10</th>\n",
       "      <td>10</td>\n",
       "      <td>Method to find separation of slits using fresn...</td>\n",
       "      <td>What are some of the things technicians can te...</td>\n",
       "    </tr>\n",
       "    <tr>\n",
       "      <th>11</th>\n",
       "      <td>11</td>\n",
       "      <td>How do I read and find my YouTube comments?</td>\n",
       "      <td>How can I see all my Youtube comments?</td>\n",
       "    </tr>\n",
       "  </tbody>\n",
       "</table>\n",
       "</div>"
      ],
      "text/plain": [
       "    id                                          question1  \\\n",
       "0    0  What is the step by step guide to invest in sh...   \n",
       "1    1  What is the story of Kohinoor (Koh-i-Noor) Dia...   \n",
       "2    2  How can I increase the speed of my internet co...   \n",
       "3    3  Why am I mentally very lonely? How can I solve...   \n",
       "4    4  Which one dissolve in water quikly sugar, salt...   \n",
       "5    5  Astrology: I am a Capricorn Sun Cap moon and c...   \n",
       "8    8                    When do you use シ instead of し?   \n",
       "9    9  Motorola (company): Can I hack my Charter Moto...   \n",
       "10  10  Method to find separation of slits using fresn...   \n",
       "11  11        How do I read and find my YouTube comments?   \n",
       "\n",
       "                                            question2  \n",
       "0   What is the step by step guide to invest in sh...  \n",
       "1   What would happen if the Indian government sto...  \n",
       "2   How can Internet speed be increased by hacking...  \n",
       "3   Find the remainder when [math]23^{24}[/math] i...  \n",
       "4             Which fish would survive in salt water?  \n",
       "5   I'm a triple Capricorn (Sun, Moon and ascendan...  \n",
       "8               When do you use \"&\" instead of \"and\"?  \n",
       "9   How do I hack Motorola DCX3400 for free internet?  \n",
       "10  What are some of the things technicians can te...  \n",
       "11             How can I see all my Youtube comments?  "
      ]
     },
     "execution_count": 26,
     "metadata": {},
     "output_type": "execute_result"
    }
   ],
   "source": [
    "X_train.sort_values('id').iloc[:10]"
   ]
  }
 ],
 "metadata": {
  "kernelspec": {
   "display_name": "Python [conda env:project5]",
   "language": "python",
   "name": "conda-env-project5-py"
  },
  "language_info": {
   "codemirror_mode": {
    "name": "ipython",
    "version": 3
   },
   "file_extension": ".py",
   "mimetype": "text/x-python",
   "name": "python",
   "nbconvert_exporter": "python",
   "pygments_lexer": "ipython3",
   "version": "3.7.1"
  }
 },
 "nbformat": 4,
 "nbformat_minor": 2
}
