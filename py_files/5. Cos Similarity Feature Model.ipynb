{
 "cells": [
  {
   "cell_type": "markdown",
   "metadata": {},
   "source": [
    "## Cosine Similarity Feature\n",
    "\n",
    "This model will add a cosine similarity feature in addition to NMF features. The previous model showed some misclassifed pairs had a very high cosine similarity.\n",
    "\n",
    "**Pipeline**\n",
    "1. Stack questions\n",
    "2. Lemmatize questions\n",
    "3. Tfidf\n",
    "4. NMF\n",
    "5. Unstack questions\n",
    "6. Add cosine similarity\n",
    "7. XGBClassifier"
   ]
  },
  {
   "cell_type": "code",
   "execution_count": 1,
   "metadata": {
    "ExecuteTime": {
     "end_time": "2018-11-26T23:11:35.055165Z",
     "start_time": "2018-11-26T23:11:22.449820Z"
    }
   },
   "outputs": [],
   "source": [
    "# data manipulation\n",
    "import utils\n",
    "import pandas as pd\n",
    "import numpy as np\n",
    "\n",
    "# modeling\n",
    "from sklearn.pipeline import Pipeline\n",
    "from sklearn.feature_extraction.text import TfidfVectorizer\n",
    "from sklearn.decomposition import NMF\n",
    "from sklearn.preprocessing import FunctionTransformer\n",
    "from sklearn.model_selection import cross_validate, StratifiedKFold\n",
    "\n",
    "from xgboost import XGBClassifier"
   ]
  },
  {
   "cell_type": "code",
   "execution_count": 2,
   "metadata": {
    "ExecuteTime": {
     "end_time": "2018-11-26T23:13:01.733695Z",
     "start_time": "2018-11-26T23:13:01.428445Z"
    }
   },
   "outputs": [],
   "source": [
    "X_train = utils.load('X_train')\n",
    "y_train = utils.load('y_train')"
   ]
  },
  {
   "cell_type": "code",
   "execution_count": 3,
   "metadata": {
    "ExecuteTime": {
     "end_time": "2018-11-26T23:13:06.314525Z",
     "start_time": "2018-11-26T23:13:02.388458Z"
    }
   },
   "outputs": [],
   "source": [
    "try:\n",
    "    X_train_lemma = utils.load('X_train_lemma') \n",
    "except:\n",
    "    pipe_cos_sim = Pipeline(\n",
    "        [\n",
    "            ('stack', FunctionTransformer(utils.stack_questions, validate=False)),\n",
    "            ('lemma', FunctionTransformer(utils.cleanup_text, validate=False)),\n",
    "        ]\n",
    "    )\n",
    "\n",
    "    X_train_lemma = pipe_cos_sim.transform(train_df)\n",
    "    utils.save(train_lemma, 'X_train_lemma') # save as it can take 10 minutes to lemmatize the entire corpus"
   ]
  },
  {
   "cell_type": "code",
   "execution_count": 4,
   "metadata": {
    "ExecuteTime": {
     "end_time": "2018-11-26T23:16:34.453678Z",
     "start_time": "2018-11-26T23:13:06.317842Z"
    }
   },
   "outputs": [],
   "source": [
    "pipe_transform = Pipeline(\n",
    "    [\n",
    "        ('tfidf', TfidfVectorizer()),\n",
    "        ('nmf', NMF(n_components=5)),\n",
    "        ('unstack', FunctionTransformer(utils.unstack_questions, validate=True)),\n",
    "        ('cos_sim', FunctionTransformer(utils.calc_cos_sim, validate=True))\n",
    "    ]\n",
    ")\n",
    "\n",
    "X_train_transform = pipe_transform.fit_transform(X_train_lemma)"
   ]
  },
  {
   "cell_type": "code",
   "execution_count": 5,
   "metadata": {},
   "outputs": [],
   "source": [
    "skf = StratifiedKFold(n_splits=3, random_state=42)\n",
    "cv = cross_validate(XGBClassifier(n_estimators=500, random_state=42, n_jobs=-1), \n",
    "               X_train_transform, \n",
    "               y_train, \n",
    "               cv=skf, \n",
    "               n_jobs=-1, \n",
    "               scoring=('accuracy', 'precision', 'recall', 'f1', 'roc_auc', 'neg_log_loss'))"
   ]
  },
  {
   "cell_type": "code",
   "execution_count": 6,
   "metadata": {
    "ExecuteTime": {
     "end_time": "2018-11-26T23:19:02.736737Z",
     "start_time": "2018-11-26T23:17:47.750846Z"
    }
   },
   "outputs": [
    {
     "data": {
      "text/html": [
       "<div>\n",
       "<style scoped>\n",
       "    .dataframe tbody tr th:only-of-type {\n",
       "        vertical-align: middle;\n",
       "    }\n",
       "\n",
       "    .dataframe tbody tr th {\n",
       "        vertical-align: top;\n",
       "    }\n",
       "\n",
       "    .dataframe thead th {\n",
       "        text-align: right;\n",
       "    }\n",
       "</style>\n",
       "<table border=\"1\" class=\"dataframe\">\n",
       "  <thead>\n",
       "    <tr style=\"text-align: right;\">\n",
       "      <th></th>\n",
       "      <th>avg_accuracy</th>\n",
       "      <th>std_accuracy</th>\n",
       "      <th>avg_precision</th>\n",
       "      <th>std_precision</th>\n",
       "      <th>avg_recall</th>\n",
       "      <th>std_recall</th>\n",
       "      <th>avg_f1</th>\n",
       "      <th>std_f1</th>\n",
       "      <th>avg_auc</th>\n",
       "      <th>std_auc</th>\n",
       "      <th>avg_log_loss</th>\n",
       "      <th>std_log_loss</th>\n",
       "    </tr>\n",
       "  </thead>\n",
       "  <tbody>\n",
       "    <tr>\n",
       "      <th>mvp (tf-idf, nmf(5), xgboost)</th>\n",
       "      <td>0.700345</td>\n",
       "      <td>0.000466</td>\n",
       "      <td>0.661571</td>\n",
       "      <td>0.000461</td>\n",
       "      <td>0.385736</td>\n",
       "      <td>0.002493</td>\n",
       "      <td>0.487325</td>\n",
       "      <td>0.001983</td>\n",
       "      <td>0.740593</td>\n",
       "      <td>0.001647</td>\n",
       "      <td>0.568958</td>\n",
       "      <td>0.001288</td>\n",
       "    </tr>\n",
       "    <tr>\n",
       "      <th>mvp (+ lemma)</th>\n",
       "      <td>0.696787</td>\n",
       "      <td>0.001055</td>\n",
       "      <td>0.649977</td>\n",
       "      <td>0.003057</td>\n",
       "      <td>0.387424</td>\n",
       "      <td>0.003230</td>\n",
       "      <td>0.485464</td>\n",
       "      <td>0.002485</td>\n",
       "      <td>0.738037</td>\n",
       "      <td>0.001362</td>\n",
       "      <td>0.572483</td>\n",
       "      <td>0.000815</td>\n",
       "    </tr>\n",
       "    <tr>\n",
       "      <th>cos_sim_model</th>\n",
       "      <td>0.710200</td>\n",
       "      <td>0.000830</td>\n",
       "      <td>0.658748</td>\n",
       "      <td>0.002578</td>\n",
       "      <td>0.446336</td>\n",
       "      <td>0.002215</td>\n",
       "      <td>0.532120</td>\n",
       "      <td>0.001306</td>\n",
       "      <td>0.746769</td>\n",
       "      <td>0.001279</td>\n",
       "      <td>0.565250</td>\n",
       "      <td>0.000963</td>\n",
       "    </tr>\n",
       "  </tbody>\n",
       "</table>\n",
       "</div>"
      ],
      "text/plain": [
       "                               avg_accuracy  std_accuracy  avg_precision  \\\n",
       "mvp (tf-idf, nmf(5), xgboost)      0.700345      0.000466       0.661571   \n",
       "mvp (+ lemma)                      0.696787      0.001055       0.649977   \n",
       "cos_sim_model                      0.710200      0.000830       0.658748   \n",
       "\n",
       "                               std_precision  avg_recall  std_recall  \\\n",
       "mvp (tf-idf, nmf(5), xgboost)       0.000461    0.385736    0.002493   \n",
       "mvp (+ lemma)                       0.003057    0.387424    0.003230   \n",
       "cos_sim_model                       0.002578    0.446336    0.002215   \n",
       "\n",
       "                                 avg_f1    std_f1   avg_auc   std_auc  \\\n",
       "mvp (tf-idf, nmf(5), xgboost)  0.487325  0.001983  0.740593  0.001647   \n",
       "mvp (+ lemma)                  0.485464  0.002485  0.738037  0.001362   \n",
       "cos_sim_model                  0.532120  0.001306  0.746769  0.001279   \n",
       "\n",
       "                               avg_log_loss  std_log_loss  \n",
       "mvp (tf-idf, nmf(5), xgboost)      0.568958      0.001288  \n",
       "mvp (+ lemma)                      0.572483      0.000815  \n",
       "cos_sim_model                      0.565250      0.000963  "
      ]
     },
     "execution_count": 6,
     "metadata": {},
     "output_type": "execute_result"
    }
   ],
   "source": [
    "results_df = utils.load('results')\n",
    "\n",
    "results_df = results_df.drop(index='cos_sim_model', errors='ignore')\n",
    "results_df = results_df.append(utils.log_scores(cv, 'cos_sim_model'))\n",
    "results_df"
   ]
  },
  {
   "cell_type": "code",
   "execution_count": 8,
   "metadata": {
    "ExecuteTime": {
     "end_time": "2018-11-26T21:18:41.855243Z",
     "start_time": "2018-11-26T21:18:39.301369Z"
    }
   },
   "outputs": [],
   "source": [
    "utils.save(results_df, 'results')"
   ]
  },
  {
   "cell_type": "markdown",
   "metadata": {},
   "source": [
    "### Results\n",
    "\n",
    "Adding the cosine similarity metric to the model made a marginal improvement in the training statistics, and is possibly a good candidate to hyper tune via cross validation. \n",
    "\n",
    "Let's now take a look at where the classifier was wrong."
   ]
  },
  {
   "cell_type": "code",
   "execution_count": 10,
   "metadata": {
    "ExecuteTime": {
     "end_time": "2018-11-26T23:21:01.713738Z",
     "start_time": "2018-11-26T23:21:01.685981Z"
    }
   },
   "outputs": [
    {
     "data": {
      "text/html": [
       "<div>\n",
       "<style scoped>\n",
       "    .dataframe tbody tr th:only-of-type {\n",
       "        vertical-align: middle;\n",
       "    }\n",
       "\n",
       "    .dataframe tbody tr th {\n",
       "        vertical-align: top;\n",
       "    }\n",
       "\n",
       "    .dataframe thead th {\n",
       "        text-align: right;\n",
       "    }\n",
       "</style>\n",
       "<table border=\"1\" class=\"dataframe\">\n",
       "  <thead>\n",
       "    <tr style=\"text-align: right;\">\n",
       "      <th></th>\n",
       "      <th>gt</th>\n",
       "      <th>prob</th>\n",
       "      <th>diff</th>\n",
       "    </tr>\n",
       "  </thead>\n",
       "  <tbody>\n",
       "    <tr>\n",
       "      <th>0</th>\n",
       "      <td>0</td>\n",
       "      <td>0.223410</td>\n",
       "      <td>-0.223410</td>\n",
       "    </tr>\n",
       "    <tr>\n",
       "      <th>1</th>\n",
       "      <td>0</td>\n",
       "      <td>0.172906</td>\n",
       "      <td>-0.172906</td>\n",
       "    </tr>\n",
       "    <tr>\n",
       "      <th>2</th>\n",
       "      <td>0</td>\n",
       "      <td>0.320049</td>\n",
       "      <td>-0.320049</td>\n",
       "    </tr>\n",
       "    <tr>\n",
       "      <th>3</th>\n",
       "      <td>0</td>\n",
       "      <td>0.156677</td>\n",
       "      <td>-0.156677</td>\n",
       "    </tr>\n",
       "    <tr>\n",
       "      <th>4</th>\n",
       "      <td>0</td>\n",
       "      <td>0.373449</td>\n",
       "      <td>-0.373449</td>\n",
       "    </tr>\n",
       "  </tbody>\n",
       "</table>\n",
       "</div>"
      ],
      "text/plain": [
       "   gt      prob      diff\n",
       "0   0  0.223410 -0.223410\n",
       "1   0  0.172906 -0.172906\n",
       "2   0  0.320049 -0.320049\n",
       "3   0  0.156677 -0.156677\n",
       "4   0  0.373449 -0.373449"
      ]
     },
     "execution_count": 10,
     "metadata": {},
     "output_type": "execute_result"
    }
   ],
   "source": [
    "xgb = XGBClassifier(n_estimators=500, random_state=42, n_jobs=-1)\n",
    "xgb.fit(X_train_transform, y_train)\n",
    "y_probs = xgb.predict_proba(X_train_transform)[:, 1]\n",
    "class_errors_df = utils.ground_truth_analysis(y_train, y_probs)\n",
    "class_errors_df.head()"
   ]
  },
  {
   "cell_type": "code",
   "execution_count": 15,
   "metadata": {},
   "outputs": [
    {
     "data": {
      "text/plain": [
       "(303199, 11)"
      ]
     },
     "execution_count": 15,
     "metadata": {},
     "output_type": "execute_result"
    }
   ],
   "source": [
    "X_train_transform.shape"
   ]
  },
  {
   "cell_type": "markdown",
   "metadata": {},
   "source": [
    "## Top false negative examples"
   ]
  },
  {
   "cell_type": "code",
   "execution_count": 22,
   "metadata": {
    "ExecuteTime": {
     "end_time": "2018-11-26T23:28:37.181843Z",
     "start_time": "2018-11-26T23:28:37.074621Z"
    }
   },
   "outputs": [
    {
     "name": "stdout",
     "output_type": "stream",
     "text": [
      "Prob: 0.023252033\n",
      "\n",
      "How can I get unlimited Ola Credits? Please help. I know there's a hack for that.\n",
      "What is the best Ola hack to get unlimited Ola Credits?\n",
      "\n",
      "Lemma-------\n",
      "good ola hack unlimited ola credit\n",
      "unlimited ola credit help know hack\n",
      "\n",
      "Cos sim------\n",
      "0.0015347087514404256\n",
      "\n",
      "Vecs-----------\n",
      "[0.         0.         0.00169648 0.01552974 0.00111447]\n",
      "[0.01473608 0.00013005 0.         0.         0.00031791]\n",
      "-------------------------------------------\n",
      "\n",
      "Prob: 0.024024863\n",
      "\n",
      "What is the best Ola hack to get unlimited Ola Credits?\n",
      "How can I get unlimited Ola credits? I know there's a hack for that.\n",
      "\n",
      "Lemma-------\n",
      "unlimited ola credit know hack\n",
      "good ola hack unlimited ola credit\n",
      "\n",
      "Cos sim------\n",
      "0.001481936862938256\n",
      "\n",
      "Vecs-----------\n",
      "[0.01473608 0.00013005 0.         0.         0.00031791]\n",
      "[0.         0.         0.00018338 0.01586184 0.00109255]\n",
      "-------------------------------------------\n",
      "\n",
      "Prob: 0.03743049\n",
      "\n",
      "How do I train myself to build mental visualisation skills like Nikola Tesla?\n",
      "How do I train my visualisation ability to be as good as Nikola Tesla?\n",
      "\n",
      "Lemma-------\n",
      "train build mental visualisation skill like nikola tesla\n",
      "train visualisation ability good nikola tesla\n",
      "\n",
      "Cos sim------\n",
      "0.0\n",
      "\n",
      "Vecs-----------\n",
      "[0.01481306 0.         0.         0.         0.        ]\n",
      "[0.         0.         0.         0.01314236 0.00158862]\n",
      "-------------------------------------------\n",
      "\n",
      "Prob: 0.037861504\n",
      "\n",
      "How can I watch the Olympics live via computer?\n",
      "How do I watch the Rio Olympics online?\n",
      "\n",
      "Lemma-------\n",
      "watch rio olympics online\n",
      "watch olympics live computer\n",
      "\n",
      "Cos sim------\n",
      "0.019272292551122793\n",
      "\n",
      "Vecs-----------\n",
      "[2.18120766e-03 0.00000000e+00 6.53676584e-05 6.04349269e-03\n",
      " 1.92744061e-03]\n",
      "[0.         0.         0.02024813 0.00021417 0.        ]\n",
      "-------------------------------------------\n",
      "\n",
      "Prob: 0.03944706\n",
      "\n",
      "How do I become a quick learner in life?\n",
      "How do I become a quick learner?\n",
      "\n",
      "Lemma-------\n",
      "quick learner life\n",
      "quick learner\n",
      "\n",
      "Cos sim------\n",
      "0.0\n",
      "\n",
      "Vecs-----------\n",
      "[0.00014206 0.00042431 0.00037602 0.         0.00027871]\n",
      "[0.         0.         0.         0.02291725 0.        ]\n",
      "-------------------------------------------\n",
      "\n"
     ]
    }
   ],
   "source": [
    "fn_idx = class_errors_df.sort_values('diff', ascending = False).head().index\n",
    "for idx in fn_idx:\n",
    "    print('Prob:', y_probs[idx])\n",
    "    print()\n",
    "    print(X_train.iloc[idx].question1)\n",
    "    print(X_train.iloc[idx].question2)\n",
    "    print()\n",
    "    print('Lemma-------')\n",
    "    print(X_train_lemma[idx*2])\n",
    "    print(X_train_lemma[idx*2+1])\n",
    "    print()\n",
    "    print('Cos sim------')\n",
    "    print(X_train_transform[idx, -1])\n",
    "    print()\n",
    "    print('Vecs-----------')\n",
    "    print(X_train_transform[idx, :5])\n",
    "    print(X_train_transform[idx, 5:-1])\n",
    "    print('-------------------------------------------')\n",
    "    print()"
   ]
  },
  {
   "cell_type": "markdown",
   "metadata": {},
   "source": [
    "## Top false positive examples"
   ]
  },
  {
   "cell_type": "code",
   "execution_count": 21,
   "metadata": {
    "ExecuteTime": {
     "end_time": "2018-11-26T23:28:37.181843Z",
     "start_time": "2018-11-26T23:28:37.074621Z"
    }
   },
   "outputs": [
    {
     "name": "stdout",
     "output_type": "stream",
     "text": [
      "Can I make money online?\n",
      "I am willing to work hard for money but how I can make money?\n",
      "Prob: 0.96103376\n",
      "\n",
      "Lemma-------\n",
      "willing work hard money money\n",
      "money online\n",
      "\n",
      "Cos sim------\n",
      "0.9993590913043952\n",
      "\n",
      "Vecs-----------\n",
      "[0.        0.        0.1067102 0.        0.       ]\n",
      "[0.         0.         0.06381616 0.00228588 0.        ]\n",
      "-------------------------------------------\n",
      "\n",
      "How can you earn money from Quora as a user?\n",
      "How does Quora make money?\n",
      "Prob: 0.95245737\n",
      "\n",
      "Lemma-------\n",
      "quora money\n",
      "earn money quora user\n",
      "\n",
      "Cos sim------\n",
      "0.9873872317045038\n",
      "\n",
      "Vecs-----------\n",
      "[0.         0.04005779 0.06285799 0.         0.        ]\n",
      "[0.         0.06401524 0.07205664 0.         0.        ]\n",
      "-------------------------------------------\n",
      "\n",
      "How do I earn money through Quora?\n",
      "How can I use Quora to make money?\n",
      "Prob: 0.9491555\n",
      "\n",
      "Lemma-------\n",
      "earn money quora\n",
      "use quora money\n",
      "\n",
      "Cos sim------\n",
      "0.9810484046375674\n",
      "\n",
      "Vecs-----------\n",
      "[0.         0.05729245 0.06246081 0.         0.00039522]\n",
      "[0.         0.04775823 0.07836525 0.         0.        ]\n",
      "-------------------------------------------\n",
      "\n",
      "Does Quora earn money?\n",
      "How can I use Quora to make money?\n",
      "Prob: 0.94307876\n",
      "\n",
      "Lemma-------\n",
      "use quora money\n",
      "quora earn money\n",
      "\n",
      "Cos sim------\n",
      "0.9810484046375674\n",
      "\n",
      "Vecs-----------\n",
      "[0.         0.04775823 0.07836525 0.         0.        ]\n",
      "[0.         0.05729245 0.06246081 0.         0.00039522]\n",
      "-------------------------------------------\n",
      "\n",
      "What is the easiest way to earn money from online?\n",
      "How do I make money online without spending money?\n",
      "Prob: 0.93192995\n",
      "\n",
      "Lemma-------\n",
      "easy way earn money online\n",
      "money online spend money\n",
      "\n",
      "Cos sim------\n",
      "0.9992096708421547\n",
      "\n",
      "Vecs-----------\n",
      "[0.         0.         0.09573318 0.         0.        ]\n",
      "[0.00271006 0.         0.1016984  0.         0.00300384]\n",
      "-------------------------------------------\n",
      "\n"
     ]
    }
   ],
   "source": [
    "fp_idx = class_errors_df.sort_values('diff').head().index\n",
    "for idx in fp_idx:\n",
    "    print('Prob:', y_probs[idx])\n",
    "    print()\n",
    "    print(X_train.iloc[idx].question1)\n",
    "    print(X_train.iloc[idx].question2)\n",
    "    print()\n",
    "    print('Lemma-------')\n",
    "    print(X_train_lemma[idx*2])\n",
    "    print(X_train_lemma[idx*2+1])\n",
    "    print()\n",
    "    print('Cos sim------')\n",
    "    print(X_train_transform[idx, -1])\n",
    "    print()\n",
    "    print('Vecs-----------')\n",
    "    print(X_train_transform[idx, :5])\n",
    "    print(X_train_transform[idx, 5:-1])\n",
    "    print('-------------------------------------------')\n",
    "    print()"
   ]
  },
  {
   "cell_type": "markdown",
   "metadata": {},
   "source": [
    "## Summary\n",
    "\n",
    "The cosine similarity feature seems to be working as intended. However, performing a similarity on the NMF vectors may not be the right approach. A good next step would be at least updating the cosine similarity to be calculated based on the document vector of the lemmatized question. However, some of the lemmatized questions in the false positive category are very similar. So, may need to add a similarity for both the lemmatized and non-lemmatized pair of questions."
   ]
  }
 ],
 "metadata": {
  "kernelspec": {
   "display_name": "Python 3",
   "language": "python",
   "name": "python3"
  },
  "language_info": {
   "codemirror_mode": {
    "name": "ipython",
    "version": 3
   },
   "file_extension": ".py",
   "mimetype": "text/x-python",
   "name": "python",
   "nbconvert_exporter": "python",
   "pygments_lexer": "ipython3",
   "version": "3.6.5"
  }
 },
 "nbformat": 4,
 "nbformat_minor": 2
}
