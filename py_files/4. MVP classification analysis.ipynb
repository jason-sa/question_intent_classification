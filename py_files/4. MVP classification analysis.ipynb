{
 "cells": [
  {
   "cell_type": "code",
   "execution_count": 1,
   "metadata": {
    "ExecuteTime": {
     "end_time": "2018-11-26T19:49:38.455923Z",
     "start_time": "2018-11-26T19:49:24.778003Z"
    }
   },
   "outputs": [],
   "source": [
    "# data manipulation\n",
    "import utils\n",
    "import pandas as pd\n",
    "import numpy as np\n",
    "\n",
    "\n",
    "from sklearn import metrics"
   ]
  },
  {
   "cell_type": "code",
   "execution_count": 2,
   "metadata": {
    "ExecuteTime": {
     "end_time": "2018-11-26T19:49:39.171895Z",
     "start_time": "2018-11-26T19:49:38.459328Z"
    }
   },
   "outputs": [],
   "source": [
    "mvp_pipe = utils.load('mvp_model')\n",
    "train_df = utils.load('train')\n",
    "results_df = utils.load('results')"
   ]
  },
  {
   "cell_type": "code",
   "execution_count": 3,
   "metadata": {
    "ExecuteTime": {
     "end_time": "2018-11-26T19:49:51.572554Z",
     "start_time": "2018-11-26T19:49:39.174090Z"
    }
   },
   "outputs": [],
   "source": [
    "y_probs = mvp_pipe.predict_proba(train_df)[:, 1]\n",
    "y_dummy = np.zeros(len(y_probs))\n",
    "y = train_df.is_duplicate.values"
   ]
  },
  {
   "cell_type": "markdown",
   "metadata": {},
   "source": [
    "### Add all negtive prediction to results"
   ]
  },
  {
   "cell_type": "code",
   "execution_count": 4,
   "metadata": {
    "ExecuteTime": {
     "end_time": "2018-11-26T19:50:04.788396Z",
     "start_time": "2018-11-26T19:49:51.582668Z"
    }
   },
   "outputs": [
    {
     "name": "stderr",
     "output_type": "stream",
     "text": [
      "/anaconda3/envs/project5/lib/python3.7/site-packages/sklearn/metrics/classification.py:1143: UndefinedMetricWarning: Precision is ill-defined and being set to 0.0 due to no predicted samples.\n",
      "  'precision', 'predicted', average, warn_for)\n",
      "/anaconda3/envs/project5/lib/python3.7/site-packages/sklearn/metrics/classification.py:1143: UndefinedMetricWarning: F-score is ill-defined and being set to 0.0 due to no predicted samples.\n",
      "  'precision', 'predicted', average, warn_for)\n"
     ]
    },
    {
     "data": {
      "text/html": [
       "<div>\n",
       "<style scoped>\n",
       "    .dataframe tbody tr th:only-of-type {\n",
       "        vertical-align: middle;\n",
       "    }\n",
       "\n",
       "    .dataframe tbody tr th {\n",
       "        vertical-align: top;\n",
       "    }\n",
       "\n",
       "    .dataframe thead th {\n",
       "        text-align: right;\n",
       "    }\n",
       "</style>\n",
       "<table border=\"1\" class=\"dataframe\">\n",
       "  <thead>\n",
       "    <tr style=\"text-align: right;\">\n",
       "      <th></th>\n",
       "      <th>accuracy</th>\n",
       "      <th>precision</th>\n",
       "      <th>recall</th>\n",
       "      <th>f1</th>\n",
       "      <th>auc</th>\n",
       "      <th>log_loss</th>\n",
       "    </tr>\n",
       "  </thead>\n",
       "  <tbody>\n",
       "    <tr>\n",
       "      <th>mvp (tf-idf, nmf(5), xgboost)</th>\n",
       "      <td>0.704833</td>\n",
       "      <td>0.670638</td>\n",
       "      <td>0.394130</td>\n",
       "      <td>0.496481</td>\n",
       "      <td>0.748040</td>\n",
       "      <td>0.563257</td>\n",
       "    </tr>\n",
       "    <tr>\n",
       "      <th>mvp (+ lemma)</th>\n",
       "      <td>0.699275</td>\n",
       "      <td>0.655821</td>\n",
       "      <td>0.390391</td>\n",
       "      <td>0.489436</td>\n",
       "      <td>0.742537</td>\n",
       "      <td>0.568832</td>\n",
       "    </tr>\n",
       "    <tr>\n",
       "      <th>all_neg</th>\n",
       "      <td>0.630780</td>\n",
       "      <td>0.000000</td>\n",
       "      <td>0.000000</td>\n",
       "      <td>0.000000</td>\n",
       "      <td>0.748040</td>\n",
       "      <td>0.563257</td>\n",
       "    </tr>\n",
       "  </tbody>\n",
       "</table>\n",
       "</div>"
      ],
      "text/plain": [
       "                               accuracy  precision    recall        f1  \\\n",
       "mvp (tf-idf, nmf(5), xgboost)  0.704833   0.670638  0.394130  0.496481   \n",
       "mvp (+ lemma)                  0.699275   0.655821  0.390391  0.489436   \n",
       "all_neg                        0.630780   0.000000  0.000000  0.000000   \n",
       "\n",
       "                                    auc  log_loss  \n",
       "mvp (tf-idf, nmf(5), xgboost)  0.748040  0.563257  \n",
       "mvp (+ lemma)                  0.742537  0.568832  \n",
       "all_neg                        0.748040  0.563257  "
      ]
     },
     "execution_count": 4,
     "metadata": {},
     "output_type": "execute_result"
    }
   ],
   "source": [
    "results_df = results_df.drop(index='all_neg', errors='ignore')\n",
    "results_df = results_df.append(utils.log_scores(mvp_pipe, train_df, y, 'all_neg', p_cut=1))\n",
    "results_df"
   ]
  },
  {
   "cell_type": "code",
   "execution_count": 5,
   "metadata": {
    "ExecuteTime": {
     "end_time": "2018-11-26T19:50:05.065320Z",
     "start_time": "2018-11-26T19:50:04.793919Z"
    }
   },
   "outputs": [
    {
     "data": {
      "text/html": [
       "<div>\n",
       "<style scoped>\n",
       "    .dataframe tbody tr th:only-of-type {\n",
       "        vertical-align: middle;\n",
       "    }\n",
       "\n",
       "    .dataframe tbody tr th {\n",
       "        vertical-align: top;\n",
       "    }\n",
       "\n",
       "    .dataframe thead th {\n",
       "        text-align: right;\n",
       "    }\n",
       "</style>\n",
       "<table border=\"1\" class=\"dataframe\">\n",
       "  <thead>\n",
       "    <tr style=\"text-align: right;\">\n",
       "      <th></th>\n",
       "      <th>accuracy</th>\n",
       "      <th>precision</th>\n",
       "      <th>recall</th>\n",
       "      <th>f1</th>\n",
       "      <th>auc</th>\n",
       "      <th>log_loss</th>\n",
       "    </tr>\n",
       "  </thead>\n",
       "  <tbody>\n",
       "    <tr>\n",
       "      <th>mvp (tf-idf, nmf(5), xgboost)</th>\n",
       "      <td>0.704833</td>\n",
       "      <td>0.670638</td>\n",
       "      <td>0.394130</td>\n",
       "      <td>0.496481</td>\n",
       "      <td>0.748040</td>\n",
       "      <td>0.563257</td>\n",
       "    </tr>\n",
       "    <tr>\n",
       "      <th>mvp (+ lemma)</th>\n",
       "      <td>0.699275</td>\n",
       "      <td>0.655821</td>\n",
       "      <td>0.390391</td>\n",
       "      <td>0.489436</td>\n",
       "      <td>0.742537</td>\n",
       "      <td>0.568832</td>\n",
       "    </tr>\n",
       "    <tr>\n",
       "      <th>all_neg</th>\n",
       "      <td>0.630780</td>\n",
       "      <td>0.000000</td>\n",
       "      <td>0.000000</td>\n",
       "      <td>0.000000</td>\n",
       "      <td>0.500000</td>\n",
       "      <td>12.752399</td>\n",
       "    </tr>\n",
       "  </tbody>\n",
       "</table>\n",
       "</div>"
      ],
      "text/plain": [
       "                               accuracy  precision    recall        f1  \\\n",
       "mvp (tf-idf, nmf(5), xgboost)  0.704833   0.670638  0.394130  0.496481   \n",
       "mvp (+ lemma)                  0.699275   0.655821  0.390391  0.489436   \n",
       "all_neg                        0.630780   0.000000  0.000000  0.000000   \n",
       "\n",
       "                                    auc   log_loss  \n",
       "mvp (tf-idf, nmf(5), xgboost)  0.748040   0.563257  \n",
       "mvp (+ lemma)                  0.742537   0.568832  \n",
       "all_neg                        0.500000  12.752399  "
      ]
     },
     "execution_count": 5,
     "metadata": {},
     "output_type": "execute_result"
    }
   ],
   "source": [
    "results_df.loc['all_neg', 'auc'] = metrics.roc_auc_score(y, y_dummy)\n",
    "results_df.loc['all_neg', 'log_loss'] = metrics.log_loss(y, y_dummy)\n",
    "results_df"
   ]
  },
  {
   "cell_type": "code",
   "execution_count": 6,
   "metadata": {
    "ExecuteTime": {
     "end_time": "2018-11-26T19:50:05.081710Z",
     "start_time": "2018-11-26T19:50:05.071887Z"
    }
   },
   "outputs": [],
   "source": [
    "utils.save(results_df, 'results')"
   ]
  },
  {
   "cell_type": "markdown",
   "metadata": {},
   "source": [
    "### MVP Analysis\n",
    "\n",
    "Combine the MVP model predictions with the ground truth to analyze where the classification model does poorly."
   ]
  },
  {
   "cell_type": "code",
   "execution_count": 7,
   "metadata": {
    "ExecuteTime": {
     "end_time": "2018-11-26T19:50:05.122284Z",
     "start_time": "2018-11-26T19:50:05.084587Z"
    }
   },
   "outputs": [
    {
     "data": {
      "text/html": [
       "<div>\n",
       "<style scoped>\n",
       "    .dataframe tbody tr th:only-of-type {\n",
       "        vertical-align: middle;\n",
       "    }\n",
       "\n",
       "    .dataframe tbody tr th {\n",
       "        vertical-align: top;\n",
       "    }\n",
       "\n",
       "    .dataframe thead th {\n",
       "        text-align: right;\n",
       "    }\n",
       "</style>\n",
       "<table border=\"1\" class=\"dataframe\">\n",
       "  <thead>\n",
       "    <tr style=\"text-align: right;\">\n",
       "      <th></th>\n",
       "      <th>gt</th>\n",
       "      <th>prob</th>\n",
       "      <th>diff</th>\n",
       "    </tr>\n",
       "  </thead>\n",
       "  <tbody>\n",
       "    <tr>\n",
       "      <th>0</th>\n",
       "      <td>0</td>\n",
       "      <td>0.111957</td>\n",
       "      <td>-0.111957</td>\n",
       "    </tr>\n",
       "    <tr>\n",
       "      <th>1</th>\n",
       "      <td>0</td>\n",
       "      <td>0.189304</td>\n",
       "      <td>-0.189304</td>\n",
       "    </tr>\n",
       "    <tr>\n",
       "      <th>2</th>\n",
       "      <td>0</td>\n",
       "      <td>0.465162</td>\n",
       "      <td>-0.465162</td>\n",
       "    </tr>\n",
       "    <tr>\n",
       "      <th>3</th>\n",
       "      <td>0</td>\n",
       "      <td>0.276392</td>\n",
       "      <td>-0.276392</td>\n",
       "    </tr>\n",
       "    <tr>\n",
       "      <th>4</th>\n",
       "      <td>0</td>\n",
       "      <td>0.297288</td>\n",
       "      <td>-0.297288</td>\n",
       "    </tr>\n",
       "  </tbody>\n",
       "</table>\n",
       "</div>"
      ],
      "text/plain": [
       "   gt      prob      diff\n",
       "0   0  0.111957 -0.111957\n",
       "1   0  0.189304 -0.189304\n",
       "2   0  0.465162 -0.465162\n",
       "3   0  0.276392 -0.276392\n",
       "4   0  0.297288 -0.297288"
      ]
     },
     "execution_count": 7,
     "metadata": {},
     "output_type": "execute_result"
    }
   ],
   "source": [
    "train_probs_df = utils.ground_truth_analysis(y, y_probs)\n",
    "train_probs_df.head()"
   ]
  },
  {
   "cell_type": "markdown",
   "metadata": {},
   "source": [
    "Top pairs that are **not** duplicates, but classified as duplicates."
   ]
  },
  {
   "cell_type": "code",
   "execution_count": 8,
   "metadata": {
    "ExecuteTime": {
     "end_time": "2018-11-26T19:50:05.266130Z",
     "start_time": "2018-11-26T19:50:05.127178Z"
    }
   },
   "outputs": [
    {
     "data": {
      "text/html": [
       "<div>\n",
       "<style scoped>\n",
       "    .dataframe tbody tr th:only-of-type {\n",
       "        vertical-align: middle;\n",
       "    }\n",
       "\n",
       "    .dataframe tbody tr th {\n",
       "        vertical-align: top;\n",
       "    }\n",
       "\n",
       "    .dataframe thead th {\n",
       "        text-align: right;\n",
       "    }\n",
       "</style>\n",
       "<table border=\"1\" class=\"dataframe\">\n",
       "  <thead>\n",
       "    <tr style=\"text-align: right;\">\n",
       "      <th></th>\n",
       "      <th>gt</th>\n",
       "      <th>prob</th>\n",
       "      <th>diff</th>\n",
       "    </tr>\n",
       "  </thead>\n",
       "  <tbody>\n",
       "    <tr>\n",
       "      <th>129758</th>\n",
       "      <td>0</td>\n",
       "      <td>0.976695</td>\n",
       "      <td>-0.976695</td>\n",
       "    </tr>\n",
       "    <tr>\n",
       "      <th>228518</th>\n",
       "      <td>0</td>\n",
       "      <td>0.974996</td>\n",
       "      <td>-0.974996</td>\n",
       "    </tr>\n",
       "    <tr>\n",
       "      <th>220182</th>\n",
       "      <td>0</td>\n",
       "      <td>0.972504</td>\n",
       "      <td>-0.972504</td>\n",
       "    </tr>\n",
       "    <tr>\n",
       "      <th>4106</th>\n",
       "      <td>0</td>\n",
       "      <td>0.970070</td>\n",
       "      <td>-0.970070</td>\n",
       "    </tr>\n",
       "    <tr>\n",
       "      <th>119978</th>\n",
       "      <td>0</td>\n",
       "      <td>0.967884</td>\n",
       "      <td>-0.967884</td>\n",
       "    </tr>\n",
       "  </tbody>\n",
       "</table>\n",
       "</div>"
      ],
      "text/plain": [
       "        gt      prob      diff\n",
       "129758   0  0.976695 -0.976695\n",
       "228518   0  0.974996 -0.974996\n",
       "220182   0  0.972504 -0.972504\n",
       "4106     0  0.970070 -0.970070\n",
       "119978   0  0.967884 -0.967884"
      ]
     },
     "execution_count": 8,
     "metadata": {},
     "output_type": "execute_result"
    }
   ],
   "source": [
    "train_probs_df.sort_values('diff').head()"
   ]
  },
  {
   "cell_type": "code",
   "execution_count": 9,
   "metadata": {
    "ExecuteTime": {
     "end_time": "2018-11-26T19:50:05.398884Z",
     "start_time": "2018-11-26T19:50:05.269832Z"
    }
   },
   "outputs": [
    {
     "data": {
      "text/html": [
       "<div>\n",
       "<style scoped>\n",
       "    .dataframe tbody tr th:only-of-type {\n",
       "        vertical-align: middle;\n",
       "    }\n",
       "\n",
       "    .dataframe tbody tr th {\n",
       "        vertical-align: top;\n",
       "    }\n",
       "\n",
       "    .dataframe thead th {\n",
       "        text-align: right;\n",
       "    }\n",
       "</style>\n",
       "<table border=\"1\" class=\"dataframe\">\n",
       "  <thead>\n",
       "    <tr style=\"text-align: right;\">\n",
       "      <th></th>\n",
       "      <th>id</th>\n",
       "      <th>qid1</th>\n",
       "      <th>qid2</th>\n",
       "      <th>question1</th>\n",
       "      <th>question2</th>\n",
       "      <th>is_duplicate</th>\n",
       "      <th>q1_len</th>\n",
       "      <th>q2_len</th>\n",
       "    </tr>\n",
       "  </thead>\n",
       "  <tbody>\n",
       "    <tr>\n",
       "      <th>129767</th>\n",
       "      <td>129767</td>\n",
       "      <td>208389</td>\n",
       "      <td>208390</td>\n",
       "      <td>How do I do earn money online for free in India?</td>\n",
       "      <td>How can one earn money online in India?</td>\n",
       "      <td>0</td>\n",
       "      <td>48.0</td>\n",
       "      <td>39.0</td>\n",
       "    </tr>\n",
       "    <tr>\n",
       "      <th>228537</th>\n",
       "      <td>228537</td>\n",
       "      <td>49755</td>\n",
       "      <td>337625</td>\n",
       "      <td>What is the reason behind banning of ₹500 and ...</td>\n",
       "      <td>How can I convert 500 and 1000 rupee notes ban...</td>\n",
       "      <td>0</td>\n",
       "      <td>67.0</td>\n",
       "      <td>77.0</td>\n",
       "    </tr>\n",
       "    <tr>\n",
       "      <th>220201</th>\n",
       "      <td>220201</td>\n",
       "      <td>327260</td>\n",
       "      <td>327261</td>\n",
       "      <td>Do people make money from Quora posts?</td>\n",
       "      <td>Are there people making money on Quora?</td>\n",
       "      <td>0</td>\n",
       "      <td>38.0</td>\n",
       "      <td>39.0</td>\n",
       "    </tr>\n",
       "    <tr>\n",
       "      <th>4107</th>\n",
       "      <td>4107</td>\n",
       "      <td>8128</td>\n",
       "      <td>8129</td>\n",
       "      <td>Why is the Indian government not abolishing th...</td>\n",
       "      <td>What is the percentage of domestic black money...</td>\n",
       "      <td>0</td>\n",
       "      <td>100.0</td>\n",
       "      <td>150.0</td>\n",
       "    </tr>\n",
       "    <tr>\n",
       "      <th>119987</th>\n",
       "      <td>119987</td>\n",
       "      <td>128615</td>\n",
       "      <td>194699</td>\n",
       "      <td>Can a foreigner exchange 500 and 1000 rupee no...</td>\n",
       "      <td>Will the ban on 500 and 1000 rupee notes have ...</td>\n",
       "      <td>0</td>\n",
       "      <td>85.0</td>\n",
       "      <td>105.0</td>\n",
       "    </tr>\n",
       "  </tbody>\n",
       "</table>\n",
       "</div>"
      ],
      "text/plain": [
       "            id    qid1    qid2  \\\n",
       "129767  129767  208389  208390   \n",
       "228537  228537   49755  337625   \n",
       "220201  220201  327260  327261   \n",
       "4107      4107    8128    8129   \n",
       "119987  119987  128615  194699   \n",
       "\n",
       "                                                question1  \\\n",
       "129767   How do I do earn money online for free in India?   \n",
       "228537  What is the reason behind banning of ₹500 and ...   \n",
       "220201             Do people make money from Quora posts?   \n",
       "4107    Why is the Indian government not abolishing th...   \n",
       "119987  Can a foreigner exchange 500 and 1000 rupee no...   \n",
       "\n",
       "                                                question2  is_duplicate  \\\n",
       "129767            How can one earn money online in India?             0   \n",
       "228537  How can I convert 500 and 1000 rupee notes ban...             0   \n",
       "220201            Are there people making money on Quora?             0   \n",
       "4107    What is the percentage of domestic black money...             0   \n",
       "119987  Will the ban on 500 and 1000 rupee notes have ...             0   \n",
       "\n",
       "        q1_len  q2_len  \n",
       "129767    48.0    39.0  \n",
       "228537    67.0    77.0  \n",
       "220201    38.0    39.0  \n",
       "4107     100.0   150.0  \n",
       "119987    85.0   105.0  "
      ]
     },
     "execution_count": 9,
     "metadata": {},
     "output_type": "execute_result"
    }
   ],
   "source": [
    "idx_false_pos = train_probs_df.sort_values('diff').head().index\n",
    "train_df.iloc[idx_false_pos]"
   ]
  },
  {
   "cell_type": "markdown",
   "metadata": {},
   "source": [
    "Top pairs that **are** duplicates, but classified as not duplicates."
   ]
  },
  {
   "cell_type": "code",
   "execution_count": 10,
   "metadata": {
    "ExecuteTime": {
     "end_time": "2018-11-26T19:50:05.529054Z",
     "start_time": "2018-11-26T19:50:05.403207Z"
    }
   },
   "outputs": [
    {
     "data": {
      "text/html": [
       "<div>\n",
       "<style scoped>\n",
       "    .dataframe tbody tr th:only-of-type {\n",
       "        vertical-align: middle;\n",
       "    }\n",
       "\n",
       "    .dataframe tbody tr th {\n",
       "        vertical-align: top;\n",
       "    }\n",
       "\n",
       "    .dataframe thead th {\n",
       "        text-align: right;\n",
       "    }\n",
       "</style>\n",
       "<table border=\"1\" class=\"dataframe\">\n",
       "  <thead>\n",
       "    <tr style=\"text-align: right;\">\n",
       "      <th></th>\n",
       "      <th>gt</th>\n",
       "      <th>prob</th>\n",
       "      <th>diff</th>\n",
       "    </tr>\n",
       "  </thead>\n",
       "  <tbody>\n",
       "    <tr>\n",
       "      <th>401440</th>\n",
       "      <td>1</td>\n",
       "      <td>0.028680</td>\n",
       "      <td>0.971320</td>\n",
       "    </tr>\n",
       "    <tr>\n",
       "      <th>195563</th>\n",
       "      <td>1</td>\n",
       "      <td>0.035745</td>\n",
       "      <td>0.964255</td>\n",
       "    </tr>\n",
       "    <tr>\n",
       "      <th>145494</th>\n",
       "      <td>1</td>\n",
       "      <td>0.038411</td>\n",
       "      <td>0.961589</td>\n",
       "    </tr>\n",
       "    <tr>\n",
       "      <th>356667</th>\n",
       "      <td>1</td>\n",
       "      <td>0.039607</td>\n",
       "      <td>0.960393</td>\n",
       "    </tr>\n",
       "    <tr>\n",
       "      <th>205507</th>\n",
       "      <td>1</td>\n",
       "      <td>0.041198</td>\n",
       "      <td>0.958802</td>\n",
       "    </tr>\n",
       "  </tbody>\n",
       "</table>\n",
       "</div>"
      ],
      "text/plain": [
       "        gt      prob      diff\n",
       "401440   1  0.028680  0.971320\n",
       "195563   1  0.035745  0.964255\n",
       "145494   1  0.038411  0.961589\n",
       "356667   1  0.039607  0.960393\n",
       "205507   1  0.041198  0.958802"
      ]
     },
     "execution_count": 10,
     "metadata": {},
     "output_type": "execute_result"
    }
   ],
   "source": [
    "train_probs_df.sort_values('diff', ascending=False).head()"
   ]
  },
  {
   "cell_type": "code",
   "execution_count": 11,
   "metadata": {
    "ExecuteTime": {
     "end_time": "2018-11-26T19:50:05.663309Z",
     "start_time": "2018-11-26T19:50:05.533185Z"
    }
   },
   "outputs": [
    {
     "name": "stdout",
     "output_type": "stream",
     "text": [
      "Do angel investors invests in early stage startups? Like you have the idea and you want to build your product?\n",
      "Do angel investors invest just on idea or product? Can I ask them funding for the development of the product?\n",
      "\n",
      "How can MSG the warrior Lion Heart get 9.8 on IMDB with over 3K votes?\n",
      "How movies like MSG the Warrior get rating of 9.4 on IMDB with more than 4000 people voting.\n",
      "\n",
      "How do I know the balance in my PF (provident fund) account online?\n",
      "How do we check if PF (Provident Found) paid regularly into my account from my company?\n",
      "\n",
      "Should fairness creams like Ponds, Fair and Lovely etc. be banned for misleading people/consumers?\n",
      "Should fairness creams be banned in India?\n",
      "\n",
      "How is the criminal justice system in the United States institutionally racist, specifically against African Americans?\n",
      "Why are there so many African Americans fathers in prison? Is the criminal justice system rigged against black people to fail in life?\n",
      "\n"
     ]
    }
   ],
   "source": [
    "idx_false_neg = train_probs_df.sort_values('diff', ascending=False).head().index\n",
    "false_neg_df = train_df.iloc[idx_false_neg]\n",
    "\n",
    "for row in false_neg_df.values:\n",
    "    print(row[3])\n",
    "    print(row[4])\n",
    "    print()"
   ]
  },
  {
   "cell_type": "code",
   "execution_count": 12,
   "metadata": {
    "ExecuteTime": {
     "end_time": "2018-11-26T19:50:05.778866Z",
     "start_time": "2018-11-26T19:50:05.666236Z"
    }
   },
   "outputs": [],
   "source": [
    "mvp_lemma_model = utils.load('mvp_lemma_model')"
   ]
  },
  {
   "cell_type": "code",
   "execution_count": 13,
   "metadata": {
    "ExecuteTime": {
     "end_time": "2018-11-26T19:50:05.876850Z",
     "start_time": "2018-11-26T19:50:05.781229Z"
    }
   },
   "outputs": [
    {
     "data": {
      "text/plain": [
       "Pipeline(memory=None,\n",
       "     steps=[('stack', FunctionTransformer(accept_sparse=False, check_inverse=True,\n",
       "          func=<function stack_questions at 0x1a1d276158>,\n",
       "          inv_kw_args=None, inverse_func=None, kw_args=None,\n",
       "          pass_y='deprecated', validate=False)), ('lemma', FunctionTransformer(accept_sparse=False, ch...ate=42, reg_alpha=0, reg_lambda=1, scale_pos_weight=1,\n",
       "       seed=None, silent=True, subsample=1))])"
      ]
     },
     "execution_count": 13,
     "metadata": {},
     "output_type": "execute_result"
    }
   ],
   "source": [
    "mvp_lemma_model.fit(false_neg_df, false_neg_df.is_duplicate.values)"
   ]
  },
  {
   "cell_type": "code",
   "execution_count": 14,
   "metadata": {
    "ExecuteTime": {
     "end_time": "2018-11-26T19:50:05.933335Z",
     "start_time": "2018-11-26T19:50:05.880616Z"
    }
   },
   "outputs": [
    {
     "data": {
      "text/plain": [
       "array([[0.9955355 , 0.00446454],\n",
       "       [0.9955355 , 0.00446454],\n",
       "       [0.9955355 , 0.00446454],\n",
       "       [0.9955355 , 0.00446454],\n",
       "       [0.9955355 , 0.00446454]], dtype=float32)"
      ]
     },
     "execution_count": 14,
     "metadata": {},
     "output_type": "execute_result"
    }
   ],
   "source": [
    "y_fn_probs = mvp_lemma_model.predict_proba(false_neg_df)\n",
    "y_fn_probs"
   ]
  },
  {
   "cell_type": "code",
   "execution_count": 15,
   "metadata": {
    "ExecuteTime": {
     "end_time": "2018-11-26T19:50:05.954508Z",
     "start_time": "2018-11-26T19:50:05.948261Z"
    }
   },
   "outputs": [],
   "source": [
    "from sklearn.pipeline import Pipeline\n",
    "lemma_only = Pipeline(mvp_lemma_model.steps[:5])"
   ]
  },
  {
   "cell_type": "code",
   "execution_count": 16,
   "metadata": {
    "ExecuteTime": {
     "end_time": "2018-11-26T19:50:06.020780Z",
     "start_time": "2018-11-26T19:50:05.957708Z"
    }
   },
   "outputs": [
    {
     "data": {
      "text/html": [
       "<div>\n",
       "<style scoped>\n",
       "    .dataframe tbody tr th:only-of-type {\n",
       "        vertical-align: middle;\n",
       "    }\n",
       "\n",
       "    .dataframe tbody tr th {\n",
       "        vertical-align: top;\n",
       "    }\n",
       "\n",
       "    .dataframe thead th {\n",
       "        text-align: right;\n",
       "    }\n",
       "</style>\n",
       "<table border=\"1\" class=\"dataframe\">\n",
       "  <thead>\n",
       "    <tr style=\"text-align: right;\">\n",
       "      <th></th>\n",
       "      <th>0</th>\n",
       "      <th>1</th>\n",
       "      <th>2</th>\n",
       "      <th>3</th>\n",
       "      <th>4</th>\n",
       "      <th>5</th>\n",
       "      <th>6</th>\n",
       "      <th>7</th>\n",
       "      <th>8</th>\n",
       "      <th>9</th>\n",
       "    </tr>\n",
       "  </thead>\n",
       "  <tbody>\n",
       "    <tr>\n",
       "      <th>0</th>\n",
       "      <td>0.000000</td>\n",
       "      <td>0.000000</td>\n",
       "      <td>0.000000</td>\n",
       "      <td>0.000000</td>\n",
       "      <td>7.806189e-01</td>\n",
       "      <td>0.000000</td>\n",
       "      <td>0.027203</td>\n",
       "      <td>0.000000</td>\n",
       "      <td>0.000000</td>\n",
       "      <td>0.778823</td>\n",
       "    </tr>\n",
       "    <tr>\n",
       "      <th>1</th>\n",
       "      <td>0.590685</td>\n",
       "      <td>0.017913</td>\n",
       "      <td>0.018372</td>\n",
       "      <td>0.043033</td>\n",
       "      <td>0.000000e+00</td>\n",
       "      <td>0.593884</td>\n",
       "      <td>0.000000</td>\n",
       "      <td>0.000000</td>\n",
       "      <td>0.000000</td>\n",
       "      <td>0.000000</td>\n",
       "    </tr>\n",
       "    <tr>\n",
       "      <th>2</th>\n",
       "      <td>0.012376</td>\n",
       "      <td>0.000000</td>\n",
       "      <td>0.797876</td>\n",
       "      <td>0.017034</td>\n",
       "      <td>0.000000e+00</td>\n",
       "      <td>0.000000</td>\n",
       "      <td>0.000000</td>\n",
       "      <td>0.799114</td>\n",
       "      <td>0.000000</td>\n",
       "      <td>0.000000</td>\n",
       "    </tr>\n",
       "    <tr>\n",
       "      <th>3</th>\n",
       "      <td>0.000000</td>\n",
       "      <td>0.000000</td>\n",
       "      <td>0.000000</td>\n",
       "      <td>0.882146</td>\n",
       "      <td>8.864733e-16</td>\n",
       "      <td>0.026570</td>\n",
       "      <td>0.015320</td>\n",
       "      <td>0.015649</td>\n",
       "      <td>0.877722</td>\n",
       "      <td>0.000000</td>\n",
       "    </tr>\n",
       "    <tr>\n",
       "      <th>4</th>\n",
       "      <td>0.000000</td>\n",
       "      <td>0.799460</td>\n",
       "      <td>0.000000</td>\n",
       "      <td>0.000000</td>\n",
       "      <td>3.019659e-02</td>\n",
       "      <td>0.013109</td>\n",
       "      <td>0.800101</td>\n",
       "      <td>0.000000</td>\n",
       "      <td>0.017970</td>\n",
       "      <td>0.000000</td>\n",
       "    </tr>\n",
       "  </tbody>\n",
       "</table>\n",
       "</div>"
      ],
      "text/plain": [
       "          0         1         2         3             4         5         6  \\\n",
       "0  0.000000  0.000000  0.000000  0.000000  7.806189e-01  0.000000  0.027203   \n",
       "1  0.590685  0.017913  0.018372  0.043033  0.000000e+00  0.593884  0.000000   \n",
       "2  0.012376  0.000000  0.797876  0.017034  0.000000e+00  0.000000  0.000000   \n",
       "3  0.000000  0.000000  0.000000  0.882146  8.864733e-16  0.026570  0.015320   \n",
       "4  0.000000  0.799460  0.000000  0.000000  3.019659e-02  0.013109  0.800101   \n",
       "\n",
       "          7         8         9  \n",
       "0  0.000000  0.000000  0.778823  \n",
       "1  0.000000  0.000000  0.000000  \n",
       "2  0.799114  0.000000  0.000000  \n",
       "3  0.015649  0.877722  0.000000  \n",
       "4  0.000000  0.017970  0.000000  "
      ]
     },
     "execution_count": 16,
     "metadata": {},
     "output_type": "execute_result"
    }
   ],
   "source": [
    "pd.DataFrame(lemma_only.transform(false_neg_df))"
   ]
  },
  {
   "cell_type": "code",
   "execution_count": 17,
   "metadata": {
    "ExecuteTime": {
     "end_time": "2018-11-26T19:50:06.065219Z",
     "start_time": "2018-11-26T19:50:06.026429Z"
    }
   },
   "outputs": [
    {
     "data": {
      "text/plain": [
       "array([[0.00000000e+00, 0.00000000e+00, 0.00000000e+00, 0.00000000e+00,\n",
       "        7.80618879e-01, 0.00000000e+00, 2.72030480e-02, 0.00000000e+00,\n",
       "        0.00000000e+00, 7.78823252e-01, 9.99390561e-01],\n",
       "       [5.90684975e-01, 1.79134591e-02, 1.83721565e-02, 4.30328362e-02,\n",
       "        0.00000000e+00, 5.93883972e-01, 0.00000000e+00, 0.00000000e+00,\n",
       "        0.00000000e+00, 0.00000000e+00, 9.96422003e-01],\n",
       "       [1.23763045e-02, 0.00000000e+00, 7.97875843e-01, 1.70338613e-02,\n",
       "        0.00000000e+00, 0.00000000e+00, 0.00000000e+00, 7.99114126e-01,\n",
       "        0.00000000e+00, 0.00000000e+00, 9.99651987e-01],\n",
       "       [0.00000000e+00, 0.00000000e+00, 0.00000000e+00, 8.82145595e-01,\n",
       "        8.86473338e-16, 2.65704493e-02, 1.53204005e-02, 1.56490514e-02,\n",
       "        8.77721710e-01, 0.00000000e+00, 9.99231414e-01],\n",
       "       [0.00000000e+00, 7.99460446e-01, 0.00000000e+00, 0.00000000e+00,\n",
       "        3.01965934e-02, 1.31091077e-02, 8.00101227e-01, 0.00000000e+00,\n",
       "        1.79701148e-02, 0.00000000e+00, 9.98901485e-01]])"
      ]
     },
     "execution_count": 17,
     "metadata": {},
     "output_type": "execute_result"
    }
   ],
   "source": [
    "utils.calc_cos_sim(lemma_only.transform(false_neg_df))"
   ]
  },
  {
   "cell_type": "code",
   "execution_count": 18,
   "metadata": {
    "ExecuteTime": {
     "end_time": "2018-11-26T19:50:06.097035Z",
     "start_time": "2018-11-26T19:50:06.087244Z"
    }
   },
   "outputs": [],
   "source": [
    "from sklearn.preprocessing import FunctionTransformer\n",
    "from sklearn.feature_extraction.text import TfidfVectorizer\n",
    "from sklearn.decomposition import NMF\n",
    "\n",
    "from xgboost import XGBClassifier"
   ]
  },
  {
   "cell_type": "code",
   "execution_count": 19,
   "metadata": {
    "ExecuteTime": {
     "end_time": "2018-11-26T19:50:06.183521Z",
     "start_time": "2018-11-26T19:50:06.101331Z"
    }
   },
   "outputs": [
    {
     "data": {
      "text/plain": [
       "Pipeline(memory=None,\n",
       "     steps=[('stack', FunctionTransformer(accept_sparse=False, check_inverse=True,\n",
       "          func=<function stack_questions at 0x1a1d276158>,\n",
       "          inv_kw_args=None, inverse_func=None, kw_args=None,\n",
       "          pass_y='deprecated', validate=False)), ('lemma', FunctionTransformer(accept_sparse=False, ch...ate=42, reg_alpha=0, reg_lambda=1, scale_pos_weight=1,\n",
       "       seed=None, silent=True, subsample=1))])"
      ]
     },
     "execution_count": 19,
     "metadata": {},
     "output_type": "execute_result"
    }
   ],
   "source": [
    "pipe_cos_sim = Pipeline(\n",
    "    [\n",
    "        ('stack', FunctionTransformer(utils.stack_questions, validate=False)),\n",
    "        ('lemma', FunctionTransformer(utils.cleanup_text, validate=False)),\n",
    "        ('tfidf', TfidfVectorizer()),\n",
    "        ('nmf', NMF(n_components=5)),\n",
    "        ('unstack', FunctionTransformer(utils.unstack_questions, validate=True)),\n",
    "        ('cos_sim', FunctionTransformer(utils.calc_cos_sim, validate=True)),\n",
    "        ('xgb', XGBClassifier(n_estimators=500, random_state=42))\n",
    "    ]\n",
    ")\n",
    "pipe_cos_sim.fit(false_neg_df, false_neg_df.is_duplicate.values)"
   ]
  },
  {
   "cell_type": "code",
   "execution_count": 20,
   "metadata": {
    "ExecuteTime": {
     "end_time": "2018-11-26T19:50:06.239910Z",
     "start_time": "2018-11-26T19:50:06.186212Z"
    }
   },
   "outputs": [
    {
     "data": {
      "text/plain": [
       "array([[0.9955355 , 0.00446454],\n",
       "       [0.9955355 , 0.00446454],\n",
       "       [0.9955355 , 0.00446454],\n",
       "       [0.9955355 , 0.00446454],\n",
       "       [0.9955355 , 0.00446454]], dtype=float32)"
      ]
     },
     "execution_count": 20,
     "metadata": {},
     "output_type": "execute_result"
    }
   ],
   "source": [
    "pipe_cos_sim.predict_proba(false_neg_df)"
   ]
  },
  {
   "cell_type": "markdown",
   "metadata": {
    "ExecuteTime": {
     "end_time": "2018-11-26T18:52:05.462109Z",
     "start_time": "2018-11-26T18:52:05.455687Z"
    }
   },
   "source": [
    "No change in the result, but this is an unrealistic test. Let's now expand this into a full model to see if there is an impact or not."
   ]
  },
  {
   "cell_type": "code",
   "execution_count": null,
   "metadata": {},
   "outputs": [],
   "source": []
  }
 ],
 "metadata": {
  "kernelspec": {
   "display_name": "Python [conda env:project5]",
   "language": "python",
   "name": "conda-env-project5-py"
  },
  "language_info": {
   "codemirror_mode": {
    "name": "ipython",
    "version": 3
   },
   "file_extension": ".py",
   "mimetype": "text/x-python",
   "name": "python",
   "nbconvert_exporter": "python",
   "pygments_lexer": "ipython3",
   "version": "3.7.1"
  }
 },
 "nbformat": 4,
 "nbformat_minor": 2
}
