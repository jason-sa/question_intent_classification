{
 "cells": [
  {
   "cell_type": "code",
   "execution_count": 1,
   "metadata": {
    "ExecuteTime": {
     "end_time": "2018-11-26T23:09:47.617222Z",
     "start_time": "2018-11-26T23:09:34.618982Z"
    }
   },
   "outputs": [],
   "source": [
    "# data manipulation\n",
    "import utils\n",
    "import pandas as pd\n",
    "import numpy as np\n",
    "\n",
    "\n",
    "from sklearn import metrics"
   ]
  },
  {
   "cell_type": "code",
   "execution_count": 2,
   "metadata": {
    "ExecuteTime": {
     "end_time": "2018-11-26T23:09:48.330977Z",
     "start_time": "2018-11-26T23:09:47.624953Z"
    }
   },
   "outputs": [],
   "source": [
    "mvp_pipe = utils.load('mvp_model')\n",
    "train_df = utils.load('X_train')\n",
    "results_df = utils.load('results')\n",
    "y = utils.load('y_train')"
   ]
  },
  {
   "cell_type": "code",
   "execution_count": 3,
   "metadata": {
    "ExecuteTime": {
     "end_time": "2018-11-26T23:09:58.403422Z",
     "start_time": "2018-11-26T23:09:48.332890Z"
    }
   },
   "outputs": [],
   "source": [
    "y_probs = mvp_pipe.predict_proba(train_df)[:, 1]\n",
    "y_dummy = np.zeros(len(y_probs))"
   ]
  },
  {
   "cell_type": "markdown",
   "metadata": {},
   "source": [
    "### Add all negtive prediction to results"
   ]
  },
  {
   "cell_type": "code",
   "execution_count": 4,
   "metadata": {
    "ExecuteTime": {
     "end_time": "2018-11-26T23:10:08.485034Z",
     "start_time": "2018-11-26T23:09:58.410454Z"
    }
   },
   "outputs": [
    {
     "name": "stderr",
     "output_type": "stream",
     "text": [
      "/anaconda3/envs/project5/lib/python3.7/site-packages/sklearn/metrics/classification.py:1143: UndefinedMetricWarning: Precision is ill-defined and being set to 0.0 due to no predicted samples.\n",
      "  'precision', 'predicted', average, warn_for)\n",
      "/anaconda3/envs/project5/lib/python3.7/site-packages/sklearn/metrics/classification.py:1143: UndefinedMetricWarning: F-score is ill-defined and being set to 0.0 due to no predicted samples.\n",
      "  'precision', 'predicted', average, warn_for)\n"
     ]
    },
    {
     "data": {
      "text/html": [
       "<div>\n",
       "<style scoped>\n",
       "    .dataframe tbody tr th:only-of-type {\n",
       "        vertical-align: middle;\n",
       "    }\n",
       "\n",
       "    .dataframe tbody tr th {\n",
       "        vertical-align: top;\n",
       "    }\n",
       "\n",
       "    .dataframe thead th {\n",
       "        text-align: right;\n",
       "    }\n",
       "</style>\n",
       "<table border=\"1\" class=\"dataframe\">\n",
       "  <thead>\n",
       "    <tr style=\"text-align: right;\">\n",
       "      <th></th>\n",
       "      <th>accuracy</th>\n",
       "      <th>precision</th>\n",
       "      <th>recall</th>\n",
       "      <th>f1</th>\n",
       "      <th>auc</th>\n",
       "      <th>log_loss</th>\n",
       "    </tr>\n",
       "  </thead>\n",
       "  <tbody>\n",
       "    <tr>\n",
       "      <th>mvp (tf-idf, nmf(5), xgboost)</th>\n",
       "      <td>0.631325</td>\n",
       "      <td>0.823529</td>\n",
       "      <td>0.001876</td>\n",
       "      <td>0.003743</td>\n",
       "      <td>0.571099</td>\n",
       "      <td>0.654121</td>\n",
       "    </tr>\n",
       "    <tr>\n",
       "      <th>mvp (+ lemma)</th>\n",
       "      <td>0.631466</td>\n",
       "      <td>0.819018</td>\n",
       "      <td>0.002385</td>\n",
       "      <td>0.004756</td>\n",
       "      <td>0.571259</td>\n",
       "      <td>0.654228</td>\n",
       "    </tr>\n",
       "    <tr>\n",
       "      <th>all_neg</th>\n",
       "      <td>0.630780</td>\n",
       "      <td>0.000000</td>\n",
       "      <td>0.000000</td>\n",
       "      <td>0.000000</td>\n",
       "      <td>0.571099</td>\n",
       "      <td>0.654121</td>\n",
       "    </tr>\n",
       "  </tbody>\n",
       "</table>\n",
       "</div>"
      ],
      "text/plain": [
       "                               accuracy  precision    recall        f1  \\\n",
       "mvp (tf-idf, nmf(5), xgboost)  0.631325   0.823529  0.001876  0.003743   \n",
       "mvp (+ lemma)                  0.631466   0.819018  0.002385  0.004756   \n",
       "all_neg                        0.630780   0.000000  0.000000  0.000000   \n",
       "\n",
       "                                    auc  log_loss  \n",
       "mvp (tf-idf, nmf(5), xgboost)  0.571099  0.654121  \n",
       "mvp (+ lemma)                  0.571259  0.654228  \n",
       "all_neg                        0.571099  0.654121  "
      ]
     },
     "execution_count": 4,
     "metadata": {},
     "output_type": "execute_result"
    }
   ],
   "source": [
    "results_df = results_df.drop(index='all_neg', errors='ignore')\n",
    "results_df = results_df.append(utils.log_scores(mvp_pipe, train_df, y, 'all_neg', p_cut=1))\n",
    "results_df"
   ]
  },
  {
   "cell_type": "code",
   "execution_count": 5,
   "metadata": {
    "ExecuteTime": {
     "end_time": "2018-11-26T23:10:08.690813Z",
     "start_time": "2018-11-26T23:10:08.490506Z"
    }
   },
   "outputs": [
    {
     "data": {
      "text/html": [
       "<div>\n",
       "<style scoped>\n",
       "    .dataframe tbody tr th:only-of-type {\n",
       "        vertical-align: middle;\n",
       "    }\n",
       "\n",
       "    .dataframe tbody tr th {\n",
       "        vertical-align: top;\n",
       "    }\n",
       "\n",
       "    .dataframe thead th {\n",
       "        text-align: right;\n",
       "    }\n",
       "</style>\n",
       "<table border=\"1\" class=\"dataframe\">\n",
       "  <thead>\n",
       "    <tr style=\"text-align: right;\">\n",
       "      <th></th>\n",
       "      <th>accuracy</th>\n",
       "      <th>precision</th>\n",
       "      <th>recall</th>\n",
       "      <th>f1</th>\n",
       "      <th>auc</th>\n",
       "      <th>log_loss</th>\n",
       "    </tr>\n",
       "  </thead>\n",
       "  <tbody>\n",
       "    <tr>\n",
       "      <th>mvp (tf-idf, nmf(5), xgboost)</th>\n",
       "      <td>0.631325</td>\n",
       "      <td>0.823529</td>\n",
       "      <td>0.001876</td>\n",
       "      <td>0.003743</td>\n",
       "      <td>0.571099</td>\n",
       "      <td>0.654121</td>\n",
       "    </tr>\n",
       "    <tr>\n",
       "      <th>mvp (+ lemma)</th>\n",
       "      <td>0.631466</td>\n",
       "      <td>0.819018</td>\n",
       "      <td>0.002385</td>\n",
       "      <td>0.004756</td>\n",
       "      <td>0.571259</td>\n",
       "      <td>0.654228</td>\n",
       "    </tr>\n",
       "    <tr>\n",
       "      <th>all_neg</th>\n",
       "      <td>0.630780</td>\n",
       "      <td>0.000000</td>\n",
       "      <td>0.000000</td>\n",
       "      <td>0.000000</td>\n",
       "      <td>0.500000</td>\n",
       "      <td>12.752392</td>\n",
       "    </tr>\n",
       "  </tbody>\n",
       "</table>\n",
       "</div>"
      ],
      "text/plain": [
       "                               accuracy  precision    recall        f1  \\\n",
       "mvp (tf-idf, nmf(5), xgboost)  0.631325   0.823529  0.001876  0.003743   \n",
       "mvp (+ lemma)                  0.631466   0.819018  0.002385  0.004756   \n",
       "all_neg                        0.630780   0.000000  0.000000  0.000000   \n",
       "\n",
       "                                    auc   log_loss  \n",
       "mvp (tf-idf, nmf(5), xgboost)  0.571099   0.654121  \n",
       "mvp (+ lemma)                  0.571259   0.654228  \n",
       "all_neg                        0.500000  12.752392  "
      ]
     },
     "execution_count": 5,
     "metadata": {},
     "output_type": "execute_result"
    }
   ],
   "source": [
    "results_df.loc['all_neg', 'auc'] = metrics.roc_auc_score(y, y_dummy)\n",
    "results_df.loc['all_neg', 'log_loss'] = metrics.log_loss(y, y_dummy)\n",
    "results_df"
   ]
  },
  {
   "cell_type": "code",
   "execution_count": 6,
   "metadata": {
    "ExecuteTime": {
     "end_time": "2018-11-26T23:10:08.701563Z",
     "start_time": "2018-11-26T23:10:08.693411Z"
    }
   },
   "outputs": [],
   "source": [
    "utils.save(results_df, 'results')"
   ]
  },
  {
   "cell_type": "markdown",
   "metadata": {},
   "source": [
    "### MVP Analysis\n",
    "\n",
    "Combine the MVP model predictions with the ground truth to analyze where the classification model does poorly."
   ]
  },
  {
   "cell_type": "code",
   "execution_count": 7,
   "metadata": {
    "ExecuteTime": {
     "end_time": "2018-11-26T23:10:08.763226Z",
     "start_time": "2018-11-26T23:10:08.707507Z"
    }
   },
   "outputs": [
    {
     "data": {
      "text/html": [
       "<div>\n",
       "<style scoped>\n",
       "    .dataframe tbody tr th:only-of-type {\n",
       "        vertical-align: middle;\n",
       "    }\n",
       "\n",
       "    .dataframe tbody tr th {\n",
       "        vertical-align: top;\n",
       "    }\n",
       "\n",
       "    .dataframe thead th {\n",
       "        text-align: right;\n",
       "    }\n",
       "</style>\n",
       "<table border=\"1\" class=\"dataframe\">\n",
       "  <thead>\n",
       "    <tr style=\"text-align: right;\">\n",
       "      <th></th>\n",
       "      <th>gt</th>\n",
       "      <th>prob</th>\n",
       "      <th>diff</th>\n",
       "    </tr>\n",
       "  </thead>\n",
       "  <tbody>\n",
       "    <tr>\n",
       "      <th>0</th>\n",
       "      <td>0</td>\n",
       "      <td>0.387433</td>\n",
       "      <td>-0.387433</td>\n",
       "    </tr>\n",
       "    <tr>\n",
       "      <th>1</th>\n",
       "      <td>0</td>\n",
       "      <td>0.375376</td>\n",
       "      <td>-0.375376</td>\n",
       "    </tr>\n",
       "    <tr>\n",
       "      <th>2</th>\n",
       "      <td>1</td>\n",
       "      <td>0.378481</td>\n",
       "      <td>0.621519</td>\n",
       "    </tr>\n",
       "    <tr>\n",
       "      <th>3</th>\n",
       "      <td>0</td>\n",
       "      <td>0.367141</td>\n",
       "      <td>-0.367141</td>\n",
       "    </tr>\n",
       "    <tr>\n",
       "      <th>4</th>\n",
       "      <td>1</td>\n",
       "      <td>0.365472</td>\n",
       "      <td>0.634528</td>\n",
       "    </tr>\n",
       "  </tbody>\n",
       "</table>\n",
       "</div>"
      ],
      "text/plain": [
       "   gt      prob      diff\n",
       "0   0  0.387433 -0.387433\n",
       "1   0  0.375376 -0.375376\n",
       "2   1  0.378481  0.621519\n",
       "3   0  0.367141 -0.367141\n",
       "4   1  0.365472  0.634528"
      ]
     },
     "execution_count": 7,
     "metadata": {},
     "output_type": "execute_result"
    }
   ],
   "source": [
    "train_probs_df = utils.ground_truth_analysis(y, y_probs)\n",
    "train_probs_df.head()"
   ]
  },
  {
   "cell_type": "markdown",
   "metadata": {},
   "source": [
    "Top pairs that are **not** duplicates, but classified as duplicates."
   ]
  },
  {
   "cell_type": "code",
   "execution_count": 8,
   "metadata": {
    "ExecuteTime": {
     "end_time": "2018-11-26T23:10:08.891972Z",
     "start_time": "2018-11-26T23:10:08.767404Z"
    }
   },
   "outputs": [
    {
     "data": {
      "text/html": [
       "<div>\n",
       "<style scoped>\n",
       "    .dataframe tbody tr th:only-of-type {\n",
       "        vertical-align: middle;\n",
       "    }\n",
       "\n",
       "    .dataframe tbody tr th {\n",
       "        vertical-align: top;\n",
       "    }\n",
       "\n",
       "    .dataframe thead th {\n",
       "        text-align: right;\n",
       "    }\n",
       "</style>\n",
       "<table border=\"1\" class=\"dataframe\">\n",
       "  <thead>\n",
       "    <tr style=\"text-align: right;\">\n",
       "      <th></th>\n",
       "      <th>gt</th>\n",
       "      <th>prob</th>\n",
       "      <th>diff</th>\n",
       "    </tr>\n",
       "  </thead>\n",
       "  <tbody>\n",
       "    <tr>\n",
       "      <th>96365</th>\n",
       "      <td>0</td>\n",
       "      <td>0.610469</td>\n",
       "      <td>-0.610469</td>\n",
       "    </tr>\n",
       "    <tr>\n",
       "      <th>302061</th>\n",
       "      <td>0</td>\n",
       "      <td>0.607997</td>\n",
       "      <td>-0.607997</td>\n",
       "    </tr>\n",
       "    <tr>\n",
       "      <th>221399</th>\n",
       "      <td>0</td>\n",
       "      <td>0.605531</td>\n",
       "      <td>-0.605531</td>\n",
       "    </tr>\n",
       "    <tr>\n",
       "      <th>150608</th>\n",
       "      <td>0</td>\n",
       "      <td>0.602485</td>\n",
       "      <td>-0.602485</td>\n",
       "    </tr>\n",
       "    <tr>\n",
       "      <th>296074</th>\n",
       "      <td>0</td>\n",
       "      <td>0.584514</td>\n",
       "      <td>-0.584514</td>\n",
       "    </tr>\n",
       "  </tbody>\n",
       "</table>\n",
       "</div>"
      ],
      "text/plain": [
       "        gt      prob      diff\n",
       "96365    0  0.610469 -0.610469\n",
       "302061   0  0.607997 -0.607997\n",
       "221399   0  0.605531 -0.605531\n",
       "150608   0  0.602485 -0.602485\n",
       "296074   0  0.584514 -0.584514"
      ]
     },
     "execution_count": 8,
     "metadata": {},
     "output_type": "execute_result"
    }
   ],
   "source": [
    "train_probs_df.sort_values('diff').head()"
   ]
  },
  {
   "cell_type": "code",
   "execution_count": 9,
   "metadata": {
    "ExecuteTime": {
     "end_time": "2018-11-26T23:10:09.000640Z",
     "start_time": "2018-11-26T23:10:08.895806Z"
    }
   },
   "outputs": [
    {
     "data": {
      "text/html": [
       "<div>\n",
       "<style scoped>\n",
       "    .dataframe tbody tr th:only-of-type {\n",
       "        vertical-align: middle;\n",
       "    }\n",
       "\n",
       "    .dataframe tbody tr th {\n",
       "        vertical-align: top;\n",
       "    }\n",
       "\n",
       "    .dataframe thead th {\n",
       "        text-align: right;\n",
       "    }\n",
       "</style>\n",
       "<table border=\"1\" class=\"dataframe\">\n",
       "  <thead>\n",
       "    <tr style=\"text-align: right;\">\n",
       "      <th></th>\n",
       "      <th>id</th>\n",
       "      <th>question1</th>\n",
       "      <th>question2</th>\n",
       "    </tr>\n",
       "  </thead>\n",
       "  <tbody>\n",
       "    <tr>\n",
       "      <th>86283</th>\n",
       "      <td>86283</td>\n",
       "      <td>What are the parts of a cell? What function do...</td>\n",
       "      <td>What are the two major types of cells? What fu...</td>\n",
       "    </tr>\n",
       "    <tr>\n",
       "      <th>397157</th>\n",
       "      <td>397157</td>\n",
       "      <td>What is a better pick: judiciary line or civil...</td>\n",
       "      <td>Can a color blinded person opt for IPS in UPSC...</td>\n",
       "    </tr>\n",
       "    <tr>\n",
       "      <th>164671</th>\n",
       "      <td>164671</td>\n",
       "      <td>What makes a great politician leader?</td>\n",
       "      <td>What makes a great leader?</td>\n",
       "    </tr>\n",
       "    <tr>\n",
       "      <th>396903</th>\n",
       "      <td>396903</td>\n",
       "      <td>Which one is better, a 70K private job or a 40...</td>\n",
       "      <td>Is a government job like IT officer in SBI bet...</td>\n",
       "    </tr>\n",
       "    <tr>\n",
       "      <th>371929</th>\n",
       "      <td>371929</td>\n",
       "      <td>I'm pursuing my BBA (UG course) and after that...</td>\n",
       "      <td>I have a family business and 2 older brothers....</td>\n",
       "    </tr>\n",
       "  </tbody>\n",
       "</table>\n",
       "</div>"
      ],
      "text/plain": [
       "            id                                          question1  \\\n",
       "86283    86283  What are the parts of a cell? What function do...   \n",
       "397157  397157  What is a better pick: judiciary line or civil...   \n",
       "164671  164671              What makes a great politician leader?   \n",
       "396903  396903  Which one is better, a 70K private job or a 40...   \n",
       "371929  371929  I'm pursuing my BBA (UG course) and after that...   \n",
       "\n",
       "                                                question2  \n",
       "86283   What are the two major types of cells? What fu...  \n",
       "397157  Can a color blinded person opt for IPS in UPSC...  \n",
       "164671                         What makes a great leader?  \n",
       "396903  Is a government job like IT officer in SBI bet...  \n",
       "371929  I have a family business and 2 older brothers....  "
      ]
     },
     "execution_count": 9,
     "metadata": {},
     "output_type": "execute_result"
    }
   ],
   "source": [
    "idx_false_pos = train_probs_df.sort_values('diff').head().index\n",
    "train_df.iloc[idx_false_pos]"
   ]
  },
  {
   "cell_type": "markdown",
   "metadata": {},
   "source": [
    "Top pairs that **are** duplicates, but classified as not duplicates."
   ]
  },
  {
   "cell_type": "code",
   "execution_count": 10,
   "metadata": {
    "ExecuteTime": {
     "end_time": "2018-11-26T23:10:09.097673Z",
     "start_time": "2018-11-26T23:10:09.003820Z"
    }
   },
   "outputs": [
    {
     "data": {
      "text/html": [
       "<div>\n",
       "<style scoped>\n",
       "    .dataframe tbody tr th:only-of-type {\n",
       "        vertical-align: middle;\n",
       "    }\n",
       "\n",
       "    .dataframe tbody tr th {\n",
       "        vertical-align: top;\n",
       "    }\n",
       "\n",
       "    .dataframe thead th {\n",
       "        text-align: right;\n",
       "    }\n",
       "</style>\n",
       "<table border=\"1\" class=\"dataframe\">\n",
       "  <thead>\n",
       "    <tr style=\"text-align: right;\">\n",
       "      <th></th>\n",
       "      <th>gt</th>\n",
       "      <th>prob</th>\n",
       "      <th>diff</th>\n",
       "    </tr>\n",
       "  </thead>\n",
       "  <tbody>\n",
       "    <tr>\n",
       "      <th>299139</th>\n",
       "      <td>1</td>\n",
       "      <td>0.171967</td>\n",
       "      <td>0.828033</td>\n",
       "    </tr>\n",
       "    <tr>\n",
       "      <th>202205</th>\n",
       "      <td>1</td>\n",
       "      <td>0.182819</td>\n",
       "      <td>0.817181</td>\n",
       "    </tr>\n",
       "    <tr>\n",
       "      <th>277438</th>\n",
       "      <td>1</td>\n",
       "      <td>0.196578</td>\n",
       "      <td>0.803422</td>\n",
       "    </tr>\n",
       "    <tr>\n",
       "      <th>28157</th>\n",
       "      <td>1</td>\n",
       "      <td>0.233236</td>\n",
       "      <td>0.766764</td>\n",
       "    </tr>\n",
       "    <tr>\n",
       "      <th>107724</th>\n",
       "      <td>1</td>\n",
       "      <td>0.235218</td>\n",
       "      <td>0.764782</td>\n",
       "    </tr>\n",
       "  </tbody>\n",
       "</table>\n",
       "</div>"
      ],
      "text/plain": [
       "        gt      prob      diff\n",
       "299139   1  0.171967  0.828033\n",
       "202205   1  0.182819  0.817181\n",
       "277438   1  0.196578  0.803422\n",
       "28157    1  0.233236  0.766764\n",
       "107724   1  0.235218  0.764782"
      ]
     },
     "execution_count": 10,
     "metadata": {},
     "output_type": "execute_result"
    }
   ],
   "source": [
    "train_probs_df.sort_values('diff', ascending=False).head()"
   ]
  },
  {
   "cell_type": "code",
   "execution_count": 11,
   "metadata": {
    "ExecuteTime": {
     "end_time": "2018-11-26T23:10:09.198408Z",
     "start_time": "2018-11-26T23:10:09.101065Z"
    }
   },
   "outputs": [
    {
     "name": "stdout",
     "output_type": "stream",
     "text": [
      "How can someone control their anger?\n",
      "What should I do to control my anger?\n",
      "\n",
      "How do I stop being so gullible and easily influenced?\n",
      "Is it bad to be gullible? If so how can I stop being so easily influenced?\n",
      "\n",
      "What are the best PS3 games?\n",
      "Which are the best PS3 games?\n",
      "\n",
      "What has been your best sexual experience?\n",
      "What was the best sexual experience you've ever had?\n",
      "\n",
      "Why has Ernest W. Adams disabled comments on his answers?\n",
      "Why does Ernest W Adams disable comments?\n",
      "\n"
     ]
    }
   ],
   "source": [
    "idx_false_neg = train_probs_df.sort_values('diff', ascending=False).head().index\n",
    "false_neg_df = train_df.iloc[idx_false_neg]\n",
    "\n",
    "for row in false_neg_df.values:\n",
    "    print(row[1])\n",
    "    print(row[2])\n",
    "    print()"
   ]
  },
  {
   "cell_type": "code",
   "execution_count": 12,
   "metadata": {
    "ExecuteTime": {
     "end_time": "2018-11-26T23:10:09.432403Z",
     "start_time": "2018-11-26T23:10:09.201855Z"
    }
   },
   "outputs": [
    {
     "data": {
      "text/plain": [
       "Pipeline(memory=None,\n",
       "     steps=[('stack', FunctionTransformer(accept_sparse=False, check_inverse=True,\n",
       "          func=<function stack_questions at 0x1a20861158>,\n",
       "          inv_kw_args=None, inverse_func=None, kw_args=None,\n",
       "          pass_y='deprecated', validate=False)), ('tf', TfidfVectorizer(analyzer='word', binary=False,...ate=42, reg_alpha=0, reg_lambda=1, scale_pos_weight=1,\n",
       "       seed=None, silent=True, subsample=1))])"
      ]
     },
     "execution_count": 12,
     "metadata": {},
     "output_type": "execute_result"
    }
   ],
   "source": [
    "mvp_pipe.fit(false_neg_df, y[idx_false_neg])"
   ]
  },
  {
   "cell_type": "code",
   "execution_count": 13,
   "metadata": {
    "ExecuteTime": {
     "end_time": "2018-11-26T23:10:09.450780Z",
     "start_time": "2018-11-26T23:10:09.435692Z"
    }
   },
   "outputs": [
    {
     "data": {
      "text/plain": [
       "array([[0.9955355 , 0.00446454],\n",
       "       [0.9955355 , 0.00446454],\n",
       "       [0.9955355 , 0.00446454],\n",
       "       [0.9955355 , 0.00446454],\n",
       "       [0.9955355 , 0.00446454]], dtype=float32)"
      ]
     },
     "execution_count": 13,
     "metadata": {},
     "output_type": "execute_result"
    }
   ],
   "source": [
    "y_fn_probs = mvp_pipe.predict_proba(false_neg_df)\n",
    "y_fn_probs"
   ]
  },
  {
   "cell_type": "code",
   "execution_count": 14,
   "metadata": {
    "ExecuteTime": {
     "end_time": "2018-11-26T23:10:09.458368Z",
     "start_time": "2018-11-26T23:10:09.454019Z"
    }
   },
   "outputs": [],
   "source": [
    "from sklearn.preprocessing import FunctionTransformer\n",
    "from sklearn.feature_extraction.text import TfidfVectorizer\n",
    "from sklearn.decomposition import NMF\n",
    "from sklearn.pipeline import Pipeline\n",
    "\n",
    "from xgboost import XGBClassifier"
   ]
  },
  {
   "cell_type": "code",
   "execution_count": 15,
   "metadata": {
    "ExecuteTime": {
     "end_time": "2018-11-26T23:10:09.561650Z",
     "start_time": "2018-11-26T23:10:09.462746Z"
    }
   },
   "outputs": [
    {
     "data": {
      "text/plain": [
       "Pipeline(memory=None,\n",
       "     steps=[('stack', FunctionTransformer(accept_sparse=False, check_inverse=True,\n",
       "          func=<function stack_questions at 0x1a20861158>,\n",
       "          inv_kw_args=None, inverse_func=None, kw_args=None,\n",
       "          pass_y='deprecated', validate=False)), ('lemma', FunctionTransformer(accept_sparse=False, ch...ate=42, reg_alpha=0, reg_lambda=1, scale_pos_weight=1,\n",
       "       seed=None, silent=True, subsample=1))])"
      ]
     },
     "execution_count": 15,
     "metadata": {},
     "output_type": "execute_result"
    }
   ],
   "source": [
    "pipe_cos_sim = Pipeline(\n",
    "    [\n",
    "        ('stack', FunctionTransformer(utils.stack_questions, validate=False)),\n",
    "        ('lemma', FunctionTransformer(utils.cleanup_text, validate=False)),\n",
    "        ('tfidf', TfidfVectorizer()),\n",
    "        ('nmf', NMF(n_components=5)),\n",
    "        ('unstack', FunctionTransformer(utils.unstack_questions, validate=True)),\n",
    "        ('cos_sim', FunctionTransformer(utils.calc_cos_sim, validate=True)),\n",
    "        ('xgb', XGBClassifier(n_estimators=500, random_state=42))\n",
    "    ]\n",
    ")\n",
    "pipe_cos_sim.fit(false_neg_df, y[idx_false_neg])"
   ]
  },
  {
   "cell_type": "code",
   "execution_count": 16,
   "metadata": {
    "ExecuteTime": {
     "end_time": "2018-11-26T23:10:09.609059Z",
     "start_time": "2018-11-26T23:10:09.565178Z"
    }
   },
   "outputs": [
    {
     "data": {
      "text/plain": [
       "array([[0.9955355 , 0.00446454],\n",
       "       [0.9955355 , 0.00446454],\n",
       "       [0.9955355 , 0.00446454],\n",
       "       [0.9955355 , 0.00446454],\n",
       "       [0.9955355 , 0.00446454]], dtype=float32)"
      ]
     },
     "execution_count": 16,
     "metadata": {},
     "output_type": "execute_result"
    }
   ],
   "source": [
    "pipe_cos_sim.predict_proba(false_neg_df)"
   ]
  },
  {
   "cell_type": "markdown",
   "metadata": {
    "ExecuteTime": {
     "end_time": "2018-11-26T18:52:05.462109Z",
     "start_time": "2018-11-26T18:52:05.455687Z"
    }
   },
   "source": [
    "No change in the result, but this is an unrealistic test. Let's now expand this into a full model to see if there is an impact or not."
   ]
  },
  {
   "cell_type": "code",
   "execution_count": null,
   "metadata": {},
   "outputs": [],
   "source": []
  }
 ],
 "metadata": {
  "kernelspec": {
   "display_name": "Python [conda env:project5]",
   "language": "python",
   "name": "conda-env-project5-py"
  },
  "language_info": {
   "codemirror_mode": {
    "name": "ipython",
    "version": 3
   },
   "file_extension": ".py",
   "mimetype": "text/x-python",
   "name": "python",
   "nbconvert_exporter": "python",
   "pygments_lexer": "ipython3",
   "version": "3.7.1"
  }
 },
 "nbformat": 4,
 "nbformat_minor": 2
}
